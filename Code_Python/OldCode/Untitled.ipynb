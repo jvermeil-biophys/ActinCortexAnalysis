{
 "cells": [
  {
   "cell_type": "code",
   "execution_count": 1,
   "id": "5c8d3809",
   "metadata": {},
   "outputs": [],
   "source": [
    "# 1. Imports\n",
    "import numpy as np\n",
    "import pandas as pd\n",
    "import scipy.ndimage as ndi\n",
    "import matplotlib.pyplot as plt\n",
    "\n",
    "import os\n",
    "import re\n",
    "import time\n",
    "import pyautogui\n",
    "import matplotlib\n",
    "\n",
    "# import scipy\n",
    "from scipy import interpolate\n",
    "from scipy import signal\n",
    "\n",
    "# import skimage\n",
    "from skimage import io, filters, exposure, measure, transform\n",
    "from scipy.signal import find_peaks, savgol_filter\n",
    "from scipy.optimize import linear_sum_assignment\n",
    "\n",
    "# 2. Pandas settings\n",
    "pd.set_option('mode.chained_assignment',None)\n",
    "\n",
    "# 3. Plot settings\n",
    "# Here we use this mode because displaying images \n",
    "# in new windows is more convenient for this code.\n",
    "%matplotlib qt \n",
    "# To switch back to inline display, use : \n",
    "# %matplotlib widget or %matplotlib inline\n",
    "matplotlib.rcParams.update({'figure.autolayout': True})\n",
    "\n",
    "SMALLER_SIZE = 8\n",
    "SMALL_SIZE = 12\n",
    "MEDIUM_SIZE = 16\n",
    "BIGGER_SIZE = 20\n",
    "plt.rc('font', size=SMALL_SIZE)          # controls default text sizes\n",
    "plt.rc('axes', titlesize=MEDIUM_SIZE)     # fontsize of the axes title\n",
    "plt.rc('axes', labelsize=MEDIUM_SIZE)    # fontsize of the x and y labels\n",
    "plt.rc('xtick', labelsize=SMALL_SIZE)    # fontsize of the tick labels\n",
    "plt.rc('ytick', labelsize=SMALL_SIZE)    # fontsize of the tick labels\n",
    "plt.rc('legend', fontsize=SMALLER_SIZE)    # legend fontsize\n",
    "plt.rc('figure', titlesize=BIGGER_SIZE)  # fontsize of the figure title\n",
    "\n",
    "# 4. Other settings\n",
    "# These regex are used to correct the stupid date conversions done by Excel\n",
    "dateFormatExcel = re.compile('\\d{2}/\\d{2}/\\d{4}')\n",
    "dateFormatOk = re.compile('\\d{2}-\\d{2}-\\d{2}')"
   ]
  },
  {
   "cell_type": "code",
   "execution_count": 11,
   "id": "72254204",
   "metadata": {},
   "outputs": [],
   "source": [
    "dirD = \"C://Users//JosephVermeil//Desktop\"\n",
    "im1Path = os.path.join(dirD, 'CaptureExampleCell-2.tif')\n",
    "im2Path = os.path.join(dirD, 'CaptureExampleCell.tif')"
   ]
  },
  {
   "cell_type": "code",
   "execution_count": 23,
   "id": "e4184c59",
   "metadata": {},
   "outputs": [],
   "source": [
    "fig, ax = plt.subplots(2,1)\n",
    "im1, im2 = plt.imread(im1Path), plt.imread(im2Path)\n",
    "ax[0].imshow(im1)\n",
    "ax[1].imshow(im2)\n",
    "\n",
    "XL1, YL1 = ax[1].get_xlim(), ax[1].get_ylim()\n",
    "W1, H1 = XL1[1] - XL1[0], YL1[0] - YL1[1]\n",
    "r = H1/W1\n",
    "\n",
    "XL0, YL0 = ax[0].get_xlim(), ax[0].get_ylim()\n",
    "W0, H0 = XL0[1] - XL0[0], YL0[0] - YL0[1]\n",
    "W0 = H0/r\n",
    "\n",
    "extent = (XL0[0], XL0[0]+W0, YL0[1], YL0[0])\n",
    "ax[0].imshow(im1, extent = extent)\n",
    "\n",
    "fig.show()"
   ]
  },
  {
   "cell_type": "code",
   "execution_count": null,
   "id": "9ee54ec8",
   "metadata": {},
   "outputs": [],
   "source": []
  }
 ],
 "metadata": {
  "kernelspec": {
   "display_name": "Python 3",
   "language": "python",
   "name": "python3"
  },
  "language_info": {
   "codemirror_mode": {
    "name": "ipython",
    "version": 3
   },
   "file_extension": ".py",
   "mimetype": "text/x-python",
   "name": "python",
   "nbconvert_exporter": "python",
   "pygments_lexer": "ipython3",
   "version": "3.7.9"
  },
  "toc": {
   "base_numbering": 1,
   "nav_menu": {},
   "number_sections": true,
   "sideBar": true,
   "skip_h1_title": false,
   "title_cell": "Table of Contents",
   "title_sidebar": "Contents",
   "toc_cell": false,
   "toc_position": {},
   "toc_section_display": true,
   "toc_window_display": false
  },
  "varInspector": {
   "cols": {
    "lenName": 16,
    "lenType": 16,
    "lenVar": 40
   },
   "kernels_config": {
    "python": {
     "delete_cmd_postfix": "",
     "delete_cmd_prefix": "del ",
     "library": "var_list.py",
     "varRefreshCmd": "print(var_dic_list())"
    },
    "r": {
     "delete_cmd_postfix": ") ",
     "delete_cmd_prefix": "rm(",
     "library": "var_list.r",
     "varRefreshCmd": "cat(var_dic_list()) "
    }
   },
   "types_to_exclude": [
    "module",
    "function",
    "builtin_function_or_method",
    "instance",
    "_Feature"
   ],
   "window_display": false
  }
 },
 "nbformat": 4,
 "nbformat_minor": 5
}
