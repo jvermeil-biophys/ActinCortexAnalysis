{
 "cells": [
  {
   "cell_type": "code",
   "execution_count": null,
   "id": "919eca4d",
   "metadata": {},
   "outputs": [],
   "source": [
    "import pandas as pd\n",
    "import numpy as np\n",
    "import os\n",
    "\n",
    "mainDir = \"C://Users//JosephVermeil//Desktop//ActiveFluctuationDataset\"\n",
    "dirTraj = os.path.join(mainDir, 'Trajectories')\n",
    "dirDist = os.path.join(mainDir, 'Distances')"
   ]
  },
  {
   "cell_type": "code",
   "execution_count": null,
   "id": "95ed924d",
   "metadata": {},
   "outputs": [],
   "source": [
    "fList = [f for f in os.listdir(dirDist) if (os.path.isfile(os.path.join(dirDist, f)) and f.endswith(\".csv\"))]\n",
    "\n",
    "for f in fList:\n",
    "    cellId = f[:17]\n",
    "    fPath = os.path.join(dirDist, f)\n",
    "    df = pd.read_csv(fPath, sep = ';', header = 0)\n",
    "    \n",
    "    fList2 = [f for f in os.listdir(dirTraj) if (os.path.isfile(os.path.join(dirTraj, f)) and f.endswith(\".csv\"))]\n",
    "    for f2 in fList2:\n",
    "        if cellId in f2:\n",
    "            fPath2 = os.path.join(dirTraj, f2)\n",
    "            df2 = pd.read_csv(fPath2, sep = '\\t', header = 0)\n",
    "            df2['T'] = df['T']\n",
    "            df2.to_csv(fPath2, sep = '\\t', index=False)"
   ]
  },
  {
   "cell_type": "code",
   "execution_count": null,
   "id": "e89829d3",
   "metadata": {},
   "outputs": [],
   "source": [
    "df2"
   ]
  },
  {
   "cell_type": "code",
   "execution_count": null,
   "id": "85dc164e",
   "metadata": {},
   "outputs": [],
   "source": []
  }
 ],
 "metadata": {
  "kernelspec": {
   "display_name": "Python 3",
   "language": "python",
   "name": "python3"
  },
  "language_info": {
   "codemirror_mode": {
    "name": "ipython",
    "version": 3
   },
   "file_extension": ".py",
   "mimetype": "text/x-python",
   "name": "python",
   "nbconvert_exporter": "python",
   "pygments_lexer": "ipython3",
   "version": "3.7.11"
  },
  "toc": {
   "base_numbering": 1,
   "nav_menu": {},
   "number_sections": true,
   "sideBar": true,
   "skip_h1_title": false,
   "title_cell": "Table of Contents",
   "title_sidebar": "Contents",
   "toc_cell": false,
   "toc_position": {},
   "toc_section_display": true,
   "toc_window_display": false
  },
  "varInspector": {
   "cols": {
    "lenName": 16,
    "lenType": 16,
    "lenVar": 40
   },
   "kernels_config": {
    "python": {
     "delete_cmd_postfix": "",
     "delete_cmd_prefix": "del ",
     "library": "var_list.py",
     "varRefreshCmd": "print(var_dic_list())"
    },
    "r": {
     "delete_cmd_postfix": ") ",
     "delete_cmd_prefix": "rm(",
     "library": "var_list.r",
     "varRefreshCmd": "cat(var_dic_list()) "
    }
   },
   "types_to_exclude": [
    "module",
    "function",
    "builtin_function_or_method",
    "instance",
    "_Feature"
   ],
   "window_display": false
  }
 },
 "nbformat": 4,
 "nbformat_minor": 5
}
