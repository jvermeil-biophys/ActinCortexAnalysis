{
 "cells": [
  {
   "cell_type": "markdown",
   "metadata": {},
   "source": [
    "## Imports and constants"
   ]
  },
  {
   "cell_type": "code",
   "execution_count": null,
   "metadata": {},
   "outputs": [],
   "source": [
    "import numpy as np\n",
    "import pandas as pd\n",
    "import seaborn as sns\n",
    "import scipy.stats as st\n",
    "import statsmodels.api as sm\n",
    "\n",
    "import os\n",
    "import time\n",
    "import random\n",
    "import itertools\n",
    "\n",
    "from copy import copy\n",
    "from cycler import cycler\n",
    "from datetime import date\n",
    "from scipy.optimize import curve_fit\n",
    "# from statannot import add_stat_annotation\n",
    "\n",
    "pd.set_option('mode.chained_assignment',None)\n",
    "pd.set_option('display.max_columns', None)\n",
    "\n",
    "import sys\n",
    "sys.path.append(\"C://Users//JosephVermeil//Desktop//ActinCortexAnalysis//Code_Python\")\n",
    "\n",
    "%load_ext autoreload\n",
    "\n",
    "from getExperimentalConditions import getExperimentalConditions\n",
    "from PincherAnalysis_JV import *"
   ]
  },
  {
   "cell_type": "code",
   "execution_count": null,
   "metadata": {},
   "outputs": [],
   "source": [
    "import matplotlib\n",
    "import matplotlib.pyplot as plt\n",
    "\n",
    "%matplotlib widget \n",
    "# %matplotlib inline\n",
    "matplotlib.rcParams.update({'figure.autolayout': True})\n",
    "\n",
    "\n",
    "SMALLER_SIZE = 10\n",
    "SMALL_SIZE = 14\n",
    "MEDIUM_SIZE = 16\n",
    "BIGGER_SIZE = 20\n",
    "\n",
    "plt.rc('font', size=SMALL_SIZE)          # controls default text sizes\n",
    "plt.rc('axes', titlesize=MEDIUM_SIZE)     # fontsize of the axes title\n",
    "plt.rc('axes', labelsize=MEDIUM_SIZE)    # fontsize of the x and y labels\n",
    "plt.rc('xtick', labelsize=SMALL_SIZE)    # fontsize of the tick labels\n",
    "plt.rc('ytick', labelsize=SMALL_SIZE)    # fontsize of the tick labels\n",
    "plt.rc('legend', fontsize=SMALLER_SIZE)    # legend fontsize\n",
    "plt.rc('figure', titlesize=BIGGER_SIZE)  # fontsize of the figure title"
   ]
  },
  {
   "cell_type": "code",
   "execution_count": null,
   "metadata": {},
   "outputs": [],
   "source": [
    "# Colors\n",
    "\n",
    "# prop_cycle = plt.rcParams['axes.prop_cycle']\n",
    "# colors = prop_cycle.by_key()['color']\n",
    "my_default_color_list = ['#1f77b4', '#ff7f0e', '#2ca02c', '#d62728', '#9467bd', '#8c564b', '#e377c2', '#7f7f7f', '#bcbd22', '#17becf']\n",
    "my_default_color_cycle = cycler(color=my_default_color_list)\n",
    "plt.rcParams['axes.prop_cycle'] = my_default_color_cycle\n",
    "\n",
    "pairedPalette = sns.color_palette(\"tab20\")\n",
    "pairedPalette = pairedPalette.as_hex()\n",
    "pairedPalette\n",
    "\n",
    "# clist = ['#1f77b4', '#aec7e8', '#ff7f0e', '#ffbb78', '#2ca02c', '#98df8a']\n",
    "# sns.color_palette(clist)"
   ]
  },
  {
   "cell_type": "code",
   "execution_count": null,
   "metadata": {},
   "outputs": [],
   "source": [
    "my_default_marker_list = ['o', 's', 'D', '>', '^', 'P', 'X', '<', 'v', 'p']"
   ]
  },
  {
   "cell_type": "code",
   "execution_count": null,
   "metadata": {},
   "outputs": [],
   "source": [
    "sns.color_palette(my_default_color_list)"
   ]
  },
  {
   "cell_type": "code",
   "execution_count": null,
   "metadata": {},
   "outputs": [],
   "source": [
    "N = len(my_default_marker_list)\n",
    "X = np.arange(1, N+1)\n",
    "Y = np.ones(N)\n",
    "fig, ax = plt.subplots(1, 1, figsize = (8, 1.2))\n",
    "for i in range(N):\n",
    "    ax.plot([X[i]], [Y[i]], color = my_default_color_list[i], marker = my_default_marker_list[i], \n",
    "            ls = '', markersize = 10, markeredgecolor = 'k')\n",
    "ax.set_xticks([])\n",
    "ax.set_yticks([])\n",
    "ax.set_xticklabels([])\n",
    "ax.set_yticklabels([])"
   ]
  },
  {
   "cell_type": "code",
   "execution_count": null,
   "metadata": {
    "code_folding": [
     0
    ]
   },
   "outputs": [],
   "source": [
    "# Tests with colors\n",
    "\n",
    "# sns.color_palette(my_default_color_list)\n",
    "# #\n",
    "# cTest = my_default_color_list[3]\n",
    "# sns.color_palette([cTest])\n",
    "# #\n",
    "# cTestRGB = matplotlib.colors.to_rgb(cTest)\n",
    "# print(cTestRGB)\n",
    "# sns.color_palette([cTestRGB])\n",
    "# #\n",
    "# cTestHSV = matplotlib.colors.rgb_to_hsv(cTestRGB)\n",
    "# print(cTestHSV)\n",
    "# cTestHSV[2] = 0.8\n",
    "# cTestrgb = matplotlib.colors.hsv_to_rgb(cTestHSV)\n",
    "# sns.color_palette([cTestrgb])\n",
    "# #\n",
    "# cTestHSV_2 = copy(cTestHSV)\n",
    "# cTestHSV_2[1] *= (5/8)\n",
    "# cTestHSV_2[2] *= 1\n",
    "# print(cTestHSV_2)\n",
    "\n",
    "# cTestrgb_2 = matplotlib.colors.hsv_to_rgb(cTestHSV_2)\n",
    "# sns.color_palette([cTestrgb_2])\n",
    "# #\n",
    "# cTestHSV_2[1] *= (5/8)\n",
    "# cTestHSV_2[2] *= 1\n",
    "# print(cTestHSV_2)\n",
    "\n",
    "# cTestrgb_2 = matplotlib.colors.hsv_to_rgb(cTestHSV_2)\n",
    "# sns.color_palette([cTestrgb_2])\n",
    "# #\n",
    "# cTestHSV_2 = copy(cTestHSV)\n",
    "# cTestHSV_2[1] *= 1\n",
    "# cTestHSV_2[2] *= (5/8)\n",
    "# print(cTestHSV_2)\n",
    "\n",
    "# cTestrgb_2 = matplotlib.colors.hsv_to_rgb(cTestHSV_2)\n",
    "# sns.color_palette([cTestrgb_2])\n",
    "# #\n",
    "# cTestHSV_2[1] *= 1\n",
    "# cTestHSV_2[2] *= (5/8)\n",
    "# print(cTestHSV_2)\n",
    "\n",
    "# cTestrgb_2 = matplotlib.colors.hsv_to_rgb(cTestHSV_2)\n",
    "# sns.color_palette([cTestrgb_2])"
   ]
  },
  {
   "cell_type": "code",
   "execution_count": null,
   "metadata": {},
   "outputs": [],
   "source": [
    "from bokeh.io import output_notebook, show\n",
    "from bokeh.plotting import figure\n",
    "from bokeh.models import ColumnDataSource, HoverTool, Range1d\n",
    "from bokeh.transform import factor_cmap\n",
    "from bokeh.palettes import Category10\n",
    "from bokeh.layouts import gridplot\n",
    "output_notebook()"
   ]
  },
  {
   "cell_type": "code",
   "execution_count": null,
   "metadata": {},
   "outputs": [],
   "source": [
    "mainDir = \"C://Users//JosephVermeil//Desktop//ActinCortexAnalysis\"\n",
    "# mainDir = \"C://Users//josep//Desktop//ActinCortexAnalysis\"\n",
    "# mainDir = \"C://Users//Joseph//Desktop//ActinCortexAnalysis\"\n",
    "experimentalDataDir = os.path.join(mainDir, \"Data_Experimental\")\n",
    "dataDir = os.path.join(mainDir, \"Data_Analysis\")\n",
    "figDir = os.path.join(dataDir, \"Figures\")\n",
    "todayFigDir = os.path.join(figDir, \"Historique//\" + str(date.today()))\n",
    "timeSeriesDataDir = os.path.join(dataDir, \"TimeSeriesData\")"
   ]
  },
  {
   "cell_type": "markdown",
   "metadata": {},
   "source": [
    "Note: How to compute confidence intervals of fitted parameters with (1-alpha) confidence:\n",
    "\n",
    "    0) from scipy import stats\n",
    "    1) df = nb_pts - nb_parms ; se = diag(cov)**0.5\n",
    "    2) Student t coefficient : q = stat.t.ppf(1 - alpha / 2, df)\n",
    "    3) ConfInt = [params - q*se, params + q*se]"
   ]
  },
  {
   "cell_type": "markdown",
   "metadata": {},
   "source": [
    "## TimeSeries functions"
   ]
  },
  {
   "cell_type": "code",
   "execution_count": null,
   "metadata": {},
   "outputs": [],
   "source": [
    "allTimeSeriesDataFiles = [f for f in os.listdir(timeSeriesDataDir) if (os.path.isfile(os.path.join(timeSeriesDataDir, f)) and f.endswith(\".csv\"))]\n",
    "allTimeSeriesDataFiles"
   ]
  },
  {
   "cell_type": "code",
   "execution_count": null,
   "metadata": {
    "scrolled": false
   },
   "outputs": [],
   "source": [
    "df = getCellTimeSeriesData('21-12-16_M1_P1_C9')\n",
    "df"
   ]
  },
  {
   "cell_type": "code",
   "execution_count": null,
   "metadata": {},
   "outputs": [],
   "source": [
    "plotCellTimeSeriesData('21-12-16_M1_P1_C10')"
   ]
  },
  {
   "cell_type": "code",
   "execution_count": null,
   "metadata": {
    "scrolled": true
   },
   "outputs": [],
   "source": [
    "allTimeSeriesDataFiles = [f for f in os.listdir(timeSeriesDataDir) if (os.path.isfile(os.path.join(timeSeriesDataDir, f)) and f.endswith(\".csv\"))]\n",
    "for f in allTimeSeriesDataFiles:\n",
    "    if '22-01-12_M1' in f:\n",
    "        plotCellTimeSeriesData(f[:-4])"
   ]
  },
  {
   "cell_type": "code",
   "execution_count": null,
   "metadata": {
    "scrolled": false
   },
   "outputs": [],
   "source": [
    "allTimeSeriesDataFiles = [f for f in os.listdir(timeSeriesDataDir) if (os.path.isfile(os.path.join(timeSeriesDataDir, f)) and f.endswith(\".csv\"))]\n",
    "for f in allTimeSeriesDataFiles:\n",
    "    if '22-01-12_M2' in f:\n",
    "        plotCellTimeSeriesData(f[:-4])"
   ]
  },
  {
   "cell_type": "code",
   "execution_count": null,
   "metadata": {},
   "outputs": [],
   "source": [
    "plt.close('all')"
   ]
  },
  {
   "cell_type": "code",
   "execution_count": null,
   "metadata": {},
   "outputs": [],
   "source": [
    "%autoreload 2\n",
    "listeTraj = getCellTrajData('21-12-16_M1_P1_C10', Ntraj = 2)\n",
    "listeTraj[1]['pos']"
   ]
  },
  {
   "cell_type": "code",
   "execution_count": null,
   "metadata": {},
   "outputs": [],
   "source": [
    "%autoreload 2\n",
    "\n",
    "trajDir = os.path.join(timeSeriesDataDir, 'Trajectories')\n",
    "allTimeSeriesDataFiles = [f for f in os.listdir(timeSeriesDataDir) \n",
    "                          if (os.path.isfile(os.path.join(timeSeriesDataDir, f)) \n",
    "                              and f.endswith(\".csv\"))]\n",
    "cellIDList = []\n",
    "for f in allTimeSeriesDataFiles:\n",
    "    cellID = findInfosInFileName(f, 'cellID')\n",
    "    if '21-12-08' in cellID:\n",
    "        cellIDList.append(cellID)\n",
    "\n",
    "print(cellIDList)\n",
    "        \n",
    "fig, ax = plt.subplots(1,2, figsize = (8,4))\n",
    "width = 15\n",
    "ax[0].set_title('Inside bead')\n",
    "ax[0].axis([-width,width,-width,width])\n",
    "ax[1].set_title('Outside bead')\n",
    "ax[1].axis([-width,width,-width,width])\n",
    "\n",
    "for C in (cellIDList):\n",
    "    listeTraj = getCellTrajData(C)\n",
    "    for i in range(2):\n",
    "        df = listeTraj[i]['df']\n",
    "        pos = listeTraj[i]['pos']\n",
    "        ii = int(pos == 'out')\n",
    "        X = df.X.values - df.X.values[0]\n",
    "        Y = df.Y.values - df.Y.values[0]\n",
    "        if np.max(np.abs(X)) < width and np.max(np.abs(Y)) < width:\n",
    "            ax[ii].plot(X, Y)\n",
    "        \n",
    "fig.show()"
   ]
  },
  {
   "cell_type": "markdown",
   "metadata": {},
   "source": [
    "## GlobalTables functions"
   ]
  },
  {
   "cell_type": "markdown",
   "metadata": {},
   "source": [
    "### Experimental conditions"
   ]
  },
  {
   "cell_type": "code",
   "execution_count": null,
   "metadata": {},
   "outputs": [],
   "source": [
    "getExperimentalConditions(experimentalDataDir, save=True , sep = ';')"
   ]
  },
  {
   "cell_type": "markdown",
   "metadata": {},
   "source": [
    "### Constant Field"
   ]
  },
  {
   "cell_type": "code",
   "execution_count": null,
   "metadata": {},
   "outputs": [],
   "source": [
    "computeGlobalTable_ctField(task='updateExisting', save=False)"
   ]
  },
  {
   "cell_type": "code",
   "execution_count": null,
   "metadata": {},
   "outputs": [],
   "source": [
    "getGlobalTable_ctField().head()"
   ]
  },
  {
   "cell_type": "markdown",
   "metadata": {},
   "source": [
    "### Mechanics"
   ]
  },
  {
   "cell_type": "code",
   "execution_count": null,
   "metadata": {
    "scrolled": false
   },
   "outputs": [],
   "source": [
    "computeGlobalTable_meca(task = 'updateExisting', fileName = 'Global_MecaData_Py', save = False, PLOT = False, source = 'Matlab') # task = 'updateExisting'"
   ]
  },
  {
   "cell_type": "code",
   "execution_count": null,
   "metadata": {},
   "outputs": [],
   "source": [
    "computeGlobalTable_meca(task = 'updateExisting', fileName = 'Global_MecaData_Py2', save = False, PLOT = False, source = 'Python') # task = 'updateExisting'"
   ]
  },
  {
   "cell_type": "code",
   "execution_count": null,
   "metadata": {},
   "outputs": [],
   "source": [
    "computeGlobalTable_meca(task = '21-12-16', fileName = 'Global_MecaData_Py2', save = False, PLOT = True, source = 'Python') # task = 'updateExisting'"
   ]
  },
  {
   "cell_type": "code",
   "execution_count": null,
   "metadata": {},
   "outputs": [],
   "source": [
    "getGlobalTable_meca().tail()"
   ]
  },
  {
   "cell_type": "code",
   "execution_count": null,
   "metadata": {},
   "outputs": [],
   "source": [
    "getGlobalTable_meca('Global_MecaData_Py2').tail()"
   ]
  },
  {
   "cell_type": "markdown",
   "metadata": {},
   "source": [
    "### Fluorescence"
   ]
  },
  {
   "cell_type": "code",
   "execution_count": null,
   "metadata": {},
   "outputs": [],
   "source": [
    "getFluoData().head()"
   ]
  },
  {
   "cell_type": "markdown",
   "metadata": {},
   "source": [
    "## Data import & DataFrame formatting"
   ]
  },
  {
   "cell_type": "markdown",
   "metadata": {},
   "source": [
    "### Data import"
   ]
  },
  {
   "cell_type": "code",
   "execution_count": null,
   "metadata": {},
   "outputs": [],
   "source": [
    "pd.set_option('max_columns', None)\n",
    "# pd.reset_option('max_columns')\n",
    "pd.set_option('max_rows', None)\n",
    "pd.reset_option('max_rows')"
   ]
  },
  {
   "cell_type": "code",
   "execution_count": null,
   "metadata": {},
   "outputs": [],
   "source": [
    "# getExperimentalConditions().head()\n",
    "# getGlobalTable_ctField().head()\n",
    "# getGlobalTable_meca().head()\n",
    "# getFluoData().head()"
   ]
  },
  {
   "cell_type": "code",
   "execution_count": null,
   "metadata": {},
   "outputs": [],
   "source": [
    "# GlobalTable_ctField\n",
    "\n",
    "GlobalTable_ctField = getGlobalTable(kind = 'ctField')\n",
    "GlobalTable_ctField.head()"
   ]
  },
  {
   "cell_type": "code",
   "execution_count": null,
   "metadata": {},
   "outputs": [],
   "source": [
    "# GlobalTable_meca\n",
    "\n",
    "GlobalTable_meca = getGlobalTable(kind = 'meca_matlab')\n",
    "GlobalTable_meca.tail()"
   ]
  },
  {
   "cell_type": "code",
   "execution_count": null,
   "metadata": {},
   "outputs": [],
   "source": [
    "# GlobalTable_mecaBis\n",
    "\n",
    "GlobalTable_meca_Py = getGlobalTable(kind = 'meca_py')\n",
    "GlobalTable_meca_Py.tail()"
   ]
  },
  {
   "cell_type": "code",
   "execution_count": null,
   "metadata": {},
   "outputs": [],
   "source": [
    "GlobalTable_meca_Py2 = getGlobalTable(kind = 'meca_py2')\n",
    "GlobalTable_meca_Py2.tail()"
   ]
  },
  {
   "cell_type": "markdown",
   "metadata": {},
   "source": [
    "### Experiment counter"
   ]
  },
  {
   "cell_type": "code",
   "execution_count": null,
   "metadata": {},
   "outputs": [],
   "source": [
    "# Experiment counter - Matlab table\n",
    "\n",
    "# count ct field cells\n",
    "cellID = 'cellID'\n",
    "GlobalTable_ctField_CountCell = GlobalTable_ctField.groupby(['cell type', 'cell subtype', 'bead type', 'drug', 'substrate']).count()\n",
    "GlobalTable_ctField_CountCell = GlobalTable_ctField_CountCell.loc[:, [cellID]].rename(columns={cellID : 'Count cells - ctField'})\n",
    "\n",
    "# count meca compressions\n",
    "cellID = 'CellName'\n",
    "GlobalTable_meca_CountComp = GlobalTable_meca.groupby(['cell type', 'cell subtype', 'bead type', 'drug', 'substrate']).count()\n",
    "GlobalTable_meca_CountComp = GlobalTable_meca_CountComp.loc[:, [cellID]].rename(columns={cellID : 'Count compressions'})\n",
    "\n",
    "# count valid meca compressions\n",
    "cellID = 'CellName'\n",
    "GlobalTable_meca_CountCompOK = GlobalTable_meca[GlobalTable_meca['Validated'] == True].groupby(['cell type', 'cell subtype', 'bead type', 'drug', 'substrate']).count()\n",
    "GlobalTable_meca_CountCompOK = GlobalTable_meca_CountCompOK.loc[:, [cellID]].rename(columns={cellID : 'Count OK compressions'})\n",
    "\n",
    "# count meca cells\n",
    "cellID = 'CellName'\n",
    "group = GlobalTable_meca.groupby(cellID)\n",
    "dictAggMean = getDictAggMean(GlobalTable_meca)\n",
    "GlobalTable_meca_perCell = group.agg(dictAggMean)\n",
    "GlobalTable_meca_CountCell = GlobalTable_meca_perCell.groupby(['cell type', 'cell subtype', 'bead type', 'drug', 'substrate']).count()\n",
    "GlobalTable_meca_CountCell = GlobalTable_meca_CountCell.loc[:, [cellID]].rename(columns={cellID : 'Count cells - meca'})\n",
    "\n",
    "\n",
    "# Fuse all the previous tables\n",
    "GlobalTable_CountAll = pd.concat([GlobalTable_ctField_CountCell, GlobalTable_meca_CountCell, GlobalTable_meca_CountComp, GlobalTable_meca_CountCompOK], axis=1)\n",
    "GlobalTable_CountAll = GlobalTable_CountAll.fillna(0)\n",
    "GlobalTable_CountAll = GlobalTable_CountAll.loc[:,:].astype(int)\n",
    "GlobalTable_CountAll"
   ]
  },
  {
   "cell_type": "code",
   "execution_count": null,
   "metadata": {
    "code_folding": []
   },
   "outputs": [],
   "source": [
    "# Experiment counter - Python table\n",
    "\n",
    "# count ct field cells\n",
    "cellID = 'cellID'\n",
    "GlobalTable_ctField_CountCell = GlobalTable_ctField.groupby(['cell type', 'cell subtype', 'bead type', 'drug', 'substrate']).count()\n",
    "GlobalTable_ctField_CountCell = GlobalTable_ctField_CountCell.loc[:, [cellID]].rename(columns={cellID : 'Count cells - ctField'})\n",
    "\n",
    "# count meca compressions\n",
    "cellID = 'cellID'\n",
    "GlobalTable_meca_CountComp = GlobalTable_meca_Py.groupby(['cell type', 'cell subtype', 'bead type', 'drug', 'substrate']).count()\n",
    "GlobalTable_meca_CountComp = GlobalTable_meca_CountComp.loc[:, [cellID]].rename(columns={cellID : 'Count compressions'})\n",
    "\n",
    "# count valid meca compressions\n",
    "cellID = 'cellID'\n",
    "GlobalTable_meca_CountCompOK = GlobalTable_meca_Py[GlobalTable_meca_Py['validatedFit'] == True].groupby(['cell type', 'cell subtype', 'bead type', 'drug', 'substrate']).count()\n",
    "GlobalTable_meca_CountCompOK = GlobalTable_meca_CountCompOK.loc[:, [cellID]].rename(columns={cellID : 'Count OK compressions'})\n",
    "\n",
    "# count meca cells\n",
    "cellID = 'cellID'\n",
    "group = GlobalTable_meca_Py.groupby(cellID)\n",
    "dictAggMean = getDictAggMean(GlobalTable_meca_Py)\n",
    "GlobalTable_meca_perCell = group.agg(dictAggMean)\n",
    "GlobalTable_meca_CountCell = GlobalTable_meca_perCell.groupby(['cell type', 'cell subtype', 'bead type', 'drug', 'substrate']).count()\n",
    "GlobalTable_meca_CountCell = GlobalTable_meca_CountCell.loc[:, [cellID]].rename(columns={cellID : 'Count cells - meca'})\n",
    "\n",
    "\n",
    "# Fuse all the previous tables\n",
    "GlobalTable_CountAll = pd.concat([GlobalTable_ctField_CountCell, GlobalTable_meca_CountCell, GlobalTable_meca_CountComp, GlobalTable_meca_CountCompOK], axis=1)\n",
    "GlobalTable_CountAll = GlobalTable_CountAll.fillna(0)\n",
    "GlobalTable_CountAll = GlobalTable_CountAll.loc[:,:].astype(int)\n",
    "GlobalTable_CountAll"
   ]
  },
  {
   "cell_type": "code",
   "execution_count": null,
   "metadata": {},
   "outputs": [],
   "source": [
    "# Experiment counter - Python table 2\n",
    "\n",
    "# count ct field cells\n",
    "cellID = 'cellID'\n",
    "GlobalTable_ctField_CountCell = GlobalTable_ctField.groupby(['cell type', 'cell subtype', 'bead type', 'drug', 'substrate']).count()\n",
    "GlobalTable_ctField_CountCell = GlobalTable_ctField_CountCell.loc[:, [cellID]].rename(columns={cellID : 'Count cells - ctField'})\n",
    "\n",
    "# count meca compressions\n",
    "cellID = 'cellID'\n",
    "GlobalTable_meca_CountComp = GlobalTable_meca_Py2.groupby(['cell type', 'cell subtype', 'bead type', 'drug', 'substrate']).count()\n",
    "GlobalTable_meca_CountComp = GlobalTable_meca_CountComp.loc[:, [cellID]].rename(columns={cellID : 'Count compressions'})\n",
    "\n",
    "# count valid meca compressions\n",
    "cellID = 'cellID'\n",
    "GlobalTable_meca_CountCompOK = GlobalTable_meca_Py2[GlobalTable_meca_Py2['validatedFit'] == True].groupby(['cell type', 'cell subtype', 'bead type', 'drug', 'substrate']).count()\n",
    "GlobalTable_meca_CountCompOK = GlobalTable_meca_CountCompOK.loc[:, [cellID]].rename(columns={cellID : 'Count OK compressions'})\n",
    "\n",
    "# count meca cells\n",
    "cellID = 'cellID'\n",
    "group = GlobalTable_meca_Py2.groupby(cellID)\n",
    "dictAggMean = getDictAggMean(GlobalTable_meca_Py2)\n",
    "GlobalTable_meca_perCell = group.agg(dictAggMean)\n",
    "GlobalTable_meca_CountCell = GlobalTable_meca_perCell.groupby(['cell type', 'cell subtype', 'bead type', 'drug', 'substrate']).count()\n",
    "GlobalTable_meca_CountCell = GlobalTable_meca_CountCell.loc[:, [cellID]].rename(columns={cellID : 'Count cells - meca'})\n",
    "\n",
    "\n",
    "# Fuse all the previous tables\n",
    "GlobalTable_CountAll = pd.concat([GlobalTable_ctField_CountCell, GlobalTable_meca_CountCell, GlobalTable_meca_CountComp, GlobalTable_meca_CountCompOK], axis=1)\n",
    "GlobalTable_CountAll = GlobalTable_CountAll.fillna(0)\n",
    "GlobalTable_CountAll = GlobalTable_CountAll.loc[:,:].astype(int)\n",
    "GlobalTable_CountAll"
   ]
  },
  {
   "cell_type": "code",
   "execution_count": null,
   "metadata": {},
   "outputs": [],
   "source": [
    "# Filters = [(GlobalTable_meca_Py['validatedFit'] == True), (GlobalTable_meca_Py['validatedThickness'] == True), (GlobalTable_meca_Py['cell subtype'] == 'aSFL-A8')]\n",
    "# GlobalTable_meca_PyF = GlobalTable_meca_Py\n",
    "# for fltr in Filters:\n",
    "#         GlobalTable_meca_PyF = GlobalTable_meca_PyF.loc[fltr]\n",
    "# # GlobalTable_mecaBis\n",
    "# cellID = 'cellID'\n",
    "# group = GlobalTable_meca_PyF.groupby(cellID)\n",
    "# dictAggMean = getDictAggMean(GlobalTable_meca_PyF)\n",
    "# GlobalTable_meca_PyF_perCell = group.agg(dictAggMean)\n",
    "# GlobalTable_meca_PyF_perCell"
   ]
  },
  {
   "cell_type": "markdown",
   "metadata": {},
   "source": [
    "### Custom data export"
   ]
  },
  {
   "cell_type": "code",
   "execution_count": null,
   "metadata": {},
   "outputs": [],
   "source": [
    "# 21-06-28 Export of E - h data for Julien\n",
    "# GlobalTable_meca_Py_expJ = GlobalTable_meca_Py.loc[GlobalTable_meca_Py['validatedFit'] & GlobalTable_meca_Py['validatedThickness']]\\\n",
    "#                                                [['cell type', 'cell subtype', 'bead type', 'drug', 'substrate', 'compNum', \\\n",
    "#                                                  'EChadwick', 'H0Chadwick', 'surroundingThickness', 'ctFieldThickness']]\n",
    "# GlobalTable_meca_Py_expJ = GlobalTable_meca_Py_expJ.reset_index()\n",
    "# GlobalTable_meca_Py_expJ = GlobalTable_meca_Py_expJ.drop('index', axis=1)\n",
    "# savePath = os.path.join(dataDir, 'mecanicsData_3T3.csv')\n",
    "# GlobalTable_meca_Py_expJ.to_csv(savePath, sep=';')"
   ]
  },
  {
   "cell_type": "markdown",
   "metadata": {},
   "source": [
    "## Plots"
   ]
  },
  {
   "cell_type": "markdown",
   "metadata": {},
   "source": [
    "### Functions"
   ]
  },
  {
   "cell_type": "code",
   "execution_count": null,
   "metadata": {
    "code_folding": [
     2,
     34
    ]
   },
   "outputs": [],
   "source": [
    "Styles = {''} # Project of automatic formatting according to the type of data\n",
    "\n",
    "renameDict1 = {'SurroundingThickness':'Thickness (nm) [b&a]',\\\n",
    "               'surroundingThickness':'Thickness (nm) [b&a]',\\\n",
    "               'ctFieldThickness':'Thickness at low force (nm)',\\\n",
    "               'EChadwick': 'E Chadwick (Pa)',\\\n",
    "               'medianThickness': 'Median Thickness (nm)',\\\n",
    "               'fluctuAmpli': 'Fluctuations Amplitude (nm)',\\\n",
    "               'meanFluoPeakAmplitude' : 'Fluo Intensity (a.u.)',\\\n",
    "               'none':'control',\\\n",
    "               'doxycyclin':'expressing iMC linker',\\\n",
    "               'none & BSA coated glass':'control & non adherent',\\\n",
    "               'doxycyclin & BSA coated glass':'iMC & non adherent',\\\n",
    "               'none & 20um fibronectin discs':'control & adherent on fibro',\\\n",
    "               'doxycyclin & 20um fibronectin discs':'iMC & adherent on fibro',\\\n",
    "               'BSA coated glass & none':'control & non adherent',\\\n",
    "               'BSA coated glass & doxycyclin':'iMC & non adherent',\\\n",
    "               '20um fibronectin discs & none':'control & adherent on fibro',\\\n",
    "               '20um fibronectin discs & doxycyclin':'iMC & adherent on fibro',\\\n",
    "               'aSFL & none':'aSFL control',\\\n",
    "               'aSFL & doxycyclin':'aSFL iMC',\\\n",
    "               'aSFL-6FP & none':'aSFL-6FP control',\\\n",
    "               'aSFL-6FP & doxycyclin':'aSFL-6FP long-iMC',\\\n",
    "               'aSFL-6FP-2 & none':'aSFL-6FP-2 control',\\\n",
    "               'aSFL-6FP-2 & doxycyclin':'aSFL-6FP-2 long-iMC',\\\n",
    "               'aSFL-A8 & none':'aSFL-A8 control',\\\n",
    "               'aSFL-A8 & doxycyclin':'aSFL-A8 iMC',\\\n",
    "               'aSFL-A8-2 & none':'aSFL-A8-2 control',\\\n",
    "               'aSFL-A8-2 & doxycyclin':'aSFL-A8-2 iMC',\\\n",
    "               'dmso' : 'DMSO, no linker', \n",
    "               'smifh2' : 'SMIFH2, no linker', \n",
    "               'dmso, doxycyclin' : 'DMSO, iMC linker', \n",
    "               'smifh2, doxycyclin' : 'SMIFH2, iMC linker'}\n",
    "\n",
    "styleDict1 =  {'none & BSA coated glass':{'color':'#ff9896','marker':'^'},\\\n",
    "               'doxycyclin & BSA coated glass':{'color':'#d62728','marker':'^'},\\\n",
    "               'none & 20um fibronectin discs':{'color':'#aec7e8','marker':'o'},\\\n",
    "               'doxycyclin & 20um fibronectin discs':{'color':'#1f77b4','marker':'o'},\\\n",
    "               'none':{'color':'#aec7e8','marker':'o'},\\\n",
    "               'doxycyclin':{'color':'#1f77b4','marker':'o'},\\\n",
    "               'BSA coated glass & none':{'color':'#ff9896','marker':'^'},\\\n",
    "               'BSA coated glass & doxycyclin':{'color':'#d62728','marker':'^'},\\\n",
    "               '20um fibronectin discs & none':{'color':'#aec7e8','marker':'o'},\\\n",
    "               '20um fibronectin discs & doxycyclin':{'color':'#1f77b4','marker':'o'},\\\n",
    "               'aSFL':{'color':'#1f77b4','marker':'o'},\\\n",
    "               'aSFL-6FP':{'color':'#2ca02c','marker':'o'},\\\n",
    "               'aSFL-A8':{'color':'#ff7f0e','marker':'o'}, \\\n",
    "               'aSFL & none':{'color':'#aec7e8','marker':'o'},\\\n",
    "               'aSFL & doxycyclin':{'color':'#1f77b4','marker':'o'},\\\n",
    "               'aSFL-6FP & none':{'color':'#98df8a','marker':'o'},\\\n",
    "               'aSFL-6FP & doxycyclin':{'color':'#2ca02c','marker':'o'},\\\n",
    "               'aSFL-A8 & none':{'color':'#ffbb78','marker':'o'},\\\n",
    "               'aSFL-A8 & doxycyclin':{'color':'#ff7f0e','marker':'o'}}\n",
    "\n"
   ]
  },
  {
   "cell_type": "markdown",
   "metadata": {},
   "source": [
    "These functions use matplotlib.pyplot and seaborn libraries to display 1D categorical or 2D plots"
   ]
  },
  {
   "cell_type": "code",
   "execution_count": null,
   "metadata": {
    "code_folding": [
     0
    ]
   },
   "outputs": [],
   "source": [
    "def D1Plot(data, CondCol=[], Parameters=[], Filters=[], Boxplot=True, AvgPerCell=False, cellID='cellID', co_order=[],\\\n",
    "           stats=True, statMethod='Mann-Whitney', box_pairs=[], figSizeFactor = 1, markerSizeFactor=1, orientation = 'h',\n",
    "           useHue = False):\n",
    "    data_filtered = data\n",
    "    for fltr in Filters:\n",
    "        data_filtered = data_filtered.loc[fltr]    \n",
    "    NCond = len(CondCol)\n",
    "    \n",
    "    if NCond == 1:\n",
    "        CondCol = CondCol[0]\n",
    "        \n",
    "    elif NCond > 1:\n",
    "        newColName = ''\n",
    "        for i in range(NCond):\n",
    "            newColName += CondCol[i]\n",
    "            newColName += ' & '\n",
    "        newColName = newColName[:-3]\n",
    "        data_filtered[newColName] = ''\n",
    "        for i in range(NCond):\n",
    "            data_filtered[newColName] += data_filtered[CondCol[i]].astype(str)\n",
    "            data_filtered[newColName] = data_filtered[newColName].apply(lambda x : x + ' & ')\n",
    "        data_filtered[newColName] = data_filtered[newColName].apply(lambda x : x[:-3])\n",
    "        CondCol = newColName\n",
    "    \n",
    "    if AvgPerCell:\n",
    "        group = data_filtered.groupby(cellID)\n",
    "        dictAggMean = getDictAggMean(data_filtered)\n",
    "#         dictAggMean['EChadwick'] = 'median'\n",
    "        data_filtered = group.agg(dictAggMean)\n",
    "        \n",
    "    data_filtered.sort_values(CondCol, axis=0, ascending=True, inplace=True)\n",
    "    \n",
    "    if len(co_order) > 0:\n",
    "        p = getStyleLists(co_order, styleDict1)\n",
    "    else:\n",
    "        p = sns.color_palette()\n",
    "    \n",
    "    NPlots = len(Parameters)\n",
    "    Conditions = list(data_filtered[CondCol].unique())\n",
    "    if len(co_order) == 0:\n",
    "        co_order = Conditions\n",
    "    \n",
    "    if orientation == 'h':\n",
    "        fig, ax = plt.subplots(1, NPlots, figsize = (5*NPlots*NCond*figSizeFactor, 5))\n",
    "    elif orientation == 'v':\n",
    "        fig, ax = plt.subplots(NPlots, 1, figsize = (5*NCond*figSizeFactor, 5*NPlots))\n",
    "    \n",
    "    markerSize = 5*markerSizeFactor\n",
    "    \n",
    "    if NPlots == 1:\n",
    "        ax = np.array([ax])\n",
    "    \n",
    "    for k in range(NPlots):\n",
    "\n",
    "        if 'EChadwick' in Parameters[k]:\n",
    "            ax[k].set_yscale('log')\n",
    "\n",
    "\n",
    "        if Boxplot:\n",
    "            sns.boxplot(x=CondCol, y=Parameters[k], data=data_filtered, ax=ax[k], \n",
    "                        color='w', linewidth = 2, width = 0.5, showfliers = False, order= co_order)\n",
    "            # data_filtered.boxplot(column=Parameters[k], by = CondCol, ax=ax[k],showfliers = False) # linewidth = 2, width = 0.5\n",
    "\n",
    "        if stats:\n",
    "            if len(box_pairs) == 0:\n",
    "                box_pairs = makeBoxPairs(co_order)\n",
    "            addStat(ax[k], data_filtered, box_pairs, Parameters[k], CondCol, test = statMethod)\n",
    "            # add_stat_annotation(ax[k], x=CondCol, y=Parameters[k], data=data_filtered,box_pairs = box_pairs,test=statMethod, text_format='star',loc='inside', verbose=2)\n",
    "        \n",
    "        if not useHue:\n",
    "            sns.swarmplot(x=CondCol, y=Parameters[k], data=data_filtered, ax=ax[k], order = co_order,\n",
    "                          size=markerSize, edgecolor='k', linewidth = 1*markerSizeFactor, palette = p)\n",
    "        else:\n",
    "            sns.swarmplot(x=CondCol, y=Parameters[k], data=data_filtered, ax=ax[k], order = co_order,\n",
    "                          size=markerSize, edgecolor='k', linewidth = 1*markerSizeFactor, palette = p, hue = 'manipID')\n",
    "            legend = ax[k].legend()\n",
    "            legend.remove()\n",
    "\n",
    "        ax[k].set_xlabel('')\n",
    "        ax[k].set_ylabel(Parameters[k])\n",
    "        ax[k].tick_params(axis='x', labelrotation = 10)\n",
    "        ax[k].yaxis.grid(True)           \n",
    "            \n",
    "#     else:\n",
    "#         if Parameters[0] == 'EChadwick':\n",
    "#             ax.set_yscale('log')\n",
    "                \n",
    "#         if Boxplot:\n",
    "#             sns.boxplot(x=CondCol, y=Parameters[0], data=data_filtered, ax=ax, \n",
    "#                         color='w', linewidth = 2, width = 0.5, showfliers = False, order= co_order)\n",
    "#             # data_filtered.boxplot(column=Parameters[k], by = CondCol, ax=ax[k],showfliers = False) # linewidth = 2, width = 0.5\n",
    "\n",
    "#         if stats:\n",
    "#             if len(box_pairs) == 0:\n",
    "#                 box_pairs = makeBoxPairs(co_order)\n",
    "#             addStat(ax, data_filtered, box_pairs, Parameters[0], CondCol, test = statMethod)\n",
    "#             # add_stat_annotation(ax, x=CondCol, y=Parameters[0], data=data_filtered,box_pairs = box_pairs,test=statMethod, text_format='star',loc='inside', verbose=2)\n",
    "\n",
    "#         sns.swarmplot(x=CondCol, y=Parameters[0], data=data_filtered, ax=ax, order= co_order, \n",
    "#                       size=markerSize, edgecolor='k',linewidth = 1*markerSizeFactor, palette = p)\n",
    "    \n",
    "#         ax.set_xlabel('')\n",
    "#         ax.set_ylabel(Parameters[0])\n",
    "#         ax.tick_params(axis='x', labelrotation = 10)\n",
    "#         ax.yaxis.grid(True)\n",
    "    \n",
    "    plt.rcParams['axes.prop_cycle'] = my_default_color_cycle\n",
    "    return(fig, ax)"
   ]
  },
  {
   "cell_type": "code",
   "execution_count": null,
   "metadata": {
    "code_folding": [
     0
    ]
   },
   "outputs": [],
   "source": [
    "def D1PlotDetailed(data, CondCol=[], Parameters=[], Filters=[], Boxplot=True, cellID='cellID', \n",
    "                   co_order=[], stats=True, statMethod='Mann-Whitney', box_pairs=[],\n",
    "                   figSizeFactor = 1, markerSizeFactor=1, orientation = 'h', showManips = True):\n",
    "    \n",
    "    data_f = data\n",
    "    for fltr in Filters:\n",
    "        data_f = data_f.loc[fltr]    \n",
    "    NCond = len(CondCol)\n",
    "    \n",
    "    if NCond == 1:\n",
    "        CondCol = CondCol[0]\n",
    "        \n",
    "    elif NCond > 1:\n",
    "        newColName = ''\n",
    "        for i in range(NCond):\n",
    "            newColName += CondCol[i]\n",
    "            newColName += ' & '\n",
    "        newColName = newColName[:-3]\n",
    "        data_f[newColName] = ''\n",
    "        for i in range(NCond):\n",
    "            data_f[newColName] += data_f[CondCol[i]].astype(str)\n",
    "            data_f[newColName] = data_f[newColName].apply(lambda x : x + ' & ')\n",
    "        data_f[newColName] = data_f[newColName].apply(lambda x : x[:-3])\n",
    "        CondCol = newColName\n",
    "        \n",
    "    data_f_agg = getAggDf(data_f, cellID, CondCol, Parameters)\n",
    "    \n",
    "    NPlots = len(Parameters)\n",
    "    Conditions = list(data_f[CondCol].unique())\n",
    "    print(Conditions)\n",
    "        \n",
    "    if orientation == 'h':\n",
    "        fig, ax = plt.subplots(1, NPlots, figsize = (5*NPlots*NCond*figSizeFactor, 5))\n",
    "    elif orientation == 'v':\n",
    "        fig, ax = plt.subplots(NPlots, 1, figsize = (5*NCond*figSizeFactor, 5*NPlots))\n",
    "    \n",
    "    markerSize = 5*markerSizeFactor\n",
    "    \n",
    "    if NPlots == 1:\n",
    "        ax = np.array([ax])\n",
    "        \n",
    "    if len(co_order) == 0:\n",
    "        co_order = Conditions\n",
    "        \n",
    "        \n",
    "    for k in range(NPlots):\n",
    "        \n",
    "        Parm = Parameters[k]\n",
    "        if 'EChadwick' in Parm:\n",
    "            ax[k].set_yscale('log')\n",
    "\n",
    "        for i in range(len(Conditions)):\n",
    "            c = Conditions[i]\n",
    "            sub_data_f_agg = data_f_agg.loc[data_f_agg[CondCol] == c]\n",
    "            Ncells = sub_data_f_agg.shape[0]\n",
    "            \n",
    "            color = my_default_color_list[i]\n",
    "            \n",
    "            if showManips:\n",
    "                allManipID = list(sub_data_f_agg['manipID'].unique())\n",
    "                alreadyLabeledManip = []\n",
    "                dictMarker = {}\n",
    "                for mi in range(len(allManipID)):\n",
    "                    dictMarker[allManipID[mi]] = my_default_marker_list[mi]\n",
    "\n",
    "                \n",
    "            \n",
    "            midPos = i\n",
    "            startPos = i-0.4\n",
    "            stopPos = i+0.4\n",
    "            \n",
    "            values = sub_data_f_agg[Parm + '_mean'].values\n",
    "            errors = sub_data_f_agg[Parm + '_std'].values\n",
    "            \n",
    "            if Boxplot:\n",
    "                ax[k].boxplot(values, positions=[midPos], widths=0.4, patch_artist=True,\n",
    "                            showmeans=False, showfliers=False,\n",
    "                            medianprops={\"color\": 'k', \"linewidth\": 1.5, 'alpha' : 0.5},\n",
    "                            boxprops={\"facecolor\": color, \"edgecolor\": 'k',\n",
    "                                      \"linewidth\": 1, 'alpha' : 0.5},\n",
    "    #                         boxprops={\"color\": color, \"linewidth\": 0.5},\n",
    "                            whiskerprops={\"color\": 'k', \"linewidth\": 1.5, 'alpha' : 0.5},\n",
    "                            capprops={\"color\": 'k', \"linewidth\": 1.5, 'alpha' : 0.5},\n",
    "                             zorder = 1)\n",
    "                \n",
    "\n",
    "            step = 0.8/(Ncells-1)\n",
    "            \n",
    "            for m in range(Ncells):\n",
    "                \n",
    "                thisCellID = sub_data_f_agg.index.values[m]\n",
    "                thisCell_data = data_f.loc[data_f[cellID] == thisCellID]\n",
    "                thisCell_allValues = thisCell_data[Parm].values\n",
    "                nval = len(thisCell_allValues)\n",
    "                \n",
    "                if showManips:\n",
    "                    thisManipID = sub_data_f_agg['manipID'].values[m]\n",
    "                    marker = dictMarker[thisManipID]\n",
    "                else:\n",
    "                    marker = 'o'\n",
    "                \n",
    "                cellpos = startPos + m*step\n",
    "                ax[k].errorbar([cellpos], [values[m]], color = color, marker = marker, markeredgecolor = 'k', \n",
    "                               yerr=errors[m], capsize = 2, ecolor = 'k', elinewidth=0.8, barsabove = False)\n",
    "                \n",
    "                if showManips and thisManipID not in alreadyLabeledManip:\n",
    "                    alreadyLabeledManip.append(thisManipID)\n",
    "                    textLabel = thisManipID\n",
    "                    ax[k].plot([cellpos], [values[m]], color = color, marker = marker, markeredgecolor = 'k',\n",
    "                              label = textLabel)\n",
    "                    \n",
    "                ax[k].plot(cellpos*np.ones(nval), thisCell_allValues, color = color, marker = '_', ls = '')\n",
    "                \n",
    "        \n",
    "\n",
    "        ax[k].set_xlabel('')\n",
    "        ax[k].set_xticklabels(labels = Conditions)\n",
    "        ax[k].tick_params(axis='x', labelrotation = 10)\n",
    "        \n",
    "        ax[k].set_ylabel(Parameters[k])\n",
    "        ax[k].yaxis.grid(True)\n",
    "        \n",
    "        ax[k].legend(fontsize = 6)\n",
    "        \n",
    "        if stats:\n",
    "            renameDict = {Parameters[k] + '_mean' : Parameters[k]}\n",
    "            if len(box_pairs) == 0:\n",
    "                box_pairs = makeBoxPairs(co_order)\n",
    "            addStat(ax[k], data_f_agg.rename(columns = renameDict), \n",
    "                    box_pairs, Parameters[k], CondCol, test = statMethod)\n",
    "        \n",
    "\n",
    "    plt.rcParams['axes.prop_cycle'] = my_default_color_cycle\n",
    "    return(fig, ax)"
   ]
  },
  {
   "cell_type": "code",
   "execution_count": null,
   "metadata": {
    "code_folding": [
     0
    ]
   },
   "outputs": [],
   "source": [
    "def D2Plot(data, XCol='', YCol='', CondCol='', Filters=[], cellID='cellID', AvgPerCell=False,\\\n",
    "           xscale = 'lin', yscale = 'lin', figSizeFactor = 1, markers = []):\n",
    "    data_filtered = data\n",
    "    for fltr in Filters:\n",
    "        data_filtered = data_filtered.loc[fltr]\n",
    "    \n",
    "    NCond = len(CondCol)    \n",
    "    if NCond == 1:\n",
    "        CondCol = CondCol[0]\n",
    "    elif NCond > 1:\n",
    "        newColName = ''\n",
    "        for i in range(NCond):\n",
    "            newColName += CondCol[i]\n",
    "            newColName += ' & '\n",
    "        newColName = newColName[:-3]\n",
    "        data_filtered[newColName] = ''\n",
    "        for i in range(NCond):\n",
    "            data_filtered[newColName] += data_filtered[CondCol[i]].astype(str)\n",
    "            data_filtered[newColName] = data_filtered[newColName].apply(lambda x : x + ' & ')\n",
    "        data_filtered[newColName] = data_filtered[newColName].apply(lambda x : x[:-3])\n",
    "        CondCol = newColName\n",
    "    \n",
    "    if AvgPerCell:\n",
    "        group = data_filtered.groupby(cellID)\n",
    "        dictAggMean = getDictAggMean(data_filtered)\n",
    "        data_filtered = group.agg(dictAggMean.pop(cellID)) #.reset_index(level=0, inplace=True)\n",
    "        data_filtered.reset_index(level=0, inplace=True)\n",
    "        \n",
    "    Conditions = list(data_filtered[CondCol].unique())\n",
    "    fig, ax = plt.subplots(1, 1, figsize = (8*figSizeFactor,5))\n",
    "    markerSize = 8\n",
    "    \n",
    "    if xscale == 'log':\n",
    "        ax.set_xscale('log')\n",
    "    if yscale == 'log':\n",
    "        ax.set_yscale('log')\n",
    "    \n",
    "    current_color_list = getStyleLists(Conditions, styleDict1).as_hex()\n",
    "    cc = cycler(color=current_color_list)\n",
    "    ax.set_prop_cycle(cc)\n",
    "    \n",
    "    im = 0\n",
    "    for c in Conditions:\n",
    "        Xraw = data_filtered[data_filtered[CondCol] == c][XCol].values\n",
    "        Yraw = data_filtered[data_filtered[CondCol] == c][YCol].values\n",
    "        XYraw = np.array([Xraw,Yraw]).T\n",
    "        XY = XYraw[~np.isnan(XYraw).any(axis=1), :]\n",
    "        X, Y = XY[:,0], XY[:,1]\n",
    "        if len(markers) == 0:\n",
    "            m = 'o'\n",
    "        else:\n",
    "            m = markers[im]\n",
    "            im += 1\n",
    "        \n",
    "        if len(X) == 0:\n",
    "            ax.plot([], [])\n",
    "            if modelFit:\n",
    "                ax.plot([], [])\n",
    "                \n",
    "        elif len(X) > 0:                    \n",
    "            ax.plot(X, Y, m, markersize = markerSize, markeredgecolor='k', markeredgewidth = 1, label=c)\n",
    "            \n",
    "    ax.set_xlabel(XCol)\n",
    "    ax.set_xlim([min(0,1.1*np.min(data_filtered[XCol])), 1.1*np.max(data_filtered[XCol])])\n",
    "    ax.set_ylabel(YCol)\n",
    "    if not yscale == 'log':\n",
    "        ax.set_ylim([min(0,1.1*np.min(data_filtered[YCol])), 1.1*np.max(data_filtered[YCol])])\n",
    "    ax.legend(loc='upper left')\n",
    "    return(fig, ax)"
   ]
  },
  {
   "cell_type": "code",
   "execution_count": null,
   "metadata": {
    "code_folding": [
     0
    ]
   },
   "outputs": [],
   "source": [
    "def D2Plot_wFit(data, XCol='',YCol='',CondCol='',Filters=[], cellID='cellID', AvgPerCell=False, modelFit=False, modelType='y=ax+b',\\\n",
    "           xscale = 'lin', yscale = 'lin', figSizeFactor = 1):\n",
    "    data_filtered = data\n",
    "    for fltr in Filters:\n",
    "        data_filtered = data_filtered.loc[fltr]\n",
    "    \n",
    "    NCond = len(CondCol)    \n",
    "    if NCond == 1:\n",
    "        CondCol = CondCol[0]\n",
    "    elif NCond > 1:\n",
    "        newColName = ''\n",
    "        for i in range(NCond):\n",
    "            newColName += CondCol[i]\n",
    "            newColName += ' & '\n",
    "        newColName = newColName[:-3]\n",
    "        data_filtered[newColName] = ''\n",
    "        for i in range(NCond):\n",
    "            data_filtered[newColName] += data_filtered[CondCol[i]].astype(str)\n",
    "            data_filtered[newColName] = data_filtered[newColName].apply(lambda x : x + ' & ')\n",
    "        data_filtered[newColName] = data_filtered[newColName].apply(lambda x : x[:-3])\n",
    "        CondCol = newColName\n",
    "    \n",
    "    if AvgPerCell:\n",
    "        group = data_filtered.groupby(cellID)\n",
    "        dictAggMean = getDictAggMean(data_filtered)\n",
    "        data_filtered = group.agg(dictAggMean.pop(cellID)) #.reset_index(level=0, inplace=True)\n",
    "        data_filtered.reset_index(level=0, inplace=True)\n",
    "        \n",
    "    Conditions = list(data_filtered[CondCol].unique())\n",
    "    fig, ax = plt.subplots(1, 1, figsize = (8*figSizeFactor,5))\n",
    "    markerSize = 5\n",
    "    \n",
    "    if xscale == 'log':\n",
    "        ax.set_xscale('log')\n",
    "    if yscale == 'log':\n",
    "        ax.set_yscale('log')\n",
    "    \n",
    "    current_color_list = getStyleLists(Conditions, styleDict1).as_hex()\n",
    "    cc = cycler(color=current_color_list)\n",
    "    ax.set_prop_cycle(cc)\n",
    "    \n",
    "    if modelFit:\n",
    "        # Tweak the style cycle to plot for each condition: the points ('o') and then the fit ('-') with the same color.\n",
    "#         current_prop_cycle = plt.rcParams['axes.prop_cycle']\n",
    "#         current_color_list = prop_cycle.by_key()['color']\n",
    "        ncustom_color_list = list(np.array([current_color_list, current_color_list]).flatten(order='F'))\n",
    "        # if new_color_list was ['red', 'green', blue'], custom_color_list is now ['red', 'red', 'green', 'green', blue', blue']\n",
    "        cc = cycler(color=ncustom_color_list)\n",
    "        ax.set_prop_cycle(cc)\n",
    "    \n",
    "    for c in Conditions:\n",
    "        Xraw = data_filtered[data_filtered[CondCol] == c][XCol].values\n",
    "        Yraw = data_filtered[data_filtered[CondCol] == c][YCol].values\n",
    "        XYraw = np.array([Xraw,Yraw]).T\n",
    "        XY = XYraw[~np.isnan(XYraw).any(axis=1), :]\n",
    "        X, Y = XY[:,0], XY[:,1]\n",
    "        if len(X) == 0:\n",
    "            ax.plot([], [])\n",
    "            if modelFit:\n",
    "                ax.plot([], [])\n",
    "                \n",
    "        elif len(X) > 0:\n",
    "            eqnText = ''\n",
    "\n",
    "            if modelFit:\n",
    "                print('Fitting condition: ' + c + ' with model ' + modelType)\n",
    "                if modelType == 'y=ax+b':\n",
    "                    params, results = fitLine(X, Y) # Y=a*X+b ; params[0] = b,  params[1] = a\n",
    "                    pval = results.pvalues[1] # pvalue on the param 'a'\n",
    "                    eqnText += \" ; Y = {:.1f} X + {:.1f}\".format(params[1], params[0])\n",
    "                    eqnText += \" ; p-val = {:.2e}\".format(pval)\n",
    "                    print(\"Y = {:.5} X + {:.5}\".format(params[1], params[0]))\n",
    "                    print(\"p-value on the 'a' coefficient: {:.4e}\".format(pval))\n",
    "                    print('\\n')\n",
    "                    fitY = params[1]*X + params[0]\n",
    "                    imin = np.argmin(X)\n",
    "                    imax = np.argmax(X)\n",
    "                    ax.plot([X[imin],X[imax]], [fitY[imin],fitY[imax]], '--', lw = '1')\n",
    "\n",
    "                elif modelType == 'y=A*exp(kx)':\n",
    "                    params, results = fitLine(X, np.log(Y)) # Y=a*X+b ; params[0] = b,  params[1] = a\n",
    "                    pval = results.pvalues[1] # pvalue on the param 'a'\n",
    "                    eqnText += \" ; Y = {:.1f}*exp({:.1f}*X)\".format(params[0], params[1])\n",
    "                    eqnText += \" ; p-val = {:.2e}\".format(pval)\n",
    "                    print(\"Y = {:.5}*exp({:.5}*X)\".format(np.exp(params[0]), params[1]))\n",
    "                    print(\"p-value on the 'k' coefficient: {:.4e}\".format(pval))\n",
    "                    print('\\n')\n",
    "                    fitY = np.exp(params[0])*np.exp(params[1]*X)\n",
    "                    imin = np.argmin(X)\n",
    "                    imax = np.argmax(X)\n",
    "                    ax.plot([X[imin],X[imax]], [fitY[imin],fitY[imax]], '--', lw = '1')\n",
    "                    \n",
    "                elif modelType == 'y=k*x^a':\n",
    "                    params, results = fitLine(np.log(X), np.log(Y)) # Y=a*X+b ; params[0] = b,  params[1] = a\n",
    "                    pval = results.pvalues[1] # pvalue on the param 'a'\n",
    "                    eqnText += \" ; Y = {:.1f} * X^{:.1f}\".format(params[0], params[1])\n",
    "                    eqnText += \" ; p-val = {:.2e}\".format(pval)\n",
    "                    print(\"Y = {:.1f} * X^{:.1f}\".format(np.exp(params[0]), params[1]))\n",
    "                    print(\"p-value on the 'a' coefficient: {:.4e}\".format(pval))\n",
    "                    print('\\n')\n",
    "                    fitY = np.exp(params[0])*np.exp(params[1]*X)\n",
    "                    imin = np.argmin(X)\n",
    "                    imax = np.argmax(X)\n",
    "                    ax.plot([X[imin],X[imax]], [fitY[imin],fitY[imax]], '--', lw = '1')\n",
    "                    \n",
    "            ax.plot(X, Y, 'o', markersize = markerSize, markeredgecolor='k', markeredgewidth = 1, label=c + eqnText)\n",
    "            \n",
    "            \n",
    "    ax.set_xlabel(XCol)\n",
    "    ax.set_xlim([min(0,1.1*np.min(data_filtered[XCol])), 1.1*np.max(data_filtered[XCol])])\n",
    "    ax.set_ylabel(YCol)\n",
    "    if not yscale == 'log':\n",
    "        ax.set_ylim([min(0,1.1*np.min(data_filtered[YCol])), 1.1*np.max(data_filtered[YCol])])\n",
    "    ax.legend(loc='upper left')\n",
    "    return(fig, ax)"
   ]
  },
  {
   "cell_type": "markdown",
   "metadata": {},
   "source": [
    "These functions use the Bokeh library to display 1D categorical or 2D plots with interactive plots. They are less flexible but can be nice to explore the data set since you can display the cellID which is the source of each point by passing your pointer over it."
   ]
  },
  {
   "cell_type": "code",
   "execution_count": null,
   "metadata": {
    "code_folding": [
     0
    ]
   },
   "outputs": [],
   "source": [
    "def D1PlotInteractive(data, CondCol='',Parameters=[],Filters=[],AvgPerCell=False,cellID='cellID'):\n",
    "    data_filtered = data\n",
    "    for fltr in Filters:\n",
    "        data_filtered = data_filtered.loc[fltr]\n",
    "        \n",
    "#     print(data_filtered[cellID])\n",
    "    if AvgPerCell:\n",
    "        group = data_filtered.groupby(cellID)\n",
    "        dictAggMean = getDictAggMean(data_filtered)\n",
    "        data_filtered = group.agg(dictAggMean.pop(cellID)) #.reset_index(level=0, inplace=True)\n",
    "        data_filtered.reset_index(level=0, inplace=True)\n",
    "    \n",
    "#     return(data_filtered)\n",
    "    \n",
    "    NPlots = len(Parameters)\n",
    "    Conditions = list(data_filtered[CondCol].unique())\n",
    "    if NPlots > 1:\n",
    "        plots = []\n",
    "        NCond = len(Conditions)\n",
    "        data_filtered['X'] = 0\n",
    "        data_filtered['X_jitter'] = 0.\n",
    "        dictTicks = {}\n",
    "        for i in range(NCond):\n",
    "            mask = data_filtered[CondCol] == Conditions[i]\n",
    "            data_filtered.loc[mask, 'X'] = i+1\n",
    "            dictTicks[i+1] = Conditions[i]\n",
    "        for i in data_filtered.index:\n",
    "            data_filtered.loc[i, 'X_jitter'] = data_filtered.loc[i, 'X'] + 0.4*(np.random.rand(1)[0]-0.5)\n",
    "        source = ColumnDataSource(\n",
    "            data=data_filtered[[cellID]+[CondCol]+Parameters+['X','X_jitter']]\n",
    "        )        \n",
    "        \n",
    "        for k in range(NPlots):\n",
    "            hover = HoverTool(\n",
    "                tooltips=[\n",
    "                    ('Cell ID', \"@\"+cellID),\n",
    "                    (Parameters[k], \"@\"+Parameters[k]),\n",
    "                ]\n",
    "            )\n",
    "            index_cmap = factor_cmap(CondCol, palette=Category10[10], factors=sorted(data_filtered[CondCol].unique()), end=1)\n",
    "            p = figure(plot_width=450, plot_height=500, tools=[hover], title=\"InteractivePlot\") # \n",
    "            p.circle('X_jitter', Parameters[k], size=8, alpha = 0.6, source=source,fill_color=index_cmap,line_color='black')\n",
    "            # Format\n",
    "            p.x_range = Range1d(0, NCond+1)\n",
    "            p.y_range = Range1d(min(0,1.1*np.min(data_filtered[Parameters[0]])), 1.1*np.max(data_filtered[Parameters[k]]))\n",
    "            p.xaxis.ticker = [i for i in range(1,NCond+1)]\n",
    "            p.xaxis.major_label_overrides = dictTicks\n",
    "            p.xaxis.axis_label = CondCol\n",
    "            p.xaxis.axis_label_text_font_size = '18pt'\n",
    "            p.xaxis.major_label_text_font_size = '16pt'\n",
    "            p.yaxis.axis_label = Parameters[k]\n",
    "            p.yaxis.axis_label_text_font_size = '18pt'\n",
    "            p.yaxis.major_label_text_font_size = '16pt'\n",
    "            \n",
    "            plots.append(p)\n",
    "            \n",
    "        p = gridplot(plots, ncols=2, toolbar_location=None)\n",
    "        \n",
    "        \n",
    "    else:\n",
    "        hover = HoverTool(\n",
    "            tooltips=[\n",
    "                ('Cell ID', \"@\"+cellID),\n",
    "                (Parameters[0], \"@\"+Parameters[0]),\n",
    "            ]\n",
    "        )\n",
    "        \n",
    "        NCond = len(Conditions)\n",
    "        data_filtered['X'] = 0\n",
    "        data_filtered['X_jitter'] = 0.\n",
    "        dictTicks = {}\n",
    "        for i in range(NCond):\n",
    "            mask = data_filtered[CondCol] == Conditions[i]\n",
    "            data_filtered.loc[mask, 'X'] = i+1\n",
    "            dictTicks[i+1] = Conditions[i]\n",
    "        for i in data_filtered.index:\n",
    "            data_filtered.loc[i, 'X_jitter'] = data_filtered.loc[i, 'X'] + 0.4*(np.random.rand(1)[0]-0.5)\n",
    "        source = ColumnDataSource(\n",
    "            data=data_filtered[[cellID]+[CondCol]+Parameters+['X','X_jitter']]\n",
    "        )\n",
    "        index_cmap = factor_cmap(CondCol, palette=Category10[10], factors=sorted(data_filtered[CondCol].unique()), end=1)\n",
    "        TOOLS = \"hover,pan,box_zoom,wheel_zoom,reset,save,help\"\n",
    "        p = figure(plot_width=500, plot_height=500, tools=TOOLS, title=\"InteractivePlot\") # \n",
    "        p.circle('X_jitter', Parameters[0], size=8, alpha = 0.6, source=source,fill_color=index_cmap,line_color='black')\n",
    "        # Format\n",
    "        p.x_range = Range1d(0, NCond+1)\n",
    "        p.y_range = Range1d(min(0,1.1*np.min(data_filtered[Parameters[0]])), 1.1*np.max(data_filtered[Parameters[0]]))\n",
    "        p.xaxis.ticker = [i for i in range(1,NCond+1)]\n",
    "        p.xaxis.major_label_overrides = dictTicks\n",
    "        p.xaxis.axis_label = CondCol\n",
    "        p.xaxis.axis_label_text_font_size = '18pt'\n",
    "        p.xaxis.major_label_text_font_size = '16pt'\n",
    "        p.yaxis.axis_label = Parameters[0]\n",
    "        p.yaxis.axis_label_text_font_size = '18pt'\n",
    "        p.yaxis.major_label_text_font_size = '16pt'\n",
    "    return(p)"
   ]
  },
  {
   "cell_type": "code",
   "execution_count": null,
   "metadata": {
    "code_folding": [
     0
    ]
   },
   "outputs": [],
   "source": [
    "def D2PlotInteractive(data, XCol='',YCol='',CondCol='',Filters=[], cellID='cellID',AvgPerCell=False):\n",
    "    \n",
    "    data_filtered = data\n",
    "    for fltr in Filters:\n",
    "        data_filtered = data_filtered.loc[fltr]\n",
    "        \n",
    "    if AvgPerCell:\n",
    "        group = data_filtered.groupby(cellID)\n",
    "        dictAggMean = getDictAggMean(data_filtered)\n",
    "        data_filtered = group.agg(dictAggMean.pop(cellID)) #.reset_index(level=0, inplace=True)\n",
    "        data_filtered.reset_index(level=0, inplace=True)\n",
    "    \n",
    "    Conditions = list(data_filtered[CondCol].unique())\n",
    "\n",
    "    NCond = len(Conditions)\n",
    "    dictTicks = {}\n",
    "    for i in range(NCond):\n",
    "        dictTicks[i+1] = Conditions[i]\n",
    "    \n",
    "    source = ColumnDataSource(\n",
    "        data=data_filtered[[cellID,CondCol,XCol,YCol]]\n",
    "    )\n",
    "    \n",
    "    hover = HoverTool(\n",
    "        tooltips=[\n",
    "            ('Cell ID', \"@\"+cellID),\n",
    "            (XCol, \"@\"+XCol),\n",
    "            (YCol, \"@\"+YCol),\n",
    "            (CondCol, \"@\"+CondCol),\n",
    "        ]\n",
    "    )\n",
    "    \n",
    "    index_cmap = factor_cmap(CondCol, palette=Category10[10], factors=sorted(data_filtered[CondCol].unique()), end=1)\n",
    "    TOOLS = \"pan,box_zoom,wheel_zoom,reset,save,help\"\n",
    "    p = figure(plot_width=900, plot_height=500, tools=TOOLS, title=\"InteractivePlot\",toolbar_location=\"below\") # \n",
    "    p.circle(XCol, YCol, size=8, alpha = 0.6, source=source,fill_color=index_cmap,line_color='black')\n",
    "    p.add_tools(hover)\n",
    "    # Format\n",
    "    p.x_range = Range1d(0, 1.1*np.max(data_filtered[XCol]))\n",
    "    p.y_range = Range1d(0, 1.1*np.max(data_filtered[YCol]))\n",
    "    p.xaxis.axis_label = XCol\n",
    "    p.xaxis.axis_label_text_font_size = '18pt'\n",
    "    p.xaxis.major_label_text_font_size = '16pt'\n",
    "    p.yaxis.axis_label = YCol\n",
    "    p.yaxis.axis_label_text_font_size = '18pt'\n",
    "    p.yaxis.major_label_text_font_size = '16pt'\n",
    "    return(p)"
   ]
  },
  {
   "cell_type": "markdown",
   "metadata": {},
   "source": [
    "Other subfunctions useful to plot"
   ]
  },
  {
   "cell_type": "code",
   "execution_count": null,
   "metadata": {
    "code_folding": [
     0,
     20,
     74,
     87,
     91,
     116,
     158,
     191,
     211
    ]
   },
   "outputs": [],
   "source": [
    "def getDictAggMean(df):\n",
    "    dictAggMean = {}\n",
    "    for c in df.columns:\n",
    "    #         t = df[c].dtype\n",
    "    #         print(c, t)\n",
    "            try :\n",
    "                if np.array_equal(df[c], df[c].astype(bool)):\n",
    "                    dictAggMean[c] = 'min'\n",
    "                else:\n",
    "                    try:\n",
    "                        if not c.isnull().all():\n",
    "                            np.mean(df[c])\n",
    "                            dictAggMean[c] = 'mean'\n",
    "                    except:\n",
    "                        dictAggMean[c] = 'first'\n",
    "            except:\n",
    "                    dictAggMean[c] = 'first'\n",
    "    return(dictAggMean)\n",
    "\n",
    "\n",
    "def getAggDf(df, cellID, CondCol, Variables):\n",
    "    \n",
    "    allCols = df.columns.values\n",
    "    group = df.groupby(cellID)\n",
    "    \n",
    "    dictAggCategories = {}\n",
    "    Categories = ['date', 'cellName', 'manipID', 'experimentType', 'drug', \n",
    "                  'substrate', 'cell type', 'cell subtype', 'bead type', 'bead diameter']\n",
    "    if CondCol not in Categories:\n",
    "        Categories += [CondCol]\n",
    "    for c in Categories:\n",
    "        if c in allCols:\n",
    "            dictAggCategories[c] = 'first'\n",
    "    dfCats = group.agg(dictAggCategories)\n",
    "    \n",
    "    dictAggCount = {'compNum' : 'count'}\n",
    "    renameDict = {'compNum' : 'Ncomp'}\n",
    "    dfCount = group.agg(dictAggCount).rename(columns=renameDict)\n",
    "    \n",
    "    dictAggMeans = {}\n",
    "    renameDict = {}\n",
    "    for v in Variables:\n",
    "        dictAggMeans[v] = 'mean'\n",
    "        renameDict[v] = v + '_mean'\n",
    "    dfMeans = group.agg(dictAggMeans).rename(columns=renameDict)\n",
    "        \n",
    "    dictAggStds = {} \n",
    "    renameDict = {}\n",
    "    for v in Variables:\n",
    "        dictAggStds[v] = 'std'\n",
    "        renameDict[v] = v + '_std'\n",
    "    dfStds = group.agg(dictAggStds).rename(columns=renameDict)\n",
    "    \n",
    "#     for v in Variables:\n",
    "        \n",
    "    \n",
    "    dfAgg = pd.merge(dfCats, dfCount, how=\"inner\", on='cellID',\n",
    "        #     left_on=None,right_on=None,left_index=False,right_index=False,sort=True,\n",
    "        #     suffixes=(\"_x\", \"_y\"),copy=True,indicator=False,validate=None,\n",
    "        )\n",
    "    \n",
    "    dfAgg = pd.merge(dfAgg, dfMeans, how=\"inner\", on='cellID',\n",
    "        #     left_on=None,right_on=None,left_index=False,right_index=False,sort=True,\n",
    "        #     suffixes=(\"_x\", \"_y\"),copy=True,indicator=False,validate=None,\n",
    "        )\n",
    "    \n",
    "    dfAgg = pd.merge(dfAgg, dfStds, how=\"inner\", on='cellID',\n",
    "        #     left_on=None,right_on=None,left_index=False,right_index=False,sort=True,\n",
    "        #     suffixes=(\"_x\", \"_y\"),copy=True,indicator=False,validate=None,\n",
    "        )\n",
    "    \n",
    "    return(dfAgg)\n",
    "\n",
    "\n",
    "def makeOrder(*args):\n",
    "    order = []\n",
    "    listeTuple = list(itertools.product(*args, repeat=1))\n",
    "    for tup in listeTuple:\n",
    "        tmpText = ''\n",
    "        for word in tup:\n",
    "            tmpText += word\n",
    "            tmpText += ' & '\n",
    "        tmpText = tmpText[:-3]\n",
    "        order.append(tmpText)\n",
    "    return(order)\n",
    "\n",
    "\n",
    "def makeBoxPairs(O):\n",
    "    return(list(itertools.combinations(O, 2)))\n",
    "\n",
    "\n",
    "def renameAxes(axes, rD):\n",
    "    try:\n",
    "        N = len(axes)\n",
    "    except:\n",
    "        axes = [axes]\n",
    "        N = 1\n",
    "    for i in range(N):\n",
    "        # set xticks\n",
    "        xticksTextObject = axes[i].get_xticklabels()\n",
    "        xticksList = [xticksTextObject[j].get_text() for j in range(len(xticksTextObject))]\n",
    "        test_hasXLabels = (len(''.join(xticksList)) > 0)\n",
    "        if test_hasXLabels:\n",
    "            newXticksList = [rD.get(k, k) for k in xticksList]\n",
    "            axes[i].set_xticklabels(newXticksList)\n",
    "        \n",
    "        # set xlabel\n",
    "        xlabel = axes[i].get_xlabel()\n",
    "        newXlabel = rD.get(xlabel, xlabel)\n",
    "        axes[i].set_xlabel(newXlabel)\n",
    "        # set ylabel\n",
    "        ylabel = axes[i].get_ylabel()\n",
    "        newYlabel = rD.get(ylabel, ylabel)\n",
    "        axes[i].set_ylabel(newYlabel)\n",
    "        \n",
    "\n",
    "def addStat(ax, data, box_pairs, param, cond, test = 'MannWhitney', percentHeight = 98):\n",
    "    refHeight = np.percentile(data[param].values, percentHeight)\n",
    "    currentHeight = refHeight\n",
    "    scale = ax.get_yscale()\n",
    "    xTicks = ax.get_xticklabels()\n",
    "    dictXTicks = {xTicks[i].get_text() : xTicks[i].get_position()[0] for i in range(len(xTicks))}\n",
    "    for bp in box_pairs:\n",
    "        c1 = data[data[cond] == bp[0]][param].values\n",
    "        c2 = data[data[cond] == bp[1]][param].values\n",
    "        if test=='Mann-Whitney':\n",
    "            statistic, pval = st.mannwhitneyu(c1,c2)\n",
    "        elif test=='t-test':\n",
    "            statistic, pval = st.ttest_ind(c1,c2)\n",
    "        text = 'ns'\n",
    "        if pval < 0.05 and pval > 0.01:\n",
    "            text = '*'\n",
    "        elif pval < 0.01 and pval > 0.001:\n",
    "            text = '**'\n",
    "        elif pval < 0.001 and pval < 0.001:\n",
    "            text = '***'\n",
    "        elif pval < 0.0001:\n",
    "            text = '****'\n",
    "        ax.plot([bp[0], bp[1]], [currentHeight, currentHeight], 'k-', lw = 1)\n",
    "        XposText = (dictXTicks[bp[0]]+dictXTicks[bp[1]])/2\n",
    "        if scale == 'log':\n",
    "            power = 0.01* (text=='ns') + 0.000 * (text!='ns')\n",
    "            YposText = currentHeight*(refHeight**power)\n",
    "        else:\n",
    "            factor = 0.03 * (text=='ns') + 0.000 * (text!='ns')\n",
    "            YposText = currentHeight + factor*refHeight\n",
    "        ax.text(XposText, YposText, text, ha = 'center', color = 'k')\n",
    "#         if text=='ns':\n",
    "#             ax.text(posText, currentHeight + 0.025*refHeight, text, ha = 'center')\n",
    "#         else:\n",
    "#             ax.text(posText, currentHeight, text, ha = 'center')\n",
    "        if scale == 'log':\n",
    "            currentHeight = currentHeight*(refHeight**0.05)\n",
    "        else:\n",
    "            currentHeight =  currentHeight + 0.15*refHeight\n",
    "    ax.set_ylim([ax.get_ylim()[0], currentHeight])\n",
    "    \n",
    "\n",
    "def getStyleCycle(co_order, styleDict):\n",
    "    colors = []\n",
    "    markers = []\n",
    "    linestyles = []\n",
    "    linewidth = []\n",
    "\n",
    "    for co in co_order:\n",
    "        coStyle = styleDict[co]\n",
    "        if 'color' in coStyle.keys():\n",
    "            colors.append(coStyle['color'])\n",
    "        else:\n",
    "            colors.append('')\n",
    "        if 'marker' in coStyle.keys():\n",
    "            markers.append(coStyle['marker'])\n",
    "        else:\n",
    "            markers.append('')\n",
    "        if 'linestyle' in coStyle.keys():\n",
    "            linestyles.append(coStyle['marker'])\n",
    "        else:\n",
    "            linestyles.append('')\n",
    "        if 'linewidth' in coStyle.keys():\n",
    "            linewidth.append(coStyle['linewidth'])\n",
    "        else:\n",
    "            linewidth.append(1)\n",
    "            \n",
    "    cc = (cycler(color=colors) +\n",
    "          cycler(linestyle=linestyles) +\n",
    "          cycler(marker=markers) +\n",
    "          cycler(linewidth=linewidth))\n",
    "            \n",
    "    return(cc)\n",
    "\n",
    "\n",
    "def getStyleLists(co_order, styleDict):\n",
    "    colors = []\n",
    "    markers = []\n",
    "    try:\n",
    "        for co in co_order:\n",
    "            coStyle = styleDict[co]\n",
    "            if 'color' in coStyle.keys():\n",
    "                colors.append(coStyle['color'])\n",
    "            else:\n",
    "                colors.append('')\n",
    "            if 'marker' in coStyle.keys():\n",
    "                markers.append(coStyle['marker'])\n",
    "            else:\n",
    "                markers.append('')\n",
    "        palette = sns.color_palette(colors)\n",
    "    except:\n",
    "        palette = sns.color_palette()\n",
    "    return(palette)\n",
    "\n",
    "\n",
    "def buildStyleDictMCA():\n",
    "    # TBC\n",
    "    styleDict = {}\n",
    "    return(styleDict)"
   ]
  },
  {
   "cell_type": "code",
   "execution_count": null,
   "metadata": {
    "scrolled": true
   },
   "outputs": [],
   "source": [
    "# Test getAggDf(df, cellID, CondCol, Variables)\n",
    "data = GlobalTable_meca_Py2\n",
    "\n",
    "Filters = [(data['validatedFit'] == True), (data['validatedThickness'] == True)]\n",
    "\n",
    "data_f = data\n",
    "for fltr in Filters:\n",
    "    data_f = data_f.loc[fltr]\n",
    "\n",
    "dfA = getAggDf(data_f, 'cellID', 'bead type', ['surroundingThickness', 'EChadwick'])\n",
    "dfA"
   ]
  },
  {
   "cell_type": "code",
   "execution_count": null,
   "metadata": {
    "code_folding": [
     0
    ]
   },
   "outputs": [],
   "source": [
    "# Test of the averaging per cell routine\n",
    "\n",
    "# data = GlobalTable_meca\n",
    "# CondCol='drug'\n",
    "# Parameters=['SurroundingThickness','EChadwick']\n",
    "# Filters = [(GlobalTable_meca['Validated'] == 1)]\n",
    "# AvgPerCell=True\n",
    "# cellID='CellName'\n",
    "\n",
    "# data_filtered = data\n",
    "# for fltr in Filters:\n",
    "#     data_filtered = data_filtered.loc[fltr]\n",
    "\n",
    "# group = data_filtered.groupby(cellID)\n",
    "# dictAggMean = getDictAggMean(data_filtered)\n",
    "# data_filtered = group.agg(dictAggMean.pop(cellID)) #.reset_index(level=0, inplace=True)\n",
    "# data_filtered.reset_index(level=0, inplace=True)\n",
    "# data_filtered=data_filtered[[cellID]+[CondCol]+Parameters]\n",
    "# print(data_filtered)"
   ]
  },
  {
   "cell_type": "code",
   "execution_count": null,
   "metadata": {
    "code_folding": [
     0
    ]
   },
   "outputs": [],
   "source": [
    "# Test of a routine to remove points of a list of XY positions where at least 1 of the coordinates is 'nan'\n",
    "\n",
    "# XYraw = np.array([[np.nan, 2, 3, np.nan, 5], [10,20,30,40,50]])\n",
    "# XYraw = XYraw.T\n",
    "# XY = XYraw[~np.isnan(XYraw).any(axis=1), :]\n",
    "# X, Y = XY[:,0], XY[:,1]\n",
    "# X, Y"
   ]
  },
  {
   "cell_type": "code",
   "execution_count": null,
   "metadata": {
    "code_folding": [
     0
    ]
   },
   "outputs": [],
   "source": [
    "# Test of a routine to double each element in a list ; example [1, 2, 3] -> [1, 1, 2, 2, 3, 3]\n",
    "\n",
    "# newnew_color_list = np.array([new_color_list, new_color_list])\n",
    "# custom_color_list = list(np.array([new_color_list, new_color_list]).flatten(order='F'))\n",
    "# custom_color_list"
   ]
  },
  {
   "cell_type": "code",
   "execution_count": null,
   "metadata": {
    "code_folding": [
     0
    ]
   },
   "outputs": [],
   "source": [
    "# Test of makeOrder function\n",
    "\n",
    "# print(makeOrder(['none','doxycyclin'],['BSA coated glass','20um fibronectin discs']))\n",
    "# print(makeOrder(['A','B']))\n",
    "# print(makeOrder(['A','B'], ['C','D']))\n",
    "# print(makeOrder(['A','B'], ['C','D'], ['E','F']))"
   ]
  },
  {
   "cell_type": "code",
   "execution_count": null,
   "metadata": {
    "code_folding": [
     0
    ]
   },
   "outputs": [],
   "source": [
    "# Test of makeBoxPairs function\n",
    "\n",
    "# O = makeOrder(['none','doxycyclin'],['BSA coated glass','20um fibronectin discs'])\n",
    "# makeBoxPairs(O)"
   ]
  },
  {
   "cell_type": "code",
   "execution_count": null,
   "metadata": {
    "code_folding": [
     0
    ]
   },
   "outputs": [],
   "source": [
    "# Test of custom cycles\n",
    "\n",
    "cc = (cycler(color=list('rgb')) +\n",
    "      cycler(linestyle=['', '', '']) +\n",
    "      cycler(marker=['o','*','<']) +\n",
    "     cycler(linewidth=[1,1,1]))\n",
    "cc\n",
    "\n",
    "# plt.rcParams['axes.prop_cycle'] = cc\n",
    "\n",
    "# fig, ax = plt.subplots()\n",
    "# for i in range(10):\n",
    "#     ax.plot([0,1], [0,i])\n",
    "# fig.show()"
   ]
  },
  {
   "cell_type": "code",
   "execution_count": null,
   "metadata": {},
   "outputs": [],
   "source": [
    "p = sns.color_palette(\"tab20\").as_hex()\n",
    "p[0]"
   ]
  },
  {
   "cell_type": "markdown",
   "metadata": {},
   "source": [
    "### Exploratory Graphs"
   ]
  },
  {
   "cell_type": "markdown",
   "metadata": {},
   "source": [
    "#### Classic"
   ]
  },
  {
   "cell_type": "code",
   "execution_count": null,
   "metadata": {},
   "outputs": [],
   "source": [
    "rawMecaTable = getGlobalTable_meca()\n",
    "# rawMecaTable.head()"
   ]
  },
  {
   "cell_type": "code",
   "execution_count": null,
   "metadata": {},
   "outputs": [],
   "source": [
    "# rawMecaTable.loc[]\n",
    "# Agréger tous les M450 WT sous un même nom"
   ]
  },
  {
   "cell_type": "code",
   "execution_count": null,
   "metadata": {},
   "outputs": [],
   "source": [
    "Filters = [(rawMecaTable['Validated'] == 1), ((rawMecaTable['ExpType'] == 'DictyDB_M450'))] #  | (rawMecaTable['ExpType'] == 'DictyDB_M450-Multi')\n",
    "co_order = makeOrder(['02s', '05s', '1s', '2s', '4s', '7s', '12s']) # co_order = co_order,\n",
    "fig, ax00 = D1Plot(rawMecaTable, CondCol=['TpsComp'],Parameters=['SurroundingThickness','EChadwick'], co_order = co_order,\\\n",
    "                   Filters=Filters,AvgPerCell=False,cellID='CellName',stats=False,figSizeFactor = 1.8,markerSizeFactor=0.5)\n",
    "fig.suptitle('M450, various rates')\n",
    "renameAxes(ax00,renameDict1)\n",
    "fig.show()"
   ]
  },
  {
   "cell_type": "code",
   "execution_count": null,
   "metadata": {},
   "outputs": [],
   "source": [
    "co_order"
   ]
  },
  {
   "cell_type": "code",
   "execution_count": null,
   "metadata": {},
   "outputs": [],
   "source": [
    "Filters = [(rawMecaTable['Validated'] == 1), ((rawMecaTable['ExpType'] == 'DictyDB_M270'))]\n",
    "fig, ax01 = D1Plot(rawMecaTable, CondCol=['TpsComp'],Parameters=['SurroundingThickness','EChadwick'],Filters=Filters,\\\n",
    "                   AvgPerCell=False,cellID='CellName',stats=False,figSizeFactor = 1.8,markerSizeFactor=0.5)\n",
    "fig.suptitle('M270, various rates')\n",
    "fig.show()"
   ]
  },
  {
   "cell_type": "code",
   "execution_count": null,
   "metadata": {},
   "outputs": [],
   "source": [
    "Filters = [(GlobalTable_ctField['validated'] == True), (GlobalTable_ctField['medianThickness'] <= 1000)]\n",
    "fig, ax = D1Plot(GlobalTable_ctField, CondCol=['drug','substrate'],Parameters=['medianThickness','fluctuAmpli'],Filters=Filters)\n",
    "fig.suptitle('3T3aSFL on patterns: Ct Field')\n",
    "fig.show()"
   ]
  },
  {
   "cell_type": "code",
   "execution_count": null,
   "metadata": {},
   "outputs": [],
   "source": [
    "Filters = [(GlobalTable_meca['Validated'] == 1), (GlobalTable_meca['cell subtype'] == 'aSFL')]\n",
    "co_order = makeOrder(['none','doxycyclin'],['BSA coated glass','20um fibronectin discs'])\n",
    "fig, ax = D1Plot(GlobalTable_meca, CondCol=['drug','substrate'],Parameters=['SurroundingThickness','EChadwick'],Filters=Filters,AvgPerCell=True,cellID='CellName', co_order=co_order)\n",
    "fig.suptitle('3T3aSFL on diverse substrates: Compressions')\n",
    "fig.show()"
   ]
  },
  {
   "cell_type": "code",
   "execution_count": null,
   "metadata": {},
   "outputs": [],
   "source": [
    "Filters = [(GlobalTable_meca['Validated'] == 1), (GlobalTable_meca['cell subtype'] == 'aSFL-6FP')]\n",
    "fig, ax = D1Plot(GlobalTable_meca, CondCol=['drug','substrate'],Parameters=['SurroundingThickness','EChadwick'],Filters=Filters,AvgPerCell=True,cellID='CellName')\n",
    "fig.suptitle('3T3aSFL on patterns: Compressions')\n",
    "fig.show()"
   ]
  },
  {
   "cell_type": "code",
   "execution_count": null,
   "metadata": {},
   "outputs": [],
   "source": [
    "Filters = [(GlobalTable_meca['Validated'] == 1), (GlobalTable_meca['substrate'] == '20um fibronectin discs')]\n",
    "co_order = makeOrder([['aSFL','aSFL-6FP'],['none','doxycyclin']])\n",
    "fig, ax = D1Plot(GlobalTable_meca, CondCol=['cell subtype','drug'],Parameters=['SurroundingThickness','EChadwick'],Filters=Filters,AvgPerCell=True,cellID='CellName',co_order=co_order)\n",
    "fig.suptitle('3T3aSFL on diverse substrates: Compressions')\n",
    "fig.show()"
   ]
  },
  {
   "cell_type": "code",
   "execution_count": null,
   "metadata": {},
   "outputs": [],
   "source": [
    "Filters = [(GlobalTable_meca['Validated'] == 1), (GlobalTable_meca['substrate'] == '20um fibronectin discs')]\n",
    "co_order = makeOrder([['aSFL','aSFL-6FP'],['none','doxycyclin']])\n",
    "fig, ax = D1Plot(GlobalTable_meca, CondCol=['cell subtype','drug'],Parameters=['SurroundingThickness','EChadwick'],Filters=Filters,AvgPerCell=True,cellID='CellName',co_order=co_order)\n",
    "fig.suptitle('3T3aSFL SHORT vs LONG linker: Compressions')\n",
    "fig.show()"
   ]
  },
  {
   "cell_type": "code",
   "execution_count": null,
   "metadata": {},
   "outputs": [],
   "source": [
    "Filters = [(GlobalTable_ctField['validated'] == True), (GlobalTable_ctField['cell subtype'] == 'aSFL')]\n",
    "fig, ax = D2Plot(GlobalTable_ctField, XCol='medianThickness',YCol='fluctuAmpli',CondCol = ['drug'], Filters=Filters, modelFit=True)\n",
    "fig.suptitle('3T3aSFL - Dh = f(H)')\n",
    "archiveFig(fig, ax, name='aSFL_Dh(h)_drug', figDir = todayFigDir, figSubDir='ThicknessPlots')\n",
    "fig.show()"
   ]
  },
  {
   "cell_type": "code",
   "execution_count": null,
   "metadata": {},
   "outputs": [],
   "source": [
    "# Same as above without the 2 thickest cells\n",
    "Filters = [(GlobalTable_ctField['validated'] == True), (GlobalTable_ctField['cell subtype'] == 'aSFL'), (GlobalTable_ctField['medianThickness'] <= 700)]\n",
    "fig, ax = D2Plot(GlobalTable_ctField, XCol='medianThickness',YCol='fluctuAmpli',CondCol = ['drug'], Filters=Filters, modelFit=True)\n",
    "fig.suptitle('3T3aSFL - Dh = f(H)')\n",
    "archiveFig(fig, ax, name='aSFL_Dh(h)_drug_wo2LastPoints', figDir = todayFigDir, figSubDir='ThicknessPlots')\n",
    "fig.show()"
   ]
  },
  {
   "cell_type": "code",
   "execution_count": null,
   "metadata": {},
   "outputs": [],
   "source": [
    "Filters = [(GlobalTable_meca['Validated'] == True), (GlobalTable_meca['cell subtype'] == 'aSFL')]\n",
    "fig, ax = D2Plot(GlobalTable_meca, XCol='SurroundingThickness',YCol='EChadwick',CondCol = ['substrate','drug'],\\\n",
    "           Filters=Filters, cellID = 'CellName', AvgPerCell=True, modelFit=False, modelType='y=A*exp(kx)', yscale = 'log')\n",
    "fig.suptitle('3T3aSFL: E(h)')\n",
    "renameAxes(ax,renameDict1)\n",
    "ax.legend(loc='upper right')\n",
    "archiveFig(fig, ax, name='aSFL_E(h)_drug&substrate_01', figDir = todayFigDir, figSubDir='')\n",
    "fig.show()"
   ]
  },
  {
   "cell_type": "code",
   "execution_count": null,
   "metadata": {},
   "outputs": [],
   "source": [
    "Filters = [(GlobalTable_meca['Validated'] == True), (GlobalTable_meca['cell subtype'] == 'aSFL'), (GlobalTable_meca['substrate'] == '20um fibronectin discs')]\n",
    "fig, ax = D2Plot(GlobalTable_meca, XCol='SurroundingThickness',YCol='EChadwick',CondCol = ['substrate','drug'],\\\n",
    "           Filters=Filters, cellID = 'CellName', AvgPerCell=False, modelFit=False, modelType='y=A*exp(kx)', xscale = 'log', \\\n",
    "                 yscale = 'log')\n",
    "fig.suptitle('3T3aSFL: E(h)')\n",
    "renameAxes(ax,renameDict1)\n",
    "ax.set_xlim([90, 1500])\n",
    "ax.legend(loc='upper right')\n",
    "archiveFig(fig, ax, name='aSFL_E(h)_drug&substrate_00_allComp', figDir = todayFigDir, figSubDir='')\n",
    "fig.show()"
   ]
  },
  {
   "cell_type": "code",
   "execution_count": null,
   "metadata": {},
   "outputs": [],
   "source": [
    "Filters = [(GlobalTable_meca['Validated'] == True), (GlobalTable_meca['substrate'] == '20um fibronectin discs')]\n",
    "fig, ax = D2Plot(GlobalTable_meca, XCol='SurroundingThickness',YCol='EChadwick',CondCol = ['cell subtype','drug'],\\\n",
    "           Filters=Filters, cellID = 'CellName', AvgPerCell=True, modelFit=False, modelType='y=A*exp(kx)', yscale = 'log')\n",
    "fig.suptitle('3T3aSFL: E(h)')\n",
    "renameAxes(ax,renameDict1)\n",
    "ax.legend(loc='upper right')\n",
    "archiveFig(fig, ax, name='aSFL_E(h)_drug&substrate_02', figDir = todayFigDir, figSubDir='')\n",
    "fig.show()"
   ]
  },
  {
   "cell_type": "code",
   "execution_count": null,
   "metadata": {},
   "outputs": [],
   "source": [
    "Filters = [(GlobalTable_meca['Validated'] == True), (GlobalTable_meca['substrate'] == '20um fibronectin discs')]\n",
    "fig, ax = D2Plot(GlobalTable_meca, XCol='SurroundingThickness',YCol='EChadwick',CondCol = ['cell subtype','drug'],\\\n",
    "           Filters=Filters, cellID = 'CellName', AvgPerCell=False, modelFit=False, modelType='y=A*exp(kx)', yscale = 'log')\n",
    "fig.suptitle('3T3aSFL: E(h)')\n",
    "renameAxes(ax,renameDict1)\n",
    "ax.legend(loc='upper right')\n",
    "archiveFig(fig, ax, name='aSFL_E(h)_drug&substrate_02_allComp', figDir = todayFigDir, figSubDir='')\n",
    "fig.show()"
   ]
  },
  {
   "cell_type": "code",
   "execution_count": null,
   "metadata": {},
   "outputs": [],
   "source": [
    "co_o = ['BSA coated glass & none', 'BSA coated glass & doxycyclin', '20um fibronectin discs & doxycyclin', '20um fibronectin discs & none']\n",
    "# getStyleLists(co_o, styleDict1)\n",
    "sns.color_palette(['#ff9896', '#d62728', '#1f77b4', '#aec7e8'])"
   ]
  },
  {
   "cell_type": "code",
   "execution_count": null,
   "metadata": {},
   "outputs": [],
   "source": [
    "Filters = [(GlobalTable_meca['Validated'] == True), (GlobalTable_meca['cell subtype'] == 'aSFL')]\n",
    "fig, ax = D2Plot(GlobalTable_meca, XCol='SurroundingThickness',YCol='EChadwick',CondCol = ['substrate','drug'],\\\n",
    "           Filters=Filters, cellID = 'CellName', AvgPerCell=True, modelFit=False, modelType='y=A*exp(kx)', yscale = 'log')\n",
    "fig.suptitle('3T3aSFL: E(h)')\n",
    "ax.legend(loc='upper right')\n",
    "archiveFig(fig, ax, name='aSFL_E(h)_drug&substrate', figDir = todayFigDir, figSubDir='')\n",
    "fig.show()"
   ]
  },
  {
   "cell_type": "code",
   "execution_count": null,
   "metadata": {},
   "outputs": [],
   "source": [
    "# xticksTextObject = ax.get_xticklabels()\n",
    "# xticksList = [xticksTextObject[j].get_text() for j in range(len(xticksTextObject))]\n",
    "# newXticksList = [renameDict1.get(k, k) for k in xticksList]\n",
    "# newXticksList"
   ]
  },
  {
   "cell_type": "code",
   "execution_count": null,
   "metadata": {},
   "outputs": [],
   "source": [
    "Filters = [(GlobalTable_meca_Py['validatedFit'] == True), (GlobalTable_meca_Py['validatedThickness'] == True), (GlobalTable_meca_Py['substrate'] == '20um fibronectin discs')]\n",
    "co_order = makeOrder(['aSFL','aSFL-A8','aSFL-6FP'], ['none','doxycyclin'])\n",
    "box_pairs=[('aSFL & none', 'aSFL & doxycyclin'),\n",
    " ('aSFL-A8 & none', 'aSFL-A8 & doxycyclin'),\n",
    " ('aSFL-6FP & none', 'aSFL-6FP & doxycyclin'),\n",
    " ('aSFL & none', 'aSFL-A8 & none'),\n",
    " ('aSFL & none', 'aSFL-6FP & none')]\n",
    "fig, ax = D1Plot(GlobalTable_meca_Py, CondCol=['cell subtype','drug'],Parameters=['surroundingThickness','EChadwick'],\\\n",
    "                 Filters=Filters,AvgPerCell=False,cellID='cellID',co_order=co_order,box_pairs=box_pairs,stats=True)\n",
    "renameAxes(ax,renameDict1)\n",
    "fig.suptitle('3T3aSFL - All linker types: All Compressions')\n",
    "fig.show()"
   ]
  },
  {
   "cell_type": "markdown",
   "metadata": {},
   "source": [
    "#### Big vs Small Beads, new code"
   ]
  },
  {
   "cell_type": "markdown",
   "metadata": {},
   "source": [
    "##### Oct-2021"
   ]
  },
  {
   "cell_type": "code",
   "execution_count": null,
   "metadata": {},
   "outputs": [],
   "source": [
    "figSubDir = 'BigVsSmallPlots'"
   ]
  },
  {
   "cell_type": "code",
   "execution_count": null,
   "metadata": {
    "scrolled": true
   },
   "outputs": [],
   "source": [
    "GlobalTable_meca_Py2.tail()"
   ]
  },
  {
   "cell_type": "code",
   "execution_count": null,
   "metadata": {},
   "outputs": [],
   "source": [
    "Filters = [(GlobalTable_meca_Py2['validatedFit'] == True), \n",
    "           (GlobalTable_meca_Py2['validatedThickness'] == True), \n",
    "           (GlobalTable_meca_Py2['substrate'] == '20um fibronectin discs'),\n",
    "           (GlobalTable_meca_Py2['date_x'].apply(lambda x : x in ['21-10-18', '21-10-25']))]\n",
    "co_order = makeOrder(['M270','M450'])\n",
    "\n",
    "fig, ax = D1Plot(GlobalTable_meca_Py2, CondCol=['bead type'],Parameters=['ctFieldThickness','EChadwick_f<150pN'],\\\n",
    "                 Filters=Filters,AvgPerCell=True,cellID='cellID',co_order=co_order,stats=True, useHue = True)\n",
    "renameAxes(ax,renameDict1)\n",
    "fig.suptitle('3T3aSFL - Oct 21 experiment, bead types')\n",
    "# archiveFig(fig, ax, name='3T3aSFL_Oct21_M450-1-10_vs_M270-5-40', figSubDir = figSubDir)\n",
    "fig.show()"
   ]
  },
  {
   "cell_type": "code",
   "execution_count": null,
   "metadata": {},
   "outputs": [],
   "source": [
    "Filters = [(GlobalTable_meca_Py2['validatedFit'] == True), \n",
    "           (GlobalTable_meca_Py2['validatedThickness'] == True), \n",
    "           (GlobalTable_meca_Py2['substrate'] == '20um fibronectin discs'),\n",
    "           (GlobalTable_meca_Py2['date_x'].apply(lambda x : x in ['21-10-18', '21-10-25'])),\n",
    "           (GlobalTable_meca_Py2['ctFieldThickness'] < 400),\n",
    "          (GlobalTable_meca_Py2['ctFieldThickness'] > 200)]\n",
    "co_order = makeOrder(['M270','M450'])\n",
    "\n",
    "fig, ax = D1Plot(GlobalTable_meca_Py2, CondCol=['bead type'],Parameters=['ctFieldThickness','EChadwick_f<150pN'],\\\n",
    "                 Filters=Filters,AvgPerCell=True,cellID='cellID',co_order=co_order,stats=True, useHue = True)\n",
    "renameAxes(ax,renameDict1)\n",
    "fig.suptitle('3T3aSFL - Oct 21 experiment, bead types, 200-400nm')\n",
    "# archiveFig(fig, ax, name='3T3aSFL_Oct21_M450-1-10_vs_M270-5-40_h=200-400nm', figSubDir = figSubDir)\n",
    "fig.show()"
   ]
  },
  {
   "cell_type": "code",
   "execution_count": null,
   "metadata": {},
   "outputs": [],
   "source": [
    "Filters = [(GlobalTable_meca_Py2['validatedFit'] == True), \n",
    "           (GlobalTable_meca_Py2['validatedThickness'] == True), \n",
    "           (GlobalTable_meca_Py2['substrate'] == '20um fibronectin discs'),\n",
    "           (GlobalTable_meca_Py2['date_x'].apply(lambda x : x in ['21-10-18', '21-10-25'])),\n",
    "           (GlobalTable_meca_Py2['ctFieldThickness'] < 600),\n",
    "          (GlobalTable_meca_Py2['ctFieldThickness'] > 400)]\n",
    "co_order = makeOrder(['M270','M450'])\n",
    "\n",
    "fig, ax = D1Plot(GlobalTable_meca_Py2, CondCol=['bead type'],Parameters=['ctFieldThickness','EChadwick_f<150pN'],\\\n",
    "                 Filters=Filters,AvgPerCell=True,cellID='cellID',co_order=co_order,stats=True, useHue = True)\n",
    "renameAxes(ax,renameDict1)\n",
    "fig.suptitle('3T3aSFL - Oct 21 experiment, bead types, 400-600nm')\n",
    "archiveFig(fig, ax, name='3T3aSFL_Oct21_M450-1-10_vs_M270-5-40_h=400-600nm', figSubDir = figSubDir)\n",
    "fig.show()"
   ]
  },
  {
   "cell_type": "code",
   "execution_count": null,
   "metadata": {},
   "outputs": [],
   "source": [
    "Filters = [(GlobalTable_meca_Py2['validatedFit'] == True), \n",
    "           (GlobalTable_meca_Py2['validatedThickness'] == True), \n",
    "           (GlobalTable_meca_Py2['substrate'] == '20um fibronectin discs'),\n",
    "           (GlobalTable_meca_Py2['date_x'].apply(lambda x : x in ['21-10-18', '21-10-25'])),\n",
    "           (GlobalTable_meca_Py2['ctFieldThickness'] < 1000),\n",
    "          (GlobalTable_meca_Py2['ctFieldThickness'] > 600)]\n",
    "co_order = makeOrder(['M270','M450'])\n",
    "\n",
    "fig, ax = D1Plot(GlobalTable_meca_Py2, CondCol=['bead type'],Parameters=['ctFieldThickness','EChadwick_f<150pN'],\\\n",
    "                 Filters=Filters,AvgPerCell=True,cellID='cellID',co_order=co_order,stats=True, useHue = True)\n",
    "renameAxes(ax,renameDict1)\n",
    "fig.suptitle('3T3aSFL - Oct 21 experiment, bead types, 600-1000nm')\n",
    "# archiveFig(fig, ax, name='3T3aSFL_Oct21_M450-1-10_vs_M270-5-40_h=600-1000nm', figSubDir = figSubDir)\n",
    "fig.show()"
   ]
  },
  {
   "cell_type": "code",
   "execution_count": null,
   "metadata": {},
   "outputs": [],
   "source": [
    "# GlobalTable_meca_Py2"
   ]
  },
  {
   "cell_type": "code",
   "execution_count": null,
   "metadata": {},
   "outputs": [],
   "source": [
    "Filters = [(GlobalTable_meca_Py2['validatedFit'] == True), \n",
    "           (GlobalTable_meca_Py2['validatedThickness'] == True), \n",
    "           (GlobalTable_meca_Py2['substrate'] == '20um fibronectin discs'),\n",
    "           (GlobalTable_meca_Py2['date_x'].apply(lambda x : x in ['21-10-18', '21-10-25']))]\n",
    "fig, ax = D2Plot(GlobalTable_meca_Py2, XCol='ctFieldThickness',YCol='EChadwick_f<150pN',CondCol = ['bead type'],\\\n",
    "           Filters=Filters, cellID = 'cellID', AvgPerCell=True, modelFit=False, modelType='y=A*exp(kx)',xscale = 'log', yscale = 'log')\n",
    "fig.suptitle('3T3aSFL: E(h)')\n",
    "# archiveFig(fig, ax, name='E(h)_3T3aSFL_Oct21_M450-1-10_vs_M270-5-40', figDir = todayFigDir, figSubDir=figSubDir)\n",
    "fig.show()"
   ]
  },
  {
   "cell_type": "code",
   "execution_count": null,
   "metadata": {},
   "outputs": [],
   "source": [
    "Filters = [(GlobalTable_meca_Py2['validatedFit'] == True), \n",
    "           (GlobalTable_meca_Py2['validatedThickness'] == True), \n",
    "           (GlobalTable_meca_Py2['substrate'] == '20um fibronectin discs'),\n",
    "           (GlobalTable_meca_Py2['date_x'].apply(lambda x : x in ['21-10-18', '21-10-25']))]\n",
    "fig, ax = D2Plot(GlobalTable_meca_Py2, XCol='surroundingDz',YCol='surroundingDx',CondCol = ['bead type'],\\\n",
    "           Filters=Filters, cellID = 'cellID', AvgPerCell=False, modelFit=False, xscale = 'lin', yscale = 'lin')\n",
    "fig.suptitle('3T3aSFL: dz(dx) - all compressions')\n",
    "# archiveFig(fig, ax, name='dz(dx)_3T3aSFL_Oct21_M450-1-10_vs_M270-5-40', figDir = todayFigDir, figSubDir=figSubDir)\n",
    "fig.show()"
   ]
  },
  {
   "cell_type": "code",
   "execution_count": null,
   "metadata": {},
   "outputs": [],
   "source": [
    "Filters = [(GlobalTable_meca_Py2['validatedFit'] == True), \n",
    "           (GlobalTable_meca_Py2['validatedThickness'] == True), \n",
    "           (GlobalTable_meca_Py2['substrate'] == '20um fibronectin discs'),\n",
    "           (GlobalTable_meca_Py2['date_x'].apply(lambda x : x in ['21-10-18', '21-10-25']))]\n",
    "fig, ax = D2Plot(GlobalTable_meca_Py2, XCol='ctFieldDZ',YCol='ctFieldDX',CondCol = ['bead type'],\\\n",
    "           Filters=Filters, cellID = 'cellID', AvgPerCell=True, modelFit=False, xscale = 'lin', yscale = 'lin')\n",
    "fig.suptitle('3T3aSFL: dz(dx) - median per cell')\n",
    "# archiveFig(fig, ax, name='DZ(DX)_3T3aSFL_Oct21_M450-1-10_vs_M270-5-40', figDir = todayFigDir, figSubDir=figSubDir)\n",
    "fig.show()"
   ]
  },
  {
   "cell_type": "markdown",
   "metadata": {},
   "source": [
    "##### Compute nice field range matching stress-wise"
   ]
  },
  {
   "cell_type": "code",
   "execution_count": null,
   "metadata": {},
   "outputs": [],
   "source": [
    "def computeMag_M270(B):\n",
    "    M = 0.74257*1.05*1600 * (0.001991*B**3 + 17.54*B**2 + 153.4*B) / (B**2 + 35.53*B + 158.1)\n",
    "    return(M)\n",
    "\n",
    "def computeMag_M450(B):\n",
    "    M = 1.05*1600 * (0.001991*B**3 + 17.54*B**2 + 153.4*B) / (B**2 + 35.53*B + 158.1)\n",
    "    return(M)\n",
    "\n",
    "h0 = 500\n",
    "B_M270 = 50\n",
    "B_M450 = 8.5\n",
    "anglefactor = 2\n",
    "V_M270 = (4/3)*np.pi*(2690/2)**3 # volume [nm^3]\n",
    "V_M450 = (4/3)*np.pi*(4503/2)**3 # volume [nm^3]\n",
    "m_M270 = computeMag_M270(B_M270) * 1e-9 * V_M270\n",
    "m_M450 = computeMag_M450(B_M450) * 1e-9 * V_M450\n",
    "D3nm_270 = np.arange(1, h0, 1, dtype = float) + 2690\n",
    "D3nm_450 = np.arange(1, h0, 1, dtype = float) + 4503\n",
    "F_270 = 3e5*anglefactor*m_M270**2/D3nm_270**4\n",
    "F_450 = 3e5*anglefactor*m_M450**2/D3nm_450**4\n",
    "\n",
    "s_270 = F_270[:-20]/((2690/2e6)*(h0+2690-D3nm_270[:-20]))\n",
    "s_450 = F_450[:-20]/((4503/2e6)*(h0+4503-D3nm_450[:-20]))\n",
    "\n",
    "fig, ax = plt.subplots(2,1, figsize = (8, 8))\n",
    "ax[0].plot(D3nm_270-2690, F_270, 'c', label = 'M270 - B='+str(B_M270)+'mT')\n",
    "ax[0].plot(D3nm_450-4503, F_450, 'r', label = 'M450 - B='+str(B_M450)+'mT')\n",
    "ax[0].legend()\n",
    "ax[0].set_ylabel('F (pN)')\n",
    "ax[1].plot(D3nm_270[:-20]-2690, s_270, 'c', label = 'M270 - B='+str(B_M270)+'mT')\n",
    "ax[1].plot(D3nm_450[:-20]-4503, s_450, 'r', label = 'M450 - B='+str(B_M450)+'mT')\n",
    "# ax[1].plot(ax[1].get_xlim(), [60, 60], 'k--')\n",
    "ax[1].legend()\n",
    "ax[1].set_ylabel('sigma for h0=' + str(h0) + 'nm (Pa)')\n",
    "fig.suptitle('Understanding the stress range mismatch\\nTest', fontsize = 16)\n",
    "#archiveFig(fig, ax, name='Mismatch_3T3aSFL_Test2', figDir = todayFigDir, figSubDir=figSubDir)\n",
    "fig.show()"
   ]
  },
  {
   "cell_type": "code",
   "execution_count": null,
   "metadata": {},
   "outputs": [],
   "source": [
    "def computeMag_M270(B):\n",
    "    M = 0.74257*1.05*1600 * (0.001991*B**3 + 17.54*B**2 + 153.4*B) / (B**2 + 35.53*B + 158.1)\n",
    "    return(M)\n",
    "\n",
    "def computeMag_M450(B):\n",
    "    M = 1.05*1600 * (0.001991*B**3 + 17.54*B**2 + 153.4*B) / (B**2 + 35.53*B + 158.1)\n",
    "    return(M)\n",
    "\n",
    "h0 = 500\n",
    "B_M270 = 5\n",
    "B_M450 = 5\n",
    "anglefactor = 2\n",
    "V_M270 = (4/3)*np.pi*(2690/2)**3 # volume [nm^3]\n",
    "V_M450 = (4/3)*np.pi*(4503/2)**3 # volume [nm^3]\n",
    "m_M270 = computeMag_M270(B_M270) * 1e-9 * V_M270\n",
    "m_M450 = computeMag_M450(B_M450) * 1e-9 * V_M450\n",
    "D3nm_270 = np.arange(1, h0, 1, dtype = float) + 2690\n",
    "D3nm_450 = np.arange(1, h0, 1, dtype = float) + 4503\n",
    "F_270 = 3e5*anglefactor*m_M270**2/D3nm_270**4\n",
    "F_450 = 3e5*anglefactor*m_M450**2/D3nm_450**4\n",
    "\n",
    "s_270 = F_270[:-20]/((2690/2e6)*(h0+2690-D3nm_270[:-20]))\n",
    "s_450 = F_450[:-20]/((4503/2e6)*(h0+4503-D3nm_450[:-20]))\n",
    "\n",
    "fig, ax = plt.subplots(2,1, figsize = (8, 8))\n",
    "ax[0].plot(D3nm_270-2690, F_270, 'c', label = 'M270 - B='+str(B_M270)+'mT')\n",
    "ax[0].plot(D3nm_450-4503, F_450, 'r', label = 'M450 - B='+str(B_M450)+'mT')\n",
    "ax[0].legend()\n",
    "ax[0].set_ylabel('F (pN)')\n",
    "ax[1].plot(D3nm_270[:-20]-2690, s_270, 'c', label = 'M270 - B='+str(B_M270)+'mT')\n",
    "ax[1].plot(D3nm_450[:-20]-4503, s_450, 'r', label = 'M450 - B='+str(B_M450)+'mT')\n",
    "ax[1].legend()\n",
    "ax[1].set_ylabel('sigma for h0=' + str(h0) + 'nm (Pa)')\n",
    "fig.suptitle('Understanding the stress range mismatch\\nValue used for standard experiments : 5mT', fontsize = 16)\n",
    "#archiveFig(fig, ax, name='Mismatch_3T3aSFL_Oct21_M450_5mT-vs-M270_5mT', figDir = todayFigDir, figSubDir=figSubDir)\n",
    "fig.show()"
   ]
  },
  {
   "cell_type": "code",
   "execution_count": null,
   "metadata": {},
   "outputs": [],
   "source": [
    "def computeMag_M270(B):\n",
    "    M = 0.74257*1.05*1600 * (0.001991*B**3 + 17.54*B**2 + 153.4*B) / (B**2 + 35.53*B + 158.1)\n",
    "    return(M)\n",
    "\n",
    "def computeMag_M450(B):\n",
    "    M = 1.05*1600 * (0.001991*B**3 + 17.54*B**2 + 153.4*B) / (B**2 + 35.53*B + 158.1)\n",
    "    return(M)\n",
    "\n",
    "h0 = 500\n",
    "B_M270 = 5\n",
    "B_M450 = 1\n",
    "anglefactor = 2\n",
    "V_M270 = (4/3)*np.pi*(2690/2)**3 # volume [nm^3]\n",
    "V_M450 = (4/3)*np.pi*(4503/2)**3 # volume [nm^3]\n",
    "m_M270 = computeMag_M270(B_M270) * 1e-9 * V_M270\n",
    "m_M450 = computeMag_M450(B_M450) * 1e-9 * V_M450\n",
    "D3nm_270 = np.arange(1, h0, 1, dtype = float) + 2690\n",
    "D3nm_450 = np.arange(1, h0, 1, dtype = float) + 4503\n",
    "F_270 = 3e5*anglefactor*m_M270**2/D3nm_270**4\n",
    "F_450 = 3e5*anglefactor*m_M450**2/D3nm_450**4\n",
    "\n",
    "s_270 = F_270[:-20]/((2690/2e6)*(h0+2690-D3nm_270[:-20]))\n",
    "s_450 = F_450[:-20]/((4503/2e6)*(h0+4503-D3nm_450[:-20]))\n",
    "\n",
    "fig, ax = plt.subplots(2,1, figsize = (8, 8))\n",
    "ax[0].plot(D3nm_270-2690, F_270, 'c', label = 'M270 - B='+str(B_M270)+'mT')\n",
    "ax[0].plot(D3nm_450-4503, F_450, 'r', label = 'M450 - B='+str(B_M450)+'mT')\n",
    "ax[0].legend()\n",
    "ax[0].set_ylabel('F (pN)')\n",
    "ax[1].plot(D3nm_270[:-20]-2690, s_270, 'c', label = 'M270 - B='+str(B_M270)+'mT')\n",
    "ax[1].plot(D3nm_450[:-20]-4503, s_450, 'r', label = 'M450 - B='+str(B_M450)+'mT')\n",
    "# ax[1].plot(ax[1].get_xlim(), [60, 60], 'k--')\n",
    "ax[1].legend()\n",
    "ax[1].set_ylabel('sigma for h0=' + str(h0) + 'nm (Pa)')\n",
    "fig.suptitle('Understanding the stress range mismatch\\nValues used for october 2021 experiment', fontsize = 16)\n",
    "#archiveFig(fig, ax, name='Mismatch_3T3aSFL_Oct21_M450_1mT-vs-M270_5mT', figDir = todayFigDir, figSubDir=figSubDir)\n",
    "fig.show()"
   ]
  },
  {
   "cell_type": "code",
   "execution_count": null,
   "metadata": {},
   "outputs": [],
   "source": [
    "def computeMag_M270(B):\n",
    "    M = 0.74257*1.05*1600 * (0.001991*B**3 + 17.54*B**2 + 153.4*B) / (B**2 + 35.53*B + 158.1)\n",
    "    return(M)\n",
    "\n",
    "def computeMag_M450(B):\n",
    "    M = 1.05*1600 * (0.001991*B**3 + 17.54*B**2 + 153.4*B) / (B**2 + 35.53*B + 158.1)\n",
    "    return(M)\n",
    "\n",
    "h0 = 500\n",
    "B_M270 = 14\n",
    "B_M450 = 5\n",
    "anglefactor = 2\n",
    "V_M270 = (4/3)*np.pi*(2690/2)**3 # volume [nm^3]\n",
    "V_M450 = (4/3)*np.pi*(4503/2)**3 # volume [nm^3]\n",
    "m_M270 = computeMag_M270(B_M270) * 1e-9 * V_M270\n",
    "m_M450 = computeMag_M450(B_M450) * 1e-9 * V_M450\n",
    "D3nm_270 = np.arange(1, h0, 1, dtype = float) + 2690\n",
    "D3nm_450 = np.arange(1, h0, 1, dtype = float) + 4503\n",
    "F_270 = 3e5*anglefactor*m_M270**2/D3nm_270**4\n",
    "F_450 = 3e5*anglefactor*m_M450**2/D3nm_450**4\n",
    "\n",
    "s_270 = F_270[:-20]/((2690/2e6)*(h0+2690-D3nm_270[:-20]))\n",
    "s_450 = F_450[:-20]/((4503/2e6)*(h0+4503-D3nm_450[:-20]))\n",
    "\n",
    "fig, ax = plt.subplots(2,1, figsize = (8, 8))\n",
    "ax[0].plot(D3nm_270-2690, F_270, 'c', label = 'M270 - B='+str(B_M270)+'mT')\n",
    "ax[0].plot(D3nm_450-4503, F_450, 'r', label = 'M450 - B='+str(B_M450)+'mT')\n",
    "ax[0].legend()\n",
    "ax[0].set_ylabel('F (pN)')\n",
    "ax[1].plot(D3nm_270[:-20]-2690, s_270, 'c', label = 'M270 - B='+str(B_M270)+'mT')\n",
    "ax[1].plot(D3nm_450[:-20]-4503, s_450, 'r', label = 'M450 - B='+str(B_M450)+'mT')\n",
    "ax[1].legend()\n",
    "ax[1].set_ylabel('sigma for h0=' + str(h0) + 'nm (Pa)')\n",
    "fig.suptitle('Understanding the stress range mismatch\\nProposition of values for a future experiment', fontsize = 16)\n",
    "# archiveFig(fig, ax, name='Mismatch_3T3aSFL_Oct21_M450_5mT-vs-M270_14mT', figDir = todayFigDir, figSubDir=figSubDir)\n",
    "fig.show()"
   ]
  },
  {
   "cell_type": "code",
   "execution_count": null,
   "metadata": {},
   "outputs": [],
   "source": [
    "def computeMag_M270(B):\n",
    "    M = 0.74257*1.05*1600 * (0.001991*B**3 + 17.54*B**2 + 153.4*B) / (B**2 + 35.53*B + 158.1)\n",
    "    return(M)\n",
    "\n",
    "def computeMag_M450(B):\n",
    "    M = 1.05*1600 * (0.001991*B**3 + 17.54*B**2 + 153.4*B) / (B**2 + 35.53*B + 158.1)\n",
    "    return(M)\n",
    "\n",
    "h0 = 500\n",
    "B_M270 = 54\n",
    "B_M450 = 13\n",
    "anglefactor = 2\n",
    "V_M270 = (4/3)*np.pi*(2690/2)**3 # volume [nm^3]\n",
    "V_M450 = (4/3)*np.pi*(4503/2)**3 # volume [nm^3]\n",
    "m_M270 = computeMag_M270(B_M270) * 1e-9 * V_M270\n",
    "m_M450 = computeMag_M450(B_M450) * 1e-9 * V_M450\n",
    "D3nm_270 = np.arange(1, h0, 1, dtype = float) + 2690\n",
    "D3nm_450 = np.arange(1, h0, 1, dtype = float) + 4503\n",
    "F_270 = 3e5*anglefactor*m_M270**2/D3nm_270**4\n",
    "F_450 = 3e5*anglefactor*m_M450**2/D3nm_450**4\n",
    "\n",
    "s_270 = F_270[:-20]/((2690/2e6)*(h0+2690-D3nm_270[:-20]))\n",
    "s_450 = F_450[:-20]/((4503/2e6)*(h0+4503-D3nm_450[:-20]))\n",
    "\n",
    "fig, ax = plt.subplots(2,1, figsize = (8, 8))\n",
    "ax[0].plot(D3nm_270-2690, F_270, 'c', label = 'M270 - B='+str(B_M270)+'mT')\n",
    "ax[0].plot(D3nm_450-4503, F_450, 'r', label = 'M450 - B='+str(B_M450)+'mT')\n",
    "ax[0].legend()\n",
    "ax[0].set_ylabel('F (pN)')\n",
    "ax[1].plot(D3nm_270[:-20]-2690, s_270, 'c', label = 'M270 - B='+str(B_M270)+'mT')\n",
    "ax[1].plot(D3nm_450[:-20]-4503, s_450, 'r', label = 'M450 - B='+str(B_M450)+'mT')\n",
    "ax[1].legend()\n",
    "ax[1].set_ylabel('sigma for h0=' + str(h0) + 'nm (Pa)')\n",
    "fig.suptitle('Understanding the stress range mismatch\\nProposition of values for a future experiment', fontsize = 16)\n",
    "# archiveFig(fig, ax, name='Mismatch_3T3aSFL_Oct21_M450_13mT-vs-M270_54mT', figDir = todayFigDir, figSubDir=figSubDir)\n",
    "fig.show()"
   ]
  },
  {
   "cell_type": "code",
   "execution_count": null,
   "metadata": {},
   "outputs": [],
   "source": [
    "def computeMag_M270(B):\n",
    "    M = 0.74257*1.05*1600 * (0.001991*B**3 + 17.54*B**2 + 153.4*B) / (B**2 + 35.53*B + 158.1)\n",
    "    return(M)\n",
    "\n",
    "def computeMag_M450(B):\n",
    "    M = 1.05*1600 * (0.001991*B**3 + 17.54*B**2 + 153.4*B) / (B**2 + 35.53*B + 158.1)\n",
    "    return(M)\n",
    "\n",
    "h0 = 500\n",
    "B_M270 = 2.1\n",
    "B_M450 = 1\n",
    "anglefactor = 2\n",
    "V_M270 = (4/3)*np.pi*(2690/2)**3 # volume [nm^3]\n",
    "V_M450 = (4/3)*np.pi*(4503/2)**3 # volume [nm^3]\n",
    "m_M270 = computeMag_M270(B_M270) * 1e-9 * V_M270\n",
    "m_M450 = computeMag_M450(B_M450) * 1e-9 * V_M450\n",
    "D3nm_270 = np.arange(1, h0, 1, dtype = float) + 2690\n",
    "D3nm_450 = np.arange(1, h0, 1, dtype = float) + 4503\n",
    "F_270 = 3e5*anglefactor*m_M270**2/D3nm_270**4\n",
    "F_450 = 3e5*anglefactor*m_M450**2/D3nm_450**4\n",
    "\n",
    "s_270 = F_270[:-20]/((2690/2e6)*(h0+2690-D3nm_270[:-20]))\n",
    "s_450 = F_450[:-20]/((4503/2e6)*(h0+4503-D3nm_450[:-20]))\n",
    "\n",
    "fig, ax = plt.subplots(2,1, figsize = (8, 8))\n",
    "ax[0].plot(D3nm_270-2690, F_270, 'c', label = 'M270 - B='+str(B_M270)+'mT')\n",
    "ax[0].plot(D3nm_450-4503, F_450, 'r', label = 'M450 - B='+str(B_M450)+'mT')\n",
    "ax[0].legend()\n",
    "ax[0].set_ylabel('F (pN)')\n",
    "ax[1].plot(D3nm_270[:-20]-2690, s_270, 'c', label = 'M270 - B='+str(B_M270)+'mT')\n",
    "ax[1].plot(D3nm_450[:-20]-4503, s_450, 'r', label = 'M450 - B='+str(B_M450)+'mT')\n",
    "ax[1].legend()\n",
    "ax[1].set_ylabel('sigma for h0=' + str(h0) + 'nm (Pa)')\n",
    "fig.suptitle('Understanding the stress range mismatch\\nProposition of values for a future experiment', fontsize = 16)\n",
    "# archiveFig(fig, ax, name='Mismatch_3T3aSFL_Oct21_M450_13mT-vs-M270_54mT', figDir = todayFigDir, figSubDir=figSubDir)\n",
    "fig.show()"
   ]
  },
  {
   "cell_type": "code",
   "execution_count": null,
   "metadata": {},
   "outputs": [],
   "source": [
    "Filters270 = [(GlobalTable_meca_Py2['validatedFit'] == True), \n",
    "           (GlobalTable_meca_Py2['validatedThickness'] == True),\\\n",
    "           (GlobalTable_meca_Py2['cell subtype'] == 'aSFL'), \n",
    "           (GlobalTable_meca_Py2['bead type'] == 'M270'), \n",
    "           (GlobalTable_meca_Py2['substrate'] == '20um fibronectin discs'),\n",
    "           (GlobalTable_meca_Py2['date_x'].apply(lambda x : x in ['21-10-18', '21-10-25']))]\n",
    "Filter270 = Filters270[0]\n",
    "for i in range(1, len(Filters270)):\n",
    "    Filter270 = Filter270 & Filters270[i]\n",
    "    \n",
    "Filters450 = [(GlobalTable_meca_Py2['validatedFit'] == True), \n",
    "           (GlobalTable_meca_Py2['validatedThickness'] == True),\\\n",
    "           (GlobalTable_meca_Py2['cell subtype'] == 'aSFL'), \n",
    "           (GlobalTable_meca_Py2['bead type'] == 'M450'), \n",
    "           (GlobalTable_meca_Py2['substrate'] == '20um fibronectin discs'),\n",
    "           (GlobalTable_meca_Py2['date_x'].apply(lambda x : x in ['21-10-18', '21-10-25']))]   \n",
    "Filter450 = Filters450[0]\n",
    "for i in range(1, len(Filters450)):\n",
    "    Filter450 = Filter450 & Filters450[i]\n",
    "    \n",
    "\n",
    "fig, ax = plt.subplots(1,2, figsize = (8, 6))\n",
    "GlobalTable_meca_Py2[Filter270].plot(kind = 'scatter', ax = ax[0], x = 'surroundingThickness', y = 'minS', marker = 'o', color = 'c', alpha = 0.3, label = 'Min stress')\n",
    "GlobalTable_meca_Py2[Filter270].plot(kind = 'scatter', ax = ax[0], x = 'surroundingThickness', y = 'maxS', marker = 'o', color = 'r', alpha = 0.3, label = 'Max stress')\n",
    "GlobalTable_meca_Py2[Filter450].plot(kind = 'scatter', ax = ax[1], x = 'surroundingThickness', y = 'minS', marker = 'o', color = 'c', alpha = 0.3, label = 'Min stress')\n",
    "GlobalTable_meca_Py2[Filter450].plot(kind = 'scatter', ax = ax[1], x = 'surroundingThickness', y = 'maxS', marker = 'o', color = 'r', alpha = 0.3, label = 'Max stress')\n",
    "ax[0].set_xlabel('Cortical thickness (nm)')\n",
    "ax[0].set_ylabel('Extremal stress values (Pa)')\n",
    "ax[0].set_ylim([0, 800])\n",
    "ax[0].set_xlim([0, 1200])\n",
    "ax[0].set_title('M270')\n",
    "ax[1].set_xlabel('Cortical thickness (nm)')\n",
    "ax[1].set_ylabel('Extremal stress values (Pa)')\n",
    "ax[1].set_ylim([0, 800])\n",
    "ax[1].set_xlim([0, 1200])\n",
    "ax[1].set_title('M450')\n",
    "fig.show()"
   ]
  },
  {
   "cell_type": "code",
   "execution_count": null,
   "metadata": {},
   "outputs": [],
   "source": [
    "fig, ax = plt.subplots(1,1, figsize = (8, 6))\n",
    "GlobalTable_meca_Py2[Filter270].plot(kind = 'scatter', ax = ax, x = 'surroundingThickness', y = 'minS', marker = 'o', color = 'c', alpha = 0.3, label = 'M270 - Min stress')\n",
    "GlobalTable_meca_Py2[Filter270].plot(kind = 'scatter', ax = ax, x = 'surroundingThickness', y = 'maxS', marker = 'o', color = 'orange', alpha = 0.3, label = 'M270 - Max stress')\n",
    "GlobalTable_meca_Py2[Filter450].plot(kind = 'scatter', ax = ax, x = 'surroundingThickness', y = 'minS', marker = 'o', color = 'b', alpha = 0.3, label = 'M450 - Min stress')\n",
    "GlobalTable_meca_Py2[Filter450].plot(kind = 'scatter', ax = ax, x = 'surroundingThickness', y = 'maxS', marker = 'o', color = 'r', alpha = 0.3, label = 'M450 - Max stress')\n",
    "ax.set_xlabel('Cortical thickness (nm)')\n",
    "ax.set_ylabel('Extremal stress values (Pa)')\n",
    "ax.set_ylim([0, 1000])\n",
    "ax.set_xlim([0, 1200])\n",
    "fig.show()"
   ]
  },
  {
   "cell_type": "markdown",
   "metadata": {},
   "source": [
    "##### Dec-2021"
   ]
  },
  {
   "cell_type": "code",
   "execution_count": null,
   "metadata": {},
   "outputs": [],
   "source": [
    "figSubDir = 'BigVsSmallPlots'"
   ]
  },
  {
   "cell_type": "code",
   "execution_count": null,
   "metadata": {},
   "outputs": [],
   "source": [
    "GlobalTable_meca_Py2.head()"
   ]
  },
  {
   "cell_type": "code",
   "execution_count": null,
   "metadata": {},
   "outputs": [],
   "source": [
    "Filters = [(GlobalTable_meca_Py2['validatedFit'] == True), \n",
    "           (GlobalTable_meca_Py2['validatedThickness'] == True), \n",
    "           (GlobalTable_meca_Py2['substrate'] == '20um fibronectin discs'),\n",
    "           (GlobalTable_meca_Py2['date_x'].apply(lambda x : x in ['21-12-08']))]\n",
    "co_order = makeOrder(['M270','M450'])\n",
    "\n",
    "fig, ax = D1Plot(GlobalTable_meca_Py2, CondCol=['bead type'],Parameters=['ctFieldThickness','EChadwick_f<150pN'],\\\n",
    "                 Filters=Filters,AvgPerCell=True,cellID='cellID',co_order=co_order,stats=True, useHue = True)\n",
    "renameAxes(ax,renameDict1)\n",
    "fig.suptitle('3T3aSFL - Dec 21 experiment, bead types')\n",
    "# archiveFig(fig, ax, name='3T3aSFL_Oct21_M450-1-10_vs_M270-5-40', figSubDir = figSubDir)\n",
    "fig.show()"
   ]
  },
  {
   "cell_type": "code",
   "execution_count": null,
   "metadata": {},
   "outputs": [],
   "source": [
    "Filters = [(GlobalTable_meca_Py2['validatedFit'] == True), \n",
    "           (GlobalTable_meca_Py2['validatedThickness'] == True), \n",
    "           (GlobalTable_meca_Py2['substrate'] == '20um fibronectin discs'),\n",
    "           (GlobalTable_meca_Py2['date_x'].apply(lambda x : x in ['21-12-16']))]\n",
    "co_order = makeOrder(['M270','M450'])\n",
    "\n",
    "fig, ax = D1Plot(GlobalTable_meca_Py2, CondCol=['bead type'],Parameters=['ctFieldThickness','EChadwick'],\\\n",
    "                 Filters=Filters,AvgPerCell=True,cellID='cellID',co_order=co_order,stats=True, useHue = True)\n",
    "renameAxes(ax,renameDict1)\n",
    "fig.suptitle('3T3aSFL - Dec 21 experiment, bead types')\n",
    "# archiveFig(fig, ax, name='3T3aSFL_Oct21_M450-1-10_vs_M270-5-40', figSubDir = figSubDir)\n",
    "fig.show()"
   ]
  },
  {
   "cell_type": "code",
   "execution_count": null,
   "metadata": {},
   "outputs": [],
   "source": [
    "Filters = [(GlobalTable_meca_Py2['validatedFit'] == True), \n",
    "           (GlobalTable_meca_Py2['validatedThickness'] == True), \n",
    "           (GlobalTable_meca_Py2['substrate'] == '20um fibronectin discs'),\n",
    "           (GlobalTable_meca_Py2['date_x'].apply(lambda x : x in ['21-12-08']))]\n",
    "\n",
    "co_order = makeOrder(['M270','M450'])\n",
    "\n",
    "fig, ax = D1Plot(GlobalTable_meca_Py2, CondCol=['bead type'],Parameters=['ctFieldThickness','EChadwick'],\\\n",
    "                 Filters=Filters,AvgPerCell=True,cellID='cellID',co_order=co_order,stats=True, useHue = True)\n",
    "renameAxes(ax,renameDict1)\n",
    "fig.suptitle('3T3aSFL, Dec 21 - Matching ranges of stress for 2 bead types\\nB{M270}=14>54mT ; B{M450}=5>13mT')\n",
    "# archiveFig(fig, ax, name='3T3aSFL_Oct21_M450-1-10_vs_M270-5-40', figSubDir = figSubDir)\n",
    "fig.show()"
   ]
  },
  {
   "cell_type": "code",
   "execution_count": null,
   "metadata": {},
   "outputs": [],
   "source": [
    "Filters = [(GlobalTable_meca_Py2['validatedFit'] == True), \n",
    "           (GlobalTable_meca_Py2['validatedThickness'] == True), \n",
    "           (GlobalTable_meca_Py2['substrate'] == '20um fibronectin discs'),\n",
    "           (GlobalTable_meca_Py2['date_x'].apply(lambda x : x in ['21-12-08'])),\n",
    "           (GlobalTable_meca_Py2['ctFieldThickness'] < 400),\n",
    "           (GlobalTable_meca_Py2['ctFieldThickness'] > 150)]\n",
    "\n",
    "co_order = makeOrder(['M270','M450'])\n",
    "\n",
    "fig, ax = D1Plot(GlobalTable_meca_Py2, CondCol=['bead type'],Parameters=['ctFieldThickness','EChadwick'],\\\n",
    "                 Filters=Filters,AvgPerCell=True,cellID='cellID',co_order=co_order,stats=True, useHue = True)\n",
    "renameAxes(ax,renameDict1)\n",
    "fig.suptitle('3T3aSFL, Dec 21 - Matching ranges of stress for 2 bead types\\nB{M270}=14>54mT ; B{M450}=5>13mT')\n",
    "# archiveFig(fig, ax, name='3T3aSFL_Oct21_M450-1-10_vs_M270-5-40', figSubDir = figSubDir)\n",
    "fig.show()"
   ]
  },
  {
   "cell_type": "code",
   "execution_count": null,
   "metadata": {},
   "outputs": [],
   "source": [
    "Filters = [(GlobalTable_meca_Py2['validatedFit'] == True), \n",
    "           (GlobalTable_meca_Py2['validatedThickness'] == True), \n",
    "           (GlobalTable_meca_Py2['substrate'] == '20um fibronectin discs'),\n",
    "           (GlobalTable_meca_Py2['date_x'].apply(lambda x : x in ['21-12-08'])),\n",
    "           (GlobalTable_meca_Py2['ctFieldThickness'] < 600),\n",
    "           (GlobalTable_meca_Py2['ctFieldThickness'] > 400)]\n",
    "\n",
    "co_order = makeOrder(['M270','M450'])\n",
    "\n",
    "fig, ax = D1Plot(GlobalTable_meca_Py2, CondCol=['bead type'],Parameters=['ctFieldThickness','EChadwick'],\\\n",
    "                 Filters=Filters,AvgPerCell=True,cellID='cellID',co_order=co_order,stats=True, useHue = True)\n",
    "renameAxes(ax,renameDict1)\n",
    "fig.suptitle('3T3aSFL, Dec 21 - Matching ranges of stress for 2 bead types\\nB{M270}=14>54mT ; B{M450}=5>13mT')\n",
    "# archiveFig(fig, ax, name='3T3aSFL_Oct21_M450-1-10_vs_M270-5-40', figSubDir = figSubDir)\n",
    "fig.show()"
   ]
  },
  {
   "cell_type": "code",
   "execution_count": null,
   "metadata": {},
   "outputs": [],
   "source": [
    "Filters = [(GlobalTable_meca_Py2['validatedFit'] == True), \n",
    "           (GlobalTable_meca_Py2['validatedThickness'] == True), \n",
    "           (GlobalTable_meca_Py2['substrate'] == '20um fibronectin discs'),\n",
    "           (GlobalTable_meca_Py2['date_x'].apply(lambda x : x in ['21-12-08']))]\n",
    "fig, ax = D2Plot(GlobalTable_meca_Py2, XCol='ctFieldThickness',YCol='EChadwick',CondCol = ['bead type'],\\\n",
    "           Filters=Filters, cellID = 'cellID', AvgPerCell=True, xscale = 'log', yscale = 'log')\n",
    "ax.set_ylabel('EChadwick (Pa)')\n",
    "ax.set_xlabel('Thickness at low force (nm)')\n",
    "fig.suptitle('3T3aSFL: E(h)')\n",
    "# archiveFig(fig, ax, name='E(h)_3T3aSFL_Dec21_M450-5-13_vs_M270-14-54', figDir = todayFigDir, figSubDir=figSubDir)\n",
    "fig.show()"
   ]
  },
  {
   "cell_type": "code",
   "execution_count": null,
   "metadata": {},
   "outputs": [],
   "source": [
    "Filters = [(GlobalTable_meca_Py2['validatedFit'] == True), \n",
    "           (GlobalTable_meca_Py2['validatedThickness'] == True), \n",
    "           (GlobalTable_meca_Py2['substrate'] == '20um fibronectin discs'),\n",
    "           (GlobalTable_meca_Py2['date_x'].apply(lambda x : x in ['21-12-16']))]\n",
    "fig, ax = D2Plot(GlobalTable_meca_Py2, XCol='ctFieldThickness',YCol='EChadwick',CondCol = ['bead type'],\\\n",
    "           Filters=Filters, cellID = 'cellID', AvgPerCell=True,xscale = 'log', yscale = 'log')\n",
    "ax.set_ylabel('EChadwick (Pa)')\n",
    "ax.set_xlabel('Thickness at low force (nm)')\n",
    "fig.suptitle('3T3aSFL: E(h)')\n",
    "# archiveFig(fig, ax, name='E(h)_3T3aSFL_Dec21_M450-5-13_vs_M270-14-54', figDir = todayFigDir, figSubDir=figSubDir)\n",
    "fig.show()"
   ]
  },
  {
   "cell_type": "code",
   "execution_count": null,
   "metadata": {
    "scrolled": false
   },
   "outputs": [],
   "source": [
    "Filters = [(GlobalTable_meca_Py2['validatedFit'] == True), \n",
    "           (GlobalTable_meca_Py2['validatedThickness'] == True), \n",
    "           (GlobalTable_meca_Py2['substrate'] == '20um fibronectin discs'),\n",
    "           (GlobalTable_meca_Py2['date_x'].apply(lambda x : x in ['21-12-08','21-12-16']))]\n",
    "\n",
    "co_order = makeOrder(['M270','M450'], ['21-12-08','21-12-16'])\n",
    "\n",
    "fig, ax = D1Plot(GlobalTable_meca_Py2, CondCol=['bead type', 'date_x'],Parameters=['ctFieldThickness','EChadwick'],\\\n",
    "                 Filters=Filters,AvgPerCell=True,cellID='cellID',co_order=co_order,stats=True, useHue = True, orientation = 'v',\n",
    "                 figSizeFactor = 0.9)\n",
    "renameAxes(ax,renameDict1)\n",
    "fig.suptitle('3T3aSFL, Dec 21 - Matching ranges of stress for 2 bead types\\nB{M270}=14>54mT ; B{M450}=5>13mT')\n",
    "# archiveFig(fig, ax, name='3T3aSFL_Oct21_M450-1-10_vs_M270-5-40', figSubDir = figSubDir)\n",
    "fig.show()"
   ]
  },
  {
   "cell_type": "code",
   "execution_count": null,
   "metadata": {},
   "outputs": [],
   "source": [
    "Filters = [(GlobalTable_meca_Py2['validatedFit'] == True), \n",
    "           (GlobalTable_meca_Py2['validatedThickness'] == True), \n",
    "           (GlobalTable_meca_Py2['substrate'] == '20um fibronectin discs'),\n",
    "           (GlobalTable_meca_Py2['date_x'].apply(lambda x : x in ['21-12-16','21-12-08']))]\n",
    "fig, ax = D2Plot(GlobalTable_meca_Py2, XCol='ctFieldThickness',YCol='EChadwick',CondCol = ['bead type', 'date_x'],\\\n",
    "           Filters=Filters, cellID = 'cellID', AvgPerCell=True, xscale = 'log', yscale = 'log', markers = ['o', 'o', '>', '>'])\n",
    "ax.set_ylabel('EChadwick (Pa)')\n",
    "ax.set_xlabel('Thickness at low force (nm)')\n",
    "fig.suptitle('3T3aSFL: E(h)')\n",
    "ax.legend(loc = 'upper right')\n",
    "# archiveFig(fig, ax, name='E(h)_3T3aSFL_Dec21_M450-5-13_vs_M270-14-54', figDir = todayFigDir, figSubDir=figSubDir)\n",
    "fig.show()"
   ]
  },
  {
   "cell_type": "code",
   "execution_count": null,
   "metadata": {},
   "outputs": [],
   "source": [
    "Filters = [(GlobalTable_meca_Py2['validatedFit'] == True), \n",
    "           (GlobalTable_meca_Py2['validatedThickness'] == True), \n",
    "           (GlobalTable_meca_Py2['substrate'] == '20um fibronectin discs'),\n",
    "           (GlobalTable_meca_Py2['date_x'].apply(lambda x : x in ['21-12-16','21-12-08']))]\n",
    "fig, ax = D2Plot_wFit(GlobalTable_meca_Py2, XCol='ctFieldThickness',YCol='EChadwick',CondCol = ['bead type'],\n",
    "           Filters=Filters, cellID = 'cellID', AvgPerCell=True, xscale = 'log', yscale = 'log', \n",
    "           modelFit=True, modelType = 'y=k*x^a')\n",
    "ax.set_ylabel('EChadwick (Pa)')\n",
    "ax.set_xlabel('Thickness at low force (nm)')\n",
    "fig.suptitle('3T3aSFL: E(h)')\n",
    "ax.legend(loc = 'upper right')\n",
    "# archiveFig(fig, ax, name='E(h)_3T3aSFL_Dec21_M450-5-13_vs_M270-14-54', figDir = todayFigDir, figSubDir=figSubDir)\n",
    "fig.show()"
   ]
  },
  {
   "cell_type": "code",
   "execution_count": null,
   "metadata": {},
   "outputs": [],
   "source": [
    "Filters270 = [(GlobalTable_meca_Py2['validatedFit'] == True), \n",
    "           (GlobalTable_meca_Py2['validatedThickness'] == True),\\\n",
    "           (GlobalTable_meca_Py2['cell subtype'] == 'aSFL'), \n",
    "           (GlobalTable_meca_Py2['bead type'] == 'M270'), \n",
    "           (GlobalTable_meca_Py2['substrate'] == '20um fibronectin discs'),\n",
    "           (GlobalTable_meca_Py2['date_x'].apply(lambda x : x in ['21-12-08']))]\n",
    "Filter270 = Filters270[0]\n",
    "for i in range(1, len(Filters270)):\n",
    "    Filter270 = Filter270 & Filters270[i]\n",
    "    \n",
    "Filters450 = [(GlobalTable_meca_Py2['validatedFit'] == True), \n",
    "           (GlobalTable_meca_Py2['validatedThickness'] == True),\\\n",
    "           (GlobalTable_meca_Py2['cell subtype'] == 'aSFL'), \n",
    "           (GlobalTable_meca_Py2['bead type'] == 'M450'), \n",
    "           (GlobalTable_meca_Py2['substrate'] == '20um fibronectin discs'),\n",
    "           (GlobalTable_meca_Py2['date_x'].apply(lambda x : x in ['21-12-08']))]   \n",
    "Filter450 = Filters450[0]\n",
    "for i in range(1, len(Filters450)):\n",
    "    Filter450 = Filter450 & Filters450[i]\n",
    "    \n",
    "\n",
    "fig, ax = plt.subplots(1,2, figsize = (8, 6))\n",
    "GlobalTable_meca_Py2[Filter270].plot(kind = 'scatter', ax = ax[0], x = 'surroundingThickness', y = 'minS', marker = 'o', color = 'c', alpha = 0.3, label = 'Min stress')\n",
    "GlobalTable_meca_Py2[Filter270].plot(kind = 'scatter', ax = ax[0], x = 'surroundingThickness', y = 'maxS', marker = 'o', color = 'r', alpha = 0.3, label = 'Max stress')\n",
    "GlobalTable_meca_Py2[Filter450].plot(kind = 'scatter', ax = ax[1], x = 'surroundingThickness', y = 'minS', marker = 'o', color = 'c', alpha = 0.3, label = 'Min stress')\n",
    "GlobalTable_meca_Py2[Filter450].plot(kind = 'scatter', ax = ax[1], x = 'surroundingThickness', y = 'maxS', marker = 'o', color = 'r', alpha = 0.3, label = 'Max stress')\n",
    "ax[0].set_xlabel('Cortical thickness (nm)')\n",
    "ax[0].set_ylabel('Extremal stress values (Pa)')\n",
    "ax[0].set_ylim([0, 600])\n",
    "ax[0].set_xlim([0, 1200])\n",
    "ax[0].set_title('M270')\n",
    "ax[1].set_xlabel('Cortical thickness (nm)')\n",
    "ax[1].set_ylabel('Extremal stress values (Pa)')\n",
    "ax[1].set_ylim([0, 600])\n",
    "ax[1].set_xlim([0, 1200])\n",
    "ax[1].set_title('M450')\n",
    "fig.show()"
   ]
  },
  {
   "cell_type": "code",
   "execution_count": null,
   "metadata": {},
   "outputs": [],
   "source": [
    "fig, ax = plt.subplots(1,1, figsize = (8, 6))\n",
    "GlobalTable_meca_Py2[Filter270].plot(kind = 'scatter', ax = ax, x = 'surroundingThickness', y = 'minS', marker = 'o', color = 'c', alpha = 0.3, label = 'M270 - Min stress')\n",
    "GlobalTable_meca_Py2[Filter270].plot(kind = 'scatter', ax = ax, x = 'surroundingThickness', y = 'maxS', marker = 'o', color = 'orange', alpha = 0.3, label = 'M270 - Max stress')\n",
    "GlobalTable_meca_Py2[Filter450].plot(kind = 'scatter', ax = ax, x = 'surroundingThickness', y = 'minS', marker = 'o', color = 'b', alpha = 0.3, label = 'M450 - Min stress')\n",
    "GlobalTable_meca_Py2[Filter450].plot(kind = 'scatter', ax = ax, x = 'surroundingThickness', y = 'maxS', marker = 'o', color = 'r', alpha = 0.3, label = 'M450 - Max stress')\n",
    "ax.set_xlabel('Cortical thickness (nm)')\n",
    "ax.set_ylabel('Extremal stress values (Pa)')\n",
    "ax.set_title('Dec 21 - Extremal stress values vs. thickness,\\nfor each compression')\n",
    "fig.show()"
   ]
  },
  {
   "cell_type": "code",
   "execution_count": null,
   "metadata": {},
   "outputs": [],
   "source": [
    "Filters270 = [(GlobalTable_meca_Py2['validatedFit'] == True), \n",
    "           (GlobalTable_meca_Py2['validatedThickness'] == True),\\\n",
    "           (GlobalTable_meca_Py2['cell subtype'] == 'aSFL'), \n",
    "           (GlobalTable_meca_Py2['bead type'] == 'M270'), \n",
    "           (GlobalTable_meca_Py2['substrate'] == '20um fibronectin discs'),\n",
    "           (GlobalTable_meca_Py2['date_x'].apply(lambda x : x in ['21-12-16']))]\n",
    "Filter270 = Filters270[0]\n",
    "for i in range(1, len(Filters270)):\n",
    "    Filter270 = Filter270 & Filters270[i]\n",
    "    \n",
    "Filters450 = [(GlobalTable_meca_Py2['validatedFit'] == True), \n",
    "           (GlobalTable_meca_Py2['validatedThickness'] == True),\\\n",
    "           (GlobalTable_meca_Py2['cell subtype'] == 'aSFL'), \n",
    "           (GlobalTable_meca_Py2['bead type'] == 'M450'), \n",
    "           (GlobalTable_meca_Py2['substrate'] == '20um fibronectin discs'),\n",
    "           (GlobalTable_meca_Py2['date_x'].apply(lambda x : x in ['21-12-16']))]   \n",
    "Filter450 = Filters450[0]\n",
    "for i in range(1, len(Filters450)):\n",
    "    Filter450 = Filter450 & Filters450[i]\n",
    "    \n",
    "\n",
    "fig, ax = plt.subplots(1,2, figsize = (8, 6))\n",
    "GlobalTable_meca_Py2[Filter270].plot(kind = 'scatter', ax = ax[0], x = 'surroundingThickness', y = 'minS', marker = 'o', color = 'c', alpha = 0.3, label = 'Min stress')\n",
    "GlobalTable_meca_Py2[Filter270].plot(kind = 'scatter', ax = ax[0], x = 'surroundingThickness', y = 'maxS', marker = 'o', color = 'r', alpha = 0.3, label = 'Max stress')\n",
    "GlobalTable_meca_Py2[Filter450].plot(kind = 'scatter', ax = ax[1], x = 'surroundingThickness', y = 'minS', marker = 'o', color = 'c', alpha = 0.3, label = 'Min stress')\n",
    "GlobalTable_meca_Py2[Filter450].plot(kind = 'scatter', ax = ax[1], x = 'surroundingThickness', y = 'maxS', marker = 'o', color = 'r', alpha = 0.3, label = 'Max stress')\n",
    "ax[0].set_xlabel('Cortical thickness (nm)')\n",
    "ax[0].set_ylabel('Extremal stress values (Pa)')\n",
    "ax[0].set_ylim([0, 2000])\n",
    "ax[0].set_xlim([0, 1200])\n",
    "ax[0].set_title('M270')\n",
    "ax[1].set_xlabel('Cortical thickness (nm)')\n",
    "ax[1].set_ylabel('Extremal stress values (Pa)')\n",
    "ax[1].set_ylim([0, 2000])\n",
    "ax[1].set_xlim([0, 1200])\n",
    "ax[1].set_title('M450')\n",
    "fig.show()"
   ]
  },
  {
   "cell_type": "code",
   "execution_count": null,
   "metadata": {},
   "outputs": [],
   "source": [
    "fig, ax = plt.subplots(1,1, figsize = (8, 6))\n",
    "GlobalTable_meca_Py2[Filter270].plot(kind = 'scatter', ax = ax, x = 'surroundingThickness', y = 'minS', marker = 'o', color = 'c', alpha = 0.3, label = 'M270 - Min stress')\n",
    "GlobalTable_meca_Py2[Filter270].plot(kind = 'scatter', ax = ax, x = 'surroundingThickness', y = 'maxS', marker = 'o', color = 'orange', alpha = 0.3, label = 'M270 - Max stress')\n",
    "GlobalTable_meca_Py2[Filter450].plot(kind = 'scatter', ax = ax, x = 'surroundingThickness', y = 'minS', marker = 'o', color = 'b', alpha = 0.3, label = 'M450 - Min stress')\n",
    "GlobalTable_meca_Py2[Filter450].plot(kind = 'scatter', ax = ax, x = 'surroundingThickness', y = 'maxS', marker = 'o', color = 'r', alpha = 0.3, label = 'M450 - Max stress')\n",
    "ax.set_xlabel('Cortical thickness (nm)')\n",
    "ax.set_ylabel('Extremal stress values (Pa)')\n",
    "ax.set_title('Dec 21 - Extremal stress values vs. thickness,\\nfor each compression')\n",
    "fig.show()"
   ]
  },
  {
   "cell_type": "markdown",
   "metadata": {},
   "source": [
    "##### Jan-2022"
   ]
  },
  {
   "cell_type": "code",
   "execution_count": null,
   "metadata": {},
   "outputs": [],
   "source": [
    "figSubDir = 'BigVsSmallPlots'"
   ]
  },
  {
   "cell_type": "code",
   "execution_count": null,
   "metadata": {},
   "outputs": [],
   "source": [
    "GlobalTable_meca_Py2.head()"
   ]
  },
  {
   "cell_type": "code",
   "execution_count": null,
   "metadata": {},
   "outputs": [],
   "source": [
    "Filters = [(GlobalTable_meca_Py2['validatedFit'] == True), \n",
    "           (GlobalTable_meca_Py2['validatedThickness'] == True), \n",
    "           (GlobalTable_meca_Py2['substrate'] == '20um fibronectin discs'),\n",
    "           (GlobalTable_meca_Py2['date'].apply(lambda x : x in ['22-01-12']))]\n",
    "co_order = makeOrder(['M270','M450'])\n",
    "\n",
    "fig, ax = D1Plot(GlobalTable_meca_Py2, CondCol=['bead type'],Parameters=['ctFieldThickness','EChadwick'],\\\n",
    "                 Filters=Filters,AvgPerCell=True,cellID='cellID',co_order=co_order,stats=True, useHue = True)\n",
    "renameAxes(ax,renameDict1)\n",
    "fig.suptitle('3T3aSFL - Jan 22 experiment, bead types')\n",
    "# archiveFig(fig, ax, name='3T3aSFL_Oct21_M450-1-10_vs_M270-5-40', figSubDir = figSubDir)\n",
    "fig.show()"
   ]
  },
  {
   "cell_type": "code",
   "execution_count": null,
   "metadata": {},
   "outputs": [],
   "source": [
    "Filters = [(GlobalTable_meca_Py2['validatedFit'] == True), \n",
    "           (GlobalTable_meca_Py2['validatedThickness'] == True), \n",
    "           (GlobalTable_meca_Py2['substrate'] == '20um fibronectin discs'),\n",
    "           (GlobalTable_meca_Py2['date'].apply(lambda x : x in ['22-01-12']))]\n",
    "fig, ax = D2Plot(GlobalTable_meca_Py2, XCol='ctFieldThickness',YCol='EChadwick',CondCol = ['bead type', 'date'],\\\n",
    "           Filters=Filters, cellID = 'cellID', AvgPerCell=True, xscale = 'log', yscale = 'log', markers = ['o', 'o'])\n",
    "ax.set_ylabel('EChadwick (Pa)')\n",
    "ax.set_xlabel('Thickness at low force (nm)')\n",
    "fig.suptitle('3T3aSFL: E(h)')\n",
    "ax.legend(loc = 'upper right')\n",
    "# archiveFig(fig, ax, name='E(h)_3T3aSFL_Dec21_M450-5-13_vs_M270-14-54', figDir = todayFigDir, figSubDir=figSubDir)\n",
    "fig.show()"
   ]
  },
  {
   "cell_type": "code",
   "execution_count": null,
   "metadata": {},
   "outputs": [],
   "source": [
    "Filters = [(GlobalTable_meca_Py2['validatedFit'] == True), \n",
    "           (GlobalTable_meca_Py2['validatedThickness'] == True), \n",
    "           (GlobalTable_meca_Py2['substrate'] == '20um fibronectin discs'),\n",
    "           (GlobalTable_meca_Py2['date'].apply(lambda x : x in ['21-12-08', '21-12-16', '22-01-12']))]\n",
    "fig, ax = D2Plot(GlobalTable_meca_Py2, XCol='ctFieldThickness',YCol='EChadwick',CondCol = ['bead type', 'date'],\\\n",
    "           Filters=Filters, cellID = 'cellID', AvgPerCell=True, xscale = 'log', yscale = 'log', markers = ['o', 'o','v', 'v', 's', 's'])\n",
    "ax.set_ylabel('EChadwick (Pa)')\n",
    "ax.set_xlabel('Thickness at low force (nm)')\n",
    "fig.suptitle('3T3aSFL: E(h)')\n",
    "ax.legend(loc = 'upper right')\n",
    "# archiveFig(fig, ax, name='E(h)_3T3aSFL_Dec21_M450-5-13_vs_M270-14-54', figDir = todayFigDir, figSubDir=figSubDir)\n",
    "fig.show()"
   ]
  },
  {
   "cell_type": "code",
   "execution_count": null,
   "metadata": {
    "scrolled": true
   },
   "outputs": [],
   "source": [
    "# Test getAggDf(df, cellID, CondCol, Variables)\n",
    "data = GlobalTable_meca_Py2\n",
    "\n",
    "Filters = [(data['validatedFit'] == True), (data['validatedThickness'] == True)]\n",
    "\n",
    "data_f = data\n",
    "for fltr in Filters:\n",
    "    data_f = data_f.loc[fltr]\n",
    "\n",
    "dfA = getAggDf(data_f, 'cellID', 'bead type', ['surroundingThickness', 'EChadwick'])\n",
    "dfA.head()"
   ]
  },
  {
   "cell_type": "code",
   "execution_count": null,
   "metadata": {},
   "outputs": [],
   "source": [
    "plt.close('all')\n",
    "data = GlobalTable_meca_Py2\n",
    "\n",
    "Filters = [(data['validatedFit'] == True), (data['validatedThickness'] == True),\n",
    "          (data['date'].apply(lambda x : x in ['21-12-08', '22-01-12']))] #, '21-12-16'\n",
    "\n",
    "fig, ax = D1PlotDetailed(data, CondCol=['bead type'], Parameters=['surroundingThickness', 'EChadwick'], Filters=Filters, \n",
    "                Boxplot=True, cellID='cellID', co_order=[], stats=True, statMethod='Mann-Whitney', \n",
    "               box_pairs=[], figSizeFactor = 1.8, markerSizeFactor=1, orientation = 'v', showManips = True)\n",
    "# ax[0].plot([0,1],[200,200])\n",
    "fig.show()"
   ]
  },
  {
   "cell_type": "code",
   "execution_count": null,
   "metadata": {},
   "outputs": [],
   "source": [
    "plt.close('all')\n",
    "data = GlobalTable_meca_Py2\n",
    "\n",
    "Filters = [(data['validatedFit'] == True), (data['validatedThickness'] == True),\n",
    "          (data['date'].apply(lambda x : x in ['21-12-08', '21-12-16', '22-01-12']))] #, '21-12-16'\n",
    "\n",
    "box_pairs=[('21-12-08 & M270', '21-12-08 & M450'),\n",
    "             ('21-12-16 & M450', '21-12-16 & M270'),\n",
    "             ('22-01-12 & M270', '22-01-12 & M450')]\n",
    "\n",
    "fig, ax = D1PlotDetailed(data, CondCol=['date', 'bead type'], Parameters=['surroundingThickness', 'EChadwick'], Filters=Filters, \n",
    "                Boxplot=True, cellID='cellID', co_order=[], stats=True, statMethod='Mann-Whitney', \n",
    "               box_pairs=box_pairs, figSizeFactor = 0.9, markerSizeFactor=1, orientation = 'v', showManips = True)\n",
    "# ax[0].plot([0,1],[200,200])\n",
    "fig.show()"
   ]
  },
  {
   "cell_type": "markdown",
   "metadata": {},
   "source": [
    "#### Plots that exlore the impact of the delay before starting experiment"
   ]
  },
  {
   "cell_type": "code",
   "execution_count": null,
   "metadata": {},
   "outputs": [],
   "source": [
    "figSubDir = 'ExploratoryPlots'\n",
    "GlobalTable_meca_Py['compStartTimeThisDay_min'] = GlobalTable_meca_Py['compStartTimeThisDay']/60\n",
    "GlobalTable_meca_Py"
   ]
  },
  {
   "cell_type": "code",
   "execution_count": null,
   "metadata": {},
   "outputs": [],
   "source": [
    "figSubDir = 'ExploratoryPlots'\n",
    "Filters = [(GlobalTable_meca_Py['validatedFit'] == True), (GlobalTable_meca_Py['validatedThickness'] == True),\\\n",
    "           (GlobalTable_meca_Py['cell subtype'] == 'aSFL'), (GlobalTable_meca_Py['substrate'] == '20um fibronectin discs')]\n",
    "fig, ax = D1Plot(GlobalTable_meca_Py, CondCol=['manipID','drug'],Parameters=['surroundingThickness','EChadwick'],\\\n",
    "                 Filters=Filters,AvgPerCell=True,cellID='cellID',stats=False)\n",
    "renameAxes(ax,renameDict1)\n",
    "fig.suptitle('3T3aSFL - Compressions - Differences with manip')\n",
    "for i in range(len(ax)):\n",
    "    xTicks = ax[i].get_xticklabels()\n",
    "    for j in range(len(xTicks)):\n",
    "        xTicks[j].set_fontsize(9)\n",
    "archiveFig(fig, ax, name='3T3aSFL-Compressions-DifferencesWithManip_PYTHONTABLE', figSubDir = figSubDir)\n",
    "fig.show()"
   ]
  },
  {
   "cell_type": "code",
   "execution_count": null,
   "metadata": {},
   "outputs": [],
   "source": [
    "Filters = [(GlobalTable_meca_Py['validatedFit'] == True), (GlobalTable_meca_Py['validatedThickness'] == True),\\\n",
    "           (GlobalTable_meca_Py['cell subtype'] == 'aSFL'), (GlobalTable_meca_Py['substrate'] == '20um fibronectin discs')]\n",
    "fig, ax = D2Plot(GlobalTable_meca_Py, XCol='compStartTimeThisDay_min',YCol='EChadwick', CondCol = ['date_x','drug'],\\\n",
    "           Filters=Filters, cellID = 'cellID', AvgPerCell=False, modelFit=False)\n",
    "renameAxes(ax,renameDict1)\n",
    "ax.legend(loc='upper right')\n",
    "ax.set_xlabel('Time since start of experiment (min)')\n",
    "fig.suptitle('3T3aSFL - Compressions - Evolution with time')\n",
    "archiveFig(fig, ax, name='3T3aSFL-Compressions-EvolWithTime_PYTHONTABLE', figSubDir = figSubDir)\n",
    "fig.show()"
   ]
  },
  {
   "cell_type": "code",
   "execution_count": null,
   "metadata": {},
   "outputs": [],
   "source": [
    "Filters = [(GlobalTable_meca_Py['validatedFit'] == True), (GlobalTable_meca_Py['validatedThickness'] == True),\\\n",
    "           (GlobalTable_meca_Py['cell subtype'] == 'aSFL-A8'), (GlobalTable_meca_Py['substrate'] == '20um fibronectin discs')]\n",
    "fig, ax = D1Plot(GlobalTable_meca_Py, CondCol=['manipID','drug'],Parameters=['surroundingThickness','EChadwick'],\\\n",
    "                 Filters=Filters,AvgPerCell=True,cellID='cellID',stats=True)\n",
    "renameAxes(ax,renameDict1)\n",
    "fig.suptitle('3T3aSFL-A8 - Compressions - Differences with manip')\n",
    "for i in range(len(ax)):\n",
    "    xTicks = ax[i].get_xticklabels()\n",
    "    for j in range(len(xTicks)):\n",
    "        xTicks[j].set_fontsize(9)\n",
    "archiveFig(fig, ax, name='3T3aSFL-A8-Compressions-DifferencesWithManip_PYTHONTABLE', figSubDir = figSubDir)\n",
    "fig.show()"
   ]
  },
  {
   "cell_type": "code",
   "execution_count": null,
   "metadata": {},
   "outputs": [],
   "source": [
    "Filters = [(GlobalTable_meca_Py['validatedFit'] == True), (GlobalTable_meca_Py['validatedThickness'] == True),\\\n",
    "           (GlobalTable_meca_Py['cell subtype'] == 'aSFL-A8'), (GlobalTable_meca_Py['substrate'] == '20um fibronectin discs')]\n",
    "fig, ax = D2Plot(GlobalTable_meca_Py, XCol='compStartTimeThisDay_min',YCol='EChadwick', CondCol = ['date_x','drug'],\\\n",
    "           Filters=Filters, cellID = 'cellID', AvgPerCell=False, modelFit=False)\n",
    "renameAxes(ax,renameDict1)\n",
    "ax.legend(loc='upper right')\n",
    "ax.set_xlabel('Time since start of experiment (min)')\n",
    "fig.suptitle('3T3aSFL-A8 - Compressions - Evolution with time')\n",
    "archiveFig(fig, ax, name='3T3aSFL-A8-Compressions-EvolWithTime_PYTHONTABLE', figSubDir = figSubDir)\n",
    "fig.show()"
   ]
  },
  {
   "cell_type": "code",
   "execution_count": null,
   "metadata": {},
   "outputs": [],
   "source": [
    "Filters = [(GlobalTable_meca_Py['validatedFit'] == True), (GlobalTable_meca_Py['validatedThickness'] == True),\\\n",
    "           (GlobalTable_meca_Py['cell subtype'] == 'aSFL-6FP'), (GlobalTable_meca_Py['substrate'] == '20um fibronectin discs')]\n",
    "fig, ax = D1Plot(GlobalTable_meca_Py, CondCol=['manipID','drug'],Parameters=['surroundingThickness','EChadwick'],\\\n",
    "                 Filters=Filters,AvgPerCell=True,cellID='cellID',stats=True)\n",
    "renameAxes(ax,renameDict1)\n",
    "fig.suptitle('3T3aSFL-6FP - Compressions - Differences with manip')\n",
    "for i in range(len(ax)):\n",
    "    xTicks = ax[i].get_xticklabels()\n",
    "    for j in range(len(xTicks)):\n",
    "        xTicks[j].set_fontsize(9)\n",
    "archiveFig(fig, ax, name='3T3aSFL-6FP-Compressions-DifferencesWithManip_PYTHONTABLE', figSubDir = figSubDir)\n",
    "fig.show()"
   ]
  },
  {
   "cell_type": "code",
   "execution_count": null,
   "metadata": {},
   "outputs": [],
   "source": [
    "Filters = [(GlobalTable_meca_Py['validatedFit'] == True), (GlobalTable_meca_Py['validatedThickness'] == True),\\\n",
    "           (GlobalTable_meca_Py['cell subtype'] == 'aSFL-6FP'), (GlobalTable_meca_Py['substrate'] == '20um fibronectin discs')]\n",
    "fig, ax = D2Plot(GlobalTable_meca_Py, XCol='compStartTimeThisDay_min',YCol='EChadwick', CondCol = ['date_x','drug'],\\\n",
    "           Filters=Filters, cellID = 'cellID', AvgPerCell=False, modelFit=False)\n",
    "renameAxes(ax,renameDict1)\n",
    "ax.legend(loc='upper right')\n",
    "ax.set_xlabel('Time since start of experiment (min)')\n",
    "fig.suptitle('3T3aSFL-6FP - Compressions - Evolution with time')\n",
    "archiveFig(fig, ax, name='3T3aSFL-6FP-Compressions-EvolWithTime_PYTHONTABLE', figSubDir = figSubDir)\n",
    "fig.show()"
   ]
  },
  {
   "cell_type": "markdown",
   "metadata": {},
   "source": [
    "#### Compare different data from python and matlab code"
   ]
  },
  {
   "cell_type": "code",
   "execution_count": null,
   "metadata": {},
   "outputs": [],
   "source": [
    "Filters = [(GlobalTable_meca_Py['validatedFit'] == True), (GlobalTable_meca_Py['validatedThickness'] == True), \n",
    "           (GlobalTable_meca_Py['cell subtype'] == 'aSFL'), GlobalTable_meca_Py['date_x'].apply(lambda x : x in ['21-01-18', '21-01-21'])]\n",
    "co_order = makeOrder(['20um fibronectin discs'],['none','doxycyclin'])\n",
    "fig, ax = D1Plot(GlobalTable_meca_Py, CondCol=['substrate','drug'],\\\n",
    "                 Parameters=['surroundingThickness','EChadwick'],Filters=Filters,\\\n",
    "                 AvgPerCell = True, cellID='cellID', co_order=co_order, figSizeFactor = 0.8,\n",
    "                 useHue = False, orientation = 'h')\n",
    "renameAxes(ax,renameDict1)\n",
    "fig.suptitle('3T3aSFL on diverse substrates: Compressions')\n",
    "# archiveFig(fig, ax, name='3T3aSFL_substrate&drug_SurroundingThickness&EChadwick_NEWTABLE', figSubDir = figSubDir)\n",
    "fig.show()"
   ]
  },
  {
   "cell_type": "code",
   "execution_count": null,
   "metadata": {
    "code_folding": []
   },
   "outputs": [],
   "source": [
    "Filters = [(GlobalTable_meca_Py2['validatedFit'] == True), \n",
    "           (GlobalTable_meca_Py2['validatedThickness'] == True), \n",
    "           (GlobalTable_meca_Py2['cell subtype'] == 'aSFL'), \n",
    "           (GlobalTable_meca_Py2['date_x'].apply(lambda x : x in ['21-01-18', '21-01-21']))]\n",
    "co_order = makeOrder(['20um fibronectin discs'],['none','doxycyclin'])\n",
    "fig, ax = D1Plot(GlobalTable_meca_Py2, CondCol=['substrate','drug'],\\\n",
    "                 Parameters=['surroundingThickness','EChadwick'],Filters=Filters,\\\n",
    "                 AvgPerCell = True, cellID='cellID', co_order=co_order, figSizeFactor = 0.8,\n",
    "                 useHue = False, orientation = 'h')\n",
    "renameAxes(ax,renameDict1)\n",
    "fig.suptitle('3T3aSFL on diverse substrates: Compressions')\n",
    "# archiveFig(fig, ax, name='3T3aSFL_substrate&drug_SurroundingThickness&EChadwick_NEWTABLE', figSubDir = figSubDir)\n",
    "fig.show()"
   ]
  },
  {
   "cell_type": "code",
   "execution_count": null,
   "metadata": {},
   "outputs": [],
   "source": [
    "TableV2"
   ]
  },
  {
   "cell_type": "code",
   "execution_count": null,
   "metadata": {},
   "outputs": [],
   "source": [
    "FiltersPy = [(GlobalTable_meca_Py['validatedFit'] == True), \n",
    "           (GlobalTable_meca_Py['validatedThickness'] == True), \n",
    "           (GlobalTable_meca_Py['cell subtype'] == 'aSFL'), \n",
    "           (GlobalTable_meca_Py['date_x'].apply(lambda x : x in ['21-01-18', '21-01-21']))]\n",
    "TableV1 = GlobalTable_meca_Py\n",
    "for fltr in FiltersPy:\n",
    "    TableV1 = TableV1.loc[fltr]\n",
    "    \n",
    "group = TableV1.groupby('cellID')\n",
    "dictAggMean = getDictAggMean(TableV1)\n",
    "TableV1 = group.agg(dictAggMean)\n",
    "\n",
    "FiltersPy2 = [(GlobalTable_meca_Py2['validatedFit'] == True), \n",
    "           (GlobalTable_meca_Py2['validatedThickness'] == True), \n",
    "           (GlobalTable_meca_Py2['cell subtype'] == 'aSFL'), \n",
    "           (GlobalTable_meca_Py2['date_x'].apply(lambda x : x in ['21-01-18', '21-01-21']))]\n",
    "TableV2 = GlobalTable_meca_Py2\n",
    "for fltr in FiltersPy2:\n",
    "    TableV2 = TableV2.loc[fltr]\n",
    "    \n",
    "group = TableV2.groupby('cellID')\n",
    "dictAggMean = getDictAggMean(TableV2)\n",
    "TableV2 = group.agg(dictAggMean)\n",
    "    \n",
    "cellID = TableV2['cellID'].values\n",
    "\n",
    "plotDict = {'cellID':[],'manipID':[],'drug':[],'E1':[],'h1':[],'E2':[],'h2':[]}\n",
    "strE = 'EChadwick'\n",
    "strH = 'H0Chadwick' #'surroundingThickness'\n",
    "for iD in cellID[:]:\n",
    "    try:\n",
    "        plotDict['cellID'].append(iD)\n",
    "        plotDict['manipID'] = plotDict['manipID'] + [TableV1.loc[TableV1['cellID'] == iD, 'manipID'].values[0]]\n",
    "        plotDict['drug'] = plotDict['drug'] + [TableV1.loc[TableV1['cellID'] == iD, 'drug'].values[0]]\n",
    "        plotDict['E1'] = plotDict['E1'] + [TableV1.loc[TableV1['cellID'] == iD, strE].values[0]]\n",
    "        plotDict['h1'] = plotDict['h1'] + [TableV1.loc[TableV1['cellID'] == iD, strH].values[0]]\n",
    "        plotDict['E2'] = plotDict['E2'] + [TableV2.loc[TableV2['cellID'] == iD, strE].values[0]]\n",
    "        plotDict['h2'] = plotDict['h2'] + [TableV2.loc[TableV2['cellID'] == iD, strH].values[0]]\n",
    "    except:\n",
    "        print(iD + ' ignored')\n",
    "\n",
    "plotDf = pd.DataFrame(plotDict)\n",
    "\n",
    "plotDf['h2/h1'] = plotDf['h2'] / plotDf['h1']\n",
    "plotDf['E2/E1'] = plotDf['E2'] / plotDf['E1']\n",
    "\n",
    "fig, ax = plt.subplots(2,2, figsize = (9,9))\n",
    "dictColor = {'doxycyclin' : 'red', 'none' : 'cyan'}\n",
    "\n",
    "cyan_line = matplotlib.lines.Line2D([], [], color='cyan', label='Control')\n",
    "red_line = matplotlib.lines.Line2D([], [], color='red', label='Doxycyclin')\n",
    "\n",
    "for i in range(plotDf.shape[0]):\n",
    "    ax[0,0].plot([1, 2], [plotDf['h1'].values[i], plotDf['h2'].values[i]], \n",
    "               marker = 'o', color = dictColor[plotDf['drug'].values[i]],\n",
    "                markeredgecolor='k', linewidth = 1)\n",
    "    ax[0,0].set_ylabel('h (nm)')\n",
    "    \n",
    "    ax[0,1].plot([1, 2], [plotDf['E1'].values[i], plotDf['E2'].values[i]], \n",
    "               marker = 'o', color = dictColor[plotDf['drug'].values[i]],\n",
    "                markeredgecolor='k', linewidth = 1)\n",
    "    ax[0,1].set_ylabel('E (Pa)')\n",
    "\n",
    "\n",
    "sns.swarmplot(y='h2/h1', data=plotDf, ax=ax[1,0], color = 'orange', edgecolor='k', linewidth = 1)\n",
    "sns.swarmplot(y='E2/E1', data=plotDf, ax=ax[1,1], color = 'green', edgecolor='k', linewidth = 1)\n",
    "ax[1,0].plot(ax[1,0].get_xlim(), [1,1], 'k--')\n",
    "ax[1,1].plot(ax[1,1].get_xlim(), [1,1], 'k--')\n",
    "    \n",
    "for k in range(2):\n",
    "    ax[0,k].set_xlim([0.6,3.4])\n",
    "    ax[0,k].set_xticks([1, 2])\n",
    "    ax[0,k].set_xticklabels(['Matlab', 'Python'])\n",
    "    ax[0,k].legend(handles=[cyan_line, red_line])\n",
    "    \n",
    "#     x = [1, 2]\n",
    "#     labels = ['Matlab', 'Python']\n",
    "\n",
    "    \n",
    "fig.suptitle('2021-01 experiments analysed with the two algos')\n",
    "\n",
    "plotDf\n"
   ]
  },
  {
   "cell_type": "markdown",
   "metadata": {},
   "source": [
    "#### Interactive"
   ]
  },
  {
   "cell_type": "code",
   "execution_count": null,
   "metadata": {},
   "outputs": [],
   "source": [
    "Filters = [(GlobalTable_ctField['validated'] == True), (GlobalTable_meca['cell subtype'] == 'aSFL')]\n",
    "\n",
    "p = D1PlotInteractive(GlobalTable_ctField, CondCol='drug',Parameters=['medianThickness','fluctuAmpli'],Filters=Filters)\n",
    "p.children[0][0].title.text = '3T3aSFL on patterns: Ct Field'\n",
    "p.children[0][0].title.text_font_size = '16pt'\n",
    "p.children[1][0].title.text = ''\n",
    "show(p)"
   ]
  },
  {
   "cell_type": "code",
   "execution_count": null,
   "metadata": {},
   "outputs": [],
   "source": [
    "Filters = [(GlobalTable_meca['Validated'] == 1), (GlobalTable_meca['cell subtype'] == 'aSFL')]\n",
    "p = D1PlotInteractive(GlobalTable_meca, CondCol='drug',Parameters=['SurroundingThickness','EChadwick'],Filters=Filters,AvgPerCell=True,cellID='CellName')\n",
    "p.children[0][0].title.text = '3T3aSFL on patterns: Compressions'\n",
    "p.children[0][0].title.text_font_size = '14pt'\n",
    "p.children[1][0].title.text = ''\n",
    "show(p)"
   ]
  },
  {
   "cell_type": "code",
   "execution_count": null,
   "metadata": {},
   "outputs": [],
   "source": [
    "Filters = [(GlobalTable_ctField['validated'] == True), (GlobalTable_meca['cell subtype'] == 'aSFL')]\n",
    "p = D2PlotInteractive(GlobalTable_ctField, XCol='medianThickness',YCol='fluctuAmpli',CondCol = 'drug', Filters=Filters)\n",
    "show(p)"
   ]
  },
  {
   "cell_type": "code",
   "execution_count": null,
   "metadata": {},
   "outputs": [],
   "source": [
    "Filters = [(GlobalTable_meca['Validated'] == True), (GlobalTable_meca['cell subtype'] == 'aSFL')]\n",
    "p = D2PlotInteractive(GlobalTable_meca, XCol='SurroundingThickness',YCol='EChadwick',CondCol = 'drug', Filters=Filters, cellID = 'CellName')\n",
    "show(p)"
   ]
  },
  {
   "cell_type": "code",
   "execution_count": null,
   "metadata": {},
   "outputs": [],
   "source": [
    "Filters = [(GlobalTable_ctField['validated'] == True)]\n",
    "p = D2PlotInteractive(GlobalTable_ctField, XCol='meanFluoPeakAmplitude',YCol='medianThickness',CondCol = 'drug', Filters=Filters, cellID = 'cellID',AvgPerCell=True)\n",
    "show(p)"
   ]
  },
  {
   "cell_type": "code",
   "execution_count": null,
   "metadata": {},
   "outputs": [],
   "source": [
    "Filters = [(GlobalTable_meca['Validated'] == True)]\n",
    "p = D2PlotInteractive(GlobalTable_meca, XCol='meanFluoPeakAmplitude',YCol='SurroundingThickness',CondCol = 'drug', Filters=Filters, cellID = 'CellName',AvgPerCell=True)\n",
    "p.title.text = '3T3aSFL expressing linker: H(fluo)'\n",
    "p.title.text_font_size = '16pt'\n",
    "show(p)"
   ]
  },
  {
   "cell_type": "code",
   "execution_count": null,
   "metadata": {},
   "outputs": [],
   "source": [
    "Filters = [(GlobalTable_meca['Validated'] == True), (GlobalTable_meca['cell subtype'] == 'aSFL')]\n",
    "p = D2PlotInteractive(GlobalTable_meca, XCol='meanFluoPeakAmplitude', YCol='EChadwick', CondCol = 'drug', Filters=Filters, cellID = 'CellName',AvgPerCell=True)\n",
    "p.title.text = 'aSFL expressing linker: E(fluo)'\n",
    "p.title.text_font_size = '16pt'\n",
    "show(p)"
   ]
  },
  {
   "cell_type": "code",
   "execution_count": null,
   "metadata": {
    "code_folding": []
   },
   "outputs": [],
   "source": [
    "Filters = [(GlobalTable_meca['Validated'] == True), (GlobalTable_meca['cell subtype'] == 'aSFL')]\n",
    "p = D2PlotInteractive(GlobalTable_meca, XCol='meanFluoPeakAmplitude',YCol='SurroundingThickness',CondCol = 'drug', Filters=Filters, cellID = 'CellName',AvgPerCell=True)\n",
    "p.title.text = 'aSFL expressing linker: H(fluo)'\n",
    "p.title.text_font_size = '16pt'\n",
    "show(p)"
   ]
  },
  {
   "cell_type": "code",
   "execution_count": null,
   "metadata": {},
   "outputs": [],
   "source": [
    "Outliers = []\n",
    "Filters = [(GlobalTable_meca_Py['validatedFit'] == True), (GlobalTable_meca_Py['validatedThickness'] == True),\n",
    "           (GlobalTable_meca_Py['drug'].apply(lambda x : x in ['none', 'doxycyclin'])),\n",
    "           (GlobalTable_meca_Py['substrate'] == '20um fibronectin discs'), \n",
    "           (GlobalTable_meca_Py['cell subtype'].apply(lambda x : x in ['aSFL-A8-2'])),\n",
    "           (GlobalTable_meca_Py['cellID'].apply(lambda x : x not in Outliers))]\n",
    "p = D2PlotInteractive(GlobalTable_meca_Py, XCol='meanFluoPeakAmplitude', YCol='EChadwick', CondCol = 'drug', \n",
    "                      Filters=Filters, cellID = 'cellID', AvgPerCell=True)\n",
    "p.title.text = 'aSFL-6FP expressing long linker: E(fluo)'\n",
    "p.title.text_font_size = '16pt'\n",
    "show(p)"
   ]
  },
  {
   "cell_type": "code",
   "execution_count": null,
   "metadata": {},
   "outputs": [],
   "source": [
    "Filters = [(GlobalTable_meca['Validated'] == True), (GlobalTable_meca['cell subtype'] == 'aSFL-6FP')]\n",
    "p = D2PlotInteractive(GlobalTable_meca, XCol='meanFluoPeakAmplitude', YCol='SurroundingThickness', CondCol = 'drug', Filters=Filters, cellID = 'CellName',AvgPerCell=True)\n",
    "p.title.text = 'aSFL-6FP expressing long linker: H(fluo)'\n",
    "p.title.text_font_size = '16pt'\n",
    "show(p)"
   ]
  },
  {
   "cell_type": "markdown",
   "metadata": {},
   "source": [
    "#### Region Fits"
   ]
  },
  {
   "cell_type": "code",
   "execution_count": null,
   "metadata": {},
   "outputs": [],
   "source": [
    "figSubDir = 'RegionFits'"
   ]
  },
  {
   "cell_type": "code",
   "execution_count": null,
   "metadata": {},
   "outputs": [],
   "source": [
    "Outliers = ['21-07-08_M3_P1_C10', '21-07-08_M3_P1_C5', '21-07-08_M3_P1_C6']\n",
    "Filters = [(GlobalTable_meca_Py['validatedFit_f<100pN'] == True), (GlobalTable_meca_Py['validatedThickness'] == True), \n",
    "           (GlobalTable_meca_Py['drug'] == 'none'), (GlobalTable_meca_Py['substrate'] == '20um fibronectin discs'),\n",
    "           (GlobalTable_meca_Py['cell subtype'] == 'aSFL'), (GlobalTable_meca_Py['cellID'].apply(lambda x : x not in Outliers)),\n",
    "           (GlobalTable_meca_Py['bead type'].apply(lambda x : x in ['M270', 'M270_M450', 'M450_M270', 'M450']))]\n",
    "co_order = makeOrder(['M270', 'M270_M450', 'M450_M270', 'M450'])\n",
    "fig, ax = D1Plot(GlobalTable_meca_Py, CondCol=['bead type'],\\\n",
    "                 Parameters=['surroundingThickness','EChadwick_f<100pN'],Filters=Filters,\\\n",
    "                 AvgPerCell=True, cellID='cellID', co_order=co_order, figSizeFactor = 2, orientation = 'v', useHue = False)\n",
    "renameAxes(ax,renameDict1)\n",
    "fig.suptitle('3T3aSFL asym bead pairs - all comps - f<100pN')\n",
    "# archiveFig(fig, ax, name='3T3aSFL_asymBeadsAllComp_SurroundingThickness&EChadwick', figSubDir = figSubDir)\n",
    "fig.show()"
   ]
  },
  {
   "cell_type": "code",
   "execution_count": null,
   "metadata": {
    "code_folding": []
   },
   "outputs": [],
   "source": [
    "Outliers = ['21-07-08_M3_P1_C10', '21-07-08_M3_P1_C5', '21-07-08_M3_P1_C6']\n",
    "Filters = [(GlobalTable_meca_Py['validatedFit'] == True), (GlobalTable_meca_Py['validatedThickness'] == True), \n",
    "           (GlobalTable_meca_Py['drug'] == 'none'), (GlobalTable_meca_Py['substrate'] == '20um fibronectin discs'),\n",
    "           (GlobalTable_meca_Py['cell subtype'] == 'aSFL'), (GlobalTable_meca_Py['cellID'].apply(lambda x : x not in Outliers)),\n",
    "           (GlobalTable_meca_Py['bead type'].apply(lambda x : x in ['M270', 'M270_M450', 'M450_M270', 'M450']))]\n",
    "co_order = makeOrder(['M270', 'M270_M450', 'M450_M270', 'M450'])\n",
    "fig, ax = D1Plot(GlobalTable_meca_Py, CondCol=['bead type'],\\\n",
    "                 Parameters=['surroundingThickness','EChadwick'],Filters=Filters,\\\n",
    "                 AvgPerCell=True, cellID='cellID', co_order=co_order, figSizeFactor = 2, orientation = 'v', useHue = False)\n",
    "renameAxes(ax,renameDict1)\n",
    "fig.suptitle('3T3aSFL asym bead pairs')\n",
    "archiveFig(fig, ax, name='3T3aSFL_asymBeads_SurroundingThickness&EChadwick_allDates', figSubDir = figSubDir)\n",
    "fig.show()"
   ]
  },
  {
   "cell_type": "code",
   "execution_count": null,
   "metadata": {},
   "outputs": [],
   "source": [
    "Outliers = ['21-07-08_M3_P1_C10', '21-07-08_M3_P1_C5', '21-07-08_M3_P1_C6']\n",
    "Filters = [(GlobalTable_meca_Py['validatedFit'] == True), (GlobalTable_meca_Py['validatedThickness'] == True), \n",
    "           (GlobalTable_meca_Py['date_x'] == '21-07-08'),\n",
    "           (GlobalTable_meca_Py['drug'] == 'none'), (GlobalTable_meca_Py['substrate'] == '20um fibronectin discs'),\n",
    "           (GlobalTable_meca_Py['cell subtype'] == 'aSFL'), (GlobalTable_meca_Py['cellID'].apply(lambda x : x not in Outliers)),\n",
    "           (GlobalTable_meca_Py['bead type'].apply(lambda x : x in ['M270', 'M270_M450', 'M450_M270', 'M450']))]\n",
    "co_order = makeOrder(['M270', 'M270_M450', 'M450_M270', 'M450'])\n",
    "fig, ax = D1Plot(GlobalTable_meca_Py, CondCol=['bead type'],\\\n",
    "                 Parameters=['surroundingThickness','EChadwick'],Filters=Filters,\\\n",
    "                 AvgPerCell=True, cellID='cellID', co_order=co_order, figSizeFactor = 2, orientation = 'v', useHue = False)\n",
    "renameAxes(ax,renameDict1)\n",
    "fig.suptitle('3T3aSFL asym bead pairs')\n",
    "archiveFig(fig, ax, name='3T3aSFL_asymBeads_SurroundingThickness&EChadwick_21-07-08', figSubDir = )\n",
    "fig.show()"
   ]
  },
  {
   "cell_type": "code",
   "execution_count": null,
   "metadata": {},
   "outputs": [],
   "source": [
    "Outliers = ['21-07-08_M3_P1_C10', '21-07-08_M3_P1_C5', '21-07-08_M3_P1_C6']\n",
    "Filters = [(GlobalTable_meca_Py['validatedFit_f<100pN'] == True), (GlobalTable_meca_Py['validatedThickness'] == True), \n",
    "           (GlobalTable_meca_Py['drug'] == 'none'), (GlobalTable_meca_Py['substrate'] == '20um fibronectin discs'),\n",
    "           (GlobalTable_meca_Py['cell subtype'] == 'aSFL'), (GlobalTable_meca_Py['cellID'].apply(lambda x : x not in Outliers)),\n",
    "           (GlobalTable_meca_Py['bead type'].apply(lambda x : x in ['M270', 'M450']))]\n",
    "fig, ax = D2Plot(GlobalTable_meca_Py, XCol='surroundingThickness',YCol='EChadwick_f<100pN', CondCol = ['bead type'],\\\n",
    "           Filters=Filters, cellID = 'cellID', AvgPerCell=True, modelFit=False, modelType='y=A*exp(kx)')\n",
    "fig.suptitle('3T3aSFL: E(h)')\n",
    "# archiveFig(fig, ax, name='aSFL_E(h)_drug&substrate', figDir = todayFigDir, figSubDir='')\n",
    "fig.show()"
   ]
  },
  {
   "cell_type": "code",
   "execution_count": null,
   "metadata": {},
   "outputs": [],
   "source": [
    "Outliers = ['21-07-08_M3_P1_C10', '21-07-08_M3_P1_C5', '21-07-08_M3_P1_C6']\n",
    "Filters = [(GlobalTable_meca_Py['validatedFit_f<150pN'] == True), (GlobalTable_meca_Py['validatedThickness'] == True),\n",
    "           (GlobalTable_meca_Py['date_x'].apply(lambda x : x in ['21-07-08'])), \n",
    "           (GlobalTable_meca_Py['drug'] == 'none'), (GlobalTable_meca_Py['substrate'] == '20um fibronectin discs'),\n",
    "           (GlobalTable_meca_Py['cell subtype'] == 'aSFL'), (GlobalTable_meca_Py['cellID'].apply(lambda x : x not in Outliers)),\n",
    "           (GlobalTable_meca_Py['bead type'].apply(lambda x : x in ['M270', 'M450_M270', 'M270_M450', 'M450']))]\n",
    "fig, ax = D2Plot(GlobalTable_meca_Py, XCol='surroundingThickness',YCol='EChadwick_f<150pN', CondCol = ['bead type'],\\\n",
    "           Filters=Filters, cellID = 'cellID', AvgPerCell=False, modelFit=False, modelType='y=A*exp(kx)')\n",
    "fig.suptitle('3T3aSFL: E(h) _f<150pN_21-07-08')\n",
    "archiveFig(fig, ax, name='aSFL_beadTypes01_E(h)_21-07-08', figDir = todayFigDir, figSubDir=figSubDir)\n",
    "fig.show()"
   ]
  },
  {
   "cell_type": "code",
   "execution_count": null,
   "metadata": {},
   "outputs": [],
   "source": [
    "Outliers = ['21-07-08_M3_P1_C10', '21-07-08_M3_P1_C5', '21-07-08_M3_P1_C6']\n",
    "Filters = [(GlobalTable_meca_Py['validatedFit_f<150pN'] == True), (GlobalTable_meca_Py['validatedThickness'] == True),\n",
    "           (GlobalTable_meca_Py['date_x'].apply(lambda x : x in ['21-07-08'])), \n",
    "           (GlobalTable_meca_Py['drug'] == 'none'), (GlobalTable_meca_Py['substrate'] == '20um fibronectin discs'),\n",
    "           (GlobalTable_meca_Py['cell subtype'] == 'aSFL'), (GlobalTable_meca_Py['cellID'].apply(lambda x : x not in Outliers)),\n",
    "           (GlobalTable_meca_Py['bead type'].apply(lambda x : x in ['M270', 'M450']))]\n",
    "fig, ax = D2Plot(GlobalTable_meca_Py, XCol='surroundingThickness',YCol='EChadwick_f<150pN', CondCol = ['bead type'],\\\n",
    "           Filters=Filters, cellID = 'cellID', AvgPerCell=False, modelFit=False, modelType='y=A*exp(kx)')\n",
    "fig.suptitle('3T3aSFL: E(h) _f<150pN_21-07-08')\n",
    "archiveFig(fig, ax, name='aSFL_beadTypes02_E(h)_21-07-08', figDir = todayFigDir, figSubDir=figSubDir)\n",
    "fig.show()"
   ]
  },
  {
   "cell_type": "markdown",
   "metadata": {},
   "source": [
    "### Clean Graphs"
   ]
  },
  {
   "cell_type": "code",
   "execution_count": null,
   "metadata": {
    "code_folding": [
     0
    ]
   },
   "outputs": [],
   "source": [
    "figSubDir = 'CleanPlots'\n",
    "\n",
    "print(pairedPalette)\n",
    "pairedPalette"
   ]
  },
  {
   "cell_type": "markdown",
   "metadata": {},
   "source": [
    "#### 3T3 aSFL (A11) on and off pattern, with or without doxy -- (january 2021)"
   ]
  },
  {
   "cell_type": "code",
   "execution_count": null,
   "metadata": {},
   "outputs": [],
   "source": [
    "Filters = [(GlobalTable_meca['Validated'] == 1), (GlobalTable_meca['cell subtype'] == 'aSFL'), (GlobalTable_meca['substrate'] == 'BSA coated glass'), (GlobalTable_meca['SurroundingThickness'] > 0)]\n",
    "co_order = makeOrder(['BSA coated glass'],['none','doxycyclin'])\n",
    "fig, ax = D1Plot(GlobalTable_meca, CondCol=['substrate','drug'],\\\n",
    "                 Parameters=['SurroundingThickness','EChadwick'], Filters=Filters,\\\n",
    "                 AvgPerCell=False, cellID='CellName', co_order=co_order, figSizeFactor = 0.5)\n",
    "renameAxes(ax,renameDict1)\n",
    "fig.suptitle('3T3aSFL non-adherent: Compressions')\n",
    "# archiveFig(fig, ax, name='3T3aSFLonBSA_drug_SurroundingThickness&EChadwick_allComp', figSubDir = figSubDir)\n",
    "fig.show()"
   ]
  },
  {
   "cell_type": "code",
   "execution_count": null,
   "metadata": {},
   "outputs": [],
   "source": [
    "Filters = [(GlobalTable_meca['Validated'] == 1), (GlobalTable_meca['cell subtype'] == 'aSFL'), (GlobalTable_meca['SurroundingThickness'] > 0)]\n",
    "co_order = makeOrder(['BSA coated glass','20um fibronectin discs'],['none','doxycyclin'])\n",
    "fig, ax = D1Plot(GlobalTable_meca, CondCol=['substrate','drug'],\\\n",
    "                 Parameters=['SurroundingThickness','EChadwick'],Filters=Filters,\\\n",
    "                 AvgPerCell=True, cellID='CellName', co_order=co_order, figSizeFactor = 0.8)\n",
    "renameAxes(ax,renameDict1)\n",
    "fig.suptitle('3T3aSFL on diverse substrates: Compressions')\n",
    "# archiveFig(fig, ax, name='3T3aSFL_substrate&drug_SurroundingThickness&EChadwick', figSubDir = figSubDir)\n",
    "fig.show()"
   ]
  },
  {
   "cell_type": "code",
   "execution_count": null,
   "metadata": {},
   "outputs": [],
   "source": [
    "Filters = [(GlobalTable_meca_Py['validatedFit'] == True), (GlobalTable_meca_Py['validatedThickness'] == True), (GlobalTable_meca_Py['cell subtype'] == 'aSFL')]\n",
    "co_order = makeOrder(['BSA coated glass','20um fibronectin discs'],['none','doxycyclin'])\n",
    "fig, ax = D1Plot(GlobalTable_meca_Py, CondCol=['substrate','drug'],\\\n",
    "                 Parameters=['surroundingThickness','EChadwick'],Filters=Filters,\\\n",
    "                 AvgPerCell=True, cellID='cellID', co_order=co_order, figSizeFactor = 0.8,\n",
    "                 useHue = False, orientation = 'v')\n",
    "renameAxes(ax,renameDict1)\n",
    "fig.suptitle('3T3aSFL on diverse substrates: Compressions')\n",
    "# archiveFig(fig, ax, name='3T3aSFL_substrate&drug_SurroundingThickness&EChadwick_NEWTABLE', figSubDir = figSubDir)\n",
    "fig.show()\n"
   ]
  },
  {
   "cell_type": "code",
   "execution_count": null,
   "metadata": {},
   "outputs": [],
   "source": [
    "Filters = [(GlobalTable_meca_Py['validatedFit'] == True), \n",
    "           (GlobalTable_meca_Py['validatedThickness'] == True), \n",
    "           (GlobalTable_meca_Py['cell subtype'] == 'aSFL'),\n",
    "          (GlobalTable_meca_Py['substrate'] == '20um fibronectin discs'),\n",
    "           (GlobalTable_meca_Py['bead type'] == 'M450'),\n",
    "          (GlobalTable_meca_Py['ctFieldThickness'] <= 600)]\n",
    "co_order = makeOrder(['none','doxycyclin'])\n",
    "fig, ax = D1Plot(GlobalTable_meca_Py, CondCol=['drug'],\\\n",
    "                 Parameters=['ctFieldThickness','EChadwick'],Filters=Filters,\\\n",
    "                 AvgPerCell=True, cellID='cellID', co_order=co_order, figSizeFactor = 1.0,\n",
    "                 useHue = False, orientation = 'h', markerSizeFactor=1.2)\n",
    "ax[0].set_ylim([0, ax[0].get_ylim()[1]])\n",
    "renameAxes(ax,renameDict1)\n",
    "fig.suptitle('3T3aSFL on fibronectin discs: Compressions')\n",
    "# archiveFig(fig, ax, name='3T3aSFL_substrate&drug_SurroundingThickness&EChadwick_NEWTABLE', figSubDir = figSubDir)\n",
    "fig.show()\n"
   ]
  },
  {
   "cell_type": "code",
   "execution_count": null,
   "metadata": {},
   "outputs": [],
   "source": [
    "Filters = [(GlobalTable_ctField['validated'] == True), (GlobalTable_ctField['medianThickness'] <= 1000)]\n",
    "co_order = makeOrder(['20um fibronectin discs'],['none','doxycyclin'])\n",
    "fig, ax = D1Plot(GlobalTable_ctField, CondCol=['substrate','drug'],Parameters=['medianThickness','fluctuAmpli'],\\\n",
    "                 Filters=Filters,stats=True,co_order=co_order,figSizeFactor=0.5)\n",
    "renameAxes(ax,renameDict1)\n",
    "fig.suptitle('3T3aSFL on patterns: Constant Field')\n",
    "# archiveFig(fig, ax, name='3T3aSFL_drug_medianThickness', figSubDir = figSubDir)\n",
    "\n",
    "fig.show()"
   ]
  },
  {
   "cell_type": "code",
   "execution_count": null,
   "metadata": {},
   "outputs": [],
   "source": [
    "Filters = [(GlobalTable_meca['Validated'] == True), (GlobalTable_meca['cell subtype'] == 'aSFL')]\n",
    "fig, ax = D2Plot(GlobalTable_meca, XCol='meanFluoPeakAmplitude', YCol='EChadwick', CondCol = ['cell subtype', 'drug'], \\\n",
    "                 Filters=Filters, cellID = 'CellName', AvgPerCell=True, modelFit=True)\n",
    "\n",
    "renameAxes(ax,renameDict1)\n",
    "fig.suptitle('aSFL expressing linker: E(fluo)')\n",
    "yt = ax.get_yticks()\n",
    "ax.set_yticklabels((yt/1000).astype(int))\n",
    "ax.set_ylabel('E Chadwick (kPa)')\n",
    "\n",
    "# archiveFig(fig, ax, name='aSFL_iMC_E(fluo)', figDir = todayFigDir, figSubDir='FluoPlots')\n",
    "fig.show()"
   ]
  },
  {
   "cell_type": "code",
   "execution_count": null,
   "metadata": {},
   "outputs": [],
   "source": [
    "Filters = [(GlobalTable_meca['Validated'] == True), (GlobalTable_meca['cell subtype'] == 'aSFL')]\n",
    "fig, ax = D2Plot(GlobalTable_meca, XCol='meanFluoPeakAmplitude', YCol='EChadwick', CondCol = ['cell subtype', 'drug'], \\\n",
    "                 Filters=Filters, cellID = 'CellName', AvgPerCell=True, modelFit=True)\n",
    "renameAxes(ax,renameDict1)\n",
    "fig.suptitle('aSFL expressing linker: E(fluo)')\n",
    "# archiveFig(fig, ax, name='aSFL_iMC_E(fluo)', figDir = todayFigDir, figSubDir='FluoPlots')\n",
    "fig.show()"
   ]
  },
  {
   "cell_type": "code",
   "execution_count": null,
   "metadata": {},
   "outputs": [],
   "source": [
    "#Same as above without the lonely point\n",
    "Filters = [(GlobalTable_meca['Validated'] == True), (GlobalTable_meca['cell subtype'] == 'aSFL'), (GlobalTable_meca['EChadwick'] <= 80000)]\n",
    "fig, ax = D2Plot(GlobalTable_meca, XCol='meanFluoPeakAmplitude', YCol='EChadwick', CondCol = ['cell subtype', 'drug'], \\\n",
    "                 Filters=Filters, cellID = 'CellName', AvgPerCell=True, modelFit=True)\n",
    "renameAxes(ax,renameDict1)\n",
    "fig.suptitle('aSFL expressing linker: E(fluo)')\n",
    "# archiveFig(fig, ax, name='aSFL_iMC_E(fluo)_woLastPoint', figDir = todayFigDir, figSubDir='FluoPlots')\n",
    "fig.show()"
   ]
  },
  {
   "cell_type": "code",
   "execution_count": null,
   "metadata": {},
   "outputs": [],
   "source": [
    "Filters = [(GlobalTable_meca['Validated'] == True), (GlobalTable_meca['cell subtype'] == 'aSFL')]\n",
    "fig, ax = D2Plot(GlobalTable_meca, XCol='meanFluoPeakAmplitude',YCol='SurroundingThickness',CondCol = ['cell subtype', 'drug'], Filters=Filters, cellID = 'CellName',AvgPerCell=True)\n",
    "renameAxes(ax,renameDict1)\n",
    "fig.suptitle('aSFL expressing linker: H(fluo)')\n",
    "# archiveFig(fig, ax, name='aSFL_iMC_H(fluo)', figDir = todayFigDir, figSubDir='FluoPlots')\n",
    "fig.show()"
   ]
  },
  {
   "cell_type": "code",
   "execution_count": null,
   "metadata": {},
   "outputs": [],
   "source": [
    "Filters = [(GlobalTable_ctField['validated'] == True)]\n",
    "fig, ax = D2Plot(GlobalTable_ctField, XCol='meanFluoPeakAmplitude',YCol='medianThickness',CondCol = ['cell subtype', 'drug'],\\\n",
    "                 Filters=Filters, cellID = 'cellID', AvgPerCell=True)\n",
    "renameAxes(ax,renameDict1)\n",
    "fig.suptitle('aSFL expressing linker: medianH(fluo)')\n",
    "# archiveFig(fig, ax, name='aSFL_iMC_medianH(fluo)', figDir = todayFigDir, figSubDir='FluoPlots')\n",
    "fig.show()"
   ]
  },
  {
   "cell_type": "markdown",
   "metadata": {},
   "source": [
    "##### Older graphs"
   ]
  },
  {
   "cell_type": "code",
   "execution_count": null,
   "metadata": {},
   "outputs": [],
   "source": [
    "# Filters = [(GlobalTable_meca['Validated'] == 1), (GlobalTable_meca['cell subtype'] == 'aSFL')]\n",
    "# co_order = makeOrder(['BSA coated glass','20um fibronectin discs'],['none','doxycyclin'])\n",
    "# fig, ax = D1Plot(GlobalTable_meca, CondCol=['substrate','drug'],\\\n",
    "#                  Parameters=['EChadwick'],Filters=Filters,\\\n",
    "#                  AvgPerCell=True, cellID='CellName', co_order=co_order,statMethod = 'Mann-Whitney', statVerbose = 2)\n",
    "# renameAxes(ax,renameDict1)\n",
    "# fig.suptitle('3T3aSFL on diverse substrates: Compressions')\n",
    "# fig.show()\n",
    "\n",
    "# # test value should be one of the following: t-test_ind, t-test_welch, t-test_paired, Mann-Whitney, Mann-Whitney-gt, Mann-Whitney-ls, Levene, Wilcoxon, Kruskal."
   ]
  },
  {
   "cell_type": "code",
   "execution_count": null,
   "metadata": {},
   "outputs": [],
   "source": [
    "# Filters = [(GlobalTable_meca['Validated'] == 1), (GlobalTable_meca['cell subtype'] == 'aSFL')]\n",
    "# co_order = makeOrder(['BSA coated glass','20um fibronectin discs'],['none','doxycyclin'])\n",
    "# fig, ax = D1Plot(GlobalTable_meca, CondCol=['substrate','drug'],\\\n",
    "#                  Parameters=['SurroundingThickness','EChadwick'],Filters=Filters,\\\n",
    "#                  AvgPerCell=True, cellID='CellName', co_order=co_order, stats=False)\n",
    "# renameAxes(ax,renameDict1)\n",
    "# fig.suptitle('3T3aSFL on diverse substrates: Compressions')\n",
    "# fig.show()\n",
    "# # fig.savefig(todayFigDir + '//' + 'compressionsBSAvsFibro_woStats.png')"
   ]
  },
  {
   "cell_type": "markdown",
   "metadata": {},
   "source": [
    "#### 3T3 aSFL : standard line (A11) versus different clones (A8 - high exp ; 6FP - long linker) -- First round (april - june 2021)"
   ]
  },
  {
   "cell_type": "code",
   "execution_count": null,
   "metadata": {},
   "outputs": [],
   "source": [
    "Filters = [(GlobalTable_meca_Py['validatedThickness'] == True), (GlobalTable_meca_Py['ctFieldThickness'] <= 1000)]\n",
    "co_order = makeOrder(['aSFL','aSFL-A8','aSFL-6FP'],['none','doxycyclin'])\n",
    "box_pairs=[('aSFL & none', 'aSFL & doxycyclin'),\n",
    " ('aSFL-A8 & none', 'aSFL-A8 & doxycyclin'),\n",
    " ('aSFL-6FP & none', 'aSFL-6FP & doxycyclin'),\n",
    " ('aSFL & none', 'aSFL-A8 & none'),\n",
    " ('aSFL & none', 'aSFL-6FP & none')]\n",
    "fig, ax = D1Plot(GlobalTable_meca_Py, CondCol=['cell subtype','drug'],Parameters=['ctFieldThickness','ctFieldFluctuAmpli'],\\\n",
    "                 Filters=Filters,AvgPerCell=True,stats=True,co_order=co_order,box_pairs=box_pairs,figSizeFactor=1)\n",
    "renameAxes(ax,renameDict1)\n",
    "fig.suptitle('3T3aSFL on patterns: H and DH from meca expe')\n",
    "# archiveFig(fig, ax, name='3T3aSFL_drug_medianThickness_fromMeca_PYTHONTABLE', figSubDir = figSubDir)\n",
    "\n",
    "fig.show()"
   ]
  },
  {
   "cell_type": "code",
   "execution_count": null,
   "metadata": {},
   "outputs": [],
   "source": [
    "Filters = [(GlobalTable_meca['Validated'] == 1), (GlobalTable_meca['substrate'] == '20um fibronectin discs')]\n",
    "co_order = makeOrder(['aSFL','aSFL-6FP'],['none','doxycyclin'])\n",
    "fig, ax = D1Plot(GlobalTable_meca, CondCol=['cell subtype','drug'],Parameters=['SurroundingThickness','EChadwick'],\\\n",
    "                 Filters=Filters,AvgPerCell=True,cellID='CellName',co_order=co_order,stats=True)\n",
    "renameAxes(ax,renameDict1)\n",
    "fig.suptitle('3T3aSFL short vs long linker: Compressions')\n",
    "# archiveFig(fig, ax, name='3T3aSFL_likerType&drug_SurroundingThickness&EChadwick', figSubDir = figSubDir)\n",
    "fig.show()"
   ]
  },
  {
   "cell_type": "code",
   "execution_count": null,
   "metadata": {},
   "outputs": [],
   "source": [
    "Filters = [(GlobalTable_meca['Validated'] == True), (GlobalTable_meca['substrate'] == '20um fibronectin discs')]\n",
    "co_order = makeOrder(['aSFL','aSFL-A8','aSFL-6FP'],['none','doxycyclin'])\n",
    "box_pairs=[('aSFL & none', 'aSFL & doxycyclin'),\n",
    " ('aSFL-A8 & none', 'aSFL-A8 & doxycyclin'),\n",
    " ('aSFL-6FP & none', 'aSFL-6FP & doxycyclin'),\n",
    " ('aSFL & none', 'aSFL-A8 & none'),\n",
    " ('aSFL & none', 'aSFL-6FP & none')]\n",
    "fig, ax = D1Plot(GlobalTable_meca, CondCol=['cell subtype','drug'],Parameters=['SurroundingThickness','EChadwick'],\\\n",
    "                 Filters=Filters,AvgPerCell=True,cellID='CellName',co_order=co_order,box_pairs=box_pairs,stats=True)\n",
    "renameAxes(ax,renameDict1)\n",
    "fig.suptitle('3T3aSFL - All linker types: Compressions')\n",
    "# archiveFig(fig, ax, name='3T3aSFL_likerType&drug_SurroundingThickness&EChadwick', figSubDir = figSubDir)\n",
    "fig.show()"
   ]
  },
  {
   "cell_type": "code",
   "execution_count": null,
   "metadata": {},
   "outputs": [],
   "source": [
    "Filters = [(GlobalTable_meca_Py['validatedFit'] == True), (GlobalTable_meca_Py['validatedThickness'] == True), (GlobalTable_meca_Py['substrate'] == '20um fibronectin discs')]\n",
    "co_order = makeOrder(['aSFL','aSFL-A8','aSFL-6FP'],['none','doxycyclin'])\n",
    "box_pairs=[('aSFL & none', 'aSFL & doxycyclin'),\n",
    " ('aSFL-A8 & none', 'aSFL-A8 & doxycyclin'),\n",
    " ('aSFL-6FP & none', 'aSFL-6FP & doxycyclin'),\n",
    " ('aSFL & none', 'aSFL-A8 & none'),\n",
    " ('aSFL & none', 'aSFL-6FP & none')]\n",
    "fig, ax = D1Plot(GlobalTable_meca_Py, CondCol=['cell subtype','drug'],Parameters=['ctFieldThickness','EChadwick'],\\\n",
    "                 Filters=Filters,AvgPerCell=True,cellID='cellID',co_order=co_order,box_pairs=box_pairs,stats=True)\n",
    "renameAxes(ax,renameDict1)\n",
    "fig.suptitle('3T3aSFL - All linker types: Compressions')\n",
    "# archiveFig(fig, ax, name='3T3aSFL_likerType&drug_ctFThickness&EChadwick_PYTHONTABLE', figSubDir = figSubDir)\n",
    "fig.show()"
   ]
  },
  {
   "cell_type": "code",
   "execution_count": null,
   "metadata": {},
   "outputs": [],
   "source": [
    "Filters = [(GlobalTable_meca_Py['validatedFit'] == True), (GlobalTable_meca_Py['validatedThickness'] == True),\\\n",
    "           (GlobalTable_meca_Py['substrate'] == '20um fibronectin discs'), (GlobalTable_meca_Py['drug'] == 'doxycyclin'),\\\n",
    "           (pd.isna(GlobalTable_meca_Py['meanFluoPeakAmplitude']) != True)]\n",
    "co_order = makeOrder(['aSFL','aSFL-A8','aSFL-6FP'])\n",
    "fig, ax = D1Plot(GlobalTable_meca_Py, CondCol=['cell subtype'],Parameters=['meanFluoPeakAmplitude'],\\\n",
    "                 Filters=Filters,AvgPerCell=True,cellID='cellID',co_order=co_order,stats=True,figSizeFactor=1.25)\n",
    "renameAxes(ax,renameDict1)\n",
    "fig.suptitle('3T3aSFL different cell lines\\nLinker expression quantif by fluo')\n",
    "archiveFig(fig, ax, name='3T3aSFL_likerType&_fluoExp_PYTHONTABLE', figSubDir = figSubDir)\n",
    "fig.show()"
   ]
  },
  {
   "cell_type": "code",
   "execution_count": null,
   "metadata": {},
   "outputs": [],
   "source": [
    "Filters = [(GlobalTable_meca_Py['validatedFit'] == True), ((GlobalTable_meca_Py['cell subtype'] == 'aSFL') | (GlobalTable_meca_Py['cell subtype'] == 'aSFL-A8')), (GlobalTable_meca_Py['drug'] == 'doxycyclin')]\n",
    "fig, ax = D2Plot(GlobalTable_meca_Py, XCol='meanFluoPeakAmplitude', YCol='EChadwick', CondCol = ['cell subtype'], \\\n",
    "                 Filters=Filters, cellID = 'cellID', AvgPerCell=True, modelFit=True)\n",
    "renameAxes(ax,renameDict1)\n",
    "fig.suptitle('aSFL & aSFL-A8 expressing linker: E(fluo)')\n",
    "# archiveFig(fig, ax, name='aSFL&A8_iMC_E(fluo)', figDir = todayFigDir, figSubDir='FluoPlots')\n",
    "fig.show()"
   ]
  },
  {
   "cell_type": "code",
   "execution_count": null,
   "metadata": {},
   "outputs": [],
   "source": [
    "#Same as above without the lonely point\n",
    "Filters = [(GlobalTable_meca_Py['validatedFit'] == True), (GlobalTable_meca_Py['drug'] == 'doxycyclin'), \\\n",
    "           ((GlobalTable_meca_Py['cell subtype'] == 'aSFL') | (GlobalTable_meca_Py['cell subtype'] == 'aSFL-A8')), \\\n",
    "           (GlobalTable_meca_Py['meanFluoPeakAmplitude'] <= 1200), (GlobalTable_meca_Py['EChadwick'] >= 2000)]\n",
    "fig, ax = D2Plot(GlobalTable_meca_Py, XCol='meanFluoPeakAmplitude', YCol='EChadwick', CondCol = ['cell subtype'], \\\n",
    "                 Filters=Filters, cellID = 'cellID', AvgPerCell=True, modelFit=True)\n",
    "renameAxes(ax,renameDict1)\n",
    "fig.suptitle('aSFL & aSFL-A8 expressing linker: E(fluo)')\n",
    "# archiveFig(fig, ax, name='aSFL&A8_iMC_E(fluo)_fluo-1200_&_E+2000', figDir = todayFigDir, figSubDir='FluoPlots')\n",
    "fig.show()"
   ]
  },
  {
   "cell_type": "code",
   "execution_count": null,
   "metadata": {},
   "outputs": [],
   "source": [
    "Filters = [(GlobalTable_meca['Validated'] == True), (GlobalTable_meca['cell subtype'] == 'aSFL-6FP')]\n",
    "fig, ax = D2Plot(GlobalTable_meca, XCol='meanFluoPeakAmplitude', YCol='EChadwick', CondCol = ['cell subtype', 'drug'], \\\n",
    "                 Filters=Filters, cellID = 'CellName', AvgPerCell=True, modelFit=True)\n",
    "renameAxes(ax,renameDict1)\n",
    "fig.suptitle('aSFL-6FP expressing long linker: E(fluo)')\n",
    "# archiveFig(fig, ax, name='aSFL-6FP_iMC_E(fluo)', figDir = todayFigDir, figSubDir='FluoPlots')\n",
    "fig.show()"
   ]
  },
  {
   "cell_type": "code",
   "execution_count": null,
   "metadata": {},
   "outputs": [],
   "source": [
    "#Same as above without the lonely point\n",
    "Filters = [(GlobalTable_meca['Validated'] == True), (GlobalTable_meca['cell subtype'] == 'aSFL-6FP'), (GlobalTable_meca['meanFluoPeakAmplitude'] <= 1000)]\n",
    "fig, ax = D2Plot(GlobalTable_meca, XCol='meanFluoPeakAmplitude', YCol='EChadwick', CondCol = ['cell subtype', 'drug'], \\\n",
    "                 Filters=Filters, cellID = 'CellName', AvgPerCell=True, modelFit=True)\n",
    "renameAxes(ax,renameDict1)\n",
    "fig.suptitle('aSFL-6FP expressing long linker: E(fluo)')\n",
    "# archiveFig(fig, ax, name='aSFL-6FP_iMC_E(fluo)_woLastPoint', figDir = todayFigDir, figSubDir='FluoPlots')\n",
    "fig.show()"
   ]
  },
  {
   "cell_type": "code",
   "execution_count": null,
   "metadata": {},
   "outputs": [],
   "source": [
    "Filters = [(GlobalTable_meca['Validated'] == True), (GlobalTable_meca['cell subtype'] == 'aSFL-6FP')]\n",
    "fig, ax = D2Plot(GlobalTable_meca, XCol='meanFluoPeakAmplitude', YCol='SurroundingThickness', CondCol = ['cell subtype', 'drug'],\\\n",
    "                 Filters=Filters, cellID = 'CellName',AvgPerCell=True)\n",
    "renameAxes(ax,renameDict1)\n",
    "fig.suptitle('aSFL-6FP expressing long linker: H(fluo)')\n",
    "# archiveFig(fig, ax, name='aSFL-6FP_iMC_H(fluo)', figDir = todayFigDir, figSubDir='FluoPlots')\n",
    "fig.show()"
   ]
  },
  {
   "cell_type": "markdown",
   "metadata": {},
   "source": [
    "#### Diverse 2D plots"
   ]
  },
  {
   "cell_type": "code",
   "execution_count": null,
   "metadata": {},
   "outputs": [],
   "source": [
    "Filters = [(GlobalTable_ctField['validated'] == True), (GlobalTable_ctField['cell subtype'] == 'aSFL')]\n",
    "fig, ax = D2Plot(GlobalTable_ctField, XCol='medianThickness',YCol='fluctuAmpli',CondCol = ['cell subtype', 'drug'],\\\n",
    "                 Filters=Filters, modelFit=True, figSizeFactor = 0.8)\n",
    "fig.suptitle('3T3aSFL - Dh = f(H)')\n",
    "# archiveFig(fig, ax, name='aSFL_Dh(h)_drug', figDir = todayFigDir, figSubDir='ThicknessPlots')\n",
    "fig.show()"
   ]
  },
  {
   "cell_type": "code",
   "execution_count": null,
   "metadata": {},
   "outputs": [],
   "source": [
    "# Same as above without the 2 thickest cells\n",
    "Filters = [(GlobalTable_ctField['validated'] == True), (GlobalTable_ctField['cell subtype'] == 'aSFL'),\\\n",
    "           (GlobalTable_ctField['medianThickness'] <= 700)]\n",
    "fig, ax = D2Plot(GlobalTable_ctField, XCol='medianThickness',YCol='fluctuAmpli',CondCol = ['cell subtype', 'drug'],\\\n",
    "                 Filters=Filters, modelFit=True, figSizeFactor = 0.8)\n",
    "fig.suptitle('3T3aSFL - Dh = f(H)')\n",
    "# archiveFig(fig, ax, name='aSFL_Dh(h)_drug_wo2LastPoints', figDir = todayFigDir, figSubDir='ThicknessPlots')\n",
    "fig.show()"
   ]
  },
  {
   "cell_type": "code",
   "execution_count": null,
   "metadata": {},
   "outputs": [],
   "source": [
    "Filters = [(GlobalTable_meca['Validated'] == True), (GlobalTable_meca['cell subtype'] == 'aSFL')]\n",
    "fig, ax = D2Plot(GlobalTable_meca, XCol='SurroundingThickness',YCol='EChadwick',CondCol = ['substrate','drug'],\\\n",
    "           Filters=Filters, cellID = 'CellName', AvgPerCell=True, modelFit=False, modelType='y=A*exp(kx)')\n",
    "fig.suptitle('3T3aSFL: E(h)')\n",
    "# archiveFig(fig, ax, name='aSFL_E(h)_drug&substrate', figDir = todayFigDir, figSubDir='')\n",
    "fig.show()"
   ]
  },
  {
   "cell_type": "markdown",
   "metadata": {},
   "source": [
    "#### Asym bead pairs -- (july 2021)"
   ]
  },
  {
   "cell_type": "code",
   "execution_count": null,
   "metadata": {},
   "outputs": [],
   "source": [
    "rawMecaTable = getGlobalTable_meca()\n",
    "# rawMecaTable.head()"
   ]
  },
  {
   "cell_type": "code",
   "execution_count": null,
   "metadata": {},
   "outputs": [],
   "source": [
    "#  GlobalTable_meca_Py['bead type'].apply(lambda x : x in ['M270_M270', 'M270_M450', 'M450_M270', 'M450_M450'])"
   ]
  },
  {
   "cell_type": "code",
   "execution_count": null,
   "metadata": {},
   "outputs": [],
   "source": [
    "Outliers = ['21-07-08_M3_P1_C10', '21-07-08_M3_P1_C5', '21-07-08_M3_P1_C6']\n",
    "Filters = [(GlobalTable_meca_Py['validatedFit'] == True), (GlobalTable_meca_Py['validatedThickness'] == True), (GlobalTable_meca_Py['drug'] == 'none'), (GlobalTable_meca_Py['substrate'] == '20um fibronectin discs'),\\\n",
    "           (GlobalTable_meca_Py['cell subtype'] == 'aSFL'), (GlobalTable_meca_Py['cellID'].apply(lambda x : x not in Outliers)), \\\n",
    "           (GlobalTable_meca_Py['bead type'].apply(lambda x : x in ['M270', 'M270_M450', 'M450_M270', 'M450']))]\n",
    "co_order = makeOrder(['M270', 'M270_M450', 'M450_M270', 'M450'])\n",
    "fig, ax = D1Plot(GlobalTable_meca_Py, CondCol=['bead type'],\\\n",
    "                 Parameters=['surroundingThickness','EChadwick'],Filters=Filters,\\\n",
    "                 AvgPerCell=False, cellID='cellID', co_order=co_order, figSizeFactor = 2, orientation = 'v', useHue = False)\n",
    "renameAxes(ax,renameDict1)\n",
    "fig.suptitle('3T3aSFL asym bead pairs - all comps')\n",
    "# archiveFig(fig, ax, name='3T3aSFL_asymBeadsAllComp_SurroundingThickness&EChadwick', figSubDir = figSubDir)\n",
    "fig.show()"
   ]
  },
  {
   "cell_type": "code",
   "execution_count": null,
   "metadata": {},
   "outputs": [],
   "source": [
    "Outliers = ['21-07-08_M3_P1_C10','21-07-08_M3_P1_C5','21-07-08_M3_P1_C6']\n",
    "Filters = [(GlobalTable_meca_Py['validatedFit'] == True), (GlobalTable_meca_Py['validatedThickness'] == True), (GlobalTable_meca_Py['drug'] == 'none'), (GlobalTable_meca_Py['substrate'] == '20um fibronectin discs'), \\\n",
    "           (GlobalTable_meca_Py['cell subtype'] == 'aSFL'), (GlobalTable_meca_Py['cellID'].apply(lambda x : x not in Outliers)), \\\n",
    "           (GlobalTable_meca_Py['bead type'].apply(lambda x : x in ['M270', 'M270_M450', 'M450_M270', 'M450']))]\n",
    "co_order = makeOrder(['M270', 'M270_M450', 'M450_M270', 'M450'])\n",
    "fig, ax = D1Plot(GlobalTable_meca_Py, CondCol=['bead type'],\\\n",
    "                 Parameters=['surroundingThickness','EChadwick'],Filters=Filters,\\\n",
    "                 AvgPerCell=True, cellID='cellID', co_order=co_order, figSizeFactor = 2, orientation = 'v', useHue = True)\n",
    "renameAxes(ax,renameDict1)\n",
    "fig.suptitle('3T3aSFL asym bead pairs - avg per cell')\n",
    "# archiveFig(fig, ax, name='3T3aSFL_asymBeadsPerCell_SurroundingThickness&EChadwick', figSubDir = figSubDir)\n",
    "fig.show()"
   ]
  },
  {
   "cell_type": "code",
   "execution_count": null,
   "metadata": {},
   "outputs": [],
   "source": [
    "Filters = [(rawMecaTable['Validated'] == 1), ((rawMecaTable['ExpType'] == 'DictyDB_M270') | (rawMecaTable['ExpType'] == 'DictyDB_M450')), (rawMecaTable['TpsComp'] == '1s')]\n",
    "# Filters = [(rawMecaTable['Validated'] == 1), ((rawMecaTable['ExpType'] == 'DictyDB_M450')), (rawMecaTable['TpsComp'] == '1s')]\n",
    "fig, ax = D1Plot(rawMecaTable, CondCol=['ExpType'],Parameters=['SurroundingThickness','EChadwick'],\\\n",
    "                 Filters=Filters,AvgPerCell=True,cellID='CellName', useHue = False)\n",
    "fig.suptitle('M450 vs M270 pour compressions de 1s')\n",
    "renameAxes(ax,renameDict1)\n",
    "archiveFig(fig, ax, name='Dictys_beadTypes_SurroundingThickness&EChadwick', figSubDir = figSubDir)\n",
    "fig.show()\n",
    "# rawMecaTable[Filters[0] & Filters[1] & Filters[2]]"
   ]
  },
  {
   "cell_type": "markdown",
   "metadata": {},
   "source": [
    "#### Smifh2 vs Dmso -- (Sergio's visit september 2021)"
   ]
  },
  {
   "cell_type": "code",
   "execution_count": null,
   "metadata": {},
   "outputs": [],
   "source": [
    "pd.set_option('max_columns', None)\n",
    "# pd.reset_option('max_columns')\n",
    "pd.set_option('max_rows', None)\n",
    "# pd.reset_option('max_rows')"
   ]
  },
  {
   "cell_type": "code",
   "execution_count": null,
   "metadata": {},
   "outputs": [],
   "source": [
    "Outliers = ['21-09-02_M4_P1_C3', '21-09-02_M3_P1_C2', '21-09-02_M3_P1_C9']\n",
    "Filters = [(GlobalTable_meca_Py['drug'].apply(lambda x : x in ['dmso', 'smifh2', 'dmso. doxycyclin', 'smifh2. doxycyclin'])), \\\n",
    "           (GlobalTable_meca_Py['substrate'] == '20um fibronectin discs'), (GlobalTable_meca_Py['cell subtype'] == 'aSFL'), \\\n",
    "           (GlobalTable_meca_Py['cellID'].apply(lambda x : x not in Outliers))]\n",
    "data_filtered = GlobalTable_meca_Py\n",
    "for fltr in Filters:\n",
    "    data_filtered = data_filtered.loc[fltr]\n",
    "data_filtered"
   ]
  },
  {
   "cell_type": "code",
   "execution_count": null,
   "metadata": {},
   "outputs": [],
   "source": [
    "Outliers = ['21-09-02_M4_P1_C3', '21-09-02_M3_P1_C2', '21-09-02_M3_P1_C9']\n",
    "Filters = [(GlobalTable_meca_Py['validatedFit'] == True), (GlobalTable_meca_Py['validatedThickness'] == True), \\\n",
    "           (GlobalTable_meca_Py['drug'].apply(lambda x : x in ['dmso', 'smifh2', 'dmso. doxycyclin', 'smifh2. doxycyclin'])), \\\n",
    "           (GlobalTable_meca_Py['substrate'] == '20um fibronectin discs'), (GlobalTable_meca_Py['cell subtype'] == 'aSFL'), \\\n",
    "           (GlobalTable_meca_Py['cellID'].apply(lambda x : x not in Outliers))]\n",
    "co_order = makeOrder(['dmso', 'smifh2', 'dmso. doxycyclin', 'smifh2. doxycyclin'])\n",
    "fig, ax = D1Plot(GlobalTable_meca_Py, CondCol=['drug'],\\\n",
    "                 Parameters=['ctFieldThickness','EChadwick'], Filters=Filters,\\\n",
    "                 AvgPerCell=True, cellID='cellID', co_order=co_order, figSizeFactor = 1.8, orientation = 'v')\n",
    "renameAxes(ax,renameDict1)\n",
    "fig.suptitle('3T3aSFL smifh2')\n",
    "archiveFig(fig, ax, name='3T3aSFL_smifh2&doxy_Thickness&EChadwick', figSubDir = figSubDir)\n",
    "fig.show()\n",
    "# 'ctFieldThickness', 'surroundingThickness', 'none', 'doxycyclin', "
   ]
  },
  {
   "cell_type": "markdown",
   "metadata": {},
   "source": [
    "#### Long linker second clone (3T3 aSFL-6FP-2) -- (Sergio's visit september 2021)"
   ]
  },
  {
   "cell_type": "code",
   "execution_count": null,
   "metadata": {},
   "outputs": [],
   "source": [
    "pd.set_option('max_columns', None)\n",
    "pd.reset_option('max_columns')\n",
    "pd.set_option('max_rows', None)\n",
    "pd.reset_option('max_rows')"
   ]
  },
  {
   "cell_type": "code",
   "execution_count": null,
   "metadata": {},
   "outputs": [],
   "source": [
    "# Outliers = []\n",
    "# Filters = [(GlobalTable_meca_Py['validatedFit'] == True), (GlobalTable_meca_Py['validatedThickness'] == True), \\\n",
    "#            (GlobalTable_meca_Py['drug'].apply(lambda x : x in ['none', 'doxycyclin'])), \\\n",
    "#            (GlobalTable_meca_Py['substrate'] == '20um fibronectin discs'), (GlobalTable_meca_Py['cell subtype'].apply(lambda x : x in ['aSFL', 'aSFL-6FP', 'aSFL-6FP-2'])), \\\n",
    "#            (GlobalTable_meca_Py['cellID'].apply(lambda x : x not in Outliers))]\n",
    "# co_order = makeOrder(['aSFL', 'aSFL-6FP', 'aSFL-6FP-2'], ['none', 'doxycyclin'])\n",
    "# box_pairs=[('aSFL & none', 'aSFL & doxycyclin'),\n",
    "#  ('aSFL-6FP & none', 'aSFL-6FP & doxycyclin'),\n",
    "#  ('aSFL-6FP-2 & none', 'aSFL-6FP-2 & doxycyclin'),\n",
    "#  ('aSFL & none', 'aSFL-6FP & none'),\n",
    "#  ('aSFL & none', 'aSFL-6FP-2 & none'),\n",
    "#  ('aSFL-6FP & none', 'aSFL-6FP-2 & none')]\n",
    "# fig, ax = D1Plot(GlobalTable_meca_Py, CondCol=['cell subtype', 'drug'],\\\n",
    "#                  Parameters=['ctFieldThickness','EChadwick'], Filters=Filters,\\\n",
    "#                  AvgPerCell=True, cellID='cellID', co_order=co_order, box_pairs = box_pairs, figSizeFactor = 1, orientation = 'v')\n",
    "# ax[0].set_ylim([0, ax[0].get_ylim()[1]])\n",
    "# renameAxes(ax,renameDict1)\n",
    "# fig.suptitle('3T3aSFL 6FP-2')\n",
    "# archiveFig(fig, ax, name='3T3aSFL-6FP-2_Thickness&EChadwick', figSubDir = figSubDir)\n",
    "# fig.show()\n",
    "# # 'ctFieldThickness', 'surroundingThickness', 'none', 'doxycyclin', "
   ]
  },
  {
   "cell_type": "code",
   "execution_count": null,
   "metadata": {},
   "outputs": [],
   "source": [
    "Outliers = []\n",
    "Filters = [(GlobalTable_meca_Py['validatedFit'] == True), (GlobalTable_meca_Py['validatedThickness'] == True), \\\n",
    "           (GlobalTable_meca_Py['drug'].apply(lambda x : x in ['none', 'doxycyclin'])), \\\n",
    "           (GlobalTable_meca_Py['substrate'] == '20um fibronectin discs'), (GlobalTable_meca_Py['cell subtype'].apply(lambda x : x in ['aSFL', 'aSFL-6FP-2'])), \\\n",
    "           (GlobalTable_meca_Py['cellID'].apply(lambda x : x not in Outliers))]\n",
    "co_order = makeOrder(['aSFL', 'aSFL-6FP-2'], ['none', 'doxycyclin'])\n",
    "box_pairs=[('aSFL & none', 'aSFL & doxycyclin'),\n",
    " ('aSFL-6FP-2 & none', 'aSFL-6FP-2 & doxycyclin'),\n",
    " ('aSFL & none', 'aSFL-6FP-2 & none')]\n",
    "fig, ax = D1Plot(GlobalTable_meca_Py, CondCol=['cell subtype', 'drug'],\\\n",
    "                 Parameters=['ctFieldThickness','EChadwick'], Filters=Filters,\\\n",
    "                 AvgPerCell=True, cellID='cellID', co_order=co_order, box_pairs = box_pairs, figSizeFactor = 1, orientation = 'v')\n",
    "ax[0].set_ylim([0, ax[0].get_ylim()[1]])\n",
    "renameAxes(ax,renameDict1)\n",
    "fig.suptitle('3T3aSFL 6FP-2')\n",
    "archiveFig(fig, ax, name='3T3aSFL-6FP-2_Thickness&EChadwick', figSubDir = figSubDir)\n",
    "fig.show()\n",
    "# 'ctFieldThickness', 'surroundingThickness', 'none', 'doxycyclin', "
   ]
  },
  {
   "cell_type": "code",
   "execution_count": null,
   "metadata": {},
   "outputs": [],
   "source": [
    "Outliers = []\n",
    "Filters = [(GlobalTable_meca_Py['validatedFit'] == True), (GlobalTable_meca_Py['validatedThickness'] == True), \\\n",
    "           (GlobalTable_meca_Py['drug'].apply(lambda x : x in ['none', 'doxycyclin'])), \\\n",
    "           (GlobalTable_meca_Py['substrate'] == '20um fibronectin discs'), (GlobalTable_meca_Py['cell subtype'].apply(lambda x : x in ['aSFL-6FP-2'])), \\\n",
    "           (GlobalTable_meca_Py['cellID'].apply(lambda x : x not in Outliers))]\n",
    "fig, ax = D2Plot(GlobalTable_meca_Py, XCol='meanFluoPeakAmplitude', YCol='EChadwick', CondCol = ['cell subtype', 'drug'], \\\n",
    "                 Filters=Filters, cellID = 'cellID', AvgPerCell=True, modelFit=True)\n",
    "\n",
    "renameAxes(ax,renameDict1)\n",
    "fig.suptitle('aSFL-6FP-2 expressing linker: E(fluo)')\n",
    "yt = ax.get_yticks()\n",
    "ax.set_yticklabels((yt/1000).astype(int))\n",
    "ax.set_ylabel('E Chadwick (kPa)')\n",
    "\n",
    "# archiveFig(fig, ax, name='aSFL_iMC_E(fluo)', figDir = todayFigDir, figSubDir='FluoPlots')\n",
    "fig.show()"
   ]
  },
  {
   "cell_type": "code",
   "execution_count": null,
   "metadata": {},
   "outputs": [],
   "source": [
    "Outliers = []\n",
    "Filters = [(GlobalTable_meca_Py['validatedFit'] == True), (GlobalTable_meca_Py['validatedThickness'] == True), \\\n",
    "           (GlobalTable_meca_Py['drug'].apply(lambda x : x in ['none', 'doxycyclin'])), \\\n",
    "           (GlobalTable_meca_Py['substrate'] == '20um fibronectin discs'), \n",
    "           (GlobalTable_meca_Py['cell subtype'].apply(lambda x : x in ['aSFL-6FP'])), \\\n",
    "           (GlobalTable_meca_Py['cellID'].apply(lambda x : x not in Outliers))]\n",
    "fig, ax = D2Plot(GlobalTable_meca_Py, XCol='meanFluoPeakAmplitude', YCol='EChadwick', CondCol = ['cell subtype', 'drug'], \\\n",
    "                 Filters=Filters, cellID = 'cellID', AvgPerCell=True, modelFit=True)\n",
    "\n",
    "renameAxes(ax,renameDict1)\n",
    "fig.suptitle('aSFL-6FP expressing linker: E(fluo)')\n",
    "yt = ax.get_yticks()\n",
    "ax.set_yticklabels((yt/1000).astype(int))\n",
    "ax.set_ylabel('E Chadwick (kPa)')\n",
    "\n",
    "# archiveFig(fig, ax, name='aSFL_iMC_E(fluo)', figDir = todayFigDir, figSubDir='FluoPlots')\n",
    "fig.show()"
   ]
  },
  {
   "cell_type": "code",
   "execution_count": null,
   "metadata": {},
   "outputs": [],
   "source": [
    "Outliers = []\n",
    "Filters = [(GlobalTable_meca_Py['validatedFit'] == True), (GlobalTable_meca_Py['validatedThickness'] == True), \\\n",
    "           (GlobalTable_meca_Py['drug'].apply(lambda x : x in ['none', 'doxycyclin'])), \\\n",
    "           (GlobalTable_meca_Py['substrate'] == '20um fibronectin discs'), \n",
    "           (GlobalTable_meca_Py['cell subtype'].apply(lambda x : x in ['aSFL'])), \\\n",
    "           (GlobalTable_meca_Py['cellID'].apply(lambda x : x not in Outliers))]\n",
    "fig, ax = D2Plot(GlobalTable_meca_Py, XCol='meanFluoPeakAmplitude', YCol='EChadwick', CondCol = ['cell subtype', 'drug'], \\\n",
    "                 Filters=Filters, cellID = 'cellID', AvgPerCell=True, modelFit=True)\n",
    "\n",
    "renameAxes(ax,renameDict1)\n",
    "fig.suptitle('aSFL expressing linker: E(fluo)')\n",
    "yt = ax.get_yticks()\n",
    "ax.set_yticklabels((yt/1000).astype(int))\n",
    "ax.set_ylabel('E Chadwick (kPa)')\n",
    "\n",
    "# archiveFig(fig, ax, name='aSFL_iMC_E(fluo)', figDir = todayFigDir, figSubDir='FluoPlots')\n",
    "fig.show()"
   ]
  },
  {
   "cell_type": "markdown",
   "metadata": {},
   "source": [
    "#### High expresser experiment, second version of the clone (aSFL A8-2) -- (Sergio's visit september 2021)"
   ]
  },
  {
   "cell_type": "code",
   "execution_count": null,
   "metadata": {},
   "outputs": [],
   "source": [
    "# Outliers = []\n",
    "# Filters = [(GlobalTable_meca_Py['validatedFit'] == True), (GlobalTable_meca_Py['validatedThickness'] == True),\n",
    "#            (GlobalTable_meca_Py['drug'].apply(lambda x : x in ['none', 'doxycyclin'])),\n",
    "#            (GlobalTable_meca_Py['substrate'] == '20um fibronectin discs'), \n",
    "#            (GlobalTable_meca_Py['cell subtype'].apply(lambda x : x in ['aSFL', 'aSFL-A8', 'aSFL-A8-2'])),\n",
    "#            (GlobalTable_meca_Py['cellID'].apply(lambda x : x not in Outliers))]\n",
    "# co_order = makeOrder(['aSFL', 'aSFL-A8', 'aSFL-A8-2'], ['none', 'doxycyclin'])\n",
    "# box_pairs=[('aSFL & none', 'aSFL & doxycyclin'),\n",
    "#  ('aSFL-A8 & none', 'aSFL-A8 & doxycyclin'),\n",
    "#  ('aSFL-A8-2 & none', 'aSFL-A8-2 & doxycyclin'),\n",
    "#  ('aSFL & none', 'aSFL-A8 & none'),\n",
    "#  ('aSFL & none', 'aSFL-A8-2 & none'),\n",
    "#  ('aSFL-A8 & none', 'aSFL-A8-2 & none')]\n",
    "# fig, ax = D1Plot(GlobalTable_meca_Py, CondCol=['cell subtype', 'drug'],\\\n",
    "#                  Parameters=['surroundingThickness','EChadwick'], Filters=Filters,\\\n",
    "#                  AvgPerCell=True, cellID='cellID', co_order=co_order, box_pairs = box_pairs, \n",
    "#                  figSizeFactor = 1, orientation = 'v', useHue = True)\n",
    "# ax[0].set_ylim([0, ax[0].get_ylim()[1]])\n",
    "# renameAxes(ax,renameDict1)\n",
    "# fig.suptitle('3T3aSFL A8-2')\n",
    "# # archiveFig(fig, ax, name='3T3aSFL-A8-2_Thickness&EChadwick', figSubDir = figSubDir)\n",
    "# fig.show()\n",
    "# # 'ctFieldThickness', 'surroundingThickness', 'none', 'doxycyclin', "
   ]
  },
  {
   "cell_type": "code",
   "execution_count": null,
   "metadata": {},
   "outputs": [],
   "source": [
    "Outliers = []\n",
    "Filters = [(GlobalTable_meca_Py['validatedFit'] == True), (GlobalTable_meca_Py['validatedThickness'] == True),\n",
    "           (GlobalTable_meca_Py['drug'].apply(lambda x : x in ['none', 'doxycyclin'])),\n",
    "           (GlobalTable_meca_Py['substrate'] == '20um fibronectin discs'), \n",
    "           (GlobalTable_meca_Py['cell subtype'].apply(lambda x : x in ['aSFL', 'aSFL-A8-2'])),\n",
    "           (GlobalTable_meca_Py['cellID'].apply(lambda x : x not in Outliers))]\n",
    "co_order = makeOrder(['aSFL', 'aSFL-A8-2'], ['none', 'doxycyclin'])\n",
    "box_pairs=[('aSFL & none', 'aSFL & doxycyclin'),\n",
    " ('aSFL-A8-2 & none', 'aSFL-A8-2 & doxycyclin'),\n",
    " ('aSFL & none', 'aSFL-A8-2 & none')]\n",
    "fig, ax = D1Plot(GlobalTable_meca_Py, CondCol=['cell subtype', 'drug'],\\\n",
    "                 Parameters=['surroundingThickness','EChadwick'], Filters=Filters,\\\n",
    "                 AvgPerCell=True, cellID='cellID', co_order=co_order, box_pairs = box_pairs, \n",
    "                 figSizeFactor = 1, orientation = 'v', useHue = False)\n",
    "ax[0].set_ylim([0, ax[0].get_ylim()[1]])\n",
    "renameAxes(ax,renameDict1)\n",
    "fig.suptitle('3T3aSFL A8-2')\n",
    "archiveFig(fig, ax, name='3T3aSFL-A8-2_Thickness&EChadwick', figSubDir = figSubDir)\n",
    "fig.show()\n",
    "# 'ctFieldThickness', 'surroundingThickness', 'none', 'doxycyclin', "
   ]
  },
  {
   "cell_type": "code",
   "execution_count": null,
   "metadata": {},
   "outputs": [],
   "source": [
    "Outliers = []\n",
    "Filters = [(GlobalTable_meca_Py['validatedFit'] == True), (GlobalTable_meca_Py['validatedThickness'] == True), \\\n",
    "           (GlobalTable_meca_Py['drug'].apply(lambda x : x in ['none', 'doxycyclin'])), \\\n",
    "           (GlobalTable_meca_Py['substrate'] == '20um fibronectin discs'), \n",
    "           (GlobalTable_meca_Py['cell subtype'].apply(lambda x : x in ['aSFL-A8-2'])), \\\n",
    "           (GlobalTable_meca_Py['cellID'].apply(lambda x : x not in Outliers))]\n",
    "fig, ax = D2Plot(GlobalTable_meca_Py, XCol='meanFluoPeakAmplitude', YCol='EChadwick', CondCol = ['cell subtype', 'drug'], \\\n",
    "                 Filters=Filters, cellID = 'cellID', AvgPerCell=True, modelFit=True)\n",
    "\n",
    "renameAxes(ax,renameDict1)\n",
    "fig.suptitle('aSFL-A8-2 expressing linker: E(fluo)')\n",
    "yt = ax.get_yticks()\n",
    "ax.set_yticklabels((yt/1000).astype(int))\n",
    "ax.set_ylabel('E Chadwick (kPa)')\n",
    "\n",
    "archiveFig(fig, ax, name='aSFL-A8-2_iMC_E(fluo)', figDir = todayFigDir, figSubDir='FluoPlots')\n",
    "fig.show()"
   ]
  },
  {
   "cell_type": "code",
   "execution_count": null,
   "metadata": {},
   "outputs": [],
   "source": [
    "Outliers = []\n",
    "Filters = [(GlobalTable_meca_Py['validatedFit'] == True), (GlobalTable_meca_Py['validatedThickness'] == True), \\\n",
    "           (GlobalTable_meca_Py['drug'].apply(lambda x : x in ['none', 'doxycyclin'])), \\\n",
    "           (GlobalTable_meca_Py['substrate'] == '20um fibronectin discs'), \n",
    "           (GlobalTable_meca_Py['cell subtype'].apply(lambda x : x in ['aSFL'])), \\\n",
    "           (GlobalTable_meca_Py['cellID'].apply(lambda x : x not in Outliers))]\n",
    "fig, ax = D2Plot(GlobalTable_meca_Py, XCol='meanFluoPeakAmplitude', YCol='EChadwick', CondCol = ['cell subtype', 'drug'], \\\n",
    "                 Filters=Filters, cellID = 'cellID', AvgPerCell=True, modelFit=True)\n",
    "\n",
    "renameAxes(ax,renameDict1)\n",
    "fig.suptitle('aSFL expressing linker: E(fluo)')\n",
    "yt = ax.get_yticks()\n",
    "ax.set_yticklabels((yt/1000).astype(int))\n",
    "ax.set_ylabel('E Chadwick (kPa)')\n",
    "\n",
    "# archiveFig(fig, ax, name='aSFL_iMC_E(fluo)', figDir = todayFigDir, figSubDir='FluoPlots')\n",
    "fig.show()"
   ]
  },
  {
   "cell_type": "code",
   "execution_count": null,
   "metadata": {},
   "outputs": [],
   "source": [
    "Outliers = []\n",
    "Filters = [(GlobalTable_meca_Py['validatedFit'] == True), (GlobalTable_meca_Py['validatedThickness'] == True), \\\n",
    "           (GlobalTable_meca_Py['drug'].apply(lambda x : x in ['none', 'doxycyclin'])), \\\n",
    "           (GlobalTable_meca_Py['substrate'] == '20um fibronectin discs'), \n",
    "           (GlobalTable_meca_Py['cell subtype'].apply(lambda x : x in ['aSFL', 'aSFL-A8-2'])), \\\n",
    "           (GlobalTable_meca_Py['cellID'].apply(lambda x : x not in Outliers))]\n",
    "fig, ax = D2Plot(GlobalTable_meca_Py, XCol='meanFluoPeakAmplitude', YCol='EChadwick', CondCol = ['drug'], \\\n",
    "                 Filters=Filters, cellID = 'cellID', AvgPerCell=True, modelFit=True)\n",
    "\n",
    "renameAxes(ax,renameDict1)\n",
    "fig.suptitle('{aSFL & aSFL-A8-2 mixed} expressing linker: E(fluo)')\n",
    "yt = ax.get_yticks()\n",
    "ax.set_yticklabels((yt/1000).astype(int))\n",
    "ax.set_ylabel('E Chadwick (kPa)')\n",
    "\n",
    "# archiveFig(fig, ax, name='aSFL_A11+A8-2_iMC_E(fluo)', figDir = todayFigDir, figSubDir='FluoPlots')\n",
    "fig.show()"
   ]
  },
  {
   "cell_type": "code",
   "execution_count": null,
   "metadata": {},
   "outputs": [],
   "source": [
    "Filters = [(GlobalTable_meca_Py['validatedFit'] == True), (GlobalTable_meca_Py['validatedThickness'] == True),\\\n",
    "           (GlobalTable_meca_Py['substrate'] == '20um fibronectin discs'), \n",
    "           (GlobalTable_meca_Py['drug'].apply(lambda x : x in ['doxycyclin'])), \\\n",
    "           (pd.isna(GlobalTable_meca_Py['meanFluoPeakAmplitude']) != True),\n",
    "          (GlobalTable_meca_Py['cell subtype'].apply(lambda x : x in ['aSFL','aSFL-6FP','aSFL-A8','aSFL-6FP-2','aSFL-A8-2'])),]\n",
    "co_order = makeOrder(['aSFL','aSFL-A8','aSFL-6FP','aSFL-A8-2','aSFL-6FP-2'])\n",
    "box_pairs=[('aSFL', 'aSFL-A8'),\n",
    " ('aSFL', 'aSFL-6FP'),\n",
    " ('aSFL', 'aSFL-A8-2'),\n",
    " ('aSFL', 'aSFL-6FP-2')]\n",
    "fig, ax = D1Plot(GlobalTable_meca_Py, CondCol=['cell subtype'],Parameters=['meanFluoPeakAmplitude'],\\\n",
    "                 Filters=Filters,AvgPerCell=True,cellID='cellID',co_order=co_order,box_pairs=box_pairs,stats=True,figSizeFactor=1.75)\n",
    "renameAxes(ax,renameDict1)\n",
    "fig.suptitle('3T3aSFL - different cell lines expressing the linker\\nLinker expression quantification by fluo')\n",
    "archiveFig(fig, ax, name='3T3aSFL_likerType&_fluoExp_NewVersion', figSubDir = figSubDir)\n",
    "fig.show()"
   ]
  },
  {
   "cell_type": "code",
   "execution_count": null,
   "metadata": {},
   "outputs": [],
   "source": [
    "Filters = [(GlobalTable_meca_Py['validatedFit'] == True), (GlobalTable_meca_Py['validatedThickness'] == True),\\\n",
    "           (GlobalTable_meca_Py['substrate'] == '20um fibronectin discs'), \n",
    "           (GlobalTable_meca_Py['drug'].apply(lambda x : x in ['none', 'doxycyclin'])), \\\n",
    "           (pd.isna(GlobalTable_meca_Py['meanFluoPeakAmplitude']) != True),\n",
    "          (GlobalTable_meca_Py['cell subtype'].apply(lambda x : x in ['aSFL','aSFL-6FP','aSFL-A8','aSFL-6FP-2','aSFL-A8-2'])),]\n",
    "co_order = makeOrder(['aSFL','aSFL-A8','aSFL-6FP','aSFL-A8-2','aSFL-6FP-2'], ['none', 'doxycyclin'])\n",
    "fig, ax = D1Plot(GlobalTable_meca_Py, CondCol=['cell subtype', 'drug'],Parameters=['meanFluoPeakAmplitude'],\\\n",
    "                 Filters=Filters,AvgPerCell=True,cellID='cellID',co_order=co_order,stats=False,figSizeFactor=1.05)\n",
    "renameAxes(ax,renameDict1)\n",
    "fig.suptitle('3T3aSFL different cell lines\\nLinker expression quantif by fluo')\n",
    "# archiveFig(fig, ax, name='3T3aSFL_likerType&_fluoExp_NewVersion_2', figSubDir = figSubDir)\n",
    "fig.show()"
   ]
  },
  {
   "cell_type": "code",
   "execution_count": null,
   "metadata": {},
   "outputs": [],
   "source": [
    "Filters = [(GlobalTable_meca_Py['validatedFit'] == True), (GlobalTable_meca_Py['validatedThickness'] == True),\\\n",
    "           (GlobalTable_meca_Py['substrate'] == '20um fibronectin discs'), \n",
    "           (GlobalTable_meca_Py['drug'].apply(lambda x : x in ['none', 'doxycyclin'])), \\\n",
    "           (pd.isna(GlobalTable_meca_Py['meanFluoPeakAmplitude']) != True),\n",
    "          (GlobalTable_meca_Py['cell subtype'].apply(lambda x : x in ['aSFL','aSFL-6FP-2','aSFL-A8-2'])),]\n",
    "co_order = makeOrder(['aSFL','aSFL-A8-2','aSFL-6FP-2'], ['none', 'doxycyclin'])\n",
    "box_pairs=[('aSFL & doxycyclin', 'aSFL-A8-2 & doxycyclin'),\n",
    " ('aSFL & doxycyclin', 'aSFL-6FP-2 & doxycyclin')]\n",
    "fig, ax = D1Plot(GlobalTable_meca_Py, CondCol=['cell subtype', 'drug'],Parameters=['meanFluoPeakAmplitude'],\\\n",
    "                 Filters=Filters,AvgPerCell=True,cellID='cellID',co_order=co_order,box_pairs=box_pairs,stats=True,\n",
    "                 figSizeFactor=0.95)\n",
    "renameAxes(ax,renameDict1)\n",
    "fig.suptitle('3T3aSFL - different cell lines\\nLinker expression quantification by fluo')\n",
    "archiveFig(fig, ax, name='3T3aSFL_likerType&_fluoExp_NewVersion_2', figSubDir = figSubDir)\n",
    "fig.show()"
   ]
  },
  {
   "cell_type": "markdown",
   "metadata": {},
   "source": [
    "## Utility scripts"
   ]
  },
  {
   "cell_type": "markdown",
   "metadata": {},
   "source": [
    "### Create a test table to test different fits"
   ]
  },
  {
   "cell_type": "code",
   "execution_count": null,
   "metadata": {},
   "outputs": [],
   "source": [
    "# Script !\n",
    "\n",
    "\n",
    "\n",
    "\n",
    "testDir = os.path.join(dataDir, 'TestDataSet')\n",
    "testFileName = 'testFitCompression.txt'\n",
    "testFilePath = os.path.join(testDir, testFileName)\n",
    "\n",
    "list_mecaFiles = [f for f in os.listdir(timeSeriesDataDir) \\\n",
    "                  if (os.path.isfile(os.path.join(timeSeriesDataDir, f)) and f.endswith(\".csv\") \\\n",
    "                  and ('R40' in f))] # Change to allow different formats in the future\n",
    "expDf = getExperimentalConditions()\n",
    "tableDictTest = {}\n",
    "\n",
    "for f in list_mecaFiles:\n",
    "    print(f)\n",
    "    tS_DataFilePath = os.path.join(timeSeriesDataDir, f)\n",
    "    tsDF = pd.read_csv(tS_DataFilePath, ';')\n",
    "    \n",
    "    split_f = f.split('_')\n",
    "    tsDF.dx, tsDF.dy, tsDF.dz, tsDF.D2, tsDF.D3 = tsDF.dx*1000, tsDF.dy*1000, tsDF.dz*1000, tsDF.D2*1000, tsDF.D3*1000\n",
    "    thisManipID = split_f[0] + '_' + split_f[1]\n",
    "    expDf['manipID'] = expDf['date'] + '_' + expDf['manip']\n",
    "    thisExpDf = expDf.loc[expDf['manipID'] == thisManipID]\n",
    "    DIAMETER = thisExpDf.at[thisExpDf.index.values[0], 'bead diameter']\n",
    "    thisCellID = split_f[0] + '_' + split_f[1] + '_' + split_f[2] + '_' + split_f[3]\n",
    "    Ncomp = max(tsDF['idxCompression'])\n",
    "    \n",
    "    for i in range(1, Ncomp+1): #Ncomp+1):\n",
    "        thisCompHiD = thisCellID + '__' + str(i) + '__h'\n",
    "        thisCompFiD = thisCellID + '__' + str(i) + '__f'\n",
    "        print(thisCompHiD)\n",
    "        \n",
    "        thisCompDf = tsDF.loc[tsDF['idxCompression'] == i, :]\n",
    "        iStart = (findFirst(tsDF['idxCompression'], i))\n",
    "        iStop = iStart + thisCompDf.shape[0]\n",
    "        \n",
    "        # Delimit the start of the increase of B (typically the moment when the field decrease from 5 to 3)\n",
    "        # and the end of its decrease (typically when it goes back from 3 to 5)\n",
    "        \n",
    "        listB = thisCompDf.B.values\n",
    "        offsetStart, offsetStop = 0, 0\n",
    "        minB, maxB = min(listB), max(listB)\n",
    "        thresholdB = (maxB-minB)/50\n",
    "        k = 0\n",
    "        \n",
    "        while (listB[k] > minB+thresholdB) or (listB[-1-k] > minB+thresholdB):\n",
    "            offsetStart += int(listB[k] > minB+thresholdB)\n",
    "            k += 1\n",
    "        \n",
    "        jStart = offsetStart\n",
    "        jMax = np.argmax(thisCompDf.B)\n",
    "        \n",
    "        hCompr = (thisCompDf.D3.values[jStart:jMax+1] - DIAMETER)\n",
    "        fCompr = (thisCompDf.F.values[jStart:jMax+1])\n",
    "        \n",
    "        tableDictTest[thisCompHiD] = hCompr\n",
    "        tableDictTest[thisCompFiD] = fCompr\n",
    "        \n",
    "saveFile = open(testFilePath, 'w')\n",
    "for k in tableDictTest.keys():\n",
    "    saveFile.write(k)\n",
    "    for i in range(len(tableDictTest[k])):\n",
    "        saveFile.write(';')\n",
    "        saveFile.write(str(tableDictTest[k][i]))\n",
    "    saveFile.write('\\n')\n",
    "saveFile.close()"
   ]
  },
  {
   "cell_type": "markdown",
   "metadata": {},
   "source": [
    "### Create a test table to try statistical tests"
   ]
  },
  {
   "cell_type": "code",
   "execution_count": null,
   "metadata": {
    "code_folding": [
     0
    ]
   },
   "outputs": [],
   "source": [
    "# Script !\n",
    "\n",
    "# Create a test table to try statistical tests\n",
    "\n",
    "testDir = os.path.join(dataDir, 'TestDataSet')\n",
    "GlobalTable_meca = getGlobalTable_meca()\n",
    "table_ExpConditions = getExperimentalConditions()\n",
    "table_fluo = getFluoData()\n",
    "GlobalTable_meca = pd.merge(GlobalTable_meca, table_ExpConditions, how=\"inner\", on='manipID',\n",
    "#     left_on=None,right_on=None,left_index=False,right_index=False,sort=True,\n",
    "#     suffixes=(\"_x\", \"_y\"),copy=True,indicator=False,validate=None,\n",
    ")\n",
    "GlobalTable_meca = pd.merge(GlobalTable_meca, table_fluo, how=\"left\", left_on='CellName', right_on='cellID'\n",
    "#     left_on=None,right_on=None,left_index=False,right_index=False,sort=True,\n",
    "#     suffixes=(\"_x\", \"_y\"),copy=True,indicator=False,validate=None,\n",
    ")\n",
    "print('Merged table has ' + str(GlobalTable_meca.shape[0]) + ' lines and ' + str(GlobalTable_meca.shape[1]) + ' columns.')"
   ]
  },
  {
   "cell_type": "code",
   "execution_count": null,
   "metadata": {
    "code_folding": [
     0
    ]
   },
   "outputs": [],
   "source": [
    "# Table 1\n",
    "\n",
    "testFileName = 'testStats01_allComp.csv'\n",
    "testFilePath = os.path.join(testDir, testFileName)\n",
    "\n",
    "Filters = [(GlobalTable_meca['Validated'] == 1), (GlobalTable_meca['cell subtype'] == 'aSFL')]\n",
    "co_order = makeOrder([['BSA coated glass','20um fibronectin discs'],['none','doxycyclin']])\n",
    "data = GlobalTable_meca\n",
    "CondCol=['substrate','drug']\n",
    "Parameters=['SurroundingThickness','EChadwick']\n",
    "AvgPerCell=False\n",
    "cellID='CellName'\n",
    "\n",
    "data_filtered = data\n",
    "for fltr in Filters:\n",
    "    data_filtered = data_filtered.loc[fltr]\n",
    "\n",
    "NCond = len(CondCol)    \n",
    "if NCond == 1:\n",
    "    CondCol = CondCol[0]\n",
    "elif NCond > 1:\n",
    "    newColName = ''\n",
    "    for i in range(NCond):\n",
    "        newColName += CondCol[i]\n",
    "        newColName += ' & '\n",
    "    newColName = newColName[:-3]\n",
    "    data_filtered[newColName] = ''\n",
    "    for i in range(NCond):\n",
    "        data_filtered[newColName] += data_filtered[CondCol[i]].astype(str)\n",
    "        data_filtered[newColName] = data_filtered[newColName].apply(lambda x : x + ' & ')\n",
    "    data_filtered[newColName] = data_filtered[newColName].apply(lambda x : x[:-3])\n",
    "    CondCol = newColName\n",
    "    \n",
    "if AvgPerCell:\n",
    "    group = data_filtered.groupby(cellID)\n",
    "    dictAggMean = getDictAggMean(data_filtered)\n",
    "    data_filtered = group.agg(dictAggMean)\n",
    "\n",
    "data_filtered.sort_values(CondCol, axis=0, ascending=True, inplace=True)\n",
    "\n",
    "df_output = data_filtered[[cellID, 'CompNum', newColName] + Parameters]\n",
    "\n",
    "# df_output.to_csv(testFilePath)\n",
    "\n",
    "df_output"
   ]
  },
  {
   "cell_type": "code",
   "execution_count": null,
   "metadata": {
    "code_folding": [
     0
    ]
   },
   "outputs": [],
   "source": [
    "# Table 2\n",
    "\n",
    "testFileName = 'testStats02_avgPerCell.csv'\n",
    "testFilePath = os.path.join(testDir, testFileName)\n",
    "\n",
    "Filters = [(GlobalTable_meca['Validated'] == 1), (GlobalTable_meca['cell subtype'] == 'aSFL')]\n",
    "co_order = makeOrder([['BSA coated glass','20um fibronectin discs'],['none','doxycyclin']])\n",
    "data = GlobalTable_meca\n",
    "CondCol=['substrate','drug']\n",
    "Parameters=['SurroundingThickness','EChadwick']\n",
    "AvgPerCell=True\n",
    "cellID='CellName'\n",
    "\n",
    "data_filtered = data\n",
    "for fltr in Filters:\n",
    "    data_filtered = data_filtered.loc[fltr]\n",
    "\n",
    "NCond = len(CondCol)    \n",
    "if NCond == 1:\n",
    "    CondCol = CondCol[0]\n",
    "elif NCond > 1:\n",
    "    newColName = ''\n",
    "    for i in range(NCond):\n",
    "        newColName += CondCol[i]\n",
    "        newColName += ' & '\n",
    "    newColName = newColName[:-3]\n",
    "    data_filtered[newColName] = ''\n",
    "    for i in range(NCond):\n",
    "        data_filtered[newColName] += data_filtered[CondCol[i]].astype(str)\n",
    "        data_filtered[newColName] = data_filtered[newColName].apply(lambda x : x + ' & ')\n",
    "    data_filtered[newColName] = data_filtered[newColName].apply(lambda x : x[:-3])\n",
    "    CondCol = newColName\n",
    "    \n",
    "if AvgPerCell:\n",
    "    group = data_filtered.groupby(cellID)\n",
    "    dictAggMean = getDictAggMean(data_filtered)\n",
    "    data_filtered = group.agg(dictAggMean)\n",
    "\n",
    "data_filtered.sort_values(CondCol, axis=0, ascending=True, inplace=True)\n",
    "\n",
    "df_output = data_filtered[[cellID, 'CompNum', newColName] + Parameters]\n",
    "\n",
    "# df_output.to_csv(testFilePath)\n",
    "\n",
    "df_output"
   ]
  },
  {
   "cell_type": "code",
   "execution_count": null,
   "metadata": {
    "code_folding": [
     0
    ]
   },
   "outputs": [],
   "source": [
    "# Table 3\n",
    "# Fake data\n",
    "\n",
    "testDir = os.path.join(dataDir, 'TestDataSet')\n",
    "\n",
    "testFileName = 'testStats03_FakeData.csv'\n",
    "testFilePath = os.path.join(testDir, testFileName)\n",
    "\n",
    "Npop = 10\n",
    "Npoints = 30\n",
    "minAvg = 100\n",
    "maxAvg = 600\n",
    "step = (maxAvg - minAvg)/(Npop-1)\n",
    "std = 250\n",
    "dictFakeData = {}\n",
    "np.random.seed(11)\n",
    "\n",
    "for i in [1, 2, 3, 10]:\n",
    "    dictFakeData['Distribution_' + str(i)] = np.random.normal(loc=minAvg + step*(i-1), scale=std, size=Npoints)\n",
    "\n",
    "dfFakeData = pd.DataFrame(dictFakeData)\n",
    "\n",
    "# dfFakeData.to_csv(testFilePath)\n",
    "\n",
    "dfFakeData"
   ]
  },
  {
   "cell_type": "code",
   "execution_count": null,
   "metadata": {
    "code_folding": [
     0
    ]
   },
   "outputs": [],
   "source": [
    "# Table 4\n",
    "# Fake data 2\n",
    "\n",
    "testDir = os.path.join(dataDir, 'TestDataSet')\n",
    "\n",
    "testFileName = 'testStats04_FakeDataLarge.csv'\n",
    "testFilePath = os.path.join(testDir, testFileName)\n",
    "\n",
    "Npop = 10\n",
    "Npoints = 300\n",
    "minAvg = 100\n",
    "maxAvg = 600\n",
    "step = (maxAvg - minAvg)/(Npop-1)\n",
    "std = 250\n",
    "dictFakeData = {}\n",
    "np.random.seed(11)\n",
    "\n",
    "for i in [1, 2, 3, 10]:\n",
    "    dictFakeData['Distribution_' + str(i)] = np.random.normal(loc=minAvg + step*(i-1), scale=std, size=Npoints)\n",
    "\n",
    "dfFakeData = pd.DataFrame(dictFakeData)\n",
    "\n",
    "# dfFakeData.to_csv(testFilePath)\n",
    "\n",
    "dfFakeData"
   ]
  },
  {
   "cell_type": "markdown",
   "metadata": {},
   "source": [
    "### Comparison of stat tests"
   ]
  },
  {
   "cell_type": "markdown",
   "metadata": {},
   "source": [
    "#### With the fake data"
   ]
  },
  {
   "cell_type": "code",
   "execution_count": null,
   "metadata": {},
   "outputs": [],
   "source": [
    "testDir = os.path.join(dataDir, 'TestDataSet')\n",
    "\n",
    "# Table 3\n",
    "# Fake data\n",
    "testFileName = 'testStats03_FakeData.csv'\n",
    "testFilePath = os.path.join(testDir, testFileName)\n",
    "\n",
    "dfFakeData = pd.read_csv(testFilePath)\n",
    "dfFakeData = dfFakeData.drop(columns=['Unnamed: 0'])\n",
    "\n",
    "Ncol = len(dfFakeData.columns)\n",
    "\n",
    "refCol = dfFakeData[dfFakeData.columns[0]]\n",
    "boxPlotMatrix = []\n",
    "\n",
    "for i in range(0,Ncol):\n",
    "    boxPlotMatrix.append(dfFakeData[dfFakeData.columns[i]].values)\n",
    "    if i > 0:\n",
    "        print('Comparison between distribution 1 and ' + str(i+1))\n",
    "        tTest = st.ttest_ind(refCol.values, dfFakeData[dfFakeData.columns[i]].values)\n",
    "        print('tTest : ' + str(tTest.pvalue))\n",
    "        wilcox = st.wilcoxon(refCol.values, dfFakeData[dfFakeData.columns[i]].values)\n",
    "        print('wilcox : ' + str(wilcox.pvalue))\n",
    "        mannwhitneyu = st.mannwhitneyu(refCol.values, dfFakeData[dfFakeData.columns[i]].values)\n",
    "        print('mannwhitneyu : ' + str(mannwhitneyu.pvalue))\n",
    "        print('')\n",
    "\n",
    "fig, ax = plt.subplots(1,1)\n",
    "ax.boxplot(boxPlotMatrix,labels=dfFakeData.columns.values)\n",
    "ax.tick_params(axis='x', labelrotation = 15, labelsize = 7)\n",
    "fig.show()"
   ]
  },
  {
   "cell_type": "code",
   "execution_count": null,
   "metadata": {},
   "outputs": [],
   "source": [
    "testDir = os.path.join(dataDir, 'TestDataSet')\n",
    "\n",
    "# Table 4\n",
    "# Fake data Large\n",
    "testFileName = 'testStats04_FakeDataLarge.csv'\n",
    "testFilePath = os.path.join(testDir, testFileName)\n",
    "\n",
    "dfFakeData = pd.read_csv(testFilePath)\n",
    "dfFakeData = dfFakeData.drop(columns=['Unnamed: 0'])\n",
    "\n",
    "Ncol = len(dfFakeData.columns)\n",
    "\n",
    "refCol = dfFakeData[dfFakeData.columns[0]]\n",
    "boxPlotMatrix = []\n",
    "\n",
    "for i in range(0,Ncol):\n",
    "    boxPlotMatrix.append(dfFakeData[dfFakeData.columns[i]].values)\n",
    "    if i > 0:\n",
    "        print('Comparison between distribution 1 and ' + str(i+1))\n",
    "        tTest = st.ttest_ind(refCol.values, dfFakeData[dfFakeData.columns[i]].values)\n",
    "        print('tTest : ' + str(tTest.pvalue))\n",
    "        wilcox = st.wilcoxon(refCol.values, dfFakeData[dfFakeData.columns[i]].values)\n",
    "        print('wilcox : ' + str(wilcox.pvalue))\n",
    "        mannwhitneyu = st.mannwhitneyu(refCol.values, dfFakeData[dfFakeData.columns[i]].values)\n",
    "        print('mannwhitneyu : ' + str(mannwhitneyu.pvalue))\n",
    "        print('')\n",
    "\n",
    "fig, ax = plt.subplots(1,1)\n",
    "ax.boxplot(boxPlotMatrix,labels=dfFakeData.columns.values)\n",
    "ax.tick_params(axis='x', labelrotation = 15, labelsize = 7)\n",
    "fig.show()"
   ]
  },
  {
   "cell_type": "code",
   "execution_count": null,
   "metadata": {},
   "outputs": [],
   "source": [
    "# Summary of results: numpy.random.seed = 11\n",
    "    \n",
    "dictResultsFakeData = {}\n",
    "dictResultsFakeData['language'] = ['python'   , 'python', 'python'      , 'R'     , 'R'          , 'Matlab' , 'Matlab' ]\n",
    "dictResultsFakeData['test']     = ['ttest_ind', 'wilcox', 'mannwhitneyu', 't.test', 'wilcox.test', 'ttest2' , 'ranksum']\n",
    "dictResultsFakeData['1 vs 2']   = [0.2700     , 0.2711  , 0.1353        , 0.2701  , 0.2729       , 0.2700   , 0.2707   ]\n",
    "dictResultsFakeData['1 vs 3']   = [0.0714     , 0.0822  , 0.0452        , 0.0715  , 0.0906       , 0.0714   , 0.0905   ]\n",
    "dictResultsFakeData['1 vs 10']  = [1.33e-11   , 4.28e-06, 2.98e-09      , 1.44e-11, 5.799e-11    , 1.33e-11 , 5.96e-09 ]\n",
    "dfResultFakeData = pd.DataFrame(dictResultsFakeData)\n",
    "dfResultFakeData"
   ]
  },
  {
   "cell_type": "code",
   "execution_count": null,
   "metadata": {},
   "outputs": [],
   "source": [
    "# Summary of results: numpy.random.seed = 11\n",
    "\n",
    "dictResultsFakeDataLarge = {}\n",
    "dictResultsFakeDataLarge['language'] = ['python'   , 'python', 'python'      , 'R'     , 'R'          , 'Matlab' , 'Matlab' ]\n",
    "dictResultsFakeDataLarge['test']     = ['ttest_ind', 'wilcox', 'mannwhitneyu', 't.test', 'wilcox.test', 'ttest2' , 'ranksum']\n",
    "dictResultsFakeDataLarge['1 vs 2']   = [0.0082     , 0.0049  , 0.0038        , 0.0082  , 0.0077       , 0.0082   , 0.0077   ]\n",
    "dictResultsFakeDataLarge['1 vs 3']   = [1.26e-06   , 9.29e-06, 1.37e-06      , 1.27e-06, 2.75e-06     , 1.26e-06 , 2.74e-06 ]\n",
    "dictResultsFakeDataLarge['1 vs 10']  = [1.74e-98   , 5.64e-48, 6.39e-74      , 2.2e-16 , 2.2e-16      , 1.74e-98 , 1.27e-73 ]\n",
    "dictResultsFakeDataLarge = pd.DataFrame(dictResultsFakeDataLarge)\n",
    "dictResultsFakeDataLarge"
   ]
  },
  {
   "cell_type": "markdown",
   "metadata": {},
   "source": [
    "#### With real data"
   ]
  },
  {
   "cell_type": "code",
   "execution_count": null,
   "metadata": {},
   "outputs": [],
   "source": [
    "# testDir = os.path.join(dataDir, 'TestDataSet')\n",
    "\n",
    "# Table 1\n",
    "# Avg Per Cell\n",
    "testFileName = 'testStats01_AvgPerCell.csv'\n",
    "testFilePath = os.path.join(testDir, testFileName)\n",
    "\n",
    "dfAvgPerCell = pd.read_csv(testFilePath)\n",
    "# dfAvgPerCell = dfAvgPerCell.drop(columns=['Unnamed: 0'])\n",
    "dfAvgPerCell\n",
    "categories = list(dfAvgPerCell['substrate & drug'].unique())\n",
    "Ncat = len(categories)\n",
    "for i in range(Ncat):\n",
    "    for j in range(i,Ncat):\n",
    "        if j != i:\n",
    "            x = dfAvgPerCell.loc[dfAvgPerCell['substrate & drug'] == categories[i], 'EChadwick'].values\n",
    "            y = dfAvgPerCell.loc[dfAvgPerCell['substrate & drug'] == categories[j], 'EChadwick'].values\n",
    "            print('Comparison between ' + categories[i] + ' and ' + categories[j])\n",
    "            tTest = st.ttest_ind(x, y)\n",
    "            print('tTest : ' + str(tTest.pvalue))\n",
    "            mannwhitneyu = st.mannwhitneyu(x, y)\n",
    "            print('mannwhitneyu : ' + str(mannwhitneyu.pvalue))\n",
    "            print('')\n",
    "\n",
    "# refCol = dfFakeData[dfFakeData.columns[0]]\n",
    "# boxPlotMatrix = []\n",
    "\n",
    "# for i in range(0,Ncol):\n",
    "#     boxPlotMatrix.append(dfFakeData[dfFakeData.columns[i]].values)\n",
    "#     if i > 0:\n",
    "#         print('Comparison between distribution 1 and ' + str(i+1))\n",
    "#         tTest = st.ttest_ind(refCol.values, dfFakeData[dfFakeData.columns[i]].values)\n",
    "#         print('tTest : ' + str(tTest.pvalue))\n",
    "#         wilcox = st.wilcoxon(refCol.values, dfFakeData[dfFakeData.columns[i]].values)\n",
    "#         print('wilcox : ' + str(wilcox.pvalue))\n",
    "#         mannwhitneyu = st.mannwhitneyu(refCol.values, dfFakeData[dfFakeData.columns[i]].values)\n",
    "#         print('mannwhitneyu : ' + str(mannwhitneyu.pvalue))\n",
    "#         print('')\n",
    "\n",
    "# fig, ax = plt.subplots(1,1)\n",
    "# ax.boxplot(boxPlotMatrix,labels=dfFakeData.columns.values)\n",
    "# ax.tick_params(axis='x', labelrotation = 15, labelsize = 7)\n",
    "# fig.show()"
   ]
  },
  {
   "cell_type": "code",
   "execution_count": null,
   "metadata": {},
   "outputs": [],
   "source": [
    "dictResultsAvgPerCell = {}\n",
    "order = ['language','test','c & NA vs iMC & A','c & NA vs c & A','iMC & NA vs iMC & A','c & NA vs iMC & NA','iMC & NA vs c & A','c & A vs iMC & A']\n",
    "dictResultsAvgPerCell['language']            = ['python_statAnot'   , 'python_statAnot' ,'python'   , 'python', 'R'      , 'R'          , 'Matlab' , 'Matlab' ]\n",
    "dictResultsAvgPerCell['test']                = ['ttest_ind', 'mannwhitneyu', 'ttest_ind', 'mannwhitneyu', 't.test' , 'wilcox.test', 'ttest2' , 'ranksum']\n",
    "dictResultsAvgPerCell['c & NA vs iMC & NA']  = [1.000e+00  , 5.669e-01     ,0.19226082553146542  , 0.047244130659518     , 0.1503   , 0.09502       , 0.1923       , 0.0945]\n",
    "dictResultsAvgPerCell['iMC & NA vs c & A']   = [9.673e-02  , 8.625e-03     ,0.016121864893694285  ,0.0007187494204219925     , 0.04082  , 0.0009726    , 0.0161     , 0.0014]\n",
    "dictResultsAvgPerCell['c & A vs iMC & A']    = [2.331e-02  , 1.376e-01     ,0.00388458593467288  , 0.01146586677766893     , 0.007326 , 0.02214      , 0.0039      , 0.0229]\n",
    "dictResultsAvgPerCell['c & NA vs c & A']     = [1.000e+00  , 1.000e+00     ,0.6977550928576132  , 0.2884535746840493     , 0.6948   , 0.5838       , 0.6978     , 0.5769]\n",
    "dictResultsAvgPerCell['iMC & NA vs iMC & A'] = [1.000e+00  , 1.000e+00     ,0.5573451346686198  , 0.41831870120029446,  0.5031  , 0.8387       , 0.5573      , 0.8366 ]\n",
    "dictResultsAvgPerCell['c & NA vs iMC & A']   = [9.726e-01  , 1.000e+00     ,0.16209530366557973  , 0.14893352365754048     , 0.04353  , 0.3043       , 0.1621       , 0.2979 ]\n",
    "dfResultsAvgPerCell = pd.DataFrame(dictResultsAvgPerCell)\n",
    "dfResultsAvgPerCell[order]\n",
    "\n",
    "# dfResultsAvgPerCell = dfResultsAvgPerCell.sort_values(by='test',ascending=False)\n",
    "# dfResultsAvgPerCell"
   ]
  },
  {
   "cell_type": "markdown",
   "metadata": {},
   "source": [
    "### Plot small stuff"
   ]
  },
  {
   "cell_type": "code",
   "execution_count": null,
   "metadata": {},
   "outputs": [],
   "source": [
    "SMALLER_SIZE = 6\n",
    "SMALL_SIZE = 6\n",
    "MEDIUM_SIZE = 10\n",
    "BIGGER_SIZE = 10\n",
    "\n",
    "plt.rc('font', size=SMALL_SIZE)          # controls default text sizes\n",
    "plt.rc('axes', titlesize=MEDIUM_SIZE)     # fontsize of the axes title\n",
    "plt.rc('axes', labelsize=MEDIUM_SIZE)    # fontsize of the x and y labels\n",
    "plt.rc('xtick', labelsize=SMALL_SIZE)    # fontsize of the tick labels\n",
    "plt.rc('ytick', labelsize=SMALL_SIZE)    # fontsize of the tick labels\n",
    "plt.rc('legend', fontsize=SMALLER_SIZE)    # legend fontsize\n",
    "plt.rc('figure', titlesize=BIGGER_SIZE)  # fontsize of the figure title\n",
    "\n",
    "F0, F1 = 500, 250\n",
    "h0, h1 = 200, 50\n",
    "om = 2*np.pi\n",
    "delta = 1\n",
    "T = np.arange(0,3,0.01)\n",
    "F = F1 * np.sin(2*np.pi*T) + F0\n",
    "h = h1 * np.sin(2*np.pi*T - delta) + h0\n",
    "\n",
    "fig, ax = plt.subplots(figsize = (4,2))\n",
    "color = 'firebrick'\n",
    "ax.plot(T, F, color = color, lw = 1)\n",
    "ax.plot([np.min(T), np.max(T)], [F0, F0], 'k--', lw = 1)\n",
    "ax.set_xlabel('t (s)')\n",
    "ax.set_ylabel('F (pN)', color=color)\n",
    "ax.tick_params(axis='y', labelcolor=color)\n",
    "\n",
    "axbis = ax.twinx()\n",
    "color = 'blue'\n",
    "axbis.set_ylabel('h (nm)', color=color)\n",
    "axbis.plot(T, h, color=color, lw = 1)\n",
    "axbis.tick_params(axis='y', labelcolor=color)\n",
    "# axbis.set_yticks([0,500,1000,1500])\n",
    "# minh = np.min(tsDF['D3'].values-DIAMETER)\n",
    "# ratio = min(1/abs(minh/axM), 5)\n",
    "# #             print(ratio)\n",
    "#             (axmbis, axMbis) = ax1bis.get_ylim()\n",
    "#             ax1bis.set_ylim([0, max(axMbis*ratio, 3*max(tsDF['F'].values))])"
   ]
  },
  {
   "cell_type": "markdown",
   "metadata": {},
   "source": [
    "## Old Code"
   ]
  },
  {
   "cell_type": "markdown",
   "metadata": {},
   "source": [
    "### Tweaked version of analyseTimeSeries_meca to plot specific stuff"
   ]
  },
  {
   "cell_type": "code",
   "execution_count": null,
   "metadata": {
    "code_folding": [
     0
    ]
   },
   "outputs": [],
   "source": [
    "def analyseTimeSeries_meca_tweaked(f, tsDF, expDf, listColumnsMeca, PLOT, PLOT_SHOW):\n",
    "    \n",
    "    split_f = f.split('_')\n",
    "    tsDF.dx, tsDF.dy, tsDF.dz, tsDF.D2, tsDF.D3 = tsDF.dx*1000, tsDF.dy*1000, tsDF.dz*1000, tsDF.D2*1000, tsDF.D3*1000\n",
    "    thisManipID = split_f[0] + '_' + split_f[1]\n",
    "    expDf['manipID'] = expDf['date'] + '_' + expDf['manip']\n",
    "    thisExpDf = expDf.loc[expDf['manipID'] == thisManipID]\n",
    "    DIAMETER = thisExpDf.at[thisExpDf.index.values[0], 'bead diameter']\n",
    "    \n",
    "    results = {}\n",
    "    for c in listColumnsMeca:\n",
    "        results[c] = []\n",
    "        \n",
    "    Ncomp = max(tsDF['idxCompression'])\n",
    "    NimgComp = np.sum((tsDF['idxCompression'] != 0))/Ncomp\n",
    "    NimgCompTh = round(0.49999999999 + np.sum((tsDF['idxCompression'] != 0))/Ncomp)\n",
    "    NimgBtwComp = np.sum((tsDF['idxCompression'] == 0))/Ncomp\n",
    "    NimgBtwCompTh = round(0.4999999999 + np.sum((tsDF['idxCompression'] == 0))/Ncomp)\n",
    "#     print('Ncomp : ' + str(Ncomp) + ' ; ' + 'NimgComp : ' + str(NimgComp) + '/' + str(NimgCompTh) + ' ; ' + 'NimgBtwComp : ' + str(NimgBtwComp) + '/' + str(NimgBtwCompTh))\n",
    "#     if not NimgBtwComp%2 == 0:\n",
    "#         print('Bug with the compressions sequence delimitation')\n",
    "\n",
    "    # These values are computed once for the whole cell D3 time series, but since the table has 1 line per compression, \n",
    "    # that same value will be put in the table for each line corresponding to that cell\n",
    "    ctFieldH = (tsDF.loc[tsDF['idxCompression'] == 0, 'D3'].values - DIAMETER)\n",
    "    ctFieldThickness   = np.median(ctFieldH)\n",
    "    ctFieldFluctuAmpli = np.percentile(ctFieldH,90) - np.percentile(ctFieldH,10)\n",
    "    \n",
    "    # First part of the plot [mainly ax1 and ax1bis]\n",
    "    if PLOT:\n",
    "        nColsSubplot = 5\n",
    "        nRowsSubplot = ((Ncomp-1) // nColsSubplot) + 1\n",
    "        fig1, ax1 = plt.subplots(1,1,figsize=(tsDF.shape[0]*(1/100)*0.25,4))\n",
    "#         fig2, ax2 = plt.subplots(1,Ncomp,figsize=(3*Ncomp,3))\n",
    "        fig2, ax2 = plt.subplots(nRowsSubplot,nColsSubplot,figsize=(3*nColsSubplot,3*nRowsSubplot))\n",
    "        \n",
    "        color = 'blue'\n",
    "#         ax1.plot(tsDF['T'].values, tsDF['D3'].values-DIAMETER, color = color, ls = '-', linewidth = 1)\n",
    "        ax1.set_xlabel('t (s)')\n",
    "#         ax1.set_ylabel('h (nm)', color=color)\n",
    "#         ax1.tick_params(axis='y', labelcolor=color)\n",
    "#         (axm, axM) = ax1.get_ylim()\n",
    "#         ax1.set_ylim([min(0,axm), axM-50])\n",
    "        ax1.set_xlim([0, 45])\n",
    "#         if (max(tsDF['D3'].values-DIAMETER) > 200):\n",
    "#             ax1.set_yticks(np.arange(0, max(tsDF['D3'].values-DIAMETER), 100))\n",
    "        ax1.set_yticks([])\n",
    "        \n",
    "        twinAxis = True\n",
    "        if twinAxis:\n",
    "#             ax1.tick_params(axis='y', labelcolor='b')\n",
    "            ax1bis = ax1.twinx()\n",
    "            color = 'purple'\n",
    "            ax1bis.set_ylabel('B (mT)', color=color)\n",
    "            ax1bis.plot(tsDF['T'].values, tsDF['B'].values, color=color)\n",
    "            ax1bis.tick_params(axis='y', labelcolor=color)\n",
    "            ax1bis.set_yticks([0,3,6,10,20,30,40])\n",
    "#             ax1bis.set_yticks([0,500,1000,1500])\n",
    "#             minh = np.min(tsDF['D3'].values-DIAMETER)\n",
    "#             ratio = min(1/abs(minh/axM), 5)\n",
    "#             print(ratio)\n",
    "#             (axmbis, axMbis) = ax1bis.get_ylim()\n",
    "#             ax1bis.set_ylim([0, max(axMbis*ratio, 3*max(tsDF['F'].values))])\n",
    "            yt = ax1bis.get_yticklabels()\n",
    "            for item in yt:\n",
    "                item.set_fontsize(11)\n",
    "            \n",
    "    \n",
    "    for i in range(1, Ncomp+1):#Ncomp+1):\n",
    "\n",
    "        # (1) Identifiers\n",
    "        results['date'].append(split_f[0])\n",
    "        results['cellName'].append(split_f[1] + '_' + split_f[2] + '_' + split_f[3])\n",
    "        results['cellID'].append(split_f[0] + '_' + split_f[1] + '_' + split_f[2] + '_' + split_f[3])\n",
    "        results['manipID'].append(split_f[0] + '_' + split_f[1])\n",
    "        \n",
    "        # (2) Segment the compression n°i\n",
    "        thisCompDf = tsDF.loc[tsDF['idxCompression'] == i,:]\n",
    "        iStart = (findFirst(tsDF['idxCompression'], i))\n",
    "        iStop = iStart+thisCompDf.shape[0]\n",
    "        \n",
    "        # Easy-to-get parameters\n",
    "        results['compNum'].append(i)\n",
    "        results['compDuration'].append(thisExpDf.at[thisExpDf.index.values[0], 'compression duration'])\n",
    "        results['compStartTime'].append(thisCompDf['T'].values[0])\n",
    "        results['compAbsStartTime'].append(thisCompDf['Tabs'].values[0])\n",
    "        results['compStartTimeThisDay'].append(thisCompDf['Tabs'].values[0]) # Will be modifyed later !\n",
    "        \n",
    "        # (3) Inside the compression n°i, delimit the compression and relaxation phases\n",
    "        \n",
    "        # Delimit the start of the increase of B (typically the moment when the field decrease from 5 to 3)\n",
    "        # and the end of its decrease (typically when it goes back from 3 to 5)\n",
    "        listB = thisCompDf.B.values\n",
    "        offsetStart, offsetStop = 0, 0\n",
    "        minB, maxB = min(listB), max(listB)\n",
    "        thresholdB = (maxB-minB)/50\n",
    "        \n",
    "        k = 0\n",
    "        while (listB[k] > minB+thresholdB) or (listB[-1-k] > minB+thresholdB):\n",
    "            offsetStart += int(listB[k] > minB+thresholdB)\n",
    "            offsetStop += int(listB[-1-k] > minB+thresholdB)\n",
    "            k += 1\n",
    "        jStart = offsetStart # Beginning of compression\n",
    "        jMax = np.argmax(thisCompDf.B) # End of compression, beginning of relaxation\n",
    "        jStop = thisCompDf.shape[0] - offsetStop # End of relaxation\n",
    "        \n",
    "        # Four arrays\n",
    "        hCompr = (thisCompDf.D3.values[jStart:jMax+1] - DIAMETER)\n",
    "        hRelax = (thisCompDf.D3.values[jMax+1:jStop] - DIAMETER)\n",
    "        fCompr = (thisCompDf.F.values[jStart:jMax+1])\n",
    "        fRelax = (thisCompDf.F.values[jMax+1:jStop])\n",
    "        \n",
    "        # Refinement of the compression delimitation.\n",
    "        # Remove the 1-2 points at the begining where there is just the viscous relaxation of the cortex\n",
    "        # because of the initial decrease of B and the cortex thickness increases.\n",
    "        offsetStart2 = 0\n",
    "        k = 0\n",
    "        while (hCompr[k] < np.max(hCompr[k+1:min(k+10, len(hCompr))])) and k<len(hCompr)-10:\n",
    "            offsetStart2 += 1\n",
    "            k += 1\n",
    "        # Better compressions arrays\n",
    "        hCompr = hCompr[offsetStart2:]\n",
    "        fCompr = fCompr[offsetStart2:]\n",
    "        \n",
    "        # Get the points of constant field preceding and surrounding the current compression\n",
    "        # Ex : if the labview code was set so that there is 6 points of ct field before and after each compression,\n",
    "        # previousPoints will contains D3[iStart-12:iStart]\n",
    "        # surroundingPoints will contains D3[iStart-6:iStart] and D3[iStop:iStop+6]\n",
    "        previousPoints = (tsDF.D3.values[max(0,iStart-(NimgBtwCompTh)):iStart]) - DIAMETER\n",
    "        surroundingPoints = np.concatenate([tsDF.D3.values[max(0,iStart-(NimgBtwCompTh//2)):iStart],tsDF.D3.values[iStop:iStop+(NimgBtwCompTh//2)]]) - DIAMETER\n",
    "        \n",
    "        # Parameters relative to the thickness ( = D3-DIAMETER)\n",
    "        results['initialThickness'].append(np.mean(hCompr[0:3]))\n",
    "        results['minThickness'].append(np.min(hCompr))\n",
    "        results['maxIndent'].append(results['initialThickness'][-1] - results['minThickness'][-1])\n",
    "        results['previousThickness'].append(np.median(previousPoints))\n",
    "        results['surroundingThickness'].append(np.median(surroundingPoints))\n",
    "        results['ctFieldThickness'].append(ctFieldThickness)\n",
    "        results['ctFieldFluctuAmpli'].append(ctFieldFluctuAmpli)\n",
    "        \n",
    "        validatedThickness = np.min([results['initialThickness'],results['minThickness'],results['previousThickness'],\\\n",
    "                                    results['surroundingThickness'],results['ctFieldThickness']]) > 0\n",
    "        results['validatedThickness'].append(validatedThickness)\n",
    "\n",
    "        # (4) Fit with Chadwick model of the force-thickness curve\n",
    "        \n",
    "        E, H0, hPredict, R2, confIntE, confIntH0, fitError = compressionFitChadwick(hCompr, fCompr, DIAMETER) # IMPORTANT SUBFUNCTION\n",
    "        \n",
    "        R2CRITERION = 0.9\n",
    "        critFit = 'R2 > ' + str(R2CRITERION)\n",
    "        results['critFit'].append(critFit)\n",
    "        validatedFit = (R2 > R2CRITERION)\n",
    "        \n",
    "        if PLOT:\n",
    "\n",
    "            # fig1\n",
    "#             if not fitError:\n",
    "#                 if validatedFit:\n",
    "#                     ax1.plot(thisCompDf['T'].values, thisCompDf['D3'].values-DIAMETER, color = 'chartreuse', linestyle = '-', linewidth = 1.25)\n",
    "#                 else:\n",
    "#                     ax1.plot(thisCompDf['T'].values, thisCompDf['D3'].values-DIAMETER, color = 'gold', linestyle = '-', linewidth = 1.25)\n",
    "#             else:\n",
    "#                 ax1.plot(thisCompDf['T'].values, thisCompDf['D3'].values-DIAMETER, color = 'crimson', linestyle = '-', linewidth = 1.25)\n",
    "\n",
    "            \n",
    "            fig1.suptitle(results['cellID'][-1])\n",
    "            \n",
    "            # fig2\n",
    "            colSp = (i-1) % nColsSubplot\n",
    "            rowSp = (i-1) // nColsSubplot\n",
    "            # ax2[i-1] with the 1 line plot\n",
    "            if nRowsSubplot == 1:\n",
    "                thisAx2 = ax2[colSp]\n",
    "            elif nRowsSubplot >= 1:\n",
    "                thisAx2 = ax2[rowSp,colSp]\n",
    "            \n",
    "            thisAx2.plot(hCompr,fCompr,'b-', linewidth = 0.8)\n",
    "            thisAx2.plot(hRelax,fRelax,'r-', linewidth = 0.8)\n",
    "            titleText = results['cellID'][-1] + '__c' + str(i)\n",
    "            legendText = ''\n",
    "            thisAx2.set_xlabel('h (nm)')\n",
    "            thisAx2.set_ylabel('f (pN)')\n",
    "            \n",
    "            if not fitError:\n",
    "                legendText += 'H0 = {:.1f}nm\\nE = {:.2e}Pa\\nR2 = {:.3f}'.format(H0, E, R2)\n",
    "                thisAx2.plot(hPredict,fCompr,'k--', linewidth = 0.8, label = legendText)\n",
    "                thisAx2.legend(loc = 'upper right', prop={'size': 6})\n",
    "                if not validatedFit:\n",
    "                    titleText += '\\nNON VALIDATED'\n",
    "            else:\n",
    "                titleText += '\\nFIT ERROR'\n",
    "            \n",
    "            thisAx2.title.set_text(titleText)\n",
    "\n",
    "            for item in ([thisAx2.title, thisAx2.xaxis.label, \\\n",
    "                          thisAx2.yaxis.label] + thisAx2.get_xticklabels() + thisAx2.get_yticklabels()):\n",
    "                item.set_fontsize(9)\n",
    "                \n",
    "\n",
    "        if not fitError:\n",
    "            confIntEWidth = abs(confIntE[0] - confIntE[1])\n",
    "\n",
    "            results['H0Chadwick'].append(H0)\n",
    "            results['EChadwick'].append(E)\n",
    "            results['R2Chadwick'].append(R2)\n",
    "            results['EChadwick_CIWidth'].append(confIntEWidth)\n",
    "            \n",
    "\n",
    "            results['validatedFit'].append(validatedFit)\n",
    "            if validatedFit:\n",
    "                results['comments'].append('ok')\n",
    "            else:\n",
    "                results['comments'].append('R2 < ' + str(R2CRITERION))\n",
    "                \n",
    "        if fitError:\n",
    "            validatedFit = False\n",
    "            results['H0Chadwick'].append(np.nan)\n",
    "            results['EChadwick'].append(np.nan)\n",
    "            results['R2Chadwick'].append(np.nan)\n",
    "            results['EChadwick_CIWidth'].append(np.nan)\n",
    "            results['validatedFit'].append(validatedFit)\n",
    "            results['comments'].append('fitFailure')\n",
    "            \n",
    "        \n",
    "        # (5) hysteresis (its definition may change)\n",
    "        results['hysteresis'].append(hCompr[0] - hRelax[-1])\n",
    "    \n",
    "    if PLOT:\n",
    "        archiveFig(fig1, ax1, name=results['cellID'][-1] + '_h(t)', figSubDir = 'MecaAnalysis_allCells')\n",
    "        archiveFig(fig2, ax2, name=results['cellID'][-1] + '_F(h)', figSubDir = 'MecaAnalysis_allCells')\n",
    "        if PLOT_SHOW:\n",
    "            fig1.show()\n",
    "            fig2.tight_layout()\n",
    "            fig2.show()\n",
    "        else:\n",
    "            plt.close('all')\n",
    "    \n",
    "    return(results)"
   ]
  },
  {
   "cell_type": "markdown",
   "metadata": {},
   "source": [
    "### Data formatting and filtering\n",
    "\n",
    "TBC"
   ]
  },
  {
   "cell_type": "code",
   "execution_count": null,
   "metadata": {},
   "outputs": [],
   "source": [
    "mecaDataFile = 'Global_MecaData.csv'\n",
    "mecaDataFilePath = os.path.join(dataDir, mecaDataFile)\n",
    "mecaDF = pd.read_csv(mecaDataFilePath, sep=';')\n",
    "print('Extracted a table with ' + str(mecaDF.shape[0]) + ' lines and ' + str(mecaDF.shape[1]) + ' columns.')\n",
    "\n",
    "mecaDF = mecaDF.rename(columns={\"CellID\": \"CellName\", \"CellName\": \"CellID\"})"
   ]
  },
  {
   "cell_type": "code",
   "execution_count": null,
   "metadata": {},
   "outputs": [],
   "source": [
    "# mecaDF"
   ]
  },
  {
   "cell_type": "code",
   "execution_count": null,
   "metadata": {},
   "outputs": [],
   "source": [
    "experimentalDataFile = 'ExperimentalConditions.csv'\n",
    "experimentalDataFilePath = os.path.join(experimentalDataDir, experimentalDataFile)\n",
    "expConditionsDF = pd.read_csv(experimentalDataFilePath, sep=';',header=0)\n",
    "print('Extracted a table with ' + str(expConditionsDF.shape[0]) + ' lines and ' + str(expConditionsDF.shape[1]) + ' columns.')\n",
    "\n",
    "# Cleaning the table\n",
    "try:\n",
    "    expConditionsDF = expConditionsDF.convert_dtypes()\n",
    "\n",
    "    listTextColumns = []\n",
    "    for col in expConditionsDF.columns:\n",
    "        if expConditionsDF[col].dtype == 'string':\n",
    "            listTextColumns.append(col)\n",
    "\n",
    "    expConditionsDF[listTextColumns] = expConditionsDF[listTextColumns].apply(lambda x: x.str.replace(',','.'))\n",
    "\n",
    "    expConditionsDF['scale pixel per um'] = expConditionsDF['scale pixel per um'].astype(float)\n",
    "    expConditionsDF['optical index correction'] = \\\n",
    "              expConditionsDF['optical index correction'].apply(lambda x: x.split('/')[0]).astype(float) \\\n",
    "            / expConditionsDF['optical index correction'].apply(lambda x: x.split('/')[1]).astype(float)\n",
    "    expConditionsDF['magnetic field correction'] = expConditionsDF['magnetic field correction'].astype(float)\n",
    "    expConditionsDF['with fluo images'] = expConditionsDF['with fluo images'].astype(bool)\n",
    "\n",
    "    expConditionsDF['ramp field'] = \\\n",
    "    expConditionsDF['ramp field'].apply(lambda x: [x.split(';')[0], x.split(';')[1]] if not pd.isnull(x) else [])\n",
    "\n",
    "except:\n",
    "    print('Unexpected bug with the cleaning step')"
   ]
  },
  {
   "cell_type": "code",
   "execution_count": null,
   "metadata": {},
   "outputs": [],
   "source": [
    "expConditionsDF"
   ]
  },
  {
   "cell_type": "code",
   "execution_count": null,
   "metadata": {},
   "outputs": [],
   "source": [
    "# Unused for now\n",
    "cellDescriptionDataFile = 'CellDescription.csv'\n",
    "cellDescriptionDataFilePath = os.path.join(experimentalDataDir, cellDescriptionDataFile)\n",
    "cellDescriptionDF = pd.read_csv(cellDescriptionDataFilePath, ',')\n",
    "print('Extracted a table with ' + str(cellDescriptionDF.shape[0]) + ' lines and ' + str(cellDescriptionDF.shape[1]) + ' columns.')"
   ]
  },
  {
   "cell_type": "code",
   "execution_count": null,
   "metadata": {},
   "outputs": [],
   "source": [
    "mecaDF['ManipID'] = mecaDF['ExpDay'] + '_' + mecaDF['CellName'].apply(lambda x: x.split('_')[0])\n",
    "expConditionsDF['ManipID'] = expConditionsDF['date'] + '_' + expConditionsDF['manip']\n",
    "\n",
    "mainMecaDF = pd.merge(\n",
    "    expConditionsDF,\n",
    "    mecaDF,\n",
    "    how=\"inner\",\n",
    "    on='ManipID',\n",
    "#     left_on=None,\n",
    "#     right_on=None,\n",
    "#     left_index=False,\n",
    "#     right_index=False,\n",
    "#     sort=True,\n",
    "#     suffixes=(\"_x\", \"_y\"),\n",
    "#     copy=True,\n",
    "#     indicator=False,\n",
    "#     validate=None,\n",
    ")"
   ]
  },
  {
   "cell_type": "code",
   "execution_count": null,
   "metadata": {},
   "outputs": [],
   "source": [
    "# pd.set_option('display.max_columns', None)\n",
    "# mainMecaDF.head()"
   ]
  },
  {
   "cell_type": "code",
   "execution_count": null,
   "metadata": {},
   "outputs": [],
   "source": [
    "pd.reset_option('max_columns')"
   ]
  },
  {
   "cell_type": "markdown",
   "metadata": {},
   "source": [
    "#### * Data filtering"
   ]
  },
  {
   "cell_type": "code",
   "execution_count": null,
   "metadata": {},
   "outputs": [],
   "source": [
    "# pd.set_option('display.max_columns', None)\n",
    "# mainMecaDF.head()"
   ]
  },
  {
   "cell_type": "code",
   "execution_count": null,
   "metadata": {},
   "outputs": [],
   "source": [
    "# pd.reset_option('max_columns')\n",
    "# mainMecaDF.columns"
   ]
  },
  {
   "cell_type": "code",
   "execution_count": null,
   "metadata": {},
   "outputs": [],
   "source": [
    "mainMecaDF_f = mainMecaDF.loc[(mainMecaDF[\"Validated\"] == 1)]\n",
    "# mainMecaDF_f"
   ]
  },
  {
   "cell_type": "code",
   "execution_count": null,
   "metadata": {},
   "outputs": [],
   "source": [
    "%matplotlib inline\n",
    "listCells = mainMecaDF_f['CellID'].drop_duplicates().astype('string').values\n",
    "timeSeriesDict = {}\n",
    "for cell in listCells:\n",
    "    currentCell_TimeSeriesData = getCellTimeSeriesData(cell)\n",
    "    timeSeriesDict[cell] = currentCell_TimeSeriesData\n",
    "start, stop = 80, 100\n",
    "fig, axes = plt.subplots((stop-start),1, figsize = (7,4*(stop-start)))\n",
    "fig.tight_layout()\n",
    "for k in range(start, stop):\n",
    "    if k < len(listCells):\n",
    "        currentCell_TimeSeriesData = timeSeriesDict[listCells[k]]\n",
    "        T = currentCell_TimeSeriesData['T'].values\n",
    "        idxCompression = currentCell_TimeSeriesData['idxCompression'].values\n",
    "        D3 = currentCell_TimeSeriesData['D3'].values\n",
    "        maskConstant = (idxCompression == 0)\n",
    "        maskCompression = (idxCompression > 0)\n",
    "        axes[k - start].plot(T, D3*1000-4503, 'k-', linewidth = 0.5)\n",
    "        axes[k - start].plot(T[maskCompression], D3[maskCompression]*1000-4503, 'ro', markersize=2)\n",
    "        axes[k - start].plot(T[maskConstant], D3[maskConstant]*1000-4503, 'co', markersize=2)\n",
    "        axes[k - start].set_title(listCells[k])\n",
    "        axes[k - start].set_xlabel('T (s)')\n",
    "        axes[k - start].set_ylabel('D3 (µm)')"
   ]
  },
  {
   "cell_type": "code",
   "execution_count": null,
   "metadata": {},
   "outputs": [],
   "source": [
    "addExcludedCell('21-01-18_M1_P1_C2', 'passive')\n",
    "addExcludedCell('21-01-18_M1_P1_C3', 'passive')\n",
    "addExcludedCell('21-01-18_M1_P1_C4', 'passive')\n",
    "addExcludedCell('21-01-21_M3_P1_C4', 'passive')\n",
    "addExcludedCell('21-01-21_M3_P1_C5', 'passive')\n",
    "addExcludedCell('20-08-07_M1_P1_C6', 'too thick')\n",
    "addExcludedCell('20-08-07_M1_P1_C62', 'too thick')\n",
    "\n",
    "excludedCellsDict = getExcludedCells()\n",
    "# # excludedMask = (mainMecaDF_f[\"CellID\"].values not in excludedCellsDict.keys())\n",
    "# # mainMecaDF_f = mainMecaDF_f.loc[(mainMecaDF_f[\"CellID\"].values not in excludedCellsDict.keys())]\n",
    "# for i in range(len(excludedCellsDict)):\n",
    "#     print('a')\n",
    "# mainMecaDF_f[\"CellID\"].drop_duplicates().astype('string').values\n",
    "excludedCellsDict"
   ]
  },
  {
   "cell_type": "code",
   "execution_count": null,
   "metadata": {},
   "outputs": [],
   "source": [
    "# currentCell_TimeSeriesData"
   ]
  },
  {
   "cell_type": "code",
   "execution_count": null,
   "metadata": {},
   "outputs": [],
   "source": [
    "mainMecaDF_GroupedPerCell = mainMecaDF_f.groupby('CellID')\n",
    "mainMecaDF_DataPerCell = mainMecaDF_GroupedPerCell.agg({\"EChadwick\": np.median, \"SurroundingThickness\": np.median, \"H0Chadwick\" : np.median})\n",
    "# mainMecaDF_GroupedPerCell.agg({\"EChadwick\": np.median, \"D\": lambda x: np.std(x, ddof=1)})\n",
    "cols = ['date', 'manip', 'experimentType', 'drug', 'substrate',\n",
    "       'objective magnification', 'scale pixel per um', 'objective immersion',\n",
    "       'optical index correction', 'magnetic field correction', 'cell type',\n",
    "       'cell subtype', 'bead type', 'bead diameter', 'normal field',\n",
    "       'ramp field', 'compression duration', 'with fluo images', 'comments',\n",
    "       'ManipID', 'ExpType', 'CellName', 'CellID']\n",
    "mainMecaDF_DataPerCell.dropna(inplace = True)\n",
    "mainMecaDF_DataPerCell = pd.merge(mainMecaDF_DataPerCell,\n",
    "                                  mainMecaDF_f[cols].drop_duplicates(subset=['CellID']),\n",
    "                                  how=\"inner\",\n",
    "                                  on='CellID',\n",
    "                                  #     left_on='CellID',\n",
    "                                  #     right_on='CellID',\n",
    "                                  #     left_index=False,\n",
    "                                  #     right_index=False,\n",
    "                                  #     sort=True,\n",
    "                                  #     suffixes=(\"_x\", \"_y\"),\n",
    "                                  #     copy=True,\n",
    "                                  #     indicator=False,\n",
    "                                  #     validate=None,\n",
    "                                  )\n",
    "# mainMecaDF_DataPerCell"
   ]
  },
  {
   "cell_type": "code",
   "execution_count": null,
   "metadata": {},
   "outputs": [],
   "source": [
    "GlobalTable_meca_Count = GlobalTable_meca.groupby(['cell type', 'cell subtype', 'bead type', 'drug', 'substrate']).count()\n",
    "GlobalTable_meca_Count.loc[:, ['CellID']].rename(columns={'CellID' : 'Count'})"
   ]
  },
  {
   "cell_type": "markdown",
   "metadata": {},
   "source": [
    "### Other old code"
   ]
  },
  {
   "cell_type": "code",
   "execution_count": null,
   "metadata": {},
   "outputs": [],
   "source": [
    "# fig, axes = plt.subplots(1,2, figsize = (8, 5))\n",
    "# axes[0].plot(np.ones(len(resDict['nodrug']['median'])), resDict['nodrug']['median'], 'co')\n",
    "# axes[0].plot(2*np.ones(len(resDict['doxy']['median'])), resDict['doxy']['median'], 'ro')\n",
    "# axes[0].set_xlim(0.5, 2.5)\n",
    "# axes[0].set_ylabel('Median Thickness (nm)')\n",
    "# axes[0].set_xticks([1,2])\n",
    "# axes[0].set_xticklabels(['Control','Doxycylin'])\n",
    "# axes[1].plot(np.ones(len(resDict['nodrug']['fluctu'])), resDict['nodrug']['fluctu'], 'co')\n",
    "# axes[1].plot(2*np.ones(len(resDict['doxy']['fluctu'])), resDict['doxy']['fluctu'], 'ro')\n",
    "# axes[1].set_xlim(0.5, 2.5)\n",
    "# axes[1].set_ylabel('Thickness Fluctuations (nm)')\n",
    "# axes[1].set_xticks([1,2])\n",
    "# axes[1].set_xticklabels(['Control','Doxycylin'])\n",
    "# fig.savefig(\"C://Users//JosephVermeil//Desktop//ActinCortexAnalysis//DataAnalysis//constantField.png\")\n",
    "# fig.show()"
   ]
  },
  {
   "cell_type": "code",
   "execution_count": null,
   "metadata": {},
   "outputs": [],
   "source": [
    "# Old code\n",
    "conditions = ['nodrug', 'doxy']\n",
    "correspondance = {conditions[0] : 'M1', conditions[1] : 'M2'}\n",
    "allTimeSeriesDataFiles = [f for f in os.listdir(timeSeriesDataDir) if (os.path.isfile(os.path.join(timeSeriesDataDir, f)) and f.endswith(\".txt\"))]\n",
    "dates = ['21-02-10']\n",
    "resDict = {conditions[0] : {}, conditions[1] : {}}\n",
    "for C in conditions:\n",
    "    resDict[C]['accepted'] = []\n",
    "    resDict[C]['rejected'] = []\n",
    "    resDict[C]['median'] = []\n",
    "    resDict[C]['fluctu'] = []\n",
    "    for D in dates:\n",
    "        for f in allTimeSeriesDataFiles:\n",
    "            if correspondance[C] in f and D in f:\n",
    "                split_f = f.split('_')\n",
    "                cellID = split_f[0] + '_' + split_f[1] + '_' + split_f[2] + '_' + split_f[3]\n",
    "                currentCellTS = getCellTimeSeriesData(cellID)\n",
    "                D3 = currentCellTS.D3.values\n",
    "                decile_1 = np.percentile(D3, 10)\n",
    "                median = np.median(D3)\n",
    "                decile_9 = np.percentile(D3, 90)\n",
    "                if decile_1 < 0:\n",
    "                    resDict[C]['rejected'].append(cellID)\n",
    "                else:\n",
    "                    resDict[C]['accepted'].append(cellID)\n",
    "                    resDict[C]['median'].append(median)\n",
    "                    resDict[C]['fluctu'].append(decile_9-decile_1)\n",
    "#resDict"
   ]
  },
  {
   "cell_type": "code",
   "execution_count": null,
   "metadata": {},
   "outputs": [],
   "source": [
    "GlobalTable_ctField = getGlobalTable_ctField()\n",
    "table_ExpConditions = getExperimentalConditions()\n",
    "GlobalTable_ctField = pd.merge(table_ExpConditions, GlobalTable_ctField, how=\"inner\", on='manipID',\n",
    "#     left_on=None,right_on=None,left_index=False,right_index=False,sort=True,\n",
    "#     suffixes=(\"_x\", \"_y\"),copy=True,indicator=False,validate=None,\n",
    ")\n",
    "\n",
    "# data=pd.DataFrame(dict(\n",
    "#             x=[1, 2, 3, 4, 5],\n",
    "#             y=[2, 5, 8, 2, 7],\n",
    "#             desc=['A', 'A', 'C', 'd', 'E'],\n",
    "#         ))\n",
    "\n",
    "data = GlobalTable_ctField[['medianThickness','fluctuAmpli','cellID']]\n",
    "\n",
    "source = ColumnDataSource(\n",
    "        data=data\n",
    "    )\n",
    "\n",
    "# hover = HoverTool(\n",
    "#         tooltips=[\n",
    "#             (\"index\", \"$index\"),\n",
    "#             (\"(x,y)\", \"($x, $y)\"),\n",
    "#             (\"desc\", \"@desc\"),\n",
    "#         ]\n",
    "#     )\n",
    "\n",
    "hover = HoverTool(\n",
    "        tooltips=[\n",
    "            (\"medianThickness\", \"@medianThickness\"),\n",
    "            (\"fluctuAmpli\", \"@fluctuAmpli\"),\n",
    "        ]\n",
    "    )\n",
    "\n",
    "p = figure(plot_width=300, plot_height=300, tools=[hover], title=\"Mouse over the dots\")\n",
    "\n",
    "p.circle('medianThickness', 'fluctuAmpli', size=20, source=data)\n",
    "\n",
    "show(p)\n",
    "\n",
    "data"
   ]
  },
  {
   "cell_type": "code",
   "execution_count": null,
   "metadata": {},
   "outputs": [],
   "source": [
    "data=pd.DataFrame(dict(\n",
    "            x=[1, 2, 3, 4, 5],\n",
    "            y=[2, 5, 8, 2, 7],\n",
    "            desc=['A', 'A', 'C', 'd', 'E'],\n",
    "        ))\n",
    "\n",
    "Conditions = list(data['desc'].unique())\n",
    "NCond = len(Conditions)\n",
    "data['X'] = 0\n",
    "for i in range(NCond):\n",
    "    mask = data['desc'] == Conditions[i]\n",
    "    data.loc[mask, ['X']] = i+1\n",
    "data.index = data.x\n",
    "data = data.drop(['x'], axis = 1)\n",
    "\n",
    "data.reset_index(level=0, inplace=True)\n",
    "data"
   ]
  },
  {
   "cell_type": "code",
   "execution_count": null,
   "metadata": {},
   "outputs": [],
   "source": []
  }
 ],
 "metadata": {
  "kernelspec": {
   "display_name": "Python 3",
   "language": "python",
   "name": "python3"
  },
  "language_info": {
   "codemirror_mode": {
    "name": "ipython",
    "version": 3
   },
   "file_extension": ".py",
   "mimetype": "text/x-python",
   "name": "python",
   "nbconvert_exporter": "python",
   "pygments_lexer": "ipython3",
   "version": "3.7.11"
  },
  "toc": {
   "base_numbering": 1,
   "nav_menu": {},
   "number_sections": true,
   "sideBar": true,
   "skip_h1_title": false,
   "title_cell": "Table of Contents",
   "title_sidebar": "Contents",
   "toc_cell": false,
   "toc_position": {
    "height": "calc(100% - 180px)",
    "left": "10px",
    "top": "150px",
    "width": "380.516px"
   },
   "toc_section_display": true,
   "toc_window_display": true
  },
  "varInspector": {
   "cols": {
    "lenName": 16,
    "lenType": 16,
    "lenVar": 40
   },
   "kernels_config": {
    "python": {
     "delete_cmd_postfix": "",
     "delete_cmd_prefix": "del ",
     "library": "var_list.py",
     "varRefreshCmd": "print(var_dic_list())"
    },
    "r": {
     "delete_cmd_postfix": ") ",
     "delete_cmd_prefix": "rm(",
     "library": "var_list.r",
     "varRefreshCmd": "cat(var_dic_list()) "
    }
   },
   "oldHeight": 765,
   "position": {
    "height": "786.984px",
    "left": "1551.97px",
    "right": "20px",
    "top": "124.969px",
    "width": "295px"
   },
   "types_to_exclude": [
    "module",
    "function",
    "builtin_function_or_method",
    "instance",
    "_Feature"
   ],
   "varInspector_section_display": "block",
   "window_display": false
  }
 },
 "nbformat": 4,
 "nbformat_minor": 4
}
