{
 "cells": [
  {
   "cell_type": "code",
   "execution_count": null,
   "id": "e70ae00c",
   "metadata": {},
   "outputs": [],
   "source": [
    "import numpy as np\n",
    "\n",
    "# 1. Compute the reference magnetization for neodyme magnets\n",
    "\n",
    "µ0 = 4*np.pi*1e-7\n",
    "\n",
    "N = 12 # Nombre d'aimants\n",
    "R_ref = 0.05 # m - Rayon du cercle reliant les centres des aimants\n",
    "B_ref = 15e-3 # T - \n",
    "a_ref = 4e-3 # m\n",
    "m_ref = B_ref * (np.pi*R_ref**3) / ((3/8) * N * µ0)\n",
    "M_ref = m_ref / (a_ref**3)\n",
    "M_ref"
   ]
  },
  {
   "cell_type": "code",
   "execution_count": null,
   "id": "7fcc584a",
   "metadata": {},
   "outputs": [],
   "source": [
    "# 2. Compute the B field in the center of a specific geometry\n",
    "\n",
    "N = 12\n",
    "a = 5e-3 # m\n",
    "R = 5e-2 # m\n",
    "m = M_ref * a**3\n",
    "B = (3/8) * N * µ0 * m / (np.pi * R**3)\n",
    "\n",
    "B*1000 # mT"
   ]
  },
  {
   "cell_type": "code",
   "execution_count": null,
   "id": "f9a0caea",
   "metadata": {},
   "outputs": [],
   "source": [
    "# 3. Compute the parameters needed to obtain a specific B field\n",
    "\n",
    "B_goal = 5e-3 # T"
   ]
  },
  {
   "cell_type": "code",
   "execution_count": null,
   "id": "e6c1b715",
   "metadata": {},
   "outputs": [],
   "source": [
    "# 3.1 Compute R\n",
    "\n",
    "N = 16\n",
    "a = 4e-3 # m\n",
    "m = M_ref * a**3\n",
    "\n",
    "R = ((3/8) * N * µ0 * m / (np.pi * B_goal))**(1/3)\n",
    "\n",
    "R*100 # cm"
   ]
  },
  {
   "cell_type": "code",
   "execution_count": null,
   "id": "03a76ebd",
   "metadata": {},
   "outputs": [],
   "source": [
    "# 3.2 Compute a\n",
    "\n",
    "N = 12\n",
    "R = 5e-2 # m\n",
    "\n",
    "a = (B_goal * np.pi * R**3 / ((3/8) * N * µ0 * M_ref)) **(1/3)\n",
    "\n",
    "a*1000 # mm"
   ]
  },
  {
   "cell_type": "code",
   "execution_count": null,
   "id": "efacf9c6",
   "metadata": {},
   "outputs": [],
   "source": [
    "# 3.3 Compute N\n",
    "\n",
    "R = 5e-2 # m\n",
    "a = 5e-3 # m\n",
    "m = M_ref * a**3\n",
    "\n",
    "N = B_goal * np.pi * R**3 / ((3/8) * µ0 * m)\n",
    "\n",
    "N"
   ]
  },
  {
   "cell_type": "code",
   "execution_count": null,
   "id": "9b68330f",
   "metadata": {},
   "outputs": [],
   "source": []
  }
 ],
 "metadata": {
  "kernelspec": {
   "display_name": "Python 3",
   "language": "python",
   "name": "python3"
  },
  "language_info": {
   "codemirror_mode": {
    "name": "ipython",
    "version": 3
   },
   "file_extension": ".py",
   "mimetype": "text/x-python",
   "name": "python",
   "nbconvert_exporter": "python",
   "pygments_lexer": "ipython3",
   "version": "3.7.9"
  },
  "toc": {
   "base_numbering": 1,
   "nav_menu": {},
   "number_sections": true,
   "sideBar": true,
   "skip_h1_title": false,
   "title_cell": "Table of Contents",
   "title_sidebar": "Contents",
   "toc_cell": false,
   "toc_position": {},
   "toc_section_display": true,
   "toc_window_display": false
  },
  "varInspector": {
   "cols": {
    "lenName": 16,
    "lenType": 16,
    "lenVar": 40
   },
   "kernels_config": {
    "python": {
     "delete_cmd_postfix": "",
     "delete_cmd_prefix": "del ",
     "library": "var_list.py",
     "varRefreshCmd": "print(var_dic_list())"
    },
    "r": {
     "delete_cmd_postfix": ") ",
     "delete_cmd_prefix": "rm(",
     "library": "var_list.r",
     "varRefreshCmd": "cat(var_dic_list()) "
    }
   },
   "types_to_exclude": [
    "module",
    "function",
    "builtin_function_or_method",
    "instance",
    "_Feature"
   ],
   "window_display": false
  }
 },
 "nbformat": 4,
 "nbformat_minor": 5
}
