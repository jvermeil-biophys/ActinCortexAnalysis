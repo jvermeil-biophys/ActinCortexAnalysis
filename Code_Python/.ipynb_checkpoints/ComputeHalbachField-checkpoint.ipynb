{
 "cells": [
  {
   "cell_type": "code",
   "execution_count": 2,
   "id": "e70ae00c",
   "metadata": {},
   "outputs": [
    {
     "data": {
      "text/plain": [
       "1010538.14382896"
      ]
     },
     "execution_count": 2,
     "metadata": {},
     "output_type": "execute_result"
    }
   ],
   "source": [
    "import numpy as np\n",
    "\n",
    "# 1. Compute the reference magnetization for neodyme magnets\n",
    "\n",
    "# DO NOT CHANGE !\n",
    "\n",
    "µ0 = 4*np.pi*1e-7\n",
    "\n",
    "N = 12 # Nombre d'aimants\n",
    "R_ref = 55e-3/2 # m - Rayon du cercle reliant les centres des aimants\n",
    "B_ref = 30e-3 # T - \n",
    "a_ref = 7e-3 # m\n",
    "m_ref = B_ref * (np.pi*R_ref**3) / ((3/8) * N * µ0)\n",
    "M_ref = m_ref / (a_ref**3)\n",
    "M_ref\n",
    "\n",
    "# 1mm -> N45\n",
    "# 3mm -> N45\n",
    "# 4mm -> N42\n",
    "# 5mm -> N42 or N50\n",
    "# 6mm -> N42\n",
    "# 7mm -> N42\n",
    "# 10mm -> N42\n",
    "# 12mm -> N48"
   ]
  },
  {
   "cell_type": "code",
   "execution_count": 1,
   "id": "73d7a194",
   "metadata": {},
   "outputs": [
    {
     "name": "stdout",
     "output_type": "stream",
     "text": [
      "1.0306513409961686 1.0714285714285714\n",
      "1.0957854406130267 1.1904761904761905\n"
     ]
    }
   ],
   "source": [
    "# n42 = 0.5*(1.29+1.32)\n",
    "# n45 = 0.5*(1.32+1.37)\n",
    "# n50 = 0.5*(1.40+1.46)\n",
    "\n",
    "# r1 = n45/n42\n",
    "# r2 = n50/n42\n",
    "# print(r1, 45/42)\n",
    "# print(r2, 50/42)"
   ]
  },
  {
   "cell_type": "code",
   "execution_count": 3,
   "id": "8168b9f8",
   "metadata": {},
   "outputs": [
    {
     "data": {
      "text/plain": [
       "79.07106781186548"
      ]
     },
     "execution_count": 3,
     "metadata": {},
     "output_type": "execute_result"
    }
   ],
   "source": [
    "70+2+(10*2**0.5)/2"
   ]
  },
  {
   "cell_type": "code",
   "execution_count": 54,
   "id": "b0f72acc",
   "metadata": {},
   "outputs": [
    {
     "data": {
      "text/plain": [
       "95.18376618407356"
      ]
     },
     "execution_count": 54,
     "metadata": {},
     "output_type": "execute_result"
    }
   ],
   "source": [
    "55 + (2**0.5)*7 + 2*(2**0.5)*10 + 2"
   ]
  },
  {
   "cell_type": "code",
   "execution_count": 47,
   "id": "7e051e91",
   "metadata": {},
   "outputs": [
    {
     "data": {
      "text/plain": [
       "14.142135623730951"
      ]
     },
     "execution_count": 47,
     "metadata": {},
     "output_type": "execute_result"
    }
   ],
   "source": [
    "(2**0.5)*10"
   ]
  },
  {
   "cell_type": "code",
   "execution_count": 44,
   "id": "0e5b1888",
   "metadata": {},
   "outputs": [
    {
     "data": {
      "text/plain": [
       "63.798989873223334"
      ]
     },
     "execution_count": 44,
     "metadata": {},
     "output_type": "execute_result"
    }
   ],
   "source": [
    "43 + (0.5 + 2**0.5 * 7)*2"
   ]
  },
  {
   "cell_type": "code",
   "execution_count": 41,
   "id": "0ed9e2b3",
   "metadata": {},
   "outputs": [
    {
     "data": {
      "text/plain": [
       "79.14213562373095"
      ]
     },
     "execution_count": 41,
     "metadata": {},
     "output_type": "execute_result"
    }
   ],
   "source": [
    "64 + (0 + 2**0.5 * 10*0.5)*2"
   ]
  },
  {
   "cell_type": "code",
   "execution_count": 52,
   "id": "7fcc584a",
   "metadata": {},
   "outputs": [
    {
     "data": {
      "text/plain": [
       "30.0"
      ]
     },
     "execution_count": 52,
     "metadata": {},
     "output_type": "execute_result"
    }
   ],
   "source": [
    "# 2. Compute the B field in the center of a specific geometry\n",
    "\n",
    "N = 12\n",
    "a = 7e-3 # m\n",
    "R = 5.5e-2 /2 # m\n",
    "m = M_ref * a**3\n",
    "B = (3/8) * N * µ0 * m / (np.pi * R**3)\n",
    "\n",
    "B*1000 # mT"
   ]
  },
  {
   "cell_type": "code",
   "execution_count": 51,
   "id": "bc65154e",
   "metadata": {},
   "outputs": [
    {
     "data": {
      "text/plain": [
       "29.46961135536557"
      ]
     },
     "execution_count": 51,
     "metadata": {},
     "output_type": "execute_result"
    }
   ],
   "source": [
    "# 2. Compute the B field in the center of a specific geometry\n",
    "\n",
    "N = 12\n",
    "a = 10e-3 # m\n",
    "R = 7.904e-2 /2 # m\n",
    "m = M_ref * a**3\n",
    "B = (3/8) * N * µ0 * m / (np.pi * R**3)\n",
    "\n",
    "B*1000 # mT"
   ]
  },
  {
   "cell_type": "code",
   "execution_count": null,
   "id": "f9a0caea",
   "metadata": {},
   "outputs": [],
   "source": [
    "# 3. Compute the parameters needed to obtain a specific B field\n",
    "\n",
    "B_goal = 20e-3 # T"
   ]
  },
  {
   "cell_type": "code",
   "execution_count": null,
   "id": "e6c1b715",
   "metadata": {},
   "outputs": [],
   "source": [
    "# 3.1 Compute R\n",
    "\n",
    "N = 12\n",
    "a = 7e-3 # m\n",
    "m = M_ref * a**3\n",
    "\n",
    "R = ((3/8) * N * µ0 * m / (np.pi * B_goal))**(1/3)\n",
    "\n",
    "R*100 # cm"
   ]
  },
  {
   "cell_type": "code",
   "execution_count": null,
   "id": "03a76ebd",
   "metadata": {},
   "outputs": [],
   "source": [
    "# 3.2 Compute a\n",
    "\n",
    "N = 12\n",
    "R = 8e-2 # m\n",
    "\n",
    "a = (B_goal * np.pi * R**3 / ((3/8) * N * µ0 * M_ref)) **(1/3)\n",
    "\n",
    "a*1000 # mm"
   ]
  },
  {
   "cell_type": "code",
   "execution_count": null,
   "id": "efacf9c6",
   "metadata": {},
   "outputs": [],
   "source": [
    "# 3.3 Compute N\n",
    "\n",
    "R = 5e-2 # m\n",
    "a = 5e-3 # m\n",
    "m = M_ref * a**3\n",
    "\n",
    "N = B_goal * np.pi * R**3 / ((3/8) * µ0 * m)\n",
    "\n",
    "N"
   ]
  },
  {
   "cell_type": "code",
   "execution_count": null,
   "id": "9b68330f",
   "metadata": {},
   "outputs": [],
   "source": []
  }
 ],
 "metadata": {
  "kernelspec": {
   "display_name": "Python 3",
   "language": "python",
   "name": "python3"
  },
  "language_info": {
   "codemirror_mode": {
    "name": "ipython",
    "version": 3
   },
   "file_extension": ".py",
   "mimetype": "text/x-python",
   "name": "python",
   "nbconvert_exporter": "python",
   "pygments_lexer": "ipython3",
   "version": "3.7.11"
  },
  "toc": {
   "base_numbering": 1,
   "nav_menu": {},
   "number_sections": true,
   "sideBar": true,
   "skip_h1_title": false,
   "title_cell": "Table of Contents",
   "title_sidebar": "Contents",
   "toc_cell": false,
   "toc_position": {},
   "toc_section_display": true,
   "toc_window_display": false
  },
  "varInspector": {
   "cols": {
    "lenName": 16,
    "lenType": 16,
    "lenVar": 40
   },
   "kernels_config": {
    "python": {
     "delete_cmd_postfix": "",
     "delete_cmd_prefix": "del ",
     "library": "var_list.py",
     "varRefreshCmd": "print(var_dic_list())"
    },
    "r": {
     "delete_cmd_postfix": ") ",
     "delete_cmd_prefix": "rm(",
     "library": "var_list.r",
     "varRefreshCmd": "cat(var_dic_list()) "
    }
   },
   "types_to_exclude": [
    "module",
    "function",
    "builtin_function_or_method",
    "instance",
    "_Feature"
   ],
   "window_display": false
  }
 },
 "nbformat": 4,
 "nbformat_minor": 5
}
