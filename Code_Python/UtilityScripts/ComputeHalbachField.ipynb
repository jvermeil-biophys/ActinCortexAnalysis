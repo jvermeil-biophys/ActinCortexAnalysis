{
 "cells": [
  {
   "cell_type": "code",
   "execution_count": 43,
   "id": "e70ae00c",
   "metadata": {},
   "outputs": [
    {
     "data": {
      "text/plain": [
       "1010538.14382896"
      ]
     },
     "execution_count": 43,
     "metadata": {},
     "output_type": "execute_result"
    }
   ],
   "source": [
    "import numpy as np\n",
    "\n",
    "# 1. Compute the reference magnetization for neodyme magnets\n",
    "\n",
    "# DO NOT CHANGE !\n",
    "\n",
    "µ0 = 4*np.pi*1e-7\n",
    "\n",
    "N = 12 # Nombre d'aimants\n",
    "R_ref = 55e-3/2 # m - Radius of the circle going through the magnets centers\n",
    "B_ref = 30e-3 # T - Mag field in the center\n",
    "a_ref = 7e-3 # m - Size of magnets\n",
    "m_ref = B_ref * (np.pi*R_ref**3) / ((3/8) * N * µ0)\n",
    "M_ref = m_ref / (a_ref**3)\n",
    "M_ref\n",
    "\n",
    "# 1mm -> N45\n",
    "# 3mm -> N45\n",
    "# 4mm -> N42\n",
    "# 5mm -> N42 or N50\n",
    "# 6mm -> N42\n",
    "# 7mm -> N42\n",
    "# 10mm -> N42\n",
    "# 12mm -> N48\n",
    "\n",
    "\n",
    "\n",
    "\n"
   ]
  },
  {
   "cell_type": "code",
   "execution_count": null,
   "id": "73d7a194",
   "metadata": {},
   "outputs": [],
   "source": [
    "# n42 = 0.5*(1.29+1.32)\n",
    "# n45 = 0.5*(1.32+1.37)\n",
    "# n50 = 0.5*(1.40+1.46)\n",
    "\n",
    "# r1 = n45/n42\n",
    "# r2 = n50/n42\n",
    "# print(r1, 45/42)\n",
    "# print(r2, 50/42)"
   ]
  },
  {
   "cell_type": "code",
   "execution_count": null,
   "id": "443bc861",
   "metadata": {},
   "outputs": [],
   "source": [
    "42.1 + 5.1 * 2**0.5 + 5.1 * 2**0.5 + 2"
   ]
  },
  {
   "cell_type": "code",
   "execution_count": null,
   "id": "933bf1a2",
   "metadata": {},
   "outputs": [],
   "source": [
    "42 + 2*5.1 * 2**0.5 + 4.2 + 2*7.1 * 2**0.5 + 2"
   ]
  },
  {
   "cell_type": "code",
   "execution_count": 3,
   "id": "7fcc584a",
   "metadata": {},
   "outputs": [
    {
     "data": {
      "text/plain": [
       "14.997180530060346"
      ]
     },
     "execution_count": 3,
     "metadata": {},
     "output_type": "execute_result"
    }
   ],
   "source": [
    "# 2. Compute the B field in the center of a specific geometry\n",
    "# Spinning - 5/7 nested - INSIDE ring\n",
    "# ID = 42.1\n",
    "# MD = 49.5\n",
    "# OD = 58.5\n",
    "\n",
    "N = 12\n",
    "a = 5e-3 # m\n",
    "R = 4.95e-2 /2 # m\n",
    "m = M_ref * a**3\n",
    "B = (3/8) * N * µ0 * m / (np.pi * R**3)\n",
    "\n",
    "B*1000 # mT"
   ]
  },
  {
   "cell_type": "code",
   "execution_count": 4,
   "id": "30f21b86",
   "metadata": {},
   "outputs": [
    {
     "data": {
      "text/plain": [
       "14.997180530060348"
      ]
     },
     "execution_count": 4,
     "metadata": {},
     "output_type": "execute_result"
    }
   ],
   "source": [
    "# 2. Compute the B field in the center of a specific geometry\n",
    "# Spinning - 5/7 nested - OUTSIDE ring\n",
    "# ID = 58.6\n",
    "# MD = 69.3\n",
    "# OD = 83\n",
    "\n",
    "N = 12\n",
    "a = 7e-3 # m\n",
    "R = 6.93e-2 /2 # m\n",
    "m = M_ref * a**3\n",
    "B = (3/8) * N * µ0 * m / (np.pi * R**3)\n",
    "\n",
    "B*1000 # mT"
   ]
  },
  {
   "cell_type": "code",
   "execution_count": null,
   "id": "883792d4",
   "metadata": {},
   "outputs": [],
   "source": [
    "# 2. Compute the B field in the center of a specific geometry\n",
    "# Spinning - 7/10 nested - INSIDE ring\n",
    "# ID = 43.1\n",
    "# MD = 55\n",
    "# OD = 64.9\n",
    "\n",
    "N = 12\n",
    "a = 7e-3 # m\n",
    "R = 5.5e-2 /2 # m\n",
    "m = M_ref * a**3\n",
    "B = (3/8) * N * µ0 * m / (np.pi * R**3)\n",
    "\n",
    "B*1000 # mT"
   ]
  },
  {
   "cell_type": "code",
   "execution_count": null,
   "id": "bc65154e",
   "metadata": {},
   "outputs": [],
   "source": [
    "# 2. Compute the B field in the center of a specific geometry\n",
    "# Spinning - 7/10 nested - OUTSIDE ring >>>> Too large !!!\n",
    "# ID = 65\n",
    "# MD = 79.05\n",
    "# OD = 95\n",
    "\n",
    "\n",
    "N = 12\n",
    "a = 10e-3 # m\n",
    "R = 7.904e-2 /2 # m\n",
    "m = M_ref * a**3\n",
    "B = (3/8) * N * µ0 * m / (np.pi * R**3)\n",
    "\n",
    "B*1000 # mT"
   ]
  },
  {
   "cell_type": "code",
   "execution_count": 3,
   "id": "d918dd19",
   "metadata": {},
   "outputs": [
    {
     "data": {
      "text/plain": [
       "5.597667638483964"
      ]
     },
     "execution_count": 3,
     "metadata": {},
     "output_type": "execute_result"
    }
   ],
   "source": [
    "# 2. Compute the B field in the center of a specific geometry\n",
    "# Spinning - 3/5 nested - INSIDE ring\n",
    "# ID = 43.1\n",
    "# MD = 55\n",
    "# OD = 64.9\n",
    "\n",
    "N = 12\n",
    "a = 4e-3 # m\n",
    "R = 5.5e-2 /2 # m\n",
    "m = M_ref * a**3\n",
    "B = (3/8) * N * µ0 * m / (np.pi * R**3)\n",
    "\n",
    "B*1000 # mT"
   ]
  },
  {
   "cell_type": "code",
   "execution_count": 4,
   "id": "393eebc1",
   "metadata": {},
   "outputs": [
    {
     "data": {
      "text/plain": [
       "3.683701419420696"
      ]
     },
     "execution_count": 4,
     "metadata": {},
     "output_type": "execute_result"
    }
   ],
   "source": [
    "# 2. Compute the B field in the center of a specific geometry\n",
    "# Spinning - 3/5 nested - OUTSIDE ring\n",
    "# ID = 65\n",
    "# MD = 79.05\n",
    "# OD = 95\n",
    "\n",
    "\n",
    "N = 12\n",
    "a = 5e-3 # m\n",
    "R = 7.904e-2 /2 # m\n",
    "m = M_ref * a**3\n",
    "B = (3/8) * N * µ0 * m / (np.pi * R**3)\n",
    "\n",
    "B*1000 # mT"
   ]
  },
  {
   "cell_type": "code",
   "execution_count": 44,
   "id": "f9a0caea",
   "metadata": {},
   "outputs": [],
   "source": [
    "# 3. Compute the parameters needed to obtain a specific B field\n",
    "\n",
    "B_goal = 5e-3 # T"
   ]
  },
  {
   "cell_type": "code",
   "execution_count": 45,
   "id": "e6c1b715",
   "metadata": {},
   "outputs": [
    {
     "name": "stdout",
     "output_type": "stream",
     "text": [
      "4.078970185274354 4.283212825961473 4.487455466648592\n"
     ]
    }
   ],
   "source": [
    "# 3.1 Compute R\n",
    "\n",
    "N = 12\n",
    "a = 3e-3 # m\n",
    "m = M_ref * a**3\n",
    "\n",
    "R = ((3/8) * N * µ0 * m / (np.pi * B_goal))**(1/3)\n",
    "\n",
    "r = R*100 # cm\n",
    "d = 2*r\n",
    "o_d = d + 2**0.5 * a + 0.2\n",
    "i_d = d - 2**0.5 * a - 0.2\n",
    "print(i_d, d, o_d)"
   ]
  },
  {
   "cell_type": "code",
   "execution_count": 26,
   "id": "281976ef",
   "metadata": {},
   "outputs": [
    {
     "data": {
      "text/plain": [
       "4.283212825961473"
      ]
     },
     "execution_count": 26,
     "metadata": {},
     "output_type": "execute_result"
    }
   ],
   "source": [
    "# CD\n",
    "(R*2)*100"
   ]
  },
  {
   "cell_type": "code",
   "execution_count": 27,
   "id": "5a63b4ed",
   "metadata": {},
   "outputs": [
    {
     "data": {
      "text/plain": [
       "3.8589487572495447"
      ]
     },
     "execution_count": 27,
     "metadata": {},
     "output_type": "execute_result"
    }
   ],
   "source": [
    "# ID\n",
    "(R*2 - a*2**0.5)*100"
   ]
  },
  {
   "cell_type": "code",
   "execution_count": 28,
   "id": "b230e58e",
   "metadata": {},
   "outputs": [
    {
     "data": {
      "text/plain": [
       "4.707476894673402"
      ]
     },
     "execution_count": 28,
     "metadata": {},
     "output_type": "execute_result"
    }
   ],
   "source": [
    "# OD\n",
    "(R*2 + a*2**0.5)*100"
   ]
  },
  {
   "cell_type": "code",
   "execution_count": null,
   "id": "25e192ec",
   "metadata": {},
   "outputs": [],
   "source": [
    "# Target = 5mT\n",
    "# a = 3mm -> Dc = 4.28 ; ID = 3.86 ; OD = 4.71\n",
    "# a = 4mm -> Dc = 5.71 ; ID = 5.15 ; OD = 6.28\n",
    "# a = 5mm -> Dc = 7.14 ; ID = 6.43 ; OD = 7.85"
   ]
  },
  {
   "cell_type": "code",
   "execution_count": null,
   "id": "03a76ebd",
   "metadata": {},
   "outputs": [],
   "source": [
    "# 3.2 Compute a\n",
    "\n",
    "N = 12\n",
    "R = 8e-2 # m\n",
    "\n",
    "a = (B_goal * np.pi * R**3 / ((3/8) * N * µ0 * M_ref)) **(1/3)\n",
    "\n",
    "a*1000 # mm"
   ]
  },
  {
   "cell_type": "code",
   "execution_count": null,
   "id": "efacf9c6",
   "metadata": {},
   "outputs": [],
   "source": [
    "# 3.3 Compute N\n",
    "\n",
    "R = 5e-2 # m\n",
    "a = 5e-3 # m\n",
    "m = M_ref * a**3\n",
    "\n",
    "N = B_goal * np.pi * R**3 / ((3/8) * µ0 * m)\n",
    "\n",
    "N"
   ]
  },
  {
   "cell_type": "code",
   "execution_count": null,
   "id": "9b68330f",
   "metadata": {},
   "outputs": [],
   "source": []
  },
  {
   "cell_type": "code",
   "execution_count": null,
   "id": "116e1743",
   "metadata": {},
   "outputs": [],
   "source": [
    "# import numpy as np\n",
    "\n",
    "# # 1 - Measure the magnetisation of your magnets\n",
    "\n",
    "# µ0 = 4*np.pi*1e-7\n",
    "# N_ref = 12 # Number of magnets in reference array\n",
    "# R_ref = 55e-3/2 # m - Radius of the circle of the magnets centers in reference array\n",
    "# B_ref = 30e-3 # T - Measured magnetic field in the center of reference array\n",
    "# a_ref = 7e-3 # m - Size of the magnets used (cubic shape, a x a x a)\n",
    "# m_ref = B_ref * (np.pi*R_ref**3) / ((3/8) * N * µ0) # A/m² - Formula for the Halbach arrays, from the litterature.\n",
    "# M_ref = m_ref / (a_ref**3)\n",
    "# M_ref # The magnetisation of your magnets (N42 in this example)\n",
    "\n",
    "\n",
    "# # 2 - Compute the B field in the center of a specific geometry\n",
    "# # (Now that you know M_ref)\n",
    "\n",
    "# N = 12\n",
    "# a = 5e-3 # m\n",
    "# R = 4.95e-2 /2 # m\n",
    "# m = M_ref * a**3 # A/m²\n",
    "# B = (3/8) * N * µ0 * m / (np.pi * R**3)\n",
    "\n",
    "\n",
    "# # Source : https://aip.scitation.org/doi/10.1063/1.5130896"
   ]
  }
 ],
 "metadata": {
  "kernelspec": {
   "display_name": "Python 3",
   "language": "python",
   "name": "python3"
  },
  "language_info": {
   "codemirror_mode": {
    "name": "ipython",
    "version": 3
   },
   "file_extension": ".py",
   "mimetype": "text/x-python",
   "name": "python",
   "nbconvert_exporter": "python",
   "pygments_lexer": "ipython3",
   "version": "3.8.8"
  },
  "toc": {
   "base_numbering": 1,
   "nav_menu": {},
   "number_sections": true,
   "sideBar": true,
   "skip_h1_title": false,
   "title_cell": "Table of Contents",
   "title_sidebar": "Contents",
   "toc_cell": false,
   "toc_position": {},
   "toc_section_display": true,
   "toc_window_display": false
  },
  "varInspector": {
   "cols": {
    "lenName": 16,
    "lenType": 16,
    "lenVar": 40
   },
   "kernels_config": {
    "python": {
     "delete_cmd_postfix": "",
     "delete_cmd_prefix": "del ",
     "library": "var_list.py",
     "varRefreshCmd": "print(var_dic_list())"
    },
    "r": {
     "delete_cmd_postfix": ") ",
     "delete_cmd_prefix": "rm(",
     "library": "var_list.r",
     "varRefreshCmd": "cat(var_dic_list()) "
    }
   },
   "types_to_exclude": [
    "module",
    "function",
    "builtin_function_or_method",
    "instance",
    "_Feature"
   ],
   "window_display": false
  }
 },
 "nbformat": 4,
 "nbformat_minor": 5
}
