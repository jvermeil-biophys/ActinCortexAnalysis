{
 "cells": [
  {
   "cell_type": "code",
   "execution_count": null,
   "id": "e70ae00c",
   "metadata": {},
   "outputs": [],
   "source": [
    "import numpy as np\n",
    "\n",
    "# 1. Compute the reference magnetization for neodyme magnets\n",
    "\n",
    "# DO NOT CHANGE !\n",
    "\n",
    "µ0 = 4*np.pi*1e-7\n",
    "\n",
    "N = 12 # Nombre d'aimants\n",
    "R_ref = 55e-3/2 # m - Rayon du cercle reliant les centres des aimants\n",
    "B_ref = 30e-3 # T - \n",
    "a_ref = 7e-3 # m\n",
    "m_ref = B_ref * (np.pi*R_ref**3) / ((3/8) * N * µ0)\n",
    "M_ref = m_ref / (a_ref**3)\n",
    "M_ref\n",
    "\n",
    "# 1mm -> N45\n",
    "# 3mm -> N45\n",
    "# 4mm -> N42\n",
    "# 5mm -> N42 or N50\n",
    "# 6mm -> N42\n",
    "# 7mm -> N42\n",
    "# 10mm -> N42\n",
    "# 12mm -> N48\n",
    "\n",
    "\n",
    "\n",
    "\n"
   ]
  },
  {
   "cell_type": "code",
   "execution_count": null,
   "id": "73d7a194",
   "metadata": {},
   "outputs": [],
   "source": [
    "# n42 = 0.5*(1.29+1.32)\n",
    "# n45 = 0.5*(1.32+1.37)\n",
    "# n50 = 0.5*(1.40+1.46)\n",
    "\n",
    "# r1 = n45/n42\n",
    "# r2 = n50/n42\n",
    "# print(r1, 45/42)\n",
    "# print(r2, 50/42)"
   ]
  },
  {
   "cell_type": "code",
   "execution_count": null,
   "id": "443bc861",
   "metadata": {},
   "outputs": [],
   "source": [
    "42.1 + 5.1 * 2**0.5 + 5.1 * 2**0.5 + 2"
   ]
  },
  {
   "cell_type": "code",
   "execution_count": null,
   "id": "933bf1a2",
   "metadata": {},
   "outputs": [],
   "source": [
    "42 + 2*5.1 * 2**0.5 + 4.2 + 2*7.1 * 2**0.5 + 2"
   ]
  },
  {
   "cell_type": "code",
   "execution_count": null,
   "id": "7fcc584a",
   "metadata": {},
   "outputs": [],
   "source": [
    "# 2. Compute the B field in the center of a specific geometry\n",
    "# Spinning - 5/7 nested - INSIDE ring\n",
    "# ID = 42.1\n",
    "# MD = 49.5\n",
    "# OD = 58.5\n",
    "\n",
    "N = 12\n",
    "a = 5e-3 # m\n",
    "R = 4.95e-2 /2 # m\n",
    "m = M_ref * a**3\n",
    "B = (3/8) * N * µ0 * m / (np.pi * R**3)\n",
    "\n",
    "B*1000 # mT"
   ]
  },
  {
   "cell_type": "code",
   "execution_count": null,
   "id": "30f21b86",
   "metadata": {},
   "outputs": [],
   "source": [
    "# 2. Compute the B field in the center of a specific geometry\n",
    "# Spinning - 5/7 nested - OUTSIDE ring\n",
    "# ID = 58.6\n",
    "# MD = 69.3\n",
    "# OD = 83\n",
    "\n",
    "N = 12\n",
    "a = 7e-3 # m\n",
    "R = 6.93e-2 /2 # m\n",
    "m = M_ref * a**3\n",
    "B = (3/8) * N * µ0 * m / (np.pi * R**3)\n",
    "\n",
    "B*1000 # mT"
   ]
  },
  {
   "cell_type": "code",
   "execution_count": null,
   "id": "883792d4",
   "metadata": {},
   "outputs": [],
   "source": [
    "# 2. Compute the B field in the center of a specific geometry\n",
    "# Spinning - 7/10 nested - INSIDE ring\n",
    "# ID = 43.1\n",
    "# MD = 55\n",
    "# OD = 64.9\n",
    "\n",
    "N = 12\n",
    "a = 7e-3 # m\n",
    "R = 5.5e-2 /2 # m\n",
    "m = M_ref * a**3\n",
    "B = (3/8) * N * µ0 * m / (np.pi * R**3)\n",
    "\n",
    "B*1000 # mT"
   ]
  },
  {
   "cell_type": "code",
   "execution_count": null,
   "id": "bc65154e",
   "metadata": {},
   "outputs": [],
   "source": [
    "# 2. Compute the B field in the center of a specific geometry\n",
    "# Spinning - 7/10 nested - OUTSIDE ring >>>> Too large !!!\n",
    "# ID = 65\n",
    "# MD = 79.05\n",
    "# OD = 95\n",
    "\n",
    "\n",
    "N = 12\n",
    "a = 10e-3 # m\n",
    "R = 7.904e-2 /2 # m\n",
    "m = M_ref * a**3\n",
    "B = (3/8) * N * µ0 * m / (np.pi * R**3)\n",
    "\n",
    "B*1000 # mT"
   ]
  },
  {
   "cell_type": "code",
   "execution_count": null,
   "id": "f9a0caea",
   "metadata": {},
   "outputs": [],
   "source": [
    "# 3. Compute the parameters needed to obtain a specific B field\n",
    "\n",
    "B_goal = 20e-3 # T"
   ]
  },
  {
   "cell_type": "code",
   "execution_count": null,
   "id": "e6c1b715",
   "metadata": {},
   "outputs": [],
   "source": [
    "# 3.1 Compute R\n",
    "\n",
    "N = 12\n",
    "a = 7e-3 # m\n",
    "m = M_ref * a**3\n",
    "\n",
    "R = ((3/8) * N * µ0 * m / (np.pi * B_goal))**(1/3)\n",
    "\n",
    "R*100 # cm"
   ]
  },
  {
   "cell_type": "code",
   "execution_count": null,
   "id": "03a76ebd",
   "metadata": {},
   "outputs": [],
   "source": [
    "# 3.2 Compute a\n",
    "\n",
    "N = 12\n",
    "R = 8e-2 # m\n",
    "\n",
    "a = (B_goal * np.pi * R**3 / ((3/8) * N * µ0 * M_ref)) **(1/3)\n",
    "\n",
    "a*1000 # mm"
   ]
  },
  {
   "cell_type": "code",
   "execution_count": null,
   "id": "efacf9c6",
   "metadata": {},
   "outputs": [],
   "source": [
    "# 3.3 Compute N\n",
    "\n",
    "R = 5e-2 # m\n",
    "a = 5e-3 # m\n",
    "m = M_ref * a**3\n",
    "\n",
    "N = B_goal * np.pi * R**3 / ((3/8) * µ0 * m)\n",
    "\n",
    "N"
   ]
  },
  {
   "cell_type": "code",
   "execution_count": null,
   "id": "9b68330f",
   "metadata": {},
   "outputs": [],
   "source": []
  },
  {
   "cell_type": "code",
   "execution_count": null,
   "id": "116e1743",
   "metadata": {},
   "outputs": [],
   "source": [
    "# import numpy as np\n",
    "\n",
    "# # 1 - Measure the magnetisation of your magnets\n",
    "\n",
    "# µ0 = 4*np.pi*1e-7\n",
    "# N_ref = 12 # Number of magnets in reference array\n",
    "# R_ref = 55e-3/2 # m - Radius of the circle of the magnets centers in reference array\n",
    "# B_ref = 30e-3 # T - Measured magnetic field in the center of reference array\n",
    "# a_ref = 7e-3 # m - Size of the magnets used (cubic shape, a x a x a)\n",
    "# m_ref = B_ref * (np.pi*R_ref**3) / ((3/8) * N * µ0) # A/m² - Formula for the Halbach arrays, from the litterature.\n",
    "# M_ref = m_ref / (a_ref**3)\n",
    "# M_ref # The magnetisation of your magnets (N42 in this example)\n",
    "\n",
    "\n",
    "# # 2 - Compute the B field in the center of a specific geometry\n",
    "# # (Now that you know M_ref)\n",
    "\n",
    "# N = 12\n",
    "# a = 5e-3 # m\n",
    "# R = 4.95e-2 /2 # m\n",
    "# m = M_ref * a**3 # A/m²\n",
    "# B = (3/8) * N * µ0 * m / (np.pi * R**3)\n",
    "\n",
    "\n",
    "# # Source : https://aip.scitation.org/doi/10.1063/1.5130896"
   ]
  }
 ],
 "metadata": {
  "kernelspec": {
   "display_name": "Python 3",
   "language": "python",
   "name": "python3"
  },
  "language_info": {
   "codemirror_mode": {
    "name": "ipython",
    "version": 3
   },
   "file_extension": ".py",
   "mimetype": "text/x-python",
   "name": "python",
   "nbconvert_exporter": "python",
   "pygments_lexer": "ipython3",
   "version": "3.7.11"
  },
  "toc": {
   "base_numbering": 1,
   "nav_menu": {},
   "number_sections": true,
   "sideBar": true,
   "skip_h1_title": false,
   "title_cell": "Table of Contents",
   "title_sidebar": "Contents",
   "toc_cell": false,
   "toc_position": {},
   "toc_section_display": true,
   "toc_window_display": false
  },
  "varInspector": {
   "cols": {
    "lenName": 16,
    "lenType": 16,
    "lenVar": 40
   },
   "kernels_config": {
    "python": {
     "delete_cmd_postfix": "",
     "delete_cmd_prefix": "del ",
     "library": "var_list.py",
     "varRefreshCmd": "print(var_dic_list())"
    },
    "r": {
     "delete_cmd_postfix": ") ",
     "delete_cmd_prefix": "rm(",
     "library": "var_list.r",
     "varRefreshCmd": "cat(var_dic_list()) "
    }
   },
   "types_to_exclude": [
    "module",
    "function",
    "builtin_function_or_method",
    "instance",
    "_Feature"
   ],
   "window_display": false
  }
 },
 "nbformat": 4,
 "nbformat_minor": 5
}
