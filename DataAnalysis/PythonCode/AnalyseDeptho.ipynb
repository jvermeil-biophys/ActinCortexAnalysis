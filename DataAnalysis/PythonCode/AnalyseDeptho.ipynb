{
 "cells": [
  {
   "cell_type": "code",
   "execution_count": 253,
   "id": "fa462868",
   "metadata": {},
   "outputs": [],
   "source": [
    "import numpy as np\n",
    "import pandas as pd\n",
    "import scipy.ndimage as ndi\n",
    "import matplotlib.pyplot as plt\n",
    "\n",
    "import os\n",
    "import time\n",
    "import matplotlib\n",
    "\n",
    "# import skimage\n",
    "from skimage import io, filters, exposure, measure, transform\n",
    "from scipy.signal import find_peaks, savgol_filter\n",
    "\n",
    "pd.set_option('mode.chained_assignment',None)\n",
    "\n",
    "%matplotlib widget \n",
    "# %matplotlib inline\n",
    "matplotlib.rcParams.update({'figure.autolayout': True})\n",
    "\n",
    "SMALLER_SIZE = 10\n",
    "SMALL_SIZE = 14\n",
    "MEDIUM_SIZE = 16\n",
    "BIGGER_SIZE = 20\n",
    "\n",
    "plt.rc('font', size=SMALL_SIZE)          # controls default text sizes\n",
    "plt.rc('axes', titlesize=MEDIUM_SIZE)     # fontsize of the axes title\n",
    "plt.rc('axes', labelsize=MEDIUM_SIZE)    # fontsize of the x and y labels\n",
    "plt.rc('xtick', labelsize=SMALL_SIZE)    # fontsize of the tick labels\n",
    "plt.rc('ytick', labelsize=SMALL_SIZE)    # fontsize of the tick labels\n",
    "plt.rc('legend', fontsize=SMALLER_SIZE)    # legend fontsize\n",
    "plt.rc('figure', titlesize=BIGGER_SIZE)  # fontsize of the figure title"
   ]
  },
  {
   "cell_type": "code",
   "execution_count": 75,
   "id": "ba5cbbfb",
   "metadata": {},
   "outputs": [
    {
     "data": {
      "text/plain": [
       "['Deptho100Xb3.tif',\n",
       " 'Deptho100Xb4.tif',\n",
       " 'Deptho100Xb5.tif',\n",
       " 'Deptho100Xb6.tif']"
      ]
     },
     "execution_count": 75,
     "metadata": {},
     "output_type": "execute_result"
    }
   ],
   "source": [
    "testDataFolder = 'D://PMMH_ComputerData//Matlab Analysis//Data_Joseph//Raw//20.06.15_Deptho//depthoAnalysis_test'\n",
    "# testDataFolder = 'C://Users//JosephVermeil//Desktop//test_AnalyseDepthos'\n",
    "listDepthos = [f for f in os.listdir(testDataFolder) if (os.path.isfile(os.path.join(testDataFolder, f)) and f.endswith(\".tif\"))]\n",
    "listDepthos"
   ]
  },
  {
   "cell_type": "code",
   "execution_count": 76,
   "id": "93538fb4",
   "metadata": {},
   "outputs": [],
   "source": [
    "fileName = listDepthos[0]\n",
    "filePath = os.path.join(testDataFolder,fileName)\n",
    "I = skimage.io.imread(filePath)"
   ]
  },
  {
   "cell_type": "code",
   "execution_count": 77,
   "id": "9ca05abc",
   "metadata": {},
   "outputs": [],
   "source": [
    "# if not I.ndim == 3:\n",
    "#     print('Unexpected image format !')\n",
    "# else:\n",
    "#     I0 = I[0]\n",
    "\n",
    "# fig, ax = plt.subplots(1,1)\n",
    "# ax.imshow(I[2], cmap = 'gray')\n",
    "# fig.tight_layout()\n",
    "# fig.show()\n",
    "\n",
    "# I.shape\n",
    "# smallI = I[198:203]\n",
    "# smallROI = I[:,100:400,100:500]\n",
    "# # plt.imshow(smallROI, cmap = 'gray')\n",
    "# threshold = skimage.filters.threshold_otsu(smallROI)\n",
    "# threshold\n",
    "\n",
    "# fig, ax = plt.subplots(1,1)\n",
    "# ax.hist(smallROI.ravel(), bins=256, histtype='step', color='black')\n",
    "# fig.show()\n",
    "\n",
    "# np.zeros([nz, ny, nx])"
   ]
  },
  {
   "cell_type": "code",
   "execution_count": 78,
   "id": "043fa05e",
   "metadata": {},
   "outputs": [
    {
     "data": {
      "application/vnd.jupyter.widget-view+json": {
       "model_id": "24f919cfabe14aaeb12a41957b0269f4",
       "version_major": 2,
       "version_minor": 0
      },
      "text/plain": [
       "Canvas(toolbar=Toolbar(toolitems=[('Home', 'Reset original view', 'home', 'home'), ('Back', 'Back to previous …"
      ]
     },
     "metadata": {},
     "output_type": "display_data"
    },
    {
     "data": {
      "application/vnd.jupyter.widget-view+json": {
       "model_id": "980c702b261740fa936c6f072c1ab298",
       "version_major": 2,
       "version_minor": 0
      },
      "text/plain": [
       "Canvas(toolbar=Toolbar(toolitems=[('Home', 'Reset original view', 'home', 'home'), ('Back', 'Back to previous …"
      ]
     },
     "metadata": {},
     "output_type": "display_data"
    },
    {
     "data": {
      "application/vnd.jupyter.widget-view+json": {
       "model_id": "9cbc399be2a1405da4969df1508db9c6",
       "version_major": 2,
       "version_minor": 0
      },
      "text/plain": [
       "Canvas(toolbar=Toolbar(toolitems=[('Home', 'Reset original view', 'home', 'home'), ('Back', 'Back to previous …"
      ]
     },
     "metadata": {},
     "output_type": "display_data"
    },
    {
     "data": {
      "application/vnd.jupyter.widget-view+json": {
       "model_id": "e94f8dd4ed2d41bca0426bbc9961e73c",
       "version_major": 2,
       "version_minor": 0
      },
      "text/plain": [
       "Canvas(toolbar=Toolbar(toolitems=[('Home', 'Reset original view', 'home', 'home'), ('Back', 'Back to previous …"
      ]
     },
     "metadata": {},
     "output_type": "display_data"
    }
   ],
   "source": [
    "nz, ny, nx = I.shape[0], I.shape[1], I.shape[2]\n",
    "maxVal = np.zeros(nz)\n",
    "for z in range(nz):\n",
    "    maxVal[z] = np.max(I[z])\n",
    "\n",
    "#\n",
    "Z = np.array([i for i in range(nz)])\n",
    "fig, ax = plt.subplots(1,1)\n",
    "ax.plot(Z, maxVal)\n",
    "fig.show()\n",
    "#\n",
    "\n",
    "zMax = np.argmax(maxVal)\n",
    "IMax = I[zMax]\n",
    "\n",
    "#\n",
    "fig, ax = plt.subplots(1,1)\n",
    "ax.imshow(IMax, cmap = 'gray')\n",
    "fig.show()\n",
    "#\n",
    "\n",
    "threshold = skimage.filters.threshold_li(IMax)\n",
    "binIMax = IMax > threshold\n",
    "\n",
    "#\n",
    "fig, ax = plt.subplots(1,1)\n",
    "ax.imshow(binIMax, cmap = 'gray')\n",
    "fig.show()\n",
    "#\n",
    "\n",
    "threshold = skimage.filters.threshold_otsu(IMax)\n",
    "binIMax = IMax > threshold\n",
    "\n",
    "#\n",
    "fig, ax = plt.subplots(1,1)\n",
    "ax.imshow(binIMax, cmap = 'gray')\n",
    "fig.show()\n",
    "#"
   ]
  },
  {
   "cell_type": "code",
   "execution_count": 356,
   "id": "03d07c13",
   "metadata": {},
   "outputs": [],
   "source": [
    "class MultiBeadsDeptho:\n",
    "   \n",
    "    def __init__(self, I, scale):\n",
    "        nz, ny, nx = I.shape[0], I.shape[1], I.shape[2]\n",
    "        \n",
    "        self.__I = I\n",
    "        self.__scale = scale\n",
    "        self.__I_labeled = np.zeros([nz, ny, nx])\n",
    "        self.__nz = nz\n",
    "        self.__ny = ny\n",
    "        self.__nx = nx\n",
    "        self.__beadList = []\n",
    "        self.__nB = 0\n",
    "        \n",
    "        \n",
    "        \n",
    "    def get_beadList(self):\n",
    "        return(self.__beadList)\n",
    "    \n",
    "    def build_beadList(self):\n",
    "        maxVal = np.zeros(self.__nz)\n",
    "        for z in range(self.__nz):\n",
    "            maxVal[z] = np.max(self.__I[z])\n",
    "        z_max = np.argmax(maxVal)\n",
    "        I_max = self.__I[z_max]\n",
    "        threshold = skimage.filters.threshold_otsu(I_max)\n",
    "        I_max_bin = (I_max > threshold)\n",
    "        I_labeled, nB = measure.label(I_max_bin, return_num = True)\n",
    "        self.__I_labeled, self.__nB = I_labeled, nB\n",
    "        \n",
    "#         for k in range(1,self.__nB+1):\n",
    "#             ym0, xm0 = ndi.center_of_mass(I_max, I_labeled, k)\n",
    "#             ym0, xm0 = int(np.floor(ym0)), int(np.floor(xm0))\n",
    "#             I_labeled[ym0-1:ym0+2, xm0-1:xm0+2] = 2*nB\n",
    "            \n",
    "#         fig, ax = plt.subplots(1,1)\n",
    "#         ax.imshow(I_labeled)\n",
    "            \n",
    "        for k in range(1,self.__nB+1):\n",
    "#             print(k)\n",
    "#             print(ndi.center_of_mass(I_max, I_labeled, k))\n",
    "            ym0, xm0 = ndi.center_of_mass(I_max, I_labeled, k)\n",
    "            self.__beadList.append(BeadDeptho(I, xm0, ym0, self.__scale))\n",
    "            self.__beadList[-1].build_ROI()\n",
    "            if self.__beadList[-1].validBead:\n",
    "                self.__beadList[-1].build_zProfiles()\n",
    "            \n",
    "    \n",
    "    \n",
    "    @property\n",
    "    def I(self):\n",
    "        return(self.__I)\n",
    "    \n",
    "    @I.setter\n",
    "    def I(self, I):\n",
    "#         self.__I  =  I\n",
    "        print('FORBIDEN: You cannot change the image after this object instantiation.')\n",
    "    \n",
    "    @property\n",
    "    def nz(self):\n",
    "        return(self.__nz)\n",
    "    \n",
    "    @property\n",
    "    def ny(self):\n",
    "        return(self.__ny)\n",
    "    \n",
    "    @property\n",
    "    def nx(self):\n",
    "        return(self.__nx)\n",
    "    \n",
    "    @property\n",
    "    def nB(self):\n",
    "        return(self.__nB)\n",
    "\n",
    "    "
   ]
  },
  {
   "cell_type": "code",
   "execution_count": 373,
   "id": "682aa05e",
   "metadata": {},
   "outputs": [],
   "source": [
    "class BeadDeptho:\n",
    "    def __init__(self, I, xm0, ym0, scale):\n",
    "        \n",
    "        nz, ny, nx = I.shape[0], I.shape[1], I.shape[2]\n",
    "        \n",
    "        self.I = I\n",
    "        self.nz = nz\n",
    "        self.ny = ny\n",
    "        self.nx = nx\n",
    "        self.scale = scale\n",
    "        self.xm0 = xm0\n",
    "        self.ym0 = ym0\n",
    "        \n",
    "        self.D = 0\n",
    "        self.threshold = 0\n",
    "        self.I_cleanROI = np.array([])\n",
    "        self.XYm = np.zeros((2, self.nz), dtype = int)\n",
    "        self.validBead = True\n",
    "        \n",
    "        self.z_max = 0\n",
    "        self.validSlice = np.zeros(nz, dtype = bool)\n",
    "        self.zFirst = 0\n",
    "        self.zLast = nz\n",
    "        self.validDepth = nz\n",
    "        \n",
    "        self.depthosDict = {}\n",
    "        self.profileDict = {}\n",
    "        self.ZfocusDict = {}\n",
    "    \n",
    "    \n",
    "    def build_ROI(self):\n",
    "        roughSize = np.floor(5*self.scale)\n",
    "        roughSize += roughSize%2\n",
    "        x1_roughROI = int(np.floor(self.xm0) - roughSize*0.5) - 1\n",
    "        x2_roughROI = int(np.floor(self.xm0) + roughSize*0.5)\n",
    "        y1_roughROI = int(np.floor(self.ym0) - roughSize*0.5) - 1\n",
    "        y2_roughROI = int(np.floor(self.ym0) + roughSize*0.5)\n",
    "\n",
    "        if min([x1_roughROI,self.nx-x2_roughROI,y1_roughROI,self.ny-y2_roughROI]) < 0:\n",
    "            self.validBead = False\n",
    "            \n",
    "        if self.validBead:\n",
    "            I_roughRoi = I[:, y1_roughROI:y2_roughROI, x1_roughROI:x2_roughROI]\n",
    "            maxVal = np.zeros(self.nz)\n",
    "            for z in range(self.nz):\n",
    "                maxVal[z] = np.max(I_roughRoi[z])\n",
    "            z_max = np.argmax(maxVal)\n",
    "            self.z_max = z_max\n",
    "\n",
    "#             print('Zmax = {:.0f}'.format(z_max))\n",
    "#             figh, axh = plt.subplots(1,2, figsize = (8,4))\n",
    "#             axh[0].imshow(I_roughRoi[z_max], cmap = 'gray')\n",
    "#             axh[1].hist(I_roughRoi[z_max].ravel(), bins=256, histtype='step', color='black')\n",
    "            \n",
    "            \n",
    "\n",
    "            counts, binEdges = np.histogram(I_roughRoi[z_max].ravel(), bins=256)\n",
    "\n",
    "            peaks, peaksProp = find_peaks(counts, height=100, threshold=None, distance=None, prominence=None, \\\n",
    "                               width=None, wlen=None, rel_height=0.5, plateau_size=None)\n",
    "\n",
    "            if counts[peaks[0]] > 1200:\n",
    "                self.D = 4.5\n",
    "                roughSize = np.floor(2*self.D*self.scale)\n",
    "                roughSize += roughSize%2\n",
    "                x1_roughROI = int(np.floor(self.xm0) - roughSize*0.5) - 1\n",
    "                x2_roughROI = int(np.floor(self.xm0) + roughSize*0.5)\n",
    "                y1_roughROI = int(np.floor(self.ym0) - roughSize*0.5) - 1\n",
    "                y2_roughROI = int(np.floor(self.ym0) + roughSize*0.5)\n",
    "                \n",
    "            else:\n",
    "                self.D = 2.7\n",
    "                roughSize = np.floor(2*self.D*self.scale)\n",
    "                roughSize += roughSize%2\n",
    "                x1_roughROI = int(np.floor(self.xm0) - roughSize*0.5) - 1\n",
    "                x2_roughROI = int(np.floor(self.xm0) + roughSize*0.5)\n",
    "                y1_roughROI = int(np.floor(self.ym0) - roughSize*0.5) - 1\n",
    "                y2_roughROI = int(np.floor(self.ym0) + roughSize*0.5)\n",
    "                \n",
    "                \n",
    "#             print('First peak height is {:.0f}'.format(counts[peaks[0]]))    \n",
    "#             print('Detected D is {:.1f}'.format(self.D))\n",
    "            \n",
    "            if min([x1_roughROI,self.nx-x2_roughROI,y1_roughROI,self.ny-y2_roughROI]) < 0:\n",
    "                self.validBead = False\n",
    "                x1_roughROI, x2_roughROI = max(0, x1_roughROI), min(self.nx, x2_roughROI)\n",
    "                y1_roughROI, y2_roughROI = max(0, y1_roughROI), min(self.nx, y2_roughROI) \n",
    "            \n",
    "            I_roughRoi = I[:, y1_roughROI:y2_roughROI, x1_roughROI:x2_roughROI]\n",
    "            \n",
    "    #         h_roughROI, w_roughROI = x2_roughROI-x1_roughROI, y2_roughROI-y1_roughROI\n",
    "    #         print(h_roughROI//2, w_roughROI//2)\n",
    "            \n",
    "            if self.validBead:\n",
    "\n",
    "                threshold = 0.8*skimage.filters.threshold_otsu(I_roughRoi)\n",
    "                self.threshold = threshold\n",
    "                I_roughRoi_binary = (I_roughRoi > threshold)\n",
    "                I_roughRoi_binary_fh = ndi.binary_fill_holes(I_roughRoi_binary).astype(int)\n",
    "                Ilab, nB_ROI = measure.label(I_roughRoi_binary_fh[z_max], return_num = True)\n",
    "                if nB_ROI > 1:\n",
    "                    self.validBead = False\n",
    "                    \n",
    "                if not self.validBead:\n",
    "                    print('Not acceptable bead in x0, y0 = {:.2f}, {:.2f}'.format(self.xm0, self.ym0))\n",
    "#                     fig, ax = plt.subplots(1,1, figsize = (4,4))\n",
    "#                     ax.imshow(I_roughRoi[z_max], cmap = 'gray')\n",
    "                \n",
    "                if self.validBead:\n",
    "                    area, circ = np.zeros(self.nz), np.zeros(self.nz)\n",
    "                    for i in range(self.nz):\n",
    "                        props = measure.regionprops_table(I_roughRoi_binary_fh[i], properties=('perimeter', 'area'))\n",
    "                        if not np.sum(I_roughRoi_binary_fh[i]) == 0 and props['perimeter'][0] != 0:\n",
    "                            area[i] = props['area'][0]\n",
    "                            circ[i] = (4 * np.pi * props['area']) / (props['perimeter'] * props['perimeter'])[0]       \n",
    "                    \n",
    "                    validSlice = np.array((area > 50) & (circ > 0.8))\n",
    "                    zFirst = np.argmax(validSlice)\n",
    "                    zLast = self.nz - np.argmax(validSlice[::-1])\n",
    "\n",
    "                    XYm = np.zeros((2, self.nz), dtype = int)\n",
    "                    cleanSize = int(round(1*self.D*self.scale))\n",
    "                    cleanSize += 1 + cleanSize%2\n",
    "                    \n",
    "                    I_cleanROI = np.zeros([self.nz, cleanSize, cleanSize])\n",
    "\n",
    "                    try:\n",
    "                        for i in range(zFirst, zLast):\n",
    "                            Ym, Xm = ndi.center_of_mass(I_roughRoi[i], labels=I_roughRoi_binary_fh[i], index=1)\n",
    "                            XYm[1, i], XYm[0, i] = Ym + y1_roughROI, Xm + x1_roughROI\n",
    "                            roughCenter = int((roughSize+1)//2)\n",
    "                            tform = transform.EuclideanTransform(rotation=0, \\\n",
    "                                                                 translation = (Xm-roughCenter, Ym-roughCenter))\n",
    "                            I_tmp = transform.warp(I_roughRoi[i], tform, order = 1, preserve_range = True)\n",
    "\n",
    "                            I_cleanROI[i] = np.copy(I_tmp[roughCenter-cleanSize//2:roughCenter+cleanSize//2+1,\\\n",
    "                                                          roughCenter-cleanSize//2:roughCenter+cleanSize//2+1])\n",
    "\n",
    "                            # VISUALISE\n",
    "                            if i == z_max:\n",
    "#                                 print('Zfirst = {:.0f} and Zlast = {:.0f}'.format(zFirst, zLast))\n",
    "                                print('Job done for the bead in x0, y0 = {:.2f}, {:.2f}'.format(self.xm0, self.ym0))\n",
    "\n",
    "#                                 fig, ax = plt.subplots(1,4, figsize = (16,4))\n",
    "#                                 ax[0].imshow(I_roughRoi[i], cmap = 'gray')\n",
    "#                                 mid = I_roughRoi[i].shape[0]//2\n",
    "#                                 ax[0].plot([0,2*mid],[mid, mid], 'r--', lw = 0.5)\n",
    "#                                 ax[0].plot([mid, mid],[0,2*mid], 'r--', lw = 0.5)\n",
    "#                                 I_max_binary = (I_roughRoi[i] > threshold)\n",
    "#                                 y, x = ndi.center_of_mass(I_roughRoi[i], labels=I_max_binary, index=1)\n",
    "#                                 ax[0].plot([x],[y], 'b+')\n",
    "\n",
    "#                                 ax[1].imshow(I_tmp, cmap = 'gray')\n",
    "#                                 mid = I_tmp.shape[0]//2\n",
    "#                                 ax[1].plot([0,2*mid],[mid, mid], 'r--', lw = 0.5)\n",
    "#                                 ax[1].plot([mid, mid],[0,2*mid], 'r--', lw = 0.5)\n",
    "#                                 I_tmp_binary = (I_tmp > threshold)\n",
    "#                                 y, x = ndi.center_of_mass(I_tmp, labels=I_tmp_binary, index=1)\n",
    "#                                 ax[1].plot([x],[y], 'b+')\n",
    "\n",
    "#                                 ax[2].imshow(I_cleanROI[i], cmap = 'gray')\n",
    "#                                 mid = I_cleanROI[i].shape[0]//2\n",
    "#                                 ax[2].plot([0,2*mid],[mid, mid], 'r--', lw = 0.5)\n",
    "#                                 ax[2].plot([mid, mid],[0,2*mid], 'r--', lw = 0.5)\n",
    "#                                 I_cleanRoi_binary = (I_cleanROI > threshold)\n",
    "#                                 y, x = ndi.center_of_mass(I_cleanROI[i], labels=I_cleanRoi_binary[i], index=1)\n",
    "#                                 ax[2].plot([x],[y], 'b+')\n",
    "\n",
    "#                                 ax[3].hist(I_roughRoi[i].ravel(), bins=256, histtype='step', color='black')\n",
    "                        \n",
    "                        self.validSlice = validSlice\n",
    "                        self.zFirst = zFirst\n",
    "                        self.zLast = zLast\n",
    "                        self.validDepth = zLast-zFirst\n",
    "                        self.XYm = XYm\n",
    "                        self.I_cleanROI = I_cleanROI.astype(np.uint16)\n",
    "\n",
    "                    except:\n",
    "                        print('BUG ! for the bead in x0, y0 = {:.2f}, {:.2f}'.format(self.xm0, self.ym0))\n",
    "\n",
    "    #         ax.hist(I_roughRoi[z_max].ravel(), bins=256, histtype='step', color='black')\n",
    "    #         print(XYm)\n",
    "                          \n",
    "    \n",
    "    def build_zProfiles(self):\n",
    "        side_ROI = self.I_cleanROI.shape[1]\n",
    "        mid_ROI = side_ROI//2\n",
    "        nbPixToAvg = 3 # Have to be an odd number\n",
    "        deptho_v = np.zeros([self.nz, side_ROI], dtype = np.float64)\n",
    "        deptho_h = np.zeros([self.nz, side_ROI], dtype = np.float64)\n",
    "        \n",
    "        for z in range(self.zFirst, self.zLast):\n",
    "            templine = side_ROI\n",
    "            deptho_v[z] = self.I_cleanROI[z,:,mid_ROI] * (1/nbPixToAvg)\n",
    "#             print(self.I_cleanROI[z,:,mid_ROI])\n",
    "#             print(1/nbPixToAvg)\n",
    "#             print(self.deptho_v[z])\n",
    "            deptho_h[z] = self.I_cleanROI[z,mid_ROI,:] * (1/nbPixToAvg)\n",
    "    \n",
    "            for i in range(1, 1 + nbPixToAvg//2):\n",
    "#                 print(self.I_cleanROI[z,:,mid_ROI - i] * (1/nbPixToAvg) )\n",
    "                deptho_v[z] += self.I_cleanROI[z,:,mid_ROI - i] * (1/nbPixToAvg) \n",
    "                deptho_v[z] += self.I_cleanROI[z,:,mid_ROI + i] * (1/nbPixToAvg)\n",
    "                \n",
    "                deptho_h[z] += self.I_cleanROI[z,mid_ROI - i,:] * (1/nbPixToAvg) \n",
    "                deptho_h[z] += self.I_cleanROI[z,mid_ROI + i,:] * (1/nbPixToAvg)\n",
    "          \n",
    "        deptho_v = deptho_v.astype(np.uint16)\n",
    "        deptho_h = deptho_h.astype(np.uint16)\n",
    "        \n",
    "        self.depthosDict['deptho_v'] = deptho_v\n",
    "        self.depthosDict['deptho_h'] = deptho_h\n",
    "        \n",
    "        \n",
    "        # 3D caracterisation\n",
    "        I_binary = np.zeros([self.I_cleanROI.shape[0], self.I_cleanROI.shape[1], self.I_cleanROI.shape[2]])\n",
    "        I_binary[self.zFirst:self.zLast] = (self.I_cleanROI[self.zFirst:self.zLast] > self.threshold)\n",
    "        Zm3D, Ym3D, Xm3D = ndi.center_of_mass(self.I_cleanROI, labels=I_binary, index=1)\n",
    "        self.ZfocusDict['Zm3D'] = Zm3D\n",
    "        \n",
    "        \n",
    "        # Raw profiles\n",
    "        \n",
    "        Z = np.array([z for z in range(self.I_cleanROI.shape[0])])\n",
    "        intensity_tot = np.array([np.sum(self.I_cleanROI[z][I_binary[z].astype(bool)])/(1+np.sum(I_binary[z])) for z in range(self.I_cleanROI.shape[0])]).astype(np.float64)\n",
    "        intensity_v = np.array([np.sum(deptho_v[z,:])/side_ROI for z in range(deptho_v.shape[0])]).astype(np.float64)\n",
    "        intensity_h = np.array([np.sum(deptho_h[z,:])/side_ROI for z in range(deptho_h.shape[0])]).astype(np.float64)\n",
    "        \n",
    "        Zm_v, Zm_h, Zm_tot = np.argmax(intensity_v), np.argmax(intensity_h), np.argmax(intensity_tot)\n",
    "        \n",
    "        self.profileDict['intensity_v'] = intensity_v\n",
    "        self.profileDict['intensity_h'] = intensity_h\n",
    "        self.profileDict['intensity_tot'] = intensity_tot\n",
    "        self.ZfocusDict['Zm_v'] = Zm_v\n",
    "        self.ZfocusDict['Zm_h'] = Zm_h\n",
    "        self.ZfocusDict['Zm_tot'] = Zm_tot\n",
    "        \n",
    "\n",
    "        # Smoothed profiles\n",
    "        \n",
    "        Z_hd = np.arange(0,self.I_cleanROI.shape[0],0.2)\n",
    "        intensity_v_hd = np.interp(Z_hd, Z, intensity_v)\n",
    "        intensity_h_hd = np.interp(Z_hd, Z, intensity_h)\n",
    "        intensity_tot_hd = np.interp(Z_hd, Z, intensity_tot)\n",
    "        intensity_v_smooth = savgol_filter(intensity_v_hd, 101, 7)\n",
    "        intensity_h_smooth = savgol_filter(intensity_h_hd, 101, 7)\n",
    "        intensity_tot_smooth = savgol_filter(intensity_tot_hd, 101, 7)\n",
    "        \n",
    "        Zm_v_hd, Zm_h_hd, Zm_tot_hd = Z_hd[np.argmax(intensity_v_smooth)], Z_hd[np.argmax(intensity_h_smooth)], Z_hd[np.argmax(intensity_tot_smooth)]\n",
    "        \n",
    "        self.profileDict['intensity_v_smooth'] = intensity_v_smooth \n",
    "        self.profileDict['intensity_h_smooth'] = intensity_h_smooth\n",
    "        self.profileDict['intensity_tot_smooth'] = intensity_tot_smooth\n",
    "        self.ZfocusDict['Zm_v_hd'] = Zm_v_hd \n",
    "        self.ZfocusDict['Zm_h_hd'] = Zm_h_hd\n",
    "        self.ZfocusDict['Zm_tot_hd'] = Zm_tot_hd\n",
    "        \n",
    "        # VISUALISE\n",
    "        \n",
    "#         fig, ax = plt.subplots(1,3, figsize = (12, 4))\n",
    "#         ax[0].plot(Z, intensity_v)\n",
    "#         ax[1].plot(Z, intensity_h)\n",
    "#         ax[2].plot(Z, (intensity_tot))\n",
    "#         ax[0].plot([Zm_v, Zm_v], [0, ax[0].get_ylim()[1]], 'r--', lw = 0.8, label = 'Zm_v = {:.2f}'.format(Zm_v))\n",
    "#         ax[1].plot([Zm_h, Zm_h], [0, ax[1].get_ylim()[1]], 'r--', lw = 0.8, label = 'Zm_h = {:.2f}'.format(Zm_h))\n",
    "#         ax[2].plot([Zm_tot, Zm_tot], [0, ax[2].get_ylim()[1]], 'r--', lw = 0.8, label = 'Zm_tot = {:.2f}'.format(Zm_tot))\n",
    "#         ax[0].legend(loc = 'lower right')\n",
    "#         ax[1].legend(loc = 'lower right')\n",
    "#         ax[2].legend(loc = 'lower right')\n",
    "        \n",
    "        fig, ax = plt.subplots(1,3, figsize = (12, 4))\n",
    "        ax[0].plot(Z, intensity_v, 'b-')\n",
    "        ax[1].plot(Z, intensity_h, 'b-')\n",
    "        ax[2].plot(Z, (intensity_tot), 'b-')\n",
    "        ax[0].plot(Z_hd, intensity_v_smooth, 'k--')\n",
    "        ax[1].plot(Z_hd, intensity_h_smooth, 'k--')\n",
    "        ax[2].plot(Z_hd, intensity_tot_smooth, 'k--')\n",
    "        ax[0].plot([Zm_v_hd, Zm_v_hd], [0, ax[0].get_ylim()[1]], 'r--', lw = 0.8, label = 'Zm_v_hd = {:.2f}'.format(Zm_v_hd))\n",
    "        ax[1].plot([Zm_h_hd, Zm_h_hd], [0, ax[1].get_ylim()[1]], 'r--', lw = 0.8, label = 'Zm_h_hd = {:.2f}'.format(Zm_h_hd))\n",
    "        ax[2].plot([Zm_tot_hd, Zm_tot_hd], [0, ax[2].get_ylim()[1]], 'r--', lw = 0.8, label = 'Zm_tot_hd = {:.2f}'.format(Zm_tot_hd))\n",
    "        ax[0].legend(loc = 'lower right')\n",
    "        ax[1].legend(loc = 'lower right')\n",
    "        ax[2].legend(loc = 'lower right')\n",
    "        \n",
    "        print('Zm_v = {:.2f}, Zm_h = {:.2f}, Zm_tot = {:.2f}'\\\n",
    "              .format(Zm_v, Zm_h, Zm_tot))\n",
    "        print('Zm_v_hd = {:.2f}, Zm_h_hd = {:.2f}, Zm_tot_hd = {:.2f}'\\\n",
    "              .format(Zm_v_hd, Zm_h_hd, Zm_tot_hd))\n",
    "        print('Xm3D = {:.2f}, Ym3D = {:.2f}, Zm3D = {:.2f}'\\\n",
    "              .format(Xm3D, Ym3D, Zm3D))\n",
    "        print('\\n')\n",
    "        \n",
    "        return(0)"
   ]
  },
  {
   "cell_type": "code",
   "execution_count": 374,
   "id": "ffcba15b",
   "metadata": {},
   "outputs": [
    {
     "data": {
      "text/plain": [
       "0"
      ]
     },
     "execution_count": 374,
     "metadata": {},
     "output_type": "execute_result"
    }
   ],
   "source": [
    "mbd = MultiBeadsDeptho(I, 15.8)\n",
    "mbd.nB"
   ]
  },
  {
   "cell_type": "code",
   "execution_count": 375,
   "id": "2831c383",
   "metadata": {
    "scrolled": false
   },
   "outputs": [
    {
     "name": "stdout",
     "output_type": "stream",
     "text": [
      "Job done for the bead in x0, y0 = 182.24, 143.52\n"
     ]
    },
    {
     "data": {
      "application/vnd.jupyter.widget-view+json": {
       "model_id": "75329ef8e37144c6bdabfdb3cf93ffd5",
       "version_major": 2,
       "version_minor": 0
      },
      "text/plain": [
       "Canvas(toolbar=Toolbar(toolitems=[('Home', 'Reset original view', 'home', 'home'), ('Back', 'Back to previous …"
      ]
     },
     "metadata": {},
     "output_type": "display_data"
    },
    {
     "name": "stdout",
     "output_type": "stream",
     "text": [
      "Zm_v = 169.00, Zm_h = 169.00, Zm_tot = 165.00\n",
      "Zm_v_hd = 169.60, Zm_h_hd = 167.00, Zm_tot_hd = 165.40\n",
      "Xm3D = 36.01, Ym3D = 36.00, Zm3D = 193.96\n",
      "\n",
      "\n",
      "Job done for the bead in x0, y0 = 353.88, 147.96\n"
     ]
    },
    {
     "data": {
      "application/vnd.jupyter.widget-view+json": {
       "model_id": "6142e8066aff42fbbfa540279dd4d651",
       "version_major": 2,
       "version_minor": 0
      },
      "text/plain": [
       "Canvas(toolbar=Toolbar(toolitems=[('Home', 'Reset original view', 'home', 'home'), ('Back', 'Back to previous …"
      ]
     },
     "metadata": {},
     "output_type": "display_data"
    },
    {
     "name": "stdout",
     "output_type": "stream",
     "text": [
      "Zm_v = 173.00, Zm_h = 170.00, Zm_tot = 174.00\n",
      "Zm_v_hd = 172.00, Zm_h_hd = 168.60, Zm_tot_hd = 171.60\n",
      "Xm3D = 36.01, Ym3D = 36.00, Zm3D = 187.17\n",
      "\n",
      "\n",
      "Job done for the bead in x0, y0 = 1601.62, 149.54\n"
     ]
    },
    {
     "data": {
      "application/vnd.jupyter.widget-view+json": {
       "model_id": "ec1d162b24974b068ed0b02921847d76",
       "version_major": 2,
       "version_minor": 0
      },
      "text/plain": [
       "Canvas(toolbar=Toolbar(toolitems=[('Home', 'Reset original view', 'home', 'home'), ('Back', 'Back to previous …"
      ]
     },
     "metadata": {},
     "output_type": "display_data"
    },
    {
     "name": "stdout",
     "output_type": "stream",
     "text": [
      "Zm_v = 180.00, Zm_h = 176.00, Zm_tot = 180.00\n",
      "Zm_v_hd = 181.40, Zm_h_hd = 175.40, Zm_tot_hd = 179.00\n",
      "Xm3D = 36.01, Ym3D = 36.01, Zm3D = 206.61\n",
      "\n",
      "\n",
      "Job done for the bead in x0, y0 = 1199.50, 168.31\n"
     ]
    },
    {
     "data": {
      "application/vnd.jupyter.widget-view+json": {
       "model_id": "5f017edad1034f4ebddcdef437d09090",
       "version_major": 2,
       "version_minor": 0
      },
      "text/plain": [
       "Canvas(toolbar=Toolbar(toolitems=[('Home', 'Reset original view', 'home', 'home'), ('Back', 'Back to previous …"
      ]
     },
     "metadata": {},
     "output_type": "display_data"
    },
    {
     "name": "stdout",
     "output_type": "stream",
     "text": [
      "Zm_v = 176.00, Zm_h = 176.00, Zm_tot = 176.00\n",
      "Zm_v_hd = 174.40, Zm_h_hd = 176.20, Zm_tot_hd = 176.80\n",
      "Xm3D = 36.00, Ym3D = 36.00, Zm3D = 196.23\n",
      "\n",
      "\n",
      "Job done for the bead in x0, y0 = 278.68, 323.96\n"
     ]
    },
    {
     "data": {
      "application/vnd.jupyter.widget-view+json": {
       "model_id": "6736c8287d0647e8afee05a36a8a1ff9",
       "version_major": 2,
       "version_minor": 0
      },
      "text/plain": [
       "Canvas(toolbar=Toolbar(toolitems=[('Home', 'Reset original view', 'home', 'home'), ('Back', 'Back to previous …"
      ]
     },
     "metadata": {},
     "output_type": "display_data"
    },
    {
     "name": "stdout",
     "output_type": "stream",
     "text": [
      "Zm_v = 173.00, Zm_h = 176.00, Zm_tot = 175.00\n",
      "Zm_v_hd = 175.20, Zm_h_hd = 176.80, Zm_tot_hd = 176.40\n",
      "Xm3D = 36.01, Ym3D = 36.00, Zm3D = 201.85\n",
      "\n",
      "\n",
      "Not acceptable bead in x0, y0 = 1814.52, 384.78\n",
      "Not acceptable bead in x0, y0 = 1811.72, 455.93\n",
      "Job done for the bead in x0, y0 = 522.14, 493.35\n"
     ]
    },
    {
     "data": {
      "application/vnd.jupyter.widget-view+json": {
       "model_id": "5fd288676357495e89e2e53bd76d05e3",
       "version_major": 2,
       "version_minor": 0
      },
      "text/plain": [
       "Canvas(toolbar=Toolbar(toolitems=[('Home', 'Reset original view', 'home', 'home'), ('Back', 'Back to previous …"
      ]
     },
     "metadata": {},
     "output_type": "display_data"
    },
    {
     "name": "stdout",
     "output_type": "stream",
     "text": [
      "Zm_v = 184.00, Zm_h = 182.00, Zm_tot = 184.00\n",
      "Zm_v_hd = 182.60, Zm_h_hd = 183.60, Zm_tot_hd = 182.20\n",
      "Xm3D = 36.00, Ym3D = 36.00, Zm3D = 207.96\n",
      "\n",
      "\n"
     ]
    }
   ],
   "source": [
    "mbd.build_beadList()\n",
    "mbd.nB\n",
    "listBeads = mbd.get_beadList()"
   ]
  },
  {
   "cell_type": "code",
   "execution_count": 372,
   "id": "fcecc5cb",
   "metadata": {},
   "outputs": [
    {
     "data": {
      "text/plain": [
       "array([0. , 0.1, 0.2, 0.3, 0.4, 0.5, 0.6, 0.7, 0.8, 0.9])"
      ]
     },
     "execution_count": 372,
     "metadata": {},
     "output_type": "execute_result"
    }
   ],
   "source": [
    "# b0 = listBeads[2]\n",
    "# ni = 5\n",
    "# fig, ax = plt.subplots(ni,1, figsize = (6, 5*ni))\n",
    "# for i in range(0,ni):\n",
    "#     z = b0.zFirst+i\n",
    "#     ax[i].imshow(mbd.I[z], cmap='gray')\n",
    "#     ax[i].plot(b0.XYm[0,z],b0.XYm[1,z], 'b+')\n",
    "\n",
    "np.arange(0,1,0.1)"
   ]
  },
  {
   "cell_type": "code",
   "execution_count": 245,
   "id": "afb784ff",
   "metadata": {},
   "outputs": [
    {
     "data": {
      "application/vnd.jupyter.widget-view+json": {
       "model_id": "a52ae26fc2fc4d73b7d8e7a7ec2f09b9",
       "version_major": 2,
       "version_minor": 0
      },
      "text/plain": [
       "Canvas(toolbar=Toolbar(toolitems=[('Home', 'Reset original view', 'home', 'home'), ('Back', 'Back to previous …"
      ]
     },
     "metadata": {},
     "output_type": "display_data"
    },
    {
     "data": {
      "application/vnd.jupyter.widget-view+json": {
       "model_id": "5cfa72592884436a958249c962e524f6",
       "version_major": 2,
       "version_minor": 0
      },
      "text/plain": [
       "Canvas(toolbar=Toolbar(toolitems=[('Home', 'Reset original view', 'home', 'home'), ('Back', 'Back to previous …"
      ]
     },
     "metadata": {},
     "output_type": "display_data"
    },
    {
     "data": {
      "application/vnd.jupyter.widget-view+json": {
       "model_id": "90c31b9b3b1f4b5f8210f9c6d3c05b71",
       "version_major": 2,
       "version_minor": 0
      },
      "text/plain": [
       "Canvas(toolbar=Toolbar(toolitems=[('Home', 'Reset original view', 'home', 'home'), ('Back', 'Back to previous …"
      ]
     },
     "metadata": {},
     "output_type": "display_data"
    },
    {
     "data": {
      "application/vnd.jupyter.widget-view+json": {
       "model_id": "28811b6a3d5e4949abc4d276b2af1f4d",
       "version_major": 2,
       "version_minor": 0
      },
      "text/plain": [
       "Canvas(toolbar=Toolbar(toolitems=[('Home', 'Reset original view', 'home', 'home'), ('Back', 'Back to previous …"
      ]
     },
     "metadata": {},
     "output_type": "display_data"
    },
    {
     "data": {
      "application/vnd.jupyter.widget-view+json": {
       "model_id": "328601c48a5a429990cdef80815b2349",
       "version_major": 2,
       "version_minor": 0
      },
      "text/plain": [
       "Canvas(toolbar=Toolbar(toolitems=[('Home', 'Reset original view', 'home', 'home'), ('Back', 'Back to previous …"
      ]
     },
     "metadata": {},
     "output_type": "display_data"
    },
    {
     "data": {
      "application/vnd.jupyter.widget-view+json": {
       "model_id": "e687cc8a3b5d4cc288b438f11588a2da",
       "version_major": 2,
       "version_minor": 0
      },
      "text/plain": [
       "Canvas(toolbar=Toolbar(toolitems=[('Home', 'Reset original view', 'home', 'home'), ('Back', 'Back to previous …"
      ]
     },
     "metadata": {},
     "output_type": "display_data"
    }
   ],
   "source": [
    "for bD in listBeads:\n",
    "    if bD.validBead:\n",
    "        fig, ax = plt.subplots(1,2, figsize = (8, 5))\n",
    "        ax[0].imshow(bD.deptho_h, cmap='gray')\n",
    "        ax[1].imshow(bD.deptho_v, cmap='gray')"
   ]
  },
  {
   "cell_type": "code",
   "execution_count": 222,
   "id": "dc1f3ed6",
   "metadata": {},
   "outputs": [
    {
     "data": {
      "text/plain": [
       "array([     0,      0,      0,      0,      0,      0,      0,      0,\n",
       "            0,      0,      0,      0,      0,      0,      0,      0,\n",
       "            0,      0,      0,      0,      0,      0,      0,      0,\n",
       "            0,      0,      0,      0,      0,      0,      0,      0,\n",
       "            0,      0,      0,      0,      0,      0,      0,      0,\n",
       "            0,      0,      0,      0,      0,      0,      0,      0,\n",
       "            0,      0,      0,      0,      0,      0,      0,      0,\n",
       "            0,      0,      0,      0,      0,      0,      0,      0,\n",
       "            0,      0,      0,      0,      0,      0,      0,      0,\n",
       "            0,      0,      0,      0,      0,      0,      0,      0,\n",
       "            0,      0,      0,      0,      0,      0,      0,      0,\n",
       "            0,      0,      0,      0,      0,      0,      0,      0,\n",
       "            0,      0,      0,      0,      0,      0,      0,      0,\n",
       "       363274, 366605, 369248, 372837, 377347, 381091, 383494, 388589,\n",
       "       392312, 396844, 400902, 405010, 408935, 413845, 418027, 422193,\n",
       "       428311, 432041, 436972, 441103, 446756, 453530, 457063, 464348,\n",
       "       468637, 472979, 478473, 484183, 488385, 493705, 498922, 504516,\n",
       "       510144, 514358, 518938, 524344, 528677, 532419, 536559, 540233,\n",
       "       545464, 547632, 552674, 554304, 557440, 560972, 563718, 566521,\n",
       "       568638, 574190, 574092, 578592, 578395, 581503, 582499, 585036,\n",
       "       586687, 586827, 589435, 589677, 589863, 591711, 591551, 592700,\n",
       "       593210, 593695, 592580, 593669, 592455, 591644, 591203, 589428,\n",
       "       590827, 587403, 587176, 585273, 582173, 580811, 579892, 577291,\n",
       "       575829, 572823, 569217, 566671, 563835, 561253, 558715, 554555,\n",
       "       552020, 547506, 544559, 541091, 535943, 533758, 530956, 526984,\n",
       "       522589, 519540, 514738, 512116, 509048, 505555, 502638, 498053,\n",
       "       495929, 491965, 486995, 486648, 482080, 480218, 475773, 473473,\n",
       "       469807, 465747, 461686, 460198, 457663, 453823, 450864, 449010,\n",
       "       443909, 441927, 438926, 436382, 433862, 432803, 429184, 425969,\n",
       "       424381, 421785, 418973, 416129, 414647, 411414, 408754, 407693,\n",
       "       403833, 402595, 400551, 399006, 396295, 393918, 392847, 390328,\n",
       "       387808, 386135, 384068, 381324, 380752, 378521, 376146, 373795,\n",
       "       371835, 370803, 367083, 366475, 363865, 363044, 360296, 358815,\n",
       "       356370, 355059, 352913, 351456, 350461, 347917, 346217, 344347,\n",
       "       342857, 341605, 339429, 338068, 335834, 333707, 333190, 331880,\n",
       "       329921, 327500, 327169, 325626, 323738, 321800, 320230, 319221,\n",
       "       318092, 317508, 315060, 314314, 312816, 311422, 310804, 309419,\n",
       "       308158, 306363, 305792, 303793, 302178, 302401, 299757, 299116,\n",
       "       298300, 296665, 296194, 294087, 293297, 292059, 291188, 289848,\n",
       "       287973, 286970, 286389, 284631, 283991, 282605, 282456, 281272,\n",
       "       280073, 277995, 277958, 277000, 275059, 273824, 273439, 272431,\n",
       "       270812, 270383, 268900, 269133, 266870, 266503, 264953, 264661,\n",
       "       263105,      0,      0,      0,      0,      0,      0,      0,\n",
       "            0,      0,      0,      0,      0,      0,      0,      0,\n",
       "            0,      0,      0,      0,      0,      0,      0,      0,\n",
       "            0,      0,      0,      0,      0,      0,      0,      0,\n",
       "            0,      0,      0,      0,      0,      0,      0,      0,\n",
       "            0,      0,      0,      0,      0,      0,      0,      0,\n",
       "            0,      0,      0,      0,      0,      0,      0,      0,\n",
       "            0,      0,      0,      0,      0,      0,      0,      0,\n",
       "            0], dtype=uint32)"
      ]
     },
     "execution_count": 222,
     "metadata": {},
     "output_type": "execute_result"
    }
   ],
   "source": [
    "bD = listBeads[0]\n",
    "bD.intensity_v"
   ]
  },
  {
   "cell_type": "code",
   "execution_count": 223,
   "id": "69401ae0",
   "metadata": {},
   "outputs": [
    {
     "data": {
      "text/plain": [
       "array([     0,      0,      0,      0,      0,      0,      0,      0,\n",
       "            0,      0,      0,      0,      0,      0,      0,      0,\n",
       "            0,      0,      0,      0,      0,      0,      0,      0,\n",
       "            0,      0,      0,      0,      0,      0,      0,      0,\n",
       "            0,      0,      0,      0,      0,      0,      0,      0,\n",
       "            0,      0,      0,      0,      0,      0,      0,      0,\n",
       "            0,      0,      0,      0,      0,      0,      0,      0,\n",
       "            0,      0,      0,      0,      0,      0,      0,      0,\n",
       "            0,      0,      0,      0,      0,      0,      0,      0,\n",
       "            0,      0,      0,      0,      0,      0,      0,      0,\n",
       "            0,      0,      0,      0,      0,      0,      0,      0,\n",
       "            0,      0,      0,      0,      0,      0,      0,      0,\n",
       "            0,      0,      0,      0,      0,      0,      0,      0,\n",
       "       360855, 363932, 367701, 371395, 375791, 380219, 383286, 386857,\n",
       "       392431, 396332, 400560, 405732, 410362, 413895, 419147, 424679,\n",
       "       428842, 434437, 439555, 445231, 450699, 455399, 460812, 465986,\n",
       "       471729, 477344, 483037, 488603, 494370, 499144, 505693, 511059,\n",
       "       517162, 522537, 527004, 533138, 538850, 543208, 547898, 551920,\n",
       "       558211, 562470, 566230, 569053, 577069, 580639, 583848, 587251,\n",
       "       588999, 593958, 596351, 600445, 602651, 604565, 607786, 609522,\n",
       "       611292, 610899, 614008, 614089, 614889, 615151, 614860, 615791,\n",
       "       615435, 615828, 614522, 613309, 613281, 610819, 611230, 609333,\n",
       "       608719, 605947, 603598, 602319, 598992, 598660, 594766, 593994,\n",
       "       590461, 590037, 585155, 582659, 579953, 576416, 574081, 570139,\n",
       "       568125, 563135, 559792, 557208, 553642, 550975, 547795, 544713,\n",
       "       539650, 536528, 532532, 529925, 527981, 522859, 520413, 515835,\n",
       "       512630, 509899, 505744, 504626, 499842, 498214, 494387, 492023,\n",
       "       489980, 485633, 481409, 479261, 477361, 474242, 471658, 469205,\n",
       "       465981, 462402, 460016, 458029, 454208, 453449, 448861, 446491,\n",
       "       442446, 442660, 440510, 435672, 433465, 430328, 428041, 426636,\n",
       "       424098, 423490, 419301, 418546, 415933, 412498, 411399, 408697,\n",
       "       406457, 404759, 402994, 400933, 398643, 396663, 393367, 392874,\n",
       "       390724, 387731, 386101, 385080, 382967, 381339, 379036, 378267,\n",
       "       375922, 374200, 372520, 370323, 368313, 366582, 365944, 363533,\n",
       "       361311, 361050, 358221, 355907, 355293, 354368, 353231, 349680,\n",
       "       348572, 347329, 344518, 343314, 343035, 340003, 339783, 337392,\n",
       "       336051, 335363, 333177, 331712, 330746, 329309, 328369, 326490,\n",
       "       325863, 323442, 322601, 320578, 319879, 319096, 317027, 316154,\n",
       "       315181, 313408, 312295, 310530, 309755, 308942, 308107, 306382,\n",
       "       305263, 304080, 302142, 300710, 299886, 298669, 297972, 296576,\n",
       "       295103, 293137, 292796, 292040, 290730, 289619, 288005, 288072,\n",
       "       285864, 284518, 284173, 283416, 282329, 280739, 278773, 278439,\n",
       "       277417,      0,      0,      0,      0,      0,      0,      0,\n",
       "            0,      0,      0,      0,      0,      0,      0,      0,\n",
       "            0,      0,      0,      0,      0,      0,      0,      0,\n",
       "            0,      0,      0,      0,      0,      0,      0,      0,\n",
       "            0,      0,      0,      0,      0,      0,      0,      0,\n",
       "            0,      0,      0,      0,      0,      0,      0,      0,\n",
       "            0,      0,      0,      0,      0,      0,      0,      0,\n",
       "            0,      0,      0,      0,      0,      0,      0,      0,\n",
       "            0], dtype=uint32)"
      ]
     },
     "execution_count": 223,
     "metadata": {},
     "output_type": "execute_result"
    }
   ],
   "source": [
    "bD.intensity_h"
   ]
  },
  {
   "cell_type": "code",
   "execution_count": 225,
   "id": "427ee115",
   "metadata": {},
   "outputs": [
    {
     "data": {
      "text/plain": [
       "array([         0,          0,          0,          0,          0,\n",
       "                0,          0,          0,          0,          0,\n",
       "                0,          0,          0,          0,          0,\n",
       "                0,          0,          0,          0,          0,\n",
       "                0,          0,          0,          0,          0,\n",
       "                0,          0,          0,          0,          0,\n",
       "                0,          0,          0,          0,          0,\n",
       "                0,          0,          0,          0,          0,\n",
       "                0,          0,          0,          0,          0,\n",
       "                0,          0,          0,          0,          0,\n",
       "                0,          0,          0,          0,          0,\n",
       "                0,          0,          0,          0,          0,\n",
       "                0,          0,          0,          0,          0,\n",
       "                0,          0,          0,          0,          0,\n",
       "                0,          0,          0,          0,          0,\n",
       "                0,          0,          0,          0,          0,\n",
       "                0,          0,          0,          0,          0,\n",
       "                0,          0,          0,          0,          0,\n",
       "                0,          0,          0,          0,          0,\n",
       "                0,          0,          0,          0,          0,\n",
       "                0,          0,          0,          0,       2419,\n",
       "             2673,       1547,       1442,       1556,        872,\n",
       "              208,       1732, 4294967177,        512,        342,\n",
       "       4294966574, 4294965869, 4294967246, 4294966176, 4294964810,\n",
       "       4294966765, 4294964900, 4294964713, 4294963168, 4294963353,\n",
       "       4294965427, 4294963547, 4294965658, 4294964204, 4294962931,\n",
       "       4294962732, 4294962876, 4294961311, 4294961857, 4294960525,\n",
       "       4294960753, 4294960278, 4294959117, 4294959230, 4294958502,\n",
       "       4294957123, 4294956507, 4294955957, 4294955609, 4294954549,\n",
       "       4294952458, 4294953740, 4294952547, 4294947667, 4294947629,\n",
       "       4294947166, 4294946566, 4294946935, 4294947528, 4294945037,\n",
       "       4294945443, 4294943040, 4294944234, 4294942009, 4294942810,\n",
       "       4294942691, 4294943224, 4294942723, 4294942884, 4294942270,\n",
       "       4294943856, 4294943987, 4294944205, 4294945071, 4294945163,\n",
       "       4294945354, 4294947656, 4294946470, 4294948121, 4294947269,\n",
       "       4294947391, 4294949404, 4294948752, 4294950874, 4294950250,\n",
       "       4294950477, 4294949447, 4294952422, 4294950593, 4294952664,\n",
       "       4294950082, 4294951358, 4294951308, 4294951178, 4294952133,\n",
       "       4294951930, 4294951712, 4294951191, 4294951667, 4294952063,\n",
       "       4294951179, 4294949597, 4294950079, 4294950457, 4294949567,\n",
       "       4294950235, 4294950308, 4294949502, 4294949487, 4294948363,\n",
       "       4294949992, 4294949521, 4294949514, 4294950595, 4294949362,\n",
       "       4294948547, 4294949318, 4294949534, 4294949300, 4294948682,\n",
       "       4294948746, 4294947123, 4294947410, 4294947573, 4294948233,\n",
       "       4294947598, 4294946877, 4294946502, 4294947101, 4294945224,\n",
       "       4294946821, 4294946206, 4294945649, 4294946950, 4294946650,\n",
       "       4294947619, 4294946774, 4294949231, 4294946421, 4294945759,\n",
       "       4294947753, 4294948478, 4294948382, 4294948009, 4294948353,\n",
       "       4294947031, 4294946401, 4294948546, 4294947756, 4294947658,\n",
       "       4294948716, 4294948744, 4294948927, 4294948647, 4294948672,\n",
       "       4294948370, 4294947687, 4294949405, 4294949154, 4294950075,\n",
       "       4294948217, 4294948407, 4294950368, 4294948278, 4294948691,\n",
       "       4294948194, 4294949001, 4294948556, 4294947844, 4294947744,\n",
       "       4294948155, 4294947689, 4294948429, 4294949444, 4294948631,\n",
       "       4294947569, 4294948110, 4294948842, 4294947851, 4294948504,\n",
       "       4294949457, 4294947837, 4294946635, 4294947255, 4294949496,\n",
       "       4294948645, 4294947467, 4294949947, 4294949608, 4294947999,\n",
       "       4294949093, 4294947743, 4294949125, 4294949337, 4294949441,\n",
       "       4294949179, 4294949898, 4294949366, 4294949409, 4294949731,\n",
       "       4294950225, 4294949591, 4294950217, 4294950487, 4294950511,\n",
       "       4294949595, 4294950601, 4294950026, 4294950258, 4294950415,\n",
       "       4294950553, 4294951195, 4294950853, 4294950838, 4294950413,\n",
       "       4294950377, 4294950762, 4294950006, 4294950186, 4294951543,\n",
       "       4294951217, 4294951401, 4294951232, 4294951780, 4294951992,\n",
       "       4294952266, 4294952154, 4294952458, 4294952256, 4294951625,\n",
       "       4294951501, 4294952730, 4294951655, 4294952244, 4294953161,\n",
       "       4294952023, 4294953013, 4294951837, 4294953060, 4294953476,\n",
       "       4294953518, 4294952984,          0,          0,          0,\n",
       "                0,          0,          0,          0,          0,\n",
       "                0,          0,          0,          0,          0,\n",
       "                0,          0,          0,          0,          0,\n",
       "                0,          0,          0,          0,          0,\n",
       "                0,          0,          0,          0,          0,\n",
       "                0,          0,          0,          0,          0,\n",
       "                0,          0,          0,          0,          0,\n",
       "                0,          0,          0,          0,          0,\n",
       "                0,          0,          0,          0,          0,\n",
       "                0,          0,          0,          0,          0,\n",
       "                0,          0,          0,          0,          0,\n",
       "                0,          0,          0,          0,          0,\n",
       "                0], dtype=uint32)"
      ]
     },
     "execution_count": 225,
     "metadata": {},
     "output_type": "execute_result"
    }
   ],
   "source": [
    "bD.intensity_v - bD.intensity_h"
   ]
  },
  {
   "cell_type": "code",
   "execution_count": 139,
   "id": "e49ef7d4",
   "metadata": {},
   "outputs": [],
   "source": [
    "plt.close('all')"
   ]
  },
  {
   "cell_type": "code",
   "execution_count": null,
   "id": "9fbb3766",
   "metadata": {},
   "outputs": [],
   "source": [
    "mbd.I"
   ]
  },
  {
   "cell_type": "code",
   "execution_count": 195,
   "id": "3a3a9653",
   "metadata": {},
   "outputs": [
    {
     "data": {
      "text/plain": [
       "array([[1, 2, 3],\n",
       "       [4, 5, 6],\n",
       "       [7, 8, 9]])"
      ]
     },
     "execution_count": 195,
     "metadata": {},
     "output_type": "execute_result"
    }
   ],
   "source": [
    "A = np.array([[1, 2, 3],[4, 5, 6],[7, 8, 9]])\n",
    "A"
   ]
  },
  {
   "cell_type": "code",
   "execution_count": 197,
   "id": "fe1dc478",
   "metadata": {},
   "outputs": [
    {
     "data": {
      "text/plain": [
       "6"
      ]
     },
     "execution_count": 197,
     "metadata": {},
     "output_type": "execute_result"
    }
   ],
   "source": [
    "np.sum(A[0])"
   ]
  },
  {
   "cell_type": "code",
   "execution_count": 288,
   "id": "a46ed1e4",
   "metadata": {},
   "outputs": [
    {
     "data": {
      "text/plain": [
       "array([[[0., 0.],\n",
       "        [0., 0.]],\n",
       "\n",
       "       [[1., 2.],\n",
       "        [4., 5.]],\n",
       "\n",
       "       [[5., 6.],\n",
       "        [8., 9.]]])"
      ]
     },
     "execution_count": 288,
     "metadata": {},
     "output_type": "execute_result"
    }
   ],
   "source": [
    "O = np.zeros([3, 2, 2])\n",
    "O[1,:,:] = A[:2,:2]\n",
    "O[2,:,:] = A[1:,1:]\n",
    "O"
   ]
  },
  {
   "cell_type": "code",
   "execution_count": 292,
   "id": "0aa35a4f",
   "metadata": {},
   "outputs": [
    {
     "data": {
      "text/plain": [
       "array([[0., 0.]])"
      ]
     },
     "execution_count": 292,
     "metadata": {},
     "output_type": "execute_result"
    }
   ],
   "source": [
    "b = np.array([1, 0], dtype = bool)\n",
    "O[0][b]"
   ]
  },
  {
   "cell_type": "code",
   "execution_count": 157,
   "id": "c07c6fe3",
   "metadata": {},
   "outputs": [
    {
     "data": {
      "text/plain": [
       "array([[[0., 0.],\n",
       "        [0., 0.]],\n",
       "\n",
       "       [[1., 2.],\n",
       "        [4., 5.]],\n",
       "\n",
       "       [[0., 0.],\n",
       "        [0., 0.]]])"
      ]
     },
     "execution_count": 157,
     "metadata": {},
     "output_type": "execute_result"
    }
   ],
   "source": [
    "\n",
    "O"
   ]
  },
  {
   "cell_type": "code",
   "execution_count": 160,
   "id": "4ec70a55",
   "metadata": {},
   "outputs": [
    {
     "data": {
      "text/plain": [
       "array([[0, 2, 3],\n",
       "       [4, 5, 6],\n",
       "       [7, 8, 9]])"
      ]
     },
     "execution_count": 160,
     "metadata": {},
     "output_type": "execute_result"
    }
   ],
   "source": [
    "A[0,0] = 0\n",
    "A"
   ]
  },
  {
   "cell_type": "code",
   "execution_count": 159,
   "id": "8265b40d",
   "metadata": {},
   "outputs": [
    {
     "data": {
      "text/plain": [
       "array([[[0., 0.],\n",
       "        [0., 0.]],\n",
       "\n",
       "       [[1., 2.],\n",
       "        [4., 5.]],\n",
       "\n",
       "       [[0., 0.],\n",
       "        [0., 0.]]])"
      ]
     },
     "execution_count": 159,
     "metadata": {},
     "output_type": "execute_result"
    }
   ],
   "source": [
    "O"
   ]
  },
  {
   "cell_type": "code",
   "execution_count": null,
   "id": "ac596b12",
   "metadata": {},
   "outputs": [],
   "source": []
  }
 ],
 "metadata": {
  "kernelspec": {
   "display_name": "Python 3",
   "language": "python",
   "name": "python3"
  },
  "language_info": {
   "codemirror_mode": {
    "name": "ipython",
    "version": 3
   },
   "file_extension": ".py",
   "mimetype": "text/x-python",
   "name": "python",
   "nbconvert_exporter": "python",
   "pygments_lexer": "ipython3",
   "version": "3.6.13"
  },
  "toc": {
   "base_numbering": 1,
   "nav_menu": {},
   "number_sections": true,
   "sideBar": true,
   "skip_h1_title": false,
   "title_cell": "Table of Contents",
   "title_sidebar": "Contents",
   "toc_cell": false,
   "toc_position": {},
   "toc_section_display": true,
   "toc_window_display": false
  },
  "varInspector": {
   "cols": {
    "lenName": 16,
    "lenType": 16,
    "lenVar": 40
   },
   "kernels_config": {
    "python": {
     "delete_cmd_postfix": "",
     "delete_cmd_prefix": "del ",
     "library": "var_list.py",
     "varRefreshCmd": "print(var_dic_list())"
    },
    "r": {
     "delete_cmd_postfix": ") ",
     "delete_cmd_prefix": "rm(",
     "library": "var_list.r",
     "varRefreshCmd": "cat(var_dic_list()) "
    }
   },
   "types_to_exclude": [
    "module",
    "function",
    "builtin_function_or_method",
    "instance",
    "_Feature"
   ],
   "window_display": false
  }
 },
 "nbformat": 4,
 "nbformat_minor": 5
}
