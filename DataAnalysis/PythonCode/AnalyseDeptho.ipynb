{
 "cells": [
  {
   "cell_type": "code",
   "execution_count": 1,
   "id": "8b1a3cb6",
   "metadata": {},
   "outputs": [],
   "source": [
    "import numpy as np\n",
    "import pandas as pd\n",
    "import scipy.ndimage as ndi\n",
    "import matplotlib.pyplot as plt\n",
    "\n",
    "import os\n",
    "import time\n",
    "import matplotlib\n",
    "\n",
    "# import skimage\n",
    "from skimage import io, filters, exposure, measure, transform\n",
    "from scipy.signal import find_peaks, savgol_filter\n",
    "from scipy.optimize import curve_fit\n",
    "\n",
    "pd.set_option('mode.chained_assignment',None)\n",
    "\n",
    "%matplotlib widget \n",
    "# %matplotlib inline\n",
    "matplotlib.rcParams.update({'figure.autolayout': True})\n",
    "\n",
    "SMALLER_SIZE = 8\n",
    "SMALL_SIZE = 12\n",
    "MEDIUM_SIZE = 16\n",
    "BIGGER_SIZE = 20\n",
    "\n",
    "plt.rc('font', size=SMALL_SIZE)          # controls default text sizes\n",
    "plt.rc('axes', titlesize=MEDIUM_SIZE)     # fontsize of the axes title\n",
    "plt.rc('axes', labelsize=MEDIUM_SIZE)    # fontsize of the x and y labels\n",
    "plt.rc('xtick', labelsize=SMALL_SIZE)    # fontsize of the tick labels\n",
    "plt.rc('ytick', labelsize=SMALL_SIZE)    # fontsize of the tick labels\n",
    "plt.rc('legend', fontsize=SMALLER_SIZE)    # legend fontsize\n",
    "plt.rc('figure', titlesize=BIGGER_SIZE)  # fontsize of the figure title"
   ]
  },
  {
   "cell_type": "code",
   "execution_count": 2,
   "id": "8ad82f52",
   "metadata": {},
   "outputs": [],
   "source": [
    "SCALE_100X = 15.8 # pix/µm "
   ]
  },
  {
   "cell_type": "markdown",
   "id": "a87a0e94",
   "metadata": {},
   "source": [
    "## Class & functions"
   ]
  },
  {
   "cell_type": "code",
   "execution_count": 3,
   "id": "e1d9a2d6",
   "metadata": {
    "code_folding": [
     2
    ]
   },
   "outputs": [],
   "source": [
    "class MultiBeadsDeptho:\n",
    "   \n",
    "    def __init__(self, I, scale):\n",
    "        nz, ny, nx = I.shape[0], I.shape[1], I.shape[2]\n",
    "        \n",
    "        self.__I = I\n",
    "        self.__scale = scale\n",
    "        self.__I_labeled = np.zeros([nz, ny, nx])\n",
    "        self.__nz = nz\n",
    "        self.__ny = ny\n",
    "        self.__nx = nx\n",
    "        self.__beadList = []\n",
    "        self.__nB = 0\n",
    "        self.__nBvalid = 0\n",
    "        self.__z_max = 0\n",
    "        self.__summaryTable = pd.DataFrame({})\n",
    "        \n",
    "    def build_beadList(self, plot = 0):\n",
    "        maxVal = np.zeros(self.__nz)\n",
    "        for z in range(self.__nz):\n",
    "            maxVal[z] = np.max(self.__I[z])\n",
    "        z_max = np.argmax(maxVal)\n",
    "        self.__z_max = z_max\n",
    "        I_max = self.__I[z_max]\n",
    "        threshold = filters.threshold_otsu(I_max)\n",
    "        I_max_bin = (I_max > threshold)\n",
    "        I_labeled, nB = measure.label(I_max_bin, return_num = True)\n",
    "        self.__I_labeled, self.__nB = I_labeled, nB\n",
    "        \n",
    "        \n",
    "        if plot >= 1:\n",
    "            pStart, pStop = np.percentile(I[self.__z_max], (1, 99))\n",
    "            I_max_rescaled = exposure.rescale_intensity(I[self.__z_max], in_range=(pStart, pStop))\n",
    "            figI, axI = plt.subplots(1,1, figsize = (15,5))\n",
    "            axI.imshow(I_max_rescaled, cmap = 'gray')\n",
    "        \n",
    "        # Building __beadList\n",
    "        for k in range(1,self.__nB+1):\n",
    "            ym0, xm0 = ndi.center_of_mass(I_max, I_labeled, k)\n",
    "            bD = BeadDeptho(I, xm0, ym0, self.__scale)\n",
    "            bD.build_ROI(plot)\n",
    "            \n",
    "            if bD.validBead:\n",
    "#                 print('Job done for the bead in x0, y0 = {:.2f}, {:.2f}'.format(bD.xm0, bD.ym0))\n",
    "                self.__nBvalid += 1\n",
    "                bD.build_zProfiles(plot)\n",
    "                self.__beadList.append(bD)\n",
    "                \n",
    "#             else:\n",
    "#                 print('Not acceptable bead in x0, y0 = {:.2f}, {:.2f}'.format(bD.xm0, bD.ym0))\n",
    "            \n",
    "            if plot >= 1:\n",
    "                if bD.validBead:\n",
    "                    axI.plot([bD.XYm[0, self.__z_max]], [bD.XYm[1, self.__z_max]], 'c+')\n",
    "                    axI.text(bD.XYm[0, self.__z_max] + 5, bD.XYm[1, self.__z_max] - 5, str(bD.D), c = 'c')\n",
    "                else:\n",
    "                    axI.plot([bD.xm0], [bD.ym0], 'r+')\n",
    "            \n",
    "#             print('\\n')\n",
    "            \n",
    "        # Building __summaryTable\n",
    "        d = {'D' : [], 'x' : [], 'y' : []}\n",
    "        otherCols = [c for c in self.__beadList[0].ZfocusDict.keys()]\n",
    "        for c in otherCols:\n",
    "            d[c] = []\n",
    "        for k in range(1,self.__nBvalid+1):\n",
    "            bD = self.__beadList[k-1]\n",
    "            d['D'].append(bD.D)\n",
    "            d['x'].append(bD.XYm[0,bD.z_max])\n",
    "            d['y'].append(bD.XYm[1,bD.z_max])\n",
    "            for c in otherCols:\n",
    "                d[c].append(bD.ZfocusDict[c])        \n",
    "        self.__summaryTable = pd.DataFrame(d)\n",
    "                \n",
    "    def get_beadList(self):\n",
    "        return(self.__beadList)\n",
    "    \n",
    "    def fitPlanes(self):\n",
    "        \n",
    "        def twoPlanesEqn(xyD, z0, Dz, a, b):\n",
    "            x, y, D = xyD[0], xyD[1], xyD[2]\n",
    "            z = z0 + (beadD == 4.5)*Dz + a*x + b*y\n",
    "            return(z)\n",
    "        \n",
    "        \n",
    "          \n",
    "    def get_summaryTable(self):\n",
    "        return(self.__summaryTable)\n",
    "    \n",
    "    def get_summaryStats(self):\n",
    "#         print(self.__summaryTable)\n",
    "        df = self.__summaryTable.drop(['x', 'y'], axis = 1)\n",
    "        group = df.groupby(df.D)\n",
    "        df_stats = group.agg(['mean', 'std'])\n",
    "        df_stats2 = group.agg(['count'])[['Zm3D']].rename(columns = {'Zm3D' : 'count'})\n",
    "#         print(df_stats2)\n",
    "        df_stats['count'] = df_stats2['count']\n",
    "        return(df_stats)\n",
    "    \n",
    "    \n",
    "    @property\n",
    "    def I(self):\n",
    "        return(self.__I)\n",
    "    \n",
    "    @I.setter\n",
    "    def I(self, I):\n",
    "#         self.__I  =  I\n",
    "        print('FORBIDEN: You cannot change the image after this object instantiation.')\n",
    "    \n",
    "    @property\n",
    "    def nz(self):\n",
    "        return(self.__nz)\n",
    "    \n",
    "    @property\n",
    "    def ny(self):\n",
    "        return(self.__ny)\n",
    "    \n",
    "    @property\n",
    "    def nx(self):\n",
    "        return(self.__nx)\n",
    "    \n",
    "    @property\n",
    "    def nB(self):\n",
    "        return(self.__nB)"
   ]
  },
  {
   "cell_type": "code",
   "execution_count": 4,
   "id": "c610a883",
   "metadata": {
    "code_folding": [
     30,
     199
    ]
   },
   "outputs": [],
   "source": [
    "class BeadDeptho:\n",
    "    def __init__(self, I, xm0, ym0, scale):\n",
    "        \n",
    "        nz, ny, nx = I.shape[0], I.shape[1], I.shape[2]\n",
    "        \n",
    "        self.I = I\n",
    "        self.nz = nz\n",
    "        self.ny = ny\n",
    "        self.nx = nx\n",
    "        self.scale = scale\n",
    "        self.xm0 = xm0\n",
    "        self.ym0 = ym0\n",
    "        \n",
    "        self.D = 0\n",
    "        self.threshold = 0\n",
    "        self.I_cleanROI = np.array([])\n",
    "        self.XYm = np.zeros((2, self.nz), dtype = int)\n",
    "        self.validBead = True\n",
    "        \n",
    "        self.z_max = 0\n",
    "        self.validSlice = np.zeros(nz, dtype = bool)\n",
    "        self.zFirst = 0\n",
    "        self.zLast = nz\n",
    "        self.validDepth = nz\n",
    "        \n",
    "        self.depthosDict = {}\n",
    "        self.profileDict = {}\n",
    "        self.ZfocusDict = {}\n",
    "    \n",
    "    \n",
    "    def build_ROI(self, plot = 0):\n",
    "        roughSize = np.floor(5*self.scale)\n",
    "        roughSize += roughSize%2\n",
    "        x1_roughROI = int(np.floor(self.xm0) - roughSize*0.5) - 1\n",
    "        x2_roughROI = int(np.floor(self.xm0) + roughSize*0.5)\n",
    "        y1_roughROI = int(np.floor(self.ym0) - roughSize*0.5) - 1\n",
    "        y2_roughROI = int(np.floor(self.ym0) + roughSize*0.5)\n",
    "\n",
    "        if min([x1_roughROI,self.nx-x2_roughROI,y1_roughROI,self.ny-y2_roughROI]) < 0:\n",
    "            self.validBead = False\n",
    "            \n",
    "        if self.validBead:\n",
    "            I_roughRoi = I[:, y1_roughROI:y2_roughROI, x1_roughROI:x2_roughROI]\n",
    "            maxVal = np.zeros(self.nz)\n",
    "            for z in range(self.nz):\n",
    "                maxVal[z] = np.max(I_roughRoi[z])\n",
    "            z_max = np.argmax(maxVal)\n",
    "            self.z_max = z_max\n",
    "\n",
    "#             print('Zmax = {:.0f}'.format(z_max))\n",
    "#             figh, axh = plt.subplots(1,2, figsize = (8,4))\n",
    "#             axh[0].imshow(I_roughRoi[z_max], cmap = 'gray')\n",
    "#             axh[1].hist(I_roughRoi[z_max].ravel(), bins=256, histtype='step', color='black')\n",
    "            \n",
    "            \n",
    "\n",
    "            counts, binEdges = np.histogram(I_roughRoi[z_max].ravel(), bins=256)\n",
    "\n",
    "            peaks, peaksProp = find_peaks(counts, height=100, threshold=None, distance=None, prominence=None, \\\n",
    "                               width=None, wlen=None, rel_height=0.5, plateau_size=None)\n",
    "            \n",
    "            peakThreshVal = 1200\n",
    "            \n",
    "            if counts[peaks[0]] > peakThreshVal:\n",
    "                self.D = 4.5\n",
    "                roughSize = np.floor(2*self.D*self.scale)\n",
    "                roughSize += roughSize%2\n",
    "                x1_roughROI = int(np.floor(self.xm0) - roughSize*0.5) - 1\n",
    "                x2_roughROI = int(np.floor(self.xm0) + roughSize*0.5)\n",
    "                y1_roughROI = int(np.floor(self.ym0) - roughSize*0.5) - 1\n",
    "                y2_roughROI = int(np.floor(self.ym0) + roughSize*0.5)\n",
    "                \n",
    "            else:\n",
    "                self.D = 2.7\n",
    "                roughSize = np.floor(2*self.D*self.scale)\n",
    "                roughSize += roughSize%2\n",
    "                x1_roughROI = int(np.floor(self.xm0) - roughSize*0.5) - 1\n",
    "                x2_roughROI = int(np.floor(self.xm0) + roughSize*0.5)\n",
    "                y1_roughROI = int(np.floor(self.ym0) - roughSize*0.5) - 1\n",
    "                y2_roughROI = int(np.floor(self.ym0) + roughSize*0.5)\n",
    "                \n",
    "                \n",
    "#             print('First peak height is {:.0f}'.format(counts[peaks[0]]))    \n",
    "#             print('Detected D is {:.1f}'.format(self.D))\n",
    "            \n",
    "            if min([x1_roughROI,self.nx-x2_roughROI,y1_roughROI,self.ny-y2_roughROI]) < 0:\n",
    "                self.validBead = False\n",
    "                x1_roughROI, x2_roughROI = max(0, x1_roughROI), min(self.nx, x2_roughROI)\n",
    "                y1_roughROI, y2_roughROI = max(0, y1_roughROI), min(self.nx, y2_roughROI) \n",
    "            \n",
    "            I_roughRoi = I[:, y1_roughROI:y2_roughROI, x1_roughROI:x2_roughROI]\n",
    "            \n",
    "    #         h_roughROI, w_roughROI = x2_roughROI-x1_roughROI, y2_roughROI-y1_roughROI\n",
    "    #         print(h_roughROI//2, w_roughROI//2)\n",
    "            \n",
    "            if self.validBead:\n",
    "                factorT = 0.8*(self.D == 4.5) + 0.6*(self.D == 2.7)\n",
    "                threshold = factorT*filters.threshold_otsu(I_roughRoi)\n",
    "                self.threshold = threshold\n",
    "                I_roughRoi_binary = (I_roughRoi > threshold)\n",
    "                I_roughRoi_binary_fh = ndi.binary_fill_holes(I_roughRoi_binary).astype(int)\n",
    "                Ilab, nB_ROI = measure.label(I_roughRoi_binary_fh[z_max], return_num = True)\n",
    "                if nB_ROI > 1:\n",
    "                    self.validBead = False\n",
    "                    \n",
    "                if not self.validBead:\n",
    "                    \n",
    "                    if plot >= 3:\n",
    "                        fig, ax = plt.subplots(1,1, figsize = (4,4))\n",
    "                        ax.imshow(I_roughRoi[z_max], cmap = 'gray')\n",
    "                \n",
    "                if self.validBead:\n",
    "                    area, circ = np.zeros(self.nz), np.zeros(self.nz)\n",
    "                    for i in range(self.nz):\n",
    "                        props = measure.regionprops_table(I_roughRoi_binary_fh[i], properties=('perimeter', 'area'))\n",
    "                        if not np.sum(I_roughRoi_binary_fh[i]) == 0 and props['perimeter'][0] != 0:\n",
    "                            area[i] = props['area'][0]\n",
    "                            circ[i] = (4 * np.pi * props['area']) / (props['perimeter'] * props['perimeter'])[0]       \n",
    "                    \n",
    "                    validSlice = np.array((area > 50) & (circ > 0.8))\n",
    "                    zFirst = np.argmax(validSlice)\n",
    "                    zLast = self.nz - np.argmax(validSlice[::-1])\n",
    "\n",
    "                    XYm = np.zeros((2, self.nz), dtype = int)\n",
    "                    cleanSize = int(round(1*self.D*self.scale))\n",
    "                    cleanSize += 1 + cleanSize%2\n",
    "                    \n",
    "                    I_cleanROI = np.zeros([self.nz, cleanSize, cleanSize])\n",
    "\n",
    "                    try:\n",
    "                        for i in range(zFirst, zLast):\n",
    "                            Ym, Xm = ndi.center_of_mass(I_roughRoi[i], labels=I_roughRoi_binary_fh[i], index=1)\n",
    "                            XYm[1, i], XYm[0, i] = Ym + y1_roughROI, Xm + x1_roughROI\n",
    "                            roughCenter = int((roughSize+1)//2)\n",
    "                            tform = transform.EuclideanTransform(rotation=0, \\\n",
    "                                                                 translation = (Xm-roughCenter, Ym-roughCenter))\n",
    "                            I_tmp = transform.warp(I_roughRoi[i], tform, order = 1, preserve_range = True)\n",
    "\n",
    "                            I_cleanROI[i] = np.copy(I_tmp[roughCenter-cleanSize//2:roughCenter+cleanSize//2+1,\\\n",
    "                                                          roughCenter-cleanSize//2:roughCenter+cleanSize//2+1])\n",
    "\n",
    "                        self.validSlice = validSlice\n",
    "                        self.zFirst = zFirst\n",
    "                        self.zLast = zLast\n",
    "                        self.validDepth = zLast-zFirst\n",
    "                        self.XYm = XYm\n",
    "                        self.I_cleanROI = I_cleanROI.astype(np.uint16)\n",
    "\n",
    "                        # VISUALISE\n",
    "                        if plot >= 2:\n",
    "    #                                 print('Zfirst = {:.0f} and Zlast = {:.0f}'.format(zFirst, zLast))\n",
    "                            i = z_max\n",
    "                            fig, ax = plt.subplots(1,4, figsize = (16,4))\n",
    "\n",
    "                            pStart, pStop = np.percentile(I[z_max], (1, 99))\n",
    "                            I_max_rescaled = exposure.rescale_intensity(I[z_max], in_range=(pStart, pStop))\n",
    "                            ax[0].imshow(I_max_rescaled, cmap = 'gray')\n",
    "                            ax[0].plot([x1_roughROI,x1_roughROI],[y1_roughROI,y2_roughROI], 'c--')\n",
    "                            ax[0].plot([x1_roughROI,x2_roughROI],[y2_roughROI,y2_roughROI], 'c--')\n",
    "                            ax[0].plot([x2_roughROI,x2_roughROI],[y1_roughROI,y2_roughROI], 'c--')\n",
    "                            ax[0].plot([x1_roughROI,x2_roughROI],[y1_roughROI,y1_roughROI], 'c--')\n",
    "\n",
    "                            ax[1].imshow(I_roughRoi[i], cmap = 'gray')\n",
    "                            mid = I_roughRoi[i].shape[0]//2\n",
    "                            ax[1].plot([0,2*mid],[mid, mid], 'r--', lw = 0.5)\n",
    "                            ax[1].plot([mid, mid],[0,2*mid], 'r--', lw = 0.5)\n",
    "                            I_max_binary = (I_roughRoi[i] > threshold)\n",
    "                            y, x = ndi.center_of_mass(I_roughRoi[i], labels=I_max_binary, index=1)\n",
    "                            ax[1].plot([x],[y], 'b+')\n",
    "\n",
    "                            ax[2].imshow(I_tmp, cmap = 'gray')\n",
    "                            mid = I_tmp.shape[0]//2\n",
    "                            ax[2].plot([0,2*mid],[mid, mid], 'r--', lw = 0.5)\n",
    "                            ax[2].plot([mid, mid],[0,2*mid], 'r--', lw = 0.5)\n",
    "                            I_tmp_binary = (I_tmp > threshold)\n",
    "                            y, x = ndi.center_of_mass(I_tmp, labels=I_tmp_binary, index=1)\n",
    "                            ax[2].plot([x],[y], 'b+')\n",
    "\n",
    "                            ax[3].imshow(I_cleanROI[i], cmap = 'gray')\n",
    "                            mid = I_cleanROI[i].shape[0]//2\n",
    "                            ax[3].plot([0,2*mid],[mid, mid], 'r--', lw = 0.5)\n",
    "                            ax[3].plot([mid, mid],[0,2*mid], 'r--', lw = 0.5)\n",
    "                            I_cleanRoi_binary = (I_cleanROI > threshold)\n",
    "                            y, x = ndi.center_of_mass(I_cleanROI[i], labels=I_cleanRoi_binary[i], index=1)\n",
    "                            ax[3].plot([x],[y], 'b+')\n",
    "\n",
    "                        \n",
    "                            \n",
    "#                             ax[3].hist(I_roughRoi[i].ravel(), bins=256, histtype='step', color='black')\n",
    "#                             ax[3].plot([0,65535], [peakThreshVal, peakThreshVal], 'r--', lw = 0.8, label = 'D = {:.1f}um'.format(self.D))\n",
    "#                             ax[3].legend()\n",
    "\n",
    "\n",
    "\n",
    "\n",
    "                    except:\n",
    "                        print('BUG ! for the bead in x0, y0 = {:.2f}, {:.2f}'.format(self.xm0, self.ym0))\n",
    "\n",
    "                     \n",
    "    def build_zProfiles(self, plot = 0):\n",
    "        side_ROI = self.I_cleanROI.shape[1]\n",
    "        mid_ROI = side_ROI//2\n",
    "        nbPixToAvg = 3 # Have to be an odd number\n",
    "        deptho_v = np.zeros([self.nz, side_ROI], dtype = np.float64)\n",
    "        deptho_h = np.zeros([self.nz, side_ROI], dtype = np.float64)\n",
    "        \n",
    "        for z in range(self.zFirst, self.zLast):\n",
    "            templine = side_ROI\n",
    "            deptho_v[z] = self.I_cleanROI[z,:,mid_ROI] * (1/nbPixToAvg)\n",
    "#             print(self.I_cleanROI[z,:,mid_ROI])\n",
    "#             print(1/nbPixToAvg)\n",
    "#             print(self.deptho_v[z])\n",
    "            deptho_h[z] = self.I_cleanROI[z,mid_ROI,:] * (1/nbPixToAvg)\n",
    "    \n",
    "            for i in range(1, 1 + nbPixToAvg//2):\n",
    "#                 print(self.I_cleanROI[z,:,mid_ROI - i] * (1/nbPixToAvg) )\n",
    "                deptho_v[z] += self.I_cleanROI[z,:,mid_ROI - i] * (1/nbPixToAvg) \n",
    "                deptho_v[z] += self.I_cleanROI[z,:,mid_ROI + i] * (1/nbPixToAvg)\n",
    "                \n",
    "                deptho_h[z] += self.I_cleanROI[z,mid_ROI - i,:] * (1/nbPixToAvg) \n",
    "                deptho_h[z] += self.I_cleanROI[z,mid_ROI + i,:] * (1/nbPixToAvg)\n",
    "          \n",
    "        deptho_v = deptho_v.astype(np.uint16)\n",
    "        deptho_h = deptho_h.astype(np.uint16)\n",
    "        \n",
    "        self.depthosDict['deptho_v'] = deptho_v\n",
    "        self.depthosDict['deptho_h'] = deptho_h\n",
    "        \n",
    "        \n",
    "        # 3D caracterisation\n",
    "        I_binary = np.zeros([self.I_cleanROI.shape[0], self.I_cleanROI.shape[1], self.I_cleanROI.shape[2]])\n",
    "        I_binary[self.zFirst:self.zLast] = (self.I_cleanROI[self.zFirst:self.zLast] > self.threshold)\n",
    "        Zm3D, Ym3D, Xm3D = ndi.center_of_mass(self.I_cleanROI, labels=I_binary, index=1)\n",
    "        self.ZfocusDict['Zm3D'] = Zm3D\n",
    "        \n",
    "        \n",
    "        # Raw profiles\n",
    "        \n",
    "        Z = np.array([z for z in range(self.I_cleanROI.shape[0])])\n",
    "        intensity_tot = np.array([np.sum(self.I_cleanROI[z][I_binary[z].astype(bool)])/(1+np.sum(I_binary[z])) for z in range(self.I_cleanROI.shape[0])]).astype(np.float64)\n",
    "        intensity_v = np.array([np.sum(deptho_v[z,:])/side_ROI for z in range(deptho_v.shape[0])]).astype(np.float64)\n",
    "        intensity_h = np.array([np.sum(deptho_h[z,:])/side_ROI for z in range(deptho_h.shape[0])]).astype(np.float64)\n",
    "        \n",
    "        Zm_v, Zm_h, Zm_tot = np.argmax(intensity_v), np.argmax(intensity_h), np.argmax(intensity_tot)\n",
    "        \n",
    "        self.profileDict['intensity_v'] = intensity_v\n",
    "        self.profileDict['intensity_h'] = intensity_h\n",
    "        self.profileDict['intensity_tot'] = intensity_tot\n",
    "        self.ZfocusDict['Zm_v'] = Zm_v\n",
    "        self.ZfocusDict['Zm_h'] = Zm_h\n",
    "        self.ZfocusDict['Zm_tot'] = Zm_tot\n",
    "        \n",
    "\n",
    "        # Smoothed profiles\n",
    "        \n",
    "        Z_hd = np.arange(0,self.I_cleanROI.shape[0],0.2)\n",
    "        intensity_v_hd = np.interp(Z_hd, Z, intensity_v)\n",
    "        intensity_h_hd = np.interp(Z_hd, Z, intensity_h)\n",
    "        intensity_tot_hd = np.interp(Z_hd, Z, intensity_tot)\n",
    "        intensity_v_smooth = savgol_filter(intensity_v_hd, 101, 7)\n",
    "        intensity_h_smooth = savgol_filter(intensity_h_hd, 101, 7)\n",
    "        intensity_tot_smooth = savgol_filter(intensity_tot_hd, 101, 7)\n",
    "        \n",
    "        Zm_v_hd, Zm_h_hd, Zm_tot_hd = Z_hd[np.argmax(intensity_v_smooth)], Z_hd[np.argmax(intensity_h_smooth)], Z_hd[np.argmax(intensity_tot_smooth)]\n",
    "        \n",
    "        self.profileDict['intensity_v_smooth'] = intensity_v_smooth \n",
    "        self.profileDict['intensity_h_smooth'] = intensity_h_smooth\n",
    "        self.profileDict['intensity_tot_smooth'] = intensity_tot_smooth\n",
    "        self.ZfocusDict['Zm_v_hd'] = Zm_v_hd \n",
    "        self.ZfocusDict['Zm_h_hd'] = Zm_h_hd\n",
    "        self.ZfocusDict['Zm_tot_hd'] = Zm_tot_hd\n",
    "        \n",
    "        # VISUALISE\n",
    "        if plot >= 2:\n",
    "#             fig, ax = plt.subplots(1,3, figsize = (12, 4))\n",
    "#             ax[0].plot(Z, intensity_v)\n",
    "#             ax[1].plot(Z, intensity_h)\n",
    "#             ax[2].plot(Z, (intensity_tot))\n",
    "#             ax[0].plot([Zm_v, Zm_v], [0, ax[0].get_ylim()[1]], 'r--', lw = 0.8, label = 'Zm_v = {:.2f}'.format(Zm_v))\n",
    "#             ax[1].plot([Zm_h, Zm_h], [0, ax[1].get_ylim()[1]], 'r--', lw = 0.8, label = 'Zm_h = {:.2f}'.format(Zm_h))\n",
    "#             ax[2].plot([Zm_tot, Zm_tot], [0, ax[2].get_ylim()[1]], 'r--', lw = 0.8, label = 'Zm_tot = {:.2f}'.format(Zm_tot))\n",
    "#             ax[0].legend(loc = 'lower right')\n",
    "#             ax[1].legend(loc = 'lower right')\n",
    "#             ax[2].legend(loc = 'lower right')\n",
    "\n",
    "            fig, ax = plt.subplots(1,3, figsize = (12, 4))\n",
    "            ax[0].plot(Z, intensity_v, 'b-')\n",
    "            ax[1].plot(Z, intensity_h, 'b-')\n",
    "            ax[2].plot(Z, (intensity_tot), 'b-')\n",
    "            ax[0].plot(Z_hd, intensity_v_smooth, 'k--')\n",
    "            ax[1].plot(Z_hd, intensity_h_smooth, 'k--')\n",
    "            ax[2].plot(Z_hd, intensity_tot_smooth, 'k--')\n",
    "            ax[0].plot([Zm_v_hd, Zm_v_hd], [0, ax[0].get_ylim()[1]], 'r--', lw = 0.8, label = 'Zm_v_hd = {:.2f}'.format(Zm_v_hd))\n",
    "            ax[1].plot([Zm_h_hd, Zm_h_hd], [0, ax[1].get_ylim()[1]], 'r--', lw = 0.8, label = 'Zm_h_hd = {:.2f}'.format(Zm_h_hd))\n",
    "            ax[2].plot([Zm_tot_hd, Zm_tot_hd], [0, ax[2].get_ylim()[1]], 'r--', lw = 0.8, label = 'Zm_tot_hd = {:.2f}'.format(Zm_tot_hd))\n",
    "            ax[0].legend(loc = 'lower right')\n",
    "            ax[1].legend(loc = 'lower right')\n",
    "            ax[2].legend(loc = 'lower right')\n",
    "\n",
    "            print('Zm_v = {:.2f}, Zm_h = {:.2f}, Zm_tot = {:.2f}'\\\n",
    "                  .format(Zm_v, Zm_h, Zm_tot))\n",
    "            print('Zm_v_hd = {:.2f}, Zm_h_hd = {:.2f}, Zm_tot_hd = {:.2f}'\\\n",
    "                  .format(Zm_v_hd, Zm_h_hd, Zm_tot_hd))\n",
    "            print('Xm3D = {:.2f}, Ym3D = {:.2f}, Zm3D = {:.2f}'\\\n",
    "                  .format(Xm3D, Ym3D, Zm3D))"
   ]
  },
  {
   "cell_type": "markdown",
   "id": "73e9ff0a",
   "metadata": {},
   "source": [
    "## Scripts"
   ]
  },
  {
   "cell_type": "markdown",
   "id": "1a2aafd0",
   "metadata": {},
   "source": [
    "### Chambre 2"
   ]
  },
  {
   "cell_type": "markdown",
   "id": "2642425f",
   "metadata": {},
   "source": [
    "#### Global"
   ]
  },
  {
   "cell_type": "code",
   "execution_count": 5,
   "id": "9fd3dc44",
   "metadata": {},
   "outputs": [
    {
     "data": {
      "text/plain": [
       "['multiDeptho10.tif',\n",
       " 'multiDeptho2.tif',\n",
       " 'multiDeptho3.tif',\n",
       " 'multiDeptho4.tif',\n",
       " 'multiDeptho5.tif',\n",
       " 'multiDeptho6.tif',\n",
       " 'multiDeptho7.tif',\n",
       " 'multiDeptho8.tif',\n",
       " 'multiDeptho9.tif']"
      ]
     },
     "execution_count": 5,
     "metadata": {},
     "output_type": "execute_result"
    }
   ],
   "source": [
    "# testDataFolder = 'D://PMMH_ComputerData//Matlab Analysis//Data_Joseph//Raw//20.06.15_Deptho//depthoAnalysis_test'\n",
    "testDataFolder = 'C://Users//JosephVermeil//Desktop//test_AnalyseDepthos'\n",
    "listDepthos = [f for f in os.listdir(testDataFolder) if (os.path.isfile(os.path.join(testDataFolder, f)) and f.endswith(\".tif\"))]\n",
    "listDepthos"
   ]
  },
  {
   "cell_type": "code",
   "execution_count": 6,
   "id": "7063adc3",
   "metadata": {
    "code_folding": [],
    "scrolled": false
   },
   "outputs": [
    {
     "data": {
      "application/vnd.jupyter.widget-view+json": {
       "model_id": "20634eff0b2f45e6a6adad5bb56f89e4",
       "version_major": 2,
       "version_minor": 0
      },
      "text/plain": [
       "Canvas(toolbar=Toolbar(toolitems=[('Home', 'Reset original view', 'home', 'home'), ('Back', 'Back to previous …"
      ]
     },
     "metadata": {},
     "output_type": "display_data"
    },
    {
     "name": "stdout",
     "output_type": "stream",
     "text": [
      "164 valid slices ; Zfirst = 116 and Zlast = 280\n"
     ]
    },
    {
     "data": {
      "application/vnd.jupyter.widget-view+json": {
       "model_id": "e3d95c62decc4736a66e2fe30c070212",
       "version_major": 2,
       "version_minor": 0
      },
      "text/plain": [
       "Canvas(toolbar=Toolbar(toolitems=[('Home', 'Reset original view', 'home', 'home'), ('Back', 'Back to previous …"
      ]
     },
     "metadata": {},
     "output_type": "display_data"
    },
    {
     "name": "stdout",
     "output_type": "stream",
     "text": [
      "115 valid slices ; Zfirst = 100 and Zlast = 215\n"
     ]
    },
    {
     "data": {
      "application/vnd.jupyter.widget-view+json": {
       "model_id": "6fad9a0b3e154d02a8de7ddb9652033c",
       "version_major": 2,
       "version_minor": 0
      },
      "text/plain": [
       "Canvas(toolbar=Toolbar(toolitems=[('Home', 'Reset original view', 'home', 'home'), ('Back', 'Back to previous …"
      ]
     },
     "metadata": {},
     "output_type": "display_data"
    },
    {
     "name": "stdout",
     "output_type": "stream",
     "text": [
      "168 valid slices ; Zfirst = 112 and Zlast = 280\n"
     ]
    },
    {
     "data": {
      "application/vnd.jupyter.widget-view+json": {
       "model_id": "3dffd73d0d7045038e0394f7035672a4",
       "version_major": 2,
       "version_minor": 0
      },
      "text/plain": [
       "Canvas(toolbar=Toolbar(toolitems=[('Home', 'Reset original view', 'home', 'home'), ('Back', 'Back to previous …"
      ]
     },
     "metadata": {},
     "output_type": "display_data"
    },
    {
     "name": "stdout",
     "output_type": "stream",
     "text": [
      "161 valid slices ; Zfirst = 113 and Zlast = 274\n"
     ]
    },
    {
     "data": {
      "application/vnd.jupyter.widget-view+json": {
       "model_id": "a38afcf6bdcc4de39ff69e314105e82b",
       "version_major": 2,
       "version_minor": 0
      },
      "text/plain": [
       "Canvas(toolbar=Toolbar(toolitems=[('Home', 'Reset original view', 'home', 'home'), ('Back', 'Back to previous …"
      ]
     },
     "metadata": {},
     "output_type": "display_data"
    },
    {
     "name": "stdout",
     "output_type": "stream",
     "text": [
      "115 valid slices ; Zfirst = 101 and Zlast = 216\n"
     ]
    },
    {
     "data": {
      "application/vnd.jupyter.widget-view+json": {
       "model_id": "7fd4fc74df4848c8a24b58427c693832",
       "version_major": 2,
       "version_minor": 0
      },
      "text/plain": [
       "Canvas(toolbar=Toolbar(toolitems=[('Home', 'Reset original view', 'home', 'home'), ('Back', 'Back to previous …"
      ]
     },
     "metadata": {},
     "output_type": "display_data"
    },
    {
     "name": "stdout",
     "output_type": "stream",
     "text": [
      "152 valid slices ; Zfirst = 116 and Zlast = 268\n"
     ]
    },
    {
     "data": {
      "application/vnd.jupyter.widget-view+json": {
       "model_id": "18b947b7c3f7457c9f9fbfa9df55255c",
       "version_major": 2,
       "version_minor": 0
      },
      "text/plain": [
       "Canvas(toolbar=Toolbar(toolitems=[('Home', 'Reset original view', 'home', 'home'), ('Back', 'Back to previous …"
      ]
     },
     "metadata": {},
     "output_type": "display_data"
    },
    {
     "name": "stdout",
     "output_type": "stream",
     "text": [
      "113 valid slices ; Zfirst = 99 and Zlast = 212\n"
     ]
    },
    {
     "data": {
      "application/vnd.jupyter.widget-view+json": {
       "model_id": "6a28dca45a0c444ab0d24acbd333023f",
       "version_major": 2,
       "version_minor": 0
      },
      "text/plain": [
       "Canvas(toolbar=Toolbar(toolitems=[('Home', 'Reset original view', 'home', 'home'), ('Back', 'Back to previous …"
      ]
     },
     "metadata": {},
     "output_type": "display_data"
    },
    {
     "name": "stdout",
     "output_type": "stream",
     "text": [
      "112 valid slices ; Zfirst = 98 and Zlast = 210\n"
     ]
    },
    {
     "data": {
      "application/vnd.jupyter.widget-view+json": {
       "model_id": "9cbf25bf446b48c3827f9709d07762ca",
       "version_major": 2,
       "version_minor": 0
      },
      "text/plain": [
       "Canvas(toolbar=Toolbar(toolitems=[('Home', 'Reset original view', 'home', 'home'), ('Back', 'Back to previous …"
      ]
     },
     "metadata": {},
     "output_type": "display_data"
    },
    {
     "name": "stdout",
     "output_type": "stream",
     "text": [
      "161 valid slices ; Zfirst = 112 and Zlast = 273\n"
     ]
    },
    {
     "data": {
      "application/vnd.jupyter.widget-view+json": {
       "model_id": "cb0b1e9c3cce428e9598942385a5e23c",
       "version_major": 2,
       "version_minor": 0
      },
      "text/plain": [
       "Canvas(toolbar=Toolbar(toolitems=[('Home', 'Reset original view', 'home', 'home'), ('Back', 'Back to previous …"
      ]
     },
     "metadata": {},
     "output_type": "display_data"
    }
   ],
   "source": [
    "f = listDepthos[0]\n",
    "filePath = os.path.join(testDataFolder, f)\n",
    "I = io.imread(filePath)\n",
    "mbd = MultiBeadsDeptho(I, SCALE_100X)\n",
    "mbd.build_beadList(plot = 1)\n",
    "listBeads = mbd.get_beadList()\n",
    "for bD in listBeads:\n",
    "    if bD.validBead:\n",
    "        print('{:.0f} valid slices ; Zfirst = {:.0f} and Zlast = {:.0f}'.format(bD.validDepth, bD.zFirst, bD.zLast))\n",
    "        fig, ax = plt.subplots(1,2, figsize = (8, 5))\n",
    "        \n",
    "        dV = bD.depthosDict['deptho_v']\n",
    "        pStart, pStop = np.percentile(dV, (1, 99))\n",
    "        dV_rescaled = exposure.rescale_intensity(dV, in_range=(pStart, pStop))\n",
    "        ax[0].imshow(dV_rescaled, cmap='gray')\n",
    "        ax[0].set_ylim([bD.zLast, bD.zFirst])\n",
    "        \n",
    "        dH = bD.depthosDict['deptho_h']\n",
    "        pStart, pStop = np.percentile(dH, (1, 99))\n",
    "        dH_rescaled = exposure.rescale_intensity(dH, in_range=(pStart, pStop))\n",
    "        ax[1].imshow(dH_rescaled, cmap='gray')\n",
    "        ax[1].set_ylim([bD.zLast, bD.zFirst])"
   ]
  },
  {
   "cell_type": "code",
   "execution_count": 7,
   "id": "10e9775f",
   "metadata": {
    "scrolled": true
   },
   "outputs": [
    {
     "data": {
      "text/html": [
       "<div>\n",
       "<style scoped>\n",
       "    .dataframe tbody tr th:only-of-type {\n",
       "        vertical-align: middle;\n",
       "    }\n",
       "\n",
       "    .dataframe tbody tr th {\n",
       "        vertical-align: top;\n",
       "    }\n",
       "\n",
       "    .dataframe thead tr th {\n",
       "        text-align: left;\n",
       "    }\n",
       "</style>\n",
       "<table border=\"1\" class=\"dataframe\">\n",
       "  <thead>\n",
       "    <tr>\n",
       "      <th></th>\n",
       "      <th>Zm3D</th>\n",
       "      <th>Zm_v</th>\n",
       "      <th>Zm_h</th>\n",
       "      <th>Zm_tot</th>\n",
       "      <th>Zm_v_hd</th>\n",
       "      <th>Zm_h_hd</th>\n",
       "      <th>Zm_tot_hd</th>\n",
       "    </tr>\n",
       "    <tr>\n",
       "      <th></th>\n",
       "      <th>mean</th>\n",
       "      <th>mean</th>\n",
       "      <th>mean</th>\n",
       "      <th>mean</th>\n",
       "      <th>mean</th>\n",
       "      <th>mean</th>\n",
       "      <th>mean</th>\n",
       "    </tr>\n",
       "  </thead>\n",
       "  <tbody>\n",
       "    <tr>\n",
       "      <th>multiDeptho10.tif</th>\n",
       "      <td>29.728987</td>\n",
       "      <td>17.600000</td>\n",
       "      <td>16.850000</td>\n",
       "      <td>19.400000</td>\n",
       "      <td>15.770000</td>\n",
       "      <td>17.500000</td>\n",
       "      <td>19.170000</td>\n",
       "    </tr>\n",
       "    <tr>\n",
       "      <th>multiDeptho2.tif</th>\n",
       "      <td>33.861948</td>\n",
       "      <td>24.833333</td>\n",
       "      <td>22.000000</td>\n",
       "      <td>24.583333</td>\n",
       "      <td>24.083333</td>\n",
       "      <td>20.183333</td>\n",
       "      <td>25.266667</td>\n",
       "    </tr>\n",
       "    <tr>\n",
       "      <th>multiDeptho3.tif</th>\n",
       "      <td>38.169017</td>\n",
       "      <td>29.250000</td>\n",
       "      <td>26.500000</td>\n",
       "      <td>27.000000</td>\n",
       "      <td>29.950000</td>\n",
       "      <td>25.200000</td>\n",
       "      <td>28.500000</td>\n",
       "    </tr>\n",
       "    <tr>\n",
       "      <th>multiDeptho4.tif</th>\n",
       "      <td>25.715431</td>\n",
       "      <td>16.500000</td>\n",
       "      <td>12.666667</td>\n",
       "      <td>15.500000</td>\n",
       "      <td>16.000000</td>\n",
       "      <td>13.933333</td>\n",
       "      <td>16.000000</td>\n",
       "    </tr>\n",
       "    <tr>\n",
       "      <th>multiDeptho5.tif</th>\n",
       "      <td>28.210863</td>\n",
       "      <td>15.000000</td>\n",
       "      <td>18.000000</td>\n",
       "      <td>15.600000</td>\n",
       "      <td>14.400000</td>\n",
       "      <td>16.840000</td>\n",
       "      <td>17.000000</td>\n",
       "    </tr>\n",
       "    <tr>\n",
       "      <th>multiDeptho7.tif</th>\n",
       "      <td>34.449122</td>\n",
       "      <td>24.766667</td>\n",
       "      <td>21.900000</td>\n",
       "      <td>23.566667</td>\n",
       "      <td>25.186667</td>\n",
       "      <td>21.726667</td>\n",
       "      <td>24.840000</td>\n",
       "    </tr>\n",
       "    <tr>\n",
       "      <th>multiDeptho8.tif</th>\n",
       "      <td>28.148603</td>\n",
       "      <td>18.550000</td>\n",
       "      <td>18.500000</td>\n",
       "      <td>19.850000</td>\n",
       "      <td>20.630000</td>\n",
       "      <td>18.340000</td>\n",
       "      <td>17.370000</td>\n",
       "    </tr>\n",
       "    <tr>\n",
       "      <th>multiDeptho9.tif</th>\n",
       "      <td>30.341959</td>\n",
       "      <td>15.500000</td>\n",
       "      <td>16.750000</td>\n",
       "      <td>16.500000</td>\n",
       "      <td>17.000000</td>\n",
       "      <td>18.100000</td>\n",
       "      <td>19.350000</td>\n",
       "    </tr>\n",
       "  </tbody>\n",
       "</table>\n",
       "</div>"
      ],
      "text/plain": [
       "                        Zm3D       Zm_v       Zm_h     Zm_tot    Zm_v_hd  \\\n",
       "                        mean       mean       mean       mean       mean   \n",
       "multiDeptho10.tif  29.728987  17.600000  16.850000  19.400000  15.770000   \n",
       "multiDeptho2.tif   33.861948  24.833333  22.000000  24.583333  24.083333   \n",
       "multiDeptho3.tif   38.169017  29.250000  26.500000  27.000000  29.950000   \n",
       "multiDeptho4.tif   25.715431  16.500000  12.666667  15.500000  16.000000   \n",
       "multiDeptho5.tif   28.210863  15.000000  18.000000  15.600000  14.400000   \n",
       "multiDeptho7.tif   34.449122  24.766667  21.900000  23.566667  25.186667   \n",
       "multiDeptho8.tif   28.148603  18.550000  18.500000  19.850000  20.630000   \n",
       "multiDeptho9.tif   30.341959  15.500000  16.750000  16.500000  17.000000   \n",
       "\n",
       "                     Zm_h_hd  Zm_tot_hd  \n",
       "                        mean       mean  \n",
       "multiDeptho10.tif  17.500000  19.170000  \n",
       "multiDeptho2.tif   20.183333  25.266667  \n",
       "multiDeptho3.tif   25.200000  28.500000  \n",
       "multiDeptho4.tif   13.933333  16.000000  \n",
       "multiDeptho5.tif   16.840000  17.000000  \n",
       "multiDeptho7.tif   21.726667  24.840000  \n",
       "multiDeptho8.tif   18.340000  17.370000  \n",
       "multiDeptho9.tif   18.100000  19.350000  "
      ]
     },
     "execution_count": 7,
     "metadata": {},
     "output_type": "execute_result"
    }
   ],
   "source": [
    "df = pd.DataFrame({})\n",
    "\n",
    "for f in listDepthos:\n",
    "    filePath = os.path.join(testDataFolder, f)\n",
    "    I = io.imread(filePath)\n",
    "    mbd = MultiBeadsDeptho(I, SCALE_100X)\n",
    "    mbd.build_beadList(plot = 0)\n",
    "    df_stats = mbd.get_summaryStats()\n",
    "#     print(df_stats)\n",
    "    if df_stats['count'].values[0] >= 2 and df_stats['count'].values[1] >= 2:\n",
    "        S = df_stats.loc[df_stats.index == 2.7,(slice(None), ['mean'])]\n",
    "        L = df_stats.loc[df_stats.index == 4.5,(slice(None), ['mean'])]\n",
    "        new_row = L.sub(S.values, axis='rows')\n",
    "        new_row.index = [f]\n",
    "        if df.shape == (0, 0):\n",
    "            df = new_row\n",
    "        else:\n",
    "            df = pd.concat([df, new_row], axis = 0)\n",
    "\n",
    "df"
   ]
  },
  {
   "cell_type": "markdown",
   "id": "f15af30e",
   "metadata": {},
   "source": [
    "#### multiDeptho2"
   ]
  },
  {
   "cell_type": "code",
   "execution_count": 8,
   "id": "082b57bb",
   "metadata": {
    "scrolled": false
   },
   "outputs": [
    {
     "name": "stdout",
     "output_type": "stream",
     "text": [
      "multiDeptho2.tif\n"
     ]
    },
    {
     "data": {
      "application/vnd.jupyter.widget-view+json": {
       "model_id": "f5155350e2cb46958db1734a30d7690f",
       "version_major": 2,
       "version_minor": 0
      },
      "text/plain": [
       "Canvas(toolbar=Toolbar(toolitems=[('Home', 'Reset original view', 'home', 'home'), ('Back', 'Back to previous …"
      ]
     },
     "metadata": {},
     "output_type": "display_data"
    },
    {
     "data": {
      "application/vnd.jupyter.widget-view+json": {
       "model_id": "9914403b66f54dd6b363ac3ac30d247e",
       "version_major": 2,
       "version_minor": 0
      },
      "text/plain": [
       "Canvas(toolbar=Toolbar(toolitems=[('Home', 'Reset original view', 'home', 'home'), ('Back', 'Back to previous …"
      ]
     },
     "metadata": {},
     "output_type": "display_data"
    },
    {
     "data": {
      "application/vnd.jupyter.widget-view+json": {
       "model_id": "72c852ccd969406ea9d430e56343b713",
       "version_major": 2,
       "version_minor": 0
      },
      "text/plain": [
       "Canvas(toolbar=Toolbar(toolitems=[('Home', 'Reset original view', 'home', 'home'), ('Back', 'Back to previous …"
      ]
     },
     "metadata": {},
     "output_type": "display_data"
    },
    {
     "name": "stdout",
     "output_type": "stream",
     "text": [
      "Zm_v = 153.00, Zm_h = 149.00, Zm_tot = 153.00\n",
      "Zm_v_hd = 152.00, Zm_h_hd = 149.20, Zm_tot_hd = 154.20\n",
      "Xm3D = 36.00, Ym3D = 36.00, Zm3D = 169.45\n"
     ]
    },
    {
     "data": {
      "application/vnd.jupyter.widget-view+json": {
       "model_id": "29833dd4b56746e28aaf98215ff8288a",
       "version_major": 2,
       "version_minor": 0
      },
      "text/plain": [
       "Canvas(toolbar=Toolbar(toolitems=[('Home', 'Reset original view', 'home', 'home'), ('Back', 'Back to previous …"
      ]
     },
     "metadata": {},
     "output_type": "display_data"
    },
    {
     "data": {
      "application/vnd.jupyter.widget-view+json": {
       "model_id": "a3d3ef07a6f04e9fa259241d54cf970e",
       "version_major": 2,
       "version_minor": 0
      },
      "text/plain": [
       "Canvas(toolbar=Toolbar(toolitems=[('Home', 'Reset original view', 'home', 'home'), ('Back', 'Back to previous …"
      ]
     },
     "metadata": {},
     "output_type": "display_data"
    },
    {
     "name": "stdout",
     "output_type": "stream",
     "text": [
      "Zm_v = 124.00, Zm_h = 127.00, Zm_tot = 124.00\n",
      "Zm_v_hd = 123.80, Zm_h_hd = 126.60, Zm_tot_hd = 123.40\n",
      "Xm3D = 22.00, Ym3D = 22.00, Zm3D = 132.90\n"
     ]
    },
    {
     "data": {
      "application/vnd.jupyter.widget-view+json": {
       "model_id": "2efcfa7d83e940b78908e3b075a417a8",
       "version_major": 2,
       "version_minor": 0
      },
      "text/plain": [
       "Canvas(toolbar=Toolbar(toolitems=[('Home', 'Reset original view', 'home', 'home'), ('Back', 'Back to previous …"
      ]
     },
     "metadata": {},
     "output_type": "display_data"
    },
    {
     "data": {
      "application/vnd.jupyter.widget-view+json": {
       "model_id": "ee0f7d4f6f9f4d78b55931c4dbe5a334",
       "version_major": 2,
       "version_minor": 0
      },
      "text/plain": [
       "Canvas(toolbar=Toolbar(toolitems=[('Home', 'Reset original view', 'home', 'home'), ('Back', 'Back to previous …"
      ]
     },
     "metadata": {},
     "output_type": "display_data"
    },
    {
     "name": "stdout",
     "output_type": "stream",
     "text": [
      "Zm_v = 132.00, Zm_h = 135.00, Zm_tot = 134.00\n",
      "Zm_v_hd = 133.40, Zm_h_hd = 137.20, Zm_tot_hd = 133.60\n",
      "Xm3D = 21.99, Ym3D = 22.01, Zm3D = 142.52\n"
     ]
    },
    {
     "data": {
      "application/vnd.jupyter.widget-view+json": {
       "model_id": "b38cd530bfd54b6881a179e0795bc746",
       "version_major": 2,
       "version_minor": 0
      },
      "text/plain": [
       "Canvas(toolbar=Toolbar(toolitems=[('Home', 'Reset original view', 'home', 'home'), ('Back', 'Back to previous …"
      ]
     },
     "metadata": {},
     "output_type": "display_data"
    },
    {
     "data": {
      "application/vnd.jupyter.widget-view+json": {
       "model_id": "5c6da39fe15a440bb6b6f1368fdcd7e9",
       "version_major": 2,
       "version_minor": 0
      },
      "text/plain": [
       "Canvas(toolbar=Toolbar(toolitems=[('Home', 'Reset original view', 'home', 'home'), ('Back', 'Back to previous …"
      ]
     },
     "metadata": {},
     "output_type": "display_data"
    },
    {
     "name": "stdout",
     "output_type": "stream",
     "text": [
      "Zm_v = 130.00, Zm_h = 131.00, Zm_tot = 131.00\n",
      "Zm_v_hd = 131.80, Zm_h_hd = 133.00, Zm_tot_hd = 132.80\n",
      "Xm3D = 22.00, Ym3D = 22.01, Zm3D = 138.46\n"
     ]
    },
    {
     "data": {
      "application/vnd.jupyter.widget-view+json": {
       "model_id": "3b1dc9dc95684c3db7e41941a86a4f11",
       "version_major": 2,
       "version_minor": 0
      },
      "text/plain": [
       "Canvas(toolbar=Toolbar(toolitems=[('Home', 'Reset original view', 'home', 'home'), ('Back', 'Back to previous …"
      ]
     },
     "metadata": {},
     "output_type": "display_data"
    },
    {
     "name": "stderr",
     "output_type": "stream",
     "text": [
      "C:\\Users\\JosephVermeil\\anaconda3\\lib\\site-packages\\ipykernel_launcher.py:286: RuntimeWarning: More than 20 figures have been opened. Figures created through the pyplot interface (`matplotlib.pyplot.figure`) are retained until explicitly closed and may consume too much memory. (To control this warning, see the rcParam `figure.max_open_warning`).\n"
     ]
    },
    {
     "data": {
      "application/vnd.jupyter.widget-view+json": {
       "model_id": "a4bc8db781eb4aa28af36481dfceac8f",
       "version_major": 2,
       "version_minor": 0
      },
      "text/plain": [
       "Canvas(toolbar=Toolbar(toolitems=[('Home', 'Reset original view', 'home', 'home'), ('Back', 'Back to previous …"
      ]
     },
     "metadata": {},
     "output_type": "display_data"
    },
    {
     "name": "stdout",
     "output_type": "stream",
     "text": [
      "Zm_v = 146.00, Zm_h = 146.00, Zm_tot = 147.00\n",
      "Zm_v_hd = 146.20, Zm_h_hd = 147.40, Zm_tot_hd = 148.60\n",
      "Xm3D = 35.99, Ym3D = 36.00, Zm3D = 164.82\n"
     ]
    },
    {
     "data": {
      "application/vnd.jupyter.widget-view+json": {
       "model_id": "1f1cf4980ff64eb5a26be4e377f5162c",
       "version_major": 2,
       "version_minor": 0
      },
      "text/plain": [
       "Canvas(toolbar=Toolbar(toolitems=[('Home', 'Reset original view', 'home', 'home'), ('Back', 'Back to previous …"
      ]
     },
     "metadata": {},
     "output_type": "display_data"
    },
    {
     "data": {
      "application/vnd.jupyter.widget-view+json": {
       "model_id": "d31f7ece30ed4c3a9da64273414677da",
       "version_major": 2,
       "version_minor": 0
      },
      "text/plain": [
       "Canvas(toolbar=Toolbar(toolitems=[('Home', 'Reset original view', 'home', 'home'), ('Back', 'Back to previous …"
      ]
     },
     "metadata": {},
     "output_type": "display_data"
    },
    {
     "name": "stdout",
     "output_type": "stream",
     "text": [
      "Zm_v = 151.00, Zm_h = 153.00, Zm_tot = 153.00\n",
      "Zm_v_hd = 152.00, Zm_h_hd = 151.20, Zm_tot_hd = 153.40\n",
      "Xm3D = 36.01, Ym3D = 36.00, Zm3D = 169.97\n"
     ]
    },
    {
     "data": {
      "application/vnd.jupyter.widget-view+json": {
       "model_id": "b9dc41242ca94d91b6100a213e79c9be",
       "version_major": 2,
       "version_minor": 0
      },
      "text/plain": [
       "Canvas(toolbar=Toolbar(toolitems=[('Home', 'Reset original view', 'home', 'home'), ('Back', 'Back to previous …"
      ]
     },
     "metadata": {},
     "output_type": "display_data"
    },
    {
     "data": {
      "application/vnd.jupyter.widget-view+json": {
       "model_id": "7d35af0c09ae41c196ca9bc3edf74872",
       "version_major": 2,
       "version_minor": 0
      },
      "text/plain": [
       "Canvas(toolbar=Toolbar(toolitems=[('Home', 'Reset original view', 'home', 'home'), ('Back', 'Back to previous …"
      ]
     },
     "metadata": {},
     "output_type": "display_data"
    },
    {
     "name": "stdout",
     "output_type": "stream",
     "text": [
      "Zm_v = 164.00, Zm_h = 164.00, Zm_tot = 164.00\n",
      "Zm_v_hd = 164.80, Zm_h_hd = 162.00, Zm_tot_hd = 164.60\n",
      "Xm3D = 36.00, Ym3D = 36.00, Zm3D = 183.06\n"
     ]
    },
    {
     "data": {
      "text/html": [
       "<div>\n",
       "<style scoped>\n",
       "    .dataframe tbody tr th:only-of-type {\n",
       "        vertical-align: middle;\n",
       "    }\n",
       "\n",
       "    .dataframe tbody tr th {\n",
       "        vertical-align: top;\n",
       "    }\n",
       "\n",
       "    .dataframe thead tr th {\n",
       "        text-align: left;\n",
       "    }\n",
       "\n",
       "    .dataframe thead tr:last-of-type th {\n",
       "        text-align: right;\n",
       "    }\n",
       "</style>\n",
       "<table border=\"1\" class=\"dataframe\">\n",
       "  <thead>\n",
       "    <tr>\n",
       "      <th></th>\n",
       "      <th colspan=\"2\" halign=\"left\">Zm3D</th>\n",
       "      <th colspan=\"2\" halign=\"left\">Zm_v</th>\n",
       "      <th colspan=\"2\" halign=\"left\">Zm_h</th>\n",
       "      <th colspan=\"2\" halign=\"left\">Zm_tot</th>\n",
       "      <th colspan=\"2\" halign=\"left\">Zm_v_hd</th>\n",
       "      <th colspan=\"2\" halign=\"left\">Zm_h_hd</th>\n",
       "      <th colspan=\"2\" halign=\"left\">Zm_tot_hd</th>\n",
       "      <th>count</th>\n",
       "    </tr>\n",
       "    <tr>\n",
       "      <th></th>\n",
       "      <th>mean</th>\n",
       "      <th>std</th>\n",
       "      <th>mean</th>\n",
       "      <th>std</th>\n",
       "      <th>mean</th>\n",
       "      <th>std</th>\n",
       "      <th>mean</th>\n",
       "      <th>std</th>\n",
       "      <th>mean</th>\n",
       "      <th>std</th>\n",
       "      <th>mean</th>\n",
       "      <th>std</th>\n",
       "      <th>mean</th>\n",
       "      <th>std</th>\n",
       "      <th></th>\n",
       "    </tr>\n",
       "    <tr>\n",
       "      <th>D</th>\n",
       "      <th></th>\n",
       "      <th></th>\n",
       "      <th></th>\n",
       "      <th></th>\n",
       "      <th></th>\n",
       "      <th></th>\n",
       "      <th></th>\n",
       "      <th></th>\n",
       "      <th></th>\n",
       "      <th></th>\n",
       "      <th></th>\n",
       "      <th></th>\n",
       "      <th></th>\n",
       "      <th></th>\n",
       "      <th></th>\n",
       "    </tr>\n",
       "  </thead>\n",
       "  <tbody>\n",
       "    <tr>\n",
       "      <th>2.7</th>\n",
       "      <td>137.962787</td>\n",
       "      <td>4.828451</td>\n",
       "      <td>128.666667</td>\n",
       "      <td>4.163332</td>\n",
       "      <td>131</td>\n",
       "      <td>4.000000</td>\n",
       "      <td>129.666667</td>\n",
       "      <td>5.131601</td>\n",
       "      <td>129.666667</td>\n",
       "      <td>5.143280</td>\n",
       "      <td>132.266667</td>\n",
       "      <td>5.337915</td>\n",
       "      <td>129.933333</td>\n",
       "      <td>5.672154</td>\n",
       "      <td>3</td>\n",
       "    </tr>\n",
       "    <tr>\n",
       "      <th>4.5</th>\n",
       "      <td>171.824735</td>\n",
       "      <td>7.840022</td>\n",
       "      <td>153.500000</td>\n",
       "      <td>7.593857</td>\n",
       "      <td>153</td>\n",
       "      <td>7.874008</td>\n",
       "      <td>154.250000</td>\n",
       "      <td>7.088723</td>\n",
       "      <td>153.750000</td>\n",
       "      <td>7.857693</td>\n",
       "      <td>152.450000</td>\n",
       "      <td>6.553116</td>\n",
       "      <td>155.200000</td>\n",
       "      <td>6.736963</td>\n",
       "      <td>4</td>\n",
       "    </tr>\n",
       "  </tbody>\n",
       "</table>\n",
       "</div>"
      ],
      "text/plain": [
       "           Zm3D                  Zm_v           Zm_h                Zm_tot  \\\n",
       "           mean       std        mean       std mean       std        mean   \n",
       "D                                                                            \n",
       "2.7  137.962787  4.828451  128.666667  4.163332  131  4.000000  129.666667   \n",
       "4.5  171.824735  7.840022  153.500000  7.593857  153  7.874008  154.250000   \n",
       "\n",
       "                  Zm_v_hd               Zm_h_hd             Zm_tot_hd  \\\n",
       "          std        mean       std        mean       std        mean   \n",
       "D                                                                       \n",
       "2.7  5.131601  129.666667  5.143280  132.266667  5.337915  129.933333   \n",
       "4.5  7.088723  153.750000  7.857693  152.450000  6.553116  155.200000   \n",
       "\n",
       "              count  \n",
       "          std        \n",
       "D                    \n",
       "2.7  5.672154     3  \n",
       "4.5  6.736963     4  "
      ]
     },
     "execution_count": 8,
     "metadata": {},
     "output_type": "execute_result"
    }
   ],
   "source": [
    "f = listDepthos[1]\n",
    "print(f)\n",
    "filePath = os.path.join(testDataFolder, f)\n",
    "I = io.imread(filePath)\n",
    "mbd = MultiBeadsDeptho(I, SCALE_100X)\n",
    "mbd.build_beadList(plot = 2)\n",
    "mbd.get_summaryStats()"
   ]
  },
  {
   "cell_type": "code",
   "execution_count": null,
   "id": "d276c564",
   "metadata": {},
   "outputs": [],
   "source": []
  },
  {
   "cell_type": "markdown",
   "id": "5ca7e0d7",
   "metadata": {},
   "source": [
    "#### multiDeptho3"
   ]
  },
  {
   "cell_type": "code",
   "execution_count": null,
   "id": "78f1f133",
   "metadata": {
    "scrolled": true
   },
   "outputs": [],
   "source": [
    "f = listDepthos[2]\n",
    "print(f)\n",
    "filePath = os.path.join(testDataFolder, f)\n",
    "I = io.imread(filePath)\n",
    "mbd = MultiBeadsDeptho(I, SCALE_100X)\n",
    "mbd.build_beadList(plot = 2)\n",
    "mbd.get_summaryStats()"
   ]
  },
  {
   "cell_type": "markdown",
   "id": "a215c166",
   "metadata": {},
   "source": [
    "#### multiDeptho4"
   ]
  },
  {
   "cell_type": "code",
   "execution_count": null,
   "id": "8a78e920",
   "metadata": {},
   "outputs": [],
   "source": [
    "f = listDepthos[3]\n",
    "print(f)\n",
    "filePath = os.path.join(testDataFolder, f)\n",
    "I = io.imread(filePath)\n",
    "mbd = MultiBeadsDeptho(I, SCALE_100X)\n",
    "mbd.build_beadList(plot = 2)\n",
    "mbd.get_summaryStats()"
   ]
  },
  {
   "cell_type": "markdown",
   "id": "6de1d45e",
   "metadata": {},
   "source": [
    "#### multiDeptho5"
   ]
  },
  {
   "cell_type": "code",
   "execution_count": null,
   "id": "2ce9a006",
   "metadata": {},
   "outputs": [],
   "source": [
    "f = listDepthos[4]\n",
    "print(f)\n",
    "filePath = os.path.join(testDataFolder, f)\n",
    "I = io.imread(filePath)\n",
    "mbd = MultiBeadsDeptho(I, SCALE_100X)\n",
    "mbd.build_beadList(plot = 2)\n",
    "mbd.get_summaryStats()"
   ]
  },
  {
   "cell_type": "markdown",
   "id": "6aa6dcfa",
   "metadata": {},
   "source": [
    "#### multiDeptho6"
   ]
  },
  {
   "cell_type": "code",
   "execution_count": null,
   "id": "2ae3b134",
   "metadata": {},
   "outputs": [],
   "source": [
    "f = listDepthos[5]\n",
    "print(f)\n",
    "filePath = os.path.join(testDataFolder, f)\n",
    "I = io.imread(filePath)\n",
    "mbd = MultiBeadsDeptho(I, SCALE_100X)\n",
    "mbd.build_beadList(plot = 2)\n",
    "mbd.get_summaryStats()"
   ]
  },
  {
   "cell_type": "markdown",
   "id": "47ff1135",
   "metadata": {},
   "source": [
    "#### multiDeptho7"
   ]
  },
  {
   "cell_type": "code",
   "execution_count": null,
   "id": "620f1965",
   "metadata": {},
   "outputs": [],
   "source": [
    "f = listDepthos[6]\n",
    "print(f)\n",
    "filePath = os.path.join(testDataFolder, f)\n",
    "I = io.imread(filePath)\n",
    "mbd = MultiBeadsDeptho(I, SCALE_100X)\n",
    "mbd.build_beadList(plot = 2)\n",
    "mbd.get_summaryStats()"
   ]
  },
  {
   "cell_type": "markdown",
   "id": "d6c244a2",
   "metadata": {},
   "source": [
    "#### multiDeptho8"
   ]
  },
  {
   "cell_type": "code",
   "execution_count": null,
   "id": "e956da78",
   "metadata": {},
   "outputs": [],
   "source": [
    "f = listDepthos[7]\n",
    "print(f)\n",
    "filePath = os.path.join(testDataFolder, f)\n",
    "I = io.imread(filePath)\n",
    "mbd = MultiBeadsDeptho(I, SCALE_100X)\n",
    "mbd.build_beadList(plot = 2)\n",
    "mbd.get_summaryStats()"
   ]
  },
  {
   "cell_type": "markdown",
   "id": "b0e0662a",
   "metadata": {},
   "source": [
    "#### multiDeptho9"
   ]
  },
  {
   "cell_type": "code",
   "execution_count": null,
   "id": "b792505d",
   "metadata": {
    "scrolled": true
   },
   "outputs": [],
   "source": [
    "f = listDepthos[8]\n",
    "print(f)\n",
    "filePath = os.path.join(testDataFolder, f)\n",
    "I = io.imread(filePath)\n",
    "mbd = MultiBeadsDeptho(I, SCALE_100X)\n",
    "mbd.build_beadList(plot = 2)\n",
    "mbd.get_summaryStats()"
   ]
  },
  {
   "cell_type": "markdown",
   "id": "90f5fce4",
   "metadata": {},
   "source": [
    "#### multiDeptho10"
   ]
  },
  {
   "cell_type": "code",
   "execution_count": null,
   "id": "b4808f4c",
   "metadata": {
    "scrolled": true
   },
   "outputs": [],
   "source": [
    "f = listDepthos[0]\n",
    "print(f)\n",
    "filePath = os.path.join(testDataFolder, f)\n",
    "I = io.imread(filePath)\n",
    "mbd = MultiBeadsDeptho(I, SCALE_100X)\n",
    "mbd.build_beadList(plot = 2)\n",
    "mbd.get_summaryStats()"
   ]
  },
  {
   "cell_type": "markdown",
   "id": "4cdb169b",
   "metadata": {},
   "source": [
    "### Autres"
   ]
  },
  {
   "cell_type": "code",
   "execution_count": null,
   "id": "a3cadf65",
   "metadata": {},
   "outputs": [],
   "source": [
    "plt.close('all')"
   ]
  },
  {
   "cell_type": "markdown",
   "id": "6506fda2",
   "metadata": {},
   "source": [
    "## Old code & tests"
   ]
  },
  {
   "cell_type": "code",
   "execution_count": null,
   "id": "e60229bb",
   "metadata": {
    "scrolled": true
   },
   "outputs": [],
   "source": [
    "testDataFolder = 'C://Users//JosephVermeil//Desktop//test_AnalyseDepthos'\n",
    "listDepthos = [f for f in os.listdir(testDataFolder) if (os.path.isfile(os.path.join(testDataFolder, f)) and f.endswith(\".tif\"))]\n",
    "\n",
    "fileName = listDepthos[2]\n",
    "filePath = os.path.join(testDataFolder,fileName)\n",
    "I = io.imread(filePath)\n",
    "\n",
    "nz, ny, nx = I.shape[0], I.shape[1], I.shape[2]\n",
    "maxVal = np.zeros(nz)\n",
    "for z in range(nz):\n",
    "    maxVal[z] = np.max(I[z])\n",
    "\n",
    "    \n",
    "#\n",
    "Z = np.array([i for i in range(nz)])\n",
    "fig, ax = plt.subplots(1,1, figsize = (8,4))\n",
    "ax.plot(Z, maxVal)\n",
    "fig.show()\n",
    "#\n",
    "\n",
    "\n",
    "zMax = np.argmax(maxVal)\n",
    "IMax = I[zMax]\n",
    "#\n",
    "fig, ax = plt.subplots(3,1, figsize = (9,9))\n",
    "ax[0].imshow(IMax, cmap = 'gray')\n",
    "ax[0].set_title('Raw')\n",
    "#\n",
    "#\n",
    "threshold = filters.threshold_li(IMax)\n",
    "binIMax = IMax > threshold\n",
    "ax[1].imshow(binIMax, cmap = 'gray')\n",
    "ax[1].set_title('Filter: Li')\n",
    "#\n",
    "#\n",
    "threshold = filters.threshold_otsu(IMax)\n",
    "binIMax = IMax > threshold\n",
    "ax[2].imshow(binIMax, cmap = 'gray')\n",
    "ax[2].set_title('Filter: Otsu')\n",
    "#\n",
    "fig.show()"
   ]
  },
  {
   "cell_type": "code",
   "execution_count": null,
   "id": "7b138507",
   "metadata": {
    "code_folding": [
     0
    ]
   },
   "outputs": [],
   "source": [
    "# df1 = pd.DataFrame({})\n",
    "\n",
    "# f = listDepthos[0]\n",
    "# filePath = os.path.join(testDataFolder, f)\n",
    "# I = io.imread(filePath)\n",
    "# mbd = MultiBeadsDeptho(I, SCALE_100X)\n",
    "# mbd.build_beadList(plot = 1)\n",
    "# listBeads = mbd.get_beadList()\n",
    "# if df1.shape == (0, 0):\n",
    "#     df1 = mbd.get_summaryStats()\n",
    "# else:\n",
    "#     df1 = pd.concat([df1, mbd.get_summaryTable()], axis = 0).reset_index()\n",
    "\n",
    "# df1"
   ]
  },
  {
   "cell_type": "code",
   "execution_count": null,
   "id": "95a9f84d",
   "metadata": {},
   "outputs": [],
   "source": [
    "# if not I.ndim == 3:\n",
    "#     print('Unexpected image format !')\n",
    "# else:\n",
    "#     I0 = I[0]\n",
    "\n",
    "# fig, ax = plt.subplots(1,1)\n",
    "# ax.imshow(I[2], cmap = 'gray')\n",
    "# fig.tight_layout()\n",
    "# fig.show()\n",
    "\n",
    "# I.shape\n",
    "# smallI = I[198:203]\n",
    "# smallROI = I[:,100:400,100:500]\n",
    "# # plt.imshow(smallROI, cmap = 'gray')\n",
    "# threshold = skimage.filters.threshold_otsu(smallROI)\n",
    "# threshold\n",
    "\n",
    "# fig, ax = plt.subplots(1,1)\n",
    "# ax.hist(smallROI.ravel(), bins=256, histtype='step', color='black')\n",
    "# fig.show()\n",
    "\n",
    "# np.zeros([nz, ny, nx])"
   ]
  },
  {
   "cell_type": "code",
   "execution_count": null,
   "id": "81b6f3ec",
   "metadata": {
    "code_folding": [
     0
    ]
   },
   "outputs": [],
   "source": [
    "# Tests with numpy arrays\n",
    "\n",
    "# A = np.array([[1, 2, 3],[4, 5, 6],[7, 8, 9]])\n",
    "# np.sum(A[0])\n",
    "# O = np.zeros([3, 2, 2])\n",
    "# O[1,:,:] = A[:2,:2]\n",
    "# O[2,:,:] = A[1:,1:]\n",
    "# b = np.array([1, 0], dtype = bool)\n",
    "# O[0][b]"
   ]
  },
  {
   "cell_type": "code",
   "execution_count": 25,
   "id": "3474bd50",
   "metadata": {},
   "outputs": [],
   "source": [
    "def fitPlanes():\n",
    "        \n",
    "        def twoPlanesEqn(xyD, z0, Dz, a, b):\n",
    "            x, y, D = xyD[0], xyD[1], xyD[2]\n",
    "            z = z0 + (D == 4.5)*Dz + a*x + b*y\n",
    "            return(z)\n",
    "        \n",
    "        init_z0, init_Dz = 125, 25\n",
    "        init_a, init_b = 0, 0\n",
    "        initialParameters = [init_z0, init_Dz, init_a, init_b]\n",
    "        \n",
    "        lowerBounds = (0, 0, -0.15 , -0.15)\n",
    "        upperBounds = (200, 50, 0.15, 0.15) # 0,15 <= tan(0.2 rad) 10° ~ 0.17rad\n",
    "        parameterBounds = [lowerBounds, upperBounds]\n",
    "        \n",
    "        X0 = np.arange(5)\n",
    "        Y0 = np.arange(5)\n",
    "        xyD_test = np.zeros((len(X0)*len(Y0), 3))\n",
    "        z_test = np.zeros(len(X0)*len(Y0))\n",
    "        true_z0 = 130\n",
    "        true_Dz = 20\n",
    "        true_a = 0.05\n",
    "        true_b = 0.05\n",
    "        count = 0\n",
    "        for x in X0:\n",
    "            for y in Y0:\n",
    "                noise = 0.5-np.random.rand()\n",
    "                coin = (np.random.rand() > 0.5)\n",
    "                xyD_test[count,:] = np.array([x, y, 2.7*(coin==0) + 4.5*(coin==1)])\n",
    "                z_test[count] = noise + twoPlanesEqn(xyD_test[count,:], true_z0, true_Dz, true_a, true_b)\n",
    "                count += 1\n",
    "        \n",
    "        print(len(xyD_test))\n",
    "        print(len(z_test))\n",
    "\n",
    "        params, covM = curve_fit(twoPlanesEqn, xyD_test.T, z_test, initialParameters, bounds = parameterBounds)\n",
    "        fit_z0, fit_Dz, fit_a, fit_b = params[0], params[1], params[2], params[3]\n",
    "        print('fit Ok !')\n",
    "        print(params)\n",
    "        \n",
    "        xyz_fit_small_L = []\n",
    "        xyz_fit_large_L = []\n",
    "        z_fit = []\n",
    "        for i in range(len(xyD_test)):\n",
    "            x, y, D = xyD_test[i,0], xyD_test[i,1], xyD_test[i,2]\n",
    "            xyD_i = [x, y, D]\n",
    "            z = twoPlanesEqn(xyD_i, fit_z0, fit_Dz, fit_a, fit_b)\n",
    "            z_fit.append(z)\n",
    "            if D == 2.7:\n",
    "                xyz_fit_small_L.append([x, y, z])\n",
    "            elif D == 4.5:\n",
    "                xyz_fit_large_L.append([x, y, z])\n",
    "                \n",
    "        xyz_fit_large = np.array(xyz_fit_large_L)\n",
    "        xyz_fit_small = np.array(xyz_fit_small_L)\n",
    "        fig = plt.figure()\n",
    "        ax = fig.add_subplot(projection='3d')\n",
    "        ax.plot(xyD_test[:,0], xyD_test[:,1], z_fit, 'ko')\n",
    "        ax.plot_surface(xyz_fit_large[:,0], xyz_fit_large[:,1], xyz_fit_large[:,2], color = 'r', alpha=0.5)\n",
    "#         ax.plot_surface(xyz_fit_small[:,0], xyz_fit_small[:,1], xyz_fit_small[:,2], color = 'b', alpha=0.5)\n",
    "        \n",
    "        "
   ]
  },
  {
   "cell_type": "code",
   "execution_count": 26,
   "id": "cec451cf",
   "metadata": {},
   "outputs": [
    {
     "name": "stdout",
     "output_type": "stream",
     "text": [
      "25\n",
      "25\n",
      "fit Ok !\n",
      "[1.30158113e+02 2.00064864e+01 8.09448710e-03 6.55993119e-02]\n"
     ]
    },
    {
     "data": {
      "application/vnd.jupyter.widget-view+json": {
       "model_id": "d6d47232122f401095f4da20a6638aa2",
       "version_major": 2,
       "version_minor": 0
      },
      "text/plain": [
       "Canvas(toolbar=Toolbar(toolitems=[('Home', 'Reset original view', 'home', 'home'), ('Back', 'Back to previous …"
      ]
     },
     "metadata": {},
     "output_type": "display_data"
    }
   ],
   "source": [
    "fitPlanes()"
   ]
  },
  {
   "cell_type": "code",
   "execution_count": 16,
   "id": "17136865",
   "metadata": {},
   "outputs": [
    {
     "data": {
      "text/plain": [
       "array([0.73740152, 0.64508185, 0.46448434, 0.25290598, 0.63752981])"
      ]
     },
     "execution_count": 16,
     "metadata": {},
     "output_type": "execute_result"
    }
   ],
   "source": [
    "np.random.rand()"
   ]
  },
  {
   "cell_type": "code",
   "execution_count": null,
   "id": "8c229f80",
   "metadata": {},
   "outputs": [],
   "source": []
  }
 ],
 "metadata": {
  "kernelspec": {
   "display_name": "Python 3",
   "language": "python",
   "name": "python3"
  },
  "language_info": {
   "codemirror_mode": {
    "name": "ipython",
    "version": 3
   },
   "file_extension": ".py",
   "mimetype": "text/x-python",
   "name": "python",
   "nbconvert_exporter": "python",
   "pygments_lexer": "ipython3",
   "version": "3.6.13"
  },
  "toc": {
   "base_numbering": 1,
   "nav_menu": {},
   "number_sections": true,
   "sideBar": true,
   "skip_h1_title": false,
   "title_cell": "Table of Contents",
   "title_sidebar": "Contents",
   "toc_cell": false,
   "toc_position": {
    "height": "calc(100% - 180px)",
    "left": "10px",
    "top": "150px",
    "width": "259px"
   },
   "toc_section_display": true,
   "toc_window_display": true
  },
  "varInspector": {
   "cols": {
    "lenName": 16,
    "lenType": 16,
    "lenVar": 40
   },
   "kernels_config": {
    "python": {
     "delete_cmd_postfix": "",
     "delete_cmd_prefix": "del ",
     "library": "var_list.py",
     "varRefreshCmd": "print(var_dic_list())"
    },
    "r": {
     "delete_cmd_postfix": ") ",
     "delete_cmd_prefix": "rm(",
     "library": "var_list.r",
     "varRefreshCmd": "cat(var_dic_list()) "
    }
   },
   "types_to_exclude": [
    "module",
    "function",
    "builtin_function_or_method",
    "instance",
    "_Feature"
   ],
   "window_display": false
  }
 },
 "nbformat": 4,
 "nbformat_minor": 5
}
