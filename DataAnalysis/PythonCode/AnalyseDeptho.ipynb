{
 "cells": [
  {
   "cell_type": "code",
   "execution_count": 2,
   "id": "8befdbde",
   "metadata": {},
   "outputs": [],
   "source": [
    "import numpy as np\n",
    "import pandas as pd\n",
    "import scipy.ndimage as ndi\n",
    "import matplotlib.pyplot as plt\n",
    "from mpl_toolkits.mplot3d import Axes3D\n",
    "from mpl_toolkits.mplot3d.art3d import Poly3DCollection\n",
    "\n",
    "import os\n",
    "import time\n",
    "import matplotlib\n",
    "\n",
    "# import skimage\n",
    "from skimage import io, filters, exposure, measure, transform\n",
    "from scipy.signal import find_peaks, savgol_filter\n",
    "from scipy.optimize import curve_fit\n",
    "\n",
    "pd.set_option('mode.chained_assignment',None)\n",
    "\n",
    "%matplotlib widget \n",
    "# %matplotlib inline\n",
    "matplotlib.rcParams.update({'figure.autolayout': True})\n",
    "\n",
    "SMALLER_SIZE = 8\n",
    "SMALL_SIZE = 12\n",
    "MEDIUM_SIZE = 16\n",
    "BIGGER_SIZE = 20\n",
    "\n",
    "plt.rc('font', size=SMALL_SIZE)          # controls default text sizes\n",
    "plt.rc('axes', titlesize=MEDIUM_SIZE)     # fontsize of the axes title\n",
    "plt.rc('axes', labelsize=MEDIUM_SIZE)    # fontsize of the x and y labels\n",
    "plt.rc('xtick', labelsize=SMALL_SIZE)    # fontsize of the tick labels\n",
    "plt.rc('ytick', labelsize=SMALL_SIZE)    # fontsize of the tick labels\n",
    "plt.rc('legend', fontsize=SMALLER_SIZE)    # legend fontsize\n",
    "plt.rc('figure', titlesize=BIGGER_SIZE)  # fontsize of the figure title"
   ]
  },
  {
   "cell_type": "code",
   "execution_count": 3,
   "id": "10914c8d",
   "metadata": {},
   "outputs": [],
   "source": [
    "SCALE_100X = 15.8 # pix/µm "
   ]
  },
  {
   "cell_type": "markdown",
   "id": "e66b8630",
   "metadata": {},
   "source": [
    "## Class & functions"
   ]
  },
  {
   "cell_type": "code",
   "execution_count": 4,
   "id": "f45abf69",
   "metadata": {
    "code_folding": []
   },
   "outputs": [],
   "source": [
    "class MultiBeadsDeptho:\n",
    "   \n",
    "    def __init__(self, I, scale):\n",
    "        nz, ny, nx = I.shape[0], I.shape[1], I.shape[2]\n",
    "        \n",
    "        self.__I = I\n",
    "        self.__scale = scale\n",
    "        self.__I_labeled = np.zeros([nz, ny, nx])\n",
    "        self.__nz = nz\n",
    "        self.__ny = ny\n",
    "        self.__nx = nx\n",
    "        self.__beadList = []\n",
    "        self.__nB = 0\n",
    "        self.__nBvalid = 0\n",
    "        self.__z_max = 0\n",
    "        self.__summaryTable = pd.DataFrame({})\n",
    "        \n",
    "    def build_beadList(self, plot = 0):\n",
    "        maxVal = np.zeros(self.__nz)\n",
    "        for z in range(self.__nz):\n",
    "            maxVal[z] = np.max(self.__I[z])\n",
    "        z_max = np.argmax(maxVal)\n",
    "        self.__z_max = z_max\n",
    "        I_max = self.__I[z_max]\n",
    "        threshold = filters.threshold_otsu(I_max)\n",
    "        I_max_bin = (I_max > threshold)\n",
    "        I_labeled, nB = measure.label(I_max_bin, return_num = True)\n",
    "        self.__I_labeled, self.__nB = I_labeled, nB\n",
    "        \n",
    "        \n",
    "        if plot >= 1:\n",
    "            pStart, pStop = np.percentile(I[self.__z_max], (1, 99))\n",
    "            I_max_rescaled = exposure.rescale_intensity(I[self.__z_max], in_range=(pStart, pStop))\n",
    "            figI, axI = plt.subplots(1,1, figsize = (15,5))\n",
    "            axI.imshow(I_max_rescaled, cmap = 'gray')\n",
    "        \n",
    "        # Building __beadList\n",
    "        for k in range(1,self.__nB+1):\n",
    "            ym0, xm0 = ndi.center_of_mass(I_max, I_labeled, k)\n",
    "            bD = BeadDeptho(I, xm0, ym0, self.__scale)\n",
    "            bD.build_ROI(plot)\n",
    "            \n",
    "            if bD.validBead:\n",
    "#                 print('Job done for the bead in x0, y0 = {:.2f}, {:.2f}'.format(bD.xm0, bD.ym0))\n",
    "                self.__nBvalid += 1\n",
    "                bD.build_zProfiles(plot)\n",
    "                self.__beadList.append(bD)\n",
    "                \n",
    "#             else:\n",
    "#                 print('Not acceptable bead in x0, y0 = {:.2f}, {:.2f}'.format(bD.xm0, bD.ym0))\n",
    "            \n",
    "            if plot >= 1:\n",
    "                if bD.validBead:\n",
    "                    axI.plot([bD.XYm[0, self.__z_max]], [bD.XYm[1, self.__z_max]], 'c+')\n",
    "                    axI.text(bD.XYm[0, self.__z_max] + 5, bD.XYm[1, self.__z_max] - 5, str(bD.D), c = 'c')\n",
    "                else:\n",
    "                    axI.plot([bD.xm0], [bD.ym0], 'r+')\n",
    "            \n",
    "#             print('\\n')\n",
    "            \n",
    "        # Building __summaryTable\n",
    "        d = {'D' : [], 'x' : [], 'y' : []}\n",
    "        otherCols = [c for c in self.__beadList[0].ZfocusDict.keys()]\n",
    "        for c in otherCols:\n",
    "            d[c] = []\n",
    "        for k in range(1,self.__nBvalid+1):\n",
    "            bD = self.__beadList[k-1]\n",
    "            d['D'].append(bD.D)\n",
    "            d['x'].append(bD.XYm[0,bD.z_max])\n",
    "            d['y'].append(bD.XYm[1,bD.z_max])\n",
    "            for c in otherCols:\n",
    "                d[c].append(bD.ZfocusDict[c])        \n",
    "        self.__summaryTable = pd.DataFrame(d)\n",
    "                \n",
    "    def get_beadList(self):\n",
    "        return(self.__beadList)  \n",
    "          \n",
    "    def get_summaryTable(self):\n",
    "        return(self.__summaryTable)\n",
    "    \n",
    "    def get_summaryStats(self):\n",
    "#         print(self.__summaryTable)\n",
    "        df = self.__summaryTable.drop(['x', 'y'], axis = 1)\n",
    "        group = df.groupby(df.D)\n",
    "        df_stats = group.agg(['mean', 'std'])\n",
    "        df_stats2 = group.agg(['count'])[['Zm3D']].rename(columns = {'Zm3D' : 'count'})\n",
    "#         print(df_stats2)\n",
    "        df_stats['count'] = df_stats2['count']\n",
    "        return(df_stats)\n",
    "    \n",
    "    def fitPlanes(self, Plot3D = False):\n",
    "        \n",
    "        xyD_L = []\n",
    "        Z_L = []\n",
    "\n",
    "        for b in self.__beadList:\n",
    "            z_max = b.z_max\n",
    "            x, y, D = b.XYm[0,z_max], b.XYm[1,z_max], b.D\n",
    "            xyD_L.append([x, y, D])\n",
    "\n",
    "            z = b.ZfocusDict['Zm_tot_hd']\n",
    "            Z_L.append(z)\n",
    "\n",
    "        xyD = np.array(xyD_L)\n",
    "        Z = np.array(Z_L)\n",
    "        \n",
    "        def twoPlanesEqn(xyD, z0, Dz, a, b):\n",
    "            x, y, D = xyD[0], xyD[1], xyD[2]\n",
    "            z = z0 + (D == 4.5)*Dz + a*x + b*y\n",
    "            return(z)\n",
    "\n",
    "        init_z0, init_Dz = 125, 25\n",
    "        init_a, init_b = 0, 0\n",
    "        initialParameters = [init_z0, init_Dz, init_a, init_b]\n",
    "\n",
    "        lowerBounds = (0, 0, -0.1 , -0.1)\n",
    "        upperBounds = (200, 50, 0.1, 0.1) # 0,1 <= tan(0.2 rad) 10° ~ 0.17rad\n",
    "        parameterBounds = [lowerBounds, upperBounds]\n",
    "\n",
    "\n",
    "\n",
    "    #         print(len(xyD))\n",
    "    #         print(len(z))\n",
    "\n",
    "        params, covM = curve_fit(twoPlanesEqn, xyD.T, Z, initialParameters, bounds = parameterBounds)\n",
    "        fit_z0, fit_Dz, fit_a, fit_b = params[0], params[1], params[2], params[3]\n",
    "    #         print('fit Ok !')\n",
    "    #         print('fit_z0, fit_Dz, fit_a, fit_b')\n",
    "    #         print(fit_z0, fit_Dz, fit_a, fit_b)\n",
    "\n",
    "\n",
    "        if Plot3D:\n",
    "            xyz_fit_small_L = []\n",
    "            xyz_fit_large_L = []\n",
    "\n",
    "            z_fit = []\n",
    "\n",
    "            for i in range(len(xyD)):\n",
    "                x, y, D = xyD[i,0], xyD[i,1], xyD[i,2]\n",
    "                xyD_i = [x, y, D]\n",
    "                z_i = twoPlanesEqn(xyD_i, fit_z0, fit_Dz, fit_a, fit_b)\n",
    "    #                 print(z)\n",
    "                z_fit.append(z_i)\n",
    "    #             print(z_fit)\n",
    "\n",
    "            x_verts = [0,max(xyD[:,0]),max(xyD[:,0]),0]\n",
    "            y_verts = [0,0,max(xyD[:,1]),max(xyD[:,1])]\n",
    "            z_vertsDown = []\n",
    "            z_vertsUp = []\n",
    "\n",
    "            for i in range(len(x_verts)):\n",
    "                xyD_i = [x_verts[i], y_verts[i], 2.7]\n",
    "                z = twoPlanesEqn(xyD_i, fit_z0, fit_Dz, fit_a, fit_b)\n",
    "                z_vertsDown.append(z)\n",
    "                xyD_i = [x_verts[i], y_verts[i], 4.5]\n",
    "                z_i = twoPlanesEqn(xyD_i, fit_z0, fit_Dz, fit_a, fit_b)\n",
    "                z_vertsUp.append(z_i)\n",
    "\n",
    "            verts_down = [list(zip(x_verts,y_verts,z_vertsDown))]\n",
    "            planeDown = Poly3DCollection(verts_down)\n",
    "            planeDown.set_alpha(0.5)\n",
    "            planeDown.set_facecolor('b')\n",
    "            verts_up = [list(zip(x_verts,y_verts,z_vertsUp))]\n",
    "            planeUp = Poly3DCollection(verts_up)\n",
    "            planeUp.set_alpha(0.5)\n",
    "            planeUp.set_facecolor('r')\n",
    "\n",
    "            fig = plt.figure()\n",
    "            ax = fig.add_subplot(projection='3d')\n",
    "            ax.plot(xyD[:,0], xyD[:,1], Z, 'ko')\n",
    "            ax.add_collection3d(planeDown)\n",
    "            ax.add_collection3d(planeUp)\n",
    "            ax.set_xlim([0,self.__nx])\n",
    "            ax.set_ylim([0,self.__ny])\n",
    "            fig.show()\n",
    "\n",
    "        return(fit_z0, fit_Dz, fit_a, fit_b)\n",
    "    \n",
    "    \n",
    "    @property\n",
    "    def I(self):\n",
    "        return(self.__I)\n",
    "    \n",
    "    @I.setter\n",
    "    def I(self, I):\n",
    "#         self.__I  =  I\n",
    "        print('FORBIDEN: You cannot change the image after this object instantiation.')\n",
    "    \n",
    "    @property\n",
    "    def nz(self):\n",
    "        return(self.__nz)\n",
    "    \n",
    "    @property\n",
    "    def ny(self):\n",
    "        return(self.__ny)\n",
    "    \n",
    "    @property\n",
    "    def nx(self):\n",
    "        return(self.__nx)\n",
    "    \n",
    "    @property\n",
    "    def nB(self):\n",
    "        return(self.__nB)"
   ]
  },
  {
   "cell_type": "code",
   "execution_count": 5,
   "id": "162ff269",
   "metadata": {
    "code_folding": [
     199
    ]
   },
   "outputs": [],
   "source": [
    "class BeadDeptho:\n",
    "    def __init__(self, I, xm0, ym0, scale):\n",
    "        \n",
    "        nz, ny, nx = I.shape[0], I.shape[1], I.shape[2]\n",
    "        \n",
    "        self.I = I\n",
    "        self.nz = nz\n",
    "        self.ny = ny\n",
    "        self.nx = nx\n",
    "        self.scale = scale\n",
    "        self.xm0 = xm0\n",
    "        self.ym0 = ym0\n",
    "        \n",
    "        self.D = 0\n",
    "        self.threshold = 0\n",
    "        self.I_cleanROI = np.array([])\n",
    "        self.XYm = np.zeros((2, self.nz), dtype = int)\n",
    "        self.validBead = True\n",
    "        \n",
    "        self.z_max = 0\n",
    "        self.validSlice = np.zeros(nz, dtype = bool)\n",
    "        self.zFirst = 0\n",
    "        self.zLast = nz\n",
    "        self.validDepth = nz\n",
    "        \n",
    "        self.depthosDict = {}\n",
    "        self.profileDict = {}\n",
    "        self.ZfocusDict = {}\n",
    "    \n",
    "    \n",
    "    def build_ROI(self, plot = 0):\n",
    "        roughSize = np.floor(5*self.scale)\n",
    "        roughSize += roughSize%2\n",
    "        x1_roughROI = int(np.floor(self.xm0) - roughSize*0.5) - 1\n",
    "        x2_roughROI = int(np.floor(self.xm0) + roughSize*0.5)\n",
    "        y1_roughROI = int(np.floor(self.ym0) - roughSize*0.5) - 1\n",
    "        y2_roughROI = int(np.floor(self.ym0) + roughSize*0.5)\n",
    "\n",
    "        if min([x1_roughROI,self.nx-x2_roughROI,y1_roughROI,self.ny-y2_roughROI]) < 0:\n",
    "            self.validBead = False\n",
    "            \n",
    "        if self.validBead:\n",
    "            I_roughRoi = I[:, y1_roughROI:y2_roughROI, x1_roughROI:x2_roughROI]\n",
    "            maxVal = np.zeros(self.nz)\n",
    "            for z in range(self.nz):\n",
    "                maxVal[z] = np.max(I_roughRoi[z])\n",
    "            z_max = np.argmax(maxVal)\n",
    "            self.z_max = z_max\n",
    "\n",
    "#             print('Zmax = {:.0f}'.format(z_max))\n",
    "#             figh, axh = plt.subplots(1,2, figsize = (8,4))\n",
    "#             axh[0].imshow(I_roughRoi[z_max], cmap = 'gray')\n",
    "#             axh[1].hist(I_roughRoi[z_max].ravel(), bins=256, histtype='step', color='black')\n",
    "            \n",
    "            \n",
    "\n",
    "            counts, binEdges = np.histogram(I_roughRoi[z_max].ravel(), bins=256)\n",
    "\n",
    "            peaks, peaksProp = find_peaks(counts, height=100, threshold=None, distance=None, prominence=None, \\\n",
    "                               width=None, wlen=None, rel_height=0.5, plateau_size=None)\n",
    "            \n",
    "            peakThreshVal = 1200\n",
    "            \n",
    "            if counts[peaks[0]] > peakThreshVal:\n",
    "                self.D = 4.5\n",
    "                roughSize = np.floor(2*self.D*self.scale)\n",
    "                roughSize += roughSize%2\n",
    "                x1_roughROI = int(np.floor(self.xm0) - roughSize*0.5) - 1\n",
    "                x2_roughROI = int(np.floor(self.xm0) + roughSize*0.5)\n",
    "                y1_roughROI = int(np.floor(self.ym0) - roughSize*0.5) - 1\n",
    "                y2_roughROI = int(np.floor(self.ym0) + roughSize*0.5)\n",
    "                \n",
    "            else:\n",
    "                self.D = 2.7\n",
    "                roughSize = np.floor(2*self.D*self.scale)\n",
    "                roughSize += roughSize%2\n",
    "                x1_roughROI = int(np.floor(self.xm0) - roughSize*0.5) - 1\n",
    "                x2_roughROI = int(np.floor(self.xm0) + roughSize*0.5)\n",
    "                y1_roughROI = int(np.floor(self.ym0) - roughSize*0.5) - 1\n",
    "                y2_roughROI = int(np.floor(self.ym0) + roughSize*0.5)\n",
    "                \n",
    "                \n",
    "#             print('First peak height is {:.0f}'.format(counts[peaks[0]]))    \n",
    "#             print('Detected D is {:.1f}'.format(self.D))\n",
    "            \n",
    "            if min([x1_roughROI,self.nx-x2_roughROI,y1_roughROI,self.ny-y2_roughROI]) < 0:\n",
    "                self.validBead = False\n",
    "                x1_roughROI, x2_roughROI = max(0, x1_roughROI), min(self.nx, x2_roughROI)\n",
    "                y1_roughROI, y2_roughROI = max(0, y1_roughROI), min(self.nx, y2_roughROI) \n",
    "            \n",
    "            I_roughRoi = I[:, y1_roughROI:y2_roughROI, x1_roughROI:x2_roughROI]\n",
    "            \n",
    "    #         h_roughROI, w_roughROI = x2_roughROI-x1_roughROI, y2_roughROI-y1_roughROI\n",
    "    #         print(h_roughROI//2, w_roughROI//2)\n",
    "            \n",
    "            if self.validBead:\n",
    "                factorT = 0.8*(self.D == 4.5) + 0.6*(self.D == 2.7)\n",
    "                threshold = factorT*filters.threshold_otsu(I_roughRoi)\n",
    "                self.threshold = threshold\n",
    "                I_roughRoi_binary = (I_roughRoi > threshold)\n",
    "                I_roughRoi_binary_fh = ndi.binary_fill_holes(I_roughRoi_binary).astype(int)\n",
    "                Ilab, nB_ROI = measure.label(I_roughRoi_binary_fh[z_max], return_num = True)\n",
    "                if nB_ROI > 1:\n",
    "                    self.validBead = False\n",
    "                    \n",
    "                if not self.validBead:\n",
    "                    \n",
    "                    if plot >= 3:\n",
    "                        fig, ax = plt.subplots(1,1, figsize = (4,4))\n",
    "                        ax.imshow(I_roughRoi[z_max], cmap = 'gray')\n",
    "                \n",
    "                if self.validBead:\n",
    "                    area, circ = np.zeros(self.nz), np.zeros(self.nz)\n",
    "                    for i in range(self.nz):\n",
    "                        props = measure.regionprops_table(I_roughRoi_binary_fh[i], properties=('perimeter', 'area'))\n",
    "                        if not np.sum(I_roughRoi_binary_fh[i]) == 0 and props['perimeter'][0] != 0:\n",
    "                            area[i] = props['area'][0]\n",
    "                            circ[i] = (4 * np.pi * props['area']) / (props['perimeter'] * props['perimeter'])[0]       \n",
    "                    \n",
    "                    validSlice = np.array((area > 50) & (circ > 0.8))\n",
    "                    zFirst = np.argmax(validSlice)\n",
    "                    zLast = self.nz - np.argmax(validSlice[::-1])\n",
    "\n",
    "                    XYm = np.zeros((2, self.nz), dtype = int)\n",
    "                    cleanSize = int(round(1*self.D*self.scale))\n",
    "                    cleanSize += 1 + cleanSize%2\n",
    "                    \n",
    "                    I_cleanROI = np.zeros([self.nz, cleanSize, cleanSize])\n",
    "\n",
    "                    try:\n",
    "                        for i in range(zFirst, zLast):\n",
    "                            Ym, Xm = ndi.center_of_mass(I_roughRoi[i], labels=I_roughRoi_binary_fh[i], index=1)\n",
    "                            XYm[1, i], XYm[0, i] = Ym + y1_roughROI, Xm + x1_roughROI\n",
    "                            roughCenter = int((roughSize+1)//2)\n",
    "                            tform = transform.EuclideanTransform(rotation=0, \\\n",
    "                                                                 translation = (Xm-roughCenter, Ym-roughCenter))\n",
    "                            I_tmp = transform.warp(I_roughRoi[i], tform, order = 1, preserve_range = True)\n",
    "\n",
    "                            I_cleanROI[i] = np.copy(I_tmp[roughCenter-cleanSize//2:roughCenter+cleanSize//2+1,\\\n",
    "                                                          roughCenter-cleanSize//2:roughCenter+cleanSize//2+1])\n",
    "\n",
    "                        self.validSlice = validSlice\n",
    "                        self.zFirst = zFirst\n",
    "                        self.zLast = zLast\n",
    "                        self.validDepth = zLast-zFirst\n",
    "                        self.XYm = XYm\n",
    "                        self.I_cleanROI = I_cleanROI.astype(np.uint16)\n",
    "\n",
    "                        # VISUALISE\n",
    "                        if plot >= 2:\n",
    "    #                                 print('Zfirst = {:.0f} and Zlast = {:.0f}'.format(zFirst, zLast))\n",
    "                            i = z_max\n",
    "                            fig, ax = plt.subplots(1,4, figsize = (16,4))\n",
    "\n",
    "                            pStart, pStop = np.percentile(I[z_max], (1, 99))\n",
    "                            I_max_rescaled = exposure.rescale_intensity(I[z_max], in_range=(pStart, pStop))\n",
    "                            ax[0].imshow(I_max_rescaled, cmap = 'gray')\n",
    "                            ax[0].plot([x1_roughROI,x1_roughROI],[y1_roughROI,y2_roughROI], 'c--')\n",
    "                            ax[0].plot([x1_roughROI,x2_roughROI],[y2_roughROI,y2_roughROI], 'c--')\n",
    "                            ax[0].plot([x2_roughROI,x2_roughROI],[y1_roughROI,y2_roughROI], 'c--')\n",
    "                            ax[0].plot([x1_roughROI,x2_roughROI],[y1_roughROI,y1_roughROI], 'c--')\n",
    "\n",
    "                            ax[1].imshow(I_roughRoi[i], cmap = 'gray')\n",
    "                            mid = I_roughRoi[i].shape[0]//2\n",
    "                            ax[1].plot([0,2*mid],[mid, mid], 'r--', lw = 0.5)\n",
    "                            ax[1].plot([mid, mid],[0,2*mid], 'r--', lw = 0.5)\n",
    "                            I_max_binary = (I_roughRoi[i] > threshold)\n",
    "                            y, x = ndi.center_of_mass(I_roughRoi[i], labels=I_max_binary, index=1)\n",
    "                            ax[1].plot([x],[y], 'b+')\n",
    "\n",
    "                            ax[2].imshow(I_tmp, cmap = 'gray')\n",
    "                            mid = I_tmp.shape[0]//2\n",
    "                            ax[2].plot([0,2*mid],[mid, mid], 'r--', lw = 0.5)\n",
    "                            ax[2].plot([mid, mid],[0,2*mid], 'r--', lw = 0.5)\n",
    "                            I_tmp_binary = (I_tmp > threshold)\n",
    "                            y, x = ndi.center_of_mass(I_tmp, labels=I_tmp_binary, index=1)\n",
    "                            ax[2].plot([x],[y], 'b+')\n",
    "\n",
    "                            ax[3].imshow(I_cleanROI[i], cmap = 'gray')\n",
    "                            mid = I_cleanROI[i].shape[0]//2\n",
    "                            ax[3].plot([0,2*mid],[mid, mid], 'r--', lw = 0.5)\n",
    "                            ax[3].plot([mid, mid],[0,2*mid], 'r--', lw = 0.5)\n",
    "                            I_cleanRoi_binary = (I_cleanROI > threshold)\n",
    "                            y, x = ndi.center_of_mass(I_cleanROI[i], labels=I_cleanRoi_binary[i], index=1)\n",
    "                            ax[3].plot([x],[y], 'b+')\n",
    "\n",
    "                        \n",
    "                            \n",
    "#                             ax[3].hist(I_roughRoi[i].ravel(), bins=256, histtype='step', color='black')\n",
    "#                             ax[3].plot([0,65535], [peakThreshVal, peakThreshVal], 'r--', lw = 0.8, label = 'D = {:.1f}um'.format(self.D))\n",
    "#                             ax[3].legend()\n",
    "\n",
    "\n",
    "\n",
    "\n",
    "                    except:\n",
    "                        print('BUG ! for the bead in x0, y0 = {:.2f}, {:.2f}'.format(self.xm0, self.ym0))\n",
    "\n",
    "                     \n",
    "    def build_zProfiles(self, plot = 0):\n",
    "        side_ROI = self.I_cleanROI.shape[1]\n",
    "        mid_ROI = side_ROI//2\n",
    "        nbPixToAvg = 3 # Have to be an odd number\n",
    "        deptho_v = np.zeros([self.nz, side_ROI], dtype = np.float64)\n",
    "        deptho_h = np.zeros([self.nz, side_ROI], dtype = np.float64)\n",
    "        \n",
    "        for z in range(self.zFirst, self.zLast):\n",
    "            templine = side_ROI\n",
    "            deptho_v[z] = self.I_cleanROI[z,:,mid_ROI] * (1/nbPixToAvg)\n",
    "#             print(self.I_cleanROI[z,:,mid_ROI])\n",
    "#             print(1/nbPixToAvg)\n",
    "#             print(self.deptho_v[z])\n",
    "            deptho_h[z] = self.I_cleanROI[z,mid_ROI,:] * (1/nbPixToAvg)\n",
    "    \n",
    "            for i in range(1, 1 + nbPixToAvg//2):\n",
    "#                 print(self.I_cleanROI[z,:,mid_ROI - i] * (1/nbPixToAvg) )\n",
    "                deptho_v[z] += self.I_cleanROI[z,:,mid_ROI - i] * (1/nbPixToAvg) \n",
    "                deptho_v[z] += self.I_cleanROI[z,:,mid_ROI + i] * (1/nbPixToAvg)\n",
    "                \n",
    "                deptho_h[z] += self.I_cleanROI[z,mid_ROI - i,:] * (1/nbPixToAvg) \n",
    "                deptho_h[z] += self.I_cleanROI[z,mid_ROI + i,:] * (1/nbPixToAvg)\n",
    "          \n",
    "        deptho_v = deptho_v.astype(np.uint16)\n",
    "        deptho_h = deptho_h.astype(np.uint16)\n",
    "        \n",
    "        self.depthosDict['deptho_v'] = deptho_v\n",
    "        self.depthosDict['deptho_h'] = deptho_h\n",
    "        \n",
    "        \n",
    "        # 3D caracterisation\n",
    "        I_binary = np.zeros([self.I_cleanROI.shape[0], self.I_cleanROI.shape[1], self.I_cleanROI.shape[2]])\n",
    "        I_binary[self.zFirst:self.zLast] = (self.I_cleanROI[self.zFirst:self.zLast] > self.threshold)\n",
    "        Zm3D, Ym3D, Xm3D = ndi.center_of_mass(self.I_cleanROI, labels=I_binary, index=1)\n",
    "        self.ZfocusDict['Zm3D'] = Zm3D\n",
    "        \n",
    "        \n",
    "        # Raw profiles\n",
    "        \n",
    "        Z = np.array([z for z in range(self.I_cleanROI.shape[0])])\n",
    "        intensity_tot = np.array([np.sum(self.I_cleanROI[z][I_binary[z].astype(bool)])/(1+np.sum(I_binary[z])) for z in range(self.I_cleanROI.shape[0])]).astype(np.float64)\n",
    "        intensity_v = np.array([np.sum(deptho_v[z,:])/side_ROI for z in range(deptho_v.shape[0])]).astype(np.float64)\n",
    "        intensity_h = np.array([np.sum(deptho_h[z,:])/side_ROI for z in range(deptho_h.shape[0])]).astype(np.float64)\n",
    "        \n",
    "        Zm_v, Zm_h, Zm_tot = np.argmax(intensity_v), np.argmax(intensity_h), np.argmax(intensity_tot)\n",
    "        \n",
    "        self.profileDict['intensity_v'] = intensity_v\n",
    "        self.profileDict['intensity_h'] = intensity_h\n",
    "        self.profileDict['intensity_tot'] = intensity_tot\n",
    "        self.ZfocusDict['Zm_v'] = Zm_v\n",
    "        self.ZfocusDict['Zm_h'] = Zm_h\n",
    "        self.ZfocusDict['Zm_tot'] = Zm_tot\n",
    "        \n",
    "\n",
    "        # Smoothed profiles\n",
    "        \n",
    "        Z_hd = np.arange(0,self.I_cleanROI.shape[0],0.2)\n",
    "        intensity_v_hd = np.interp(Z_hd, Z, intensity_v)\n",
    "        intensity_h_hd = np.interp(Z_hd, Z, intensity_h)\n",
    "        intensity_tot_hd = np.interp(Z_hd, Z, intensity_tot)\n",
    "        intensity_v_smooth = savgol_filter(intensity_v_hd, 101, 7)\n",
    "        intensity_h_smooth = savgol_filter(intensity_h_hd, 101, 7)\n",
    "        intensity_tot_smooth = savgol_filter(intensity_tot_hd, 101, 7)\n",
    "        \n",
    "        Zm_v_hd, Zm_h_hd, Zm_tot_hd = Z_hd[np.argmax(intensity_v_smooth)], Z_hd[np.argmax(intensity_h_smooth)], Z_hd[np.argmax(intensity_tot_smooth)]\n",
    "        \n",
    "        self.profileDict['intensity_v_smooth'] = intensity_v_smooth \n",
    "        self.profileDict['intensity_h_smooth'] = intensity_h_smooth\n",
    "        self.profileDict['intensity_tot_smooth'] = intensity_tot_smooth\n",
    "        self.ZfocusDict['Zm_v_hd'] = Zm_v_hd \n",
    "        self.ZfocusDict['Zm_h_hd'] = Zm_h_hd\n",
    "        self.ZfocusDict['Zm_tot_hd'] = Zm_tot_hd\n",
    "        \n",
    "        # VISUALISE\n",
    "        if plot >= 2:\n",
    "#             fig, ax = plt.subplots(1,3, figsize = (12, 4))\n",
    "#             ax[0].plot(Z, intensity_v)\n",
    "#             ax[1].plot(Z, intensity_h)\n",
    "#             ax[2].plot(Z, (intensity_tot))\n",
    "#             ax[0].plot([Zm_v, Zm_v], [0, ax[0].get_ylim()[1]], 'r--', lw = 0.8, label = 'Zm_v = {:.2f}'.format(Zm_v))\n",
    "#             ax[1].plot([Zm_h, Zm_h], [0, ax[1].get_ylim()[1]], 'r--', lw = 0.8, label = 'Zm_h = {:.2f}'.format(Zm_h))\n",
    "#             ax[2].plot([Zm_tot, Zm_tot], [0, ax[2].get_ylim()[1]], 'r--', lw = 0.8, label = 'Zm_tot = {:.2f}'.format(Zm_tot))\n",
    "#             ax[0].legend(loc = 'lower right')\n",
    "#             ax[1].legend(loc = 'lower right')\n",
    "#             ax[2].legend(loc = 'lower right')\n",
    "\n",
    "            fig, ax = plt.subplots(1,3, figsize = (12, 4))\n",
    "            ax[0].plot(Z, intensity_v, 'b-')\n",
    "            ax[1].plot(Z, intensity_h, 'b-')\n",
    "            ax[2].plot(Z, (intensity_tot), 'b-')\n",
    "            ax[0].plot(Z_hd, intensity_v_smooth, 'k--')\n",
    "            ax[1].plot(Z_hd, intensity_h_smooth, 'k--')\n",
    "            ax[2].plot(Z_hd, intensity_tot_smooth, 'k--')\n",
    "            ax[0].plot([Zm_v_hd, Zm_v_hd], [0, ax[0].get_ylim()[1]], 'r--', lw = 0.8, label = 'Zm_v_hd = {:.2f}'.format(Zm_v_hd))\n",
    "            ax[1].plot([Zm_h_hd, Zm_h_hd], [0, ax[1].get_ylim()[1]], 'r--', lw = 0.8, label = 'Zm_h_hd = {:.2f}'.format(Zm_h_hd))\n",
    "            ax[2].plot([Zm_tot_hd, Zm_tot_hd], [0, ax[2].get_ylim()[1]], 'r--', lw = 0.8, label = 'Zm_tot_hd = {:.2f}'.format(Zm_tot_hd))\n",
    "            ax[0].legend(loc = 'lower right')\n",
    "            ax[1].legend(loc = 'lower right')\n",
    "            ax[2].legend(loc = 'lower right')\n",
    "\n",
    "            print('Zm_v = {:.2f}, Zm_h = {:.2f}, Zm_tot = {:.2f}'\\\n",
    "                  .format(Zm_v, Zm_h, Zm_tot))\n",
    "            print('Zm_v_hd = {:.2f}, Zm_h_hd = {:.2f}, Zm_tot_hd = {:.2f}'\\\n",
    "                  .format(Zm_v_hd, Zm_h_hd, Zm_tot_hd))\n",
    "            print('Xm3D = {:.2f}, Ym3D = {:.2f}, Zm3D = {:.2f}'\\\n",
    "                  .format(Xm3D, Ym3D, Zm3D))"
   ]
  },
  {
   "cell_type": "code",
   "execution_count": 6,
   "id": "48693179",
   "metadata": {
    "code_folding": [
     0
    ]
   },
   "outputs": [],
   "source": [
    "def fitPlanes(xyD, Z, Plot3D = False):\n",
    "        \n",
    "    def twoPlanesEqn(xyD, z0, Dz, a, b):\n",
    "        x, y, D = xyD[0], xyD[1], xyD[2]\n",
    "        z = z0 + (D == 4.5)*Dz + a*x + b*y\n",
    "        return(z)\n",
    "\n",
    "    init_z0, init_Dz = 125, 25\n",
    "    init_a, init_b = 0, 0\n",
    "    initialParameters = [init_z0, init_Dz, init_a, init_b]\n",
    "\n",
    "    lowerBounds = (0, 0, -0.15 , -0.15)\n",
    "    upperBounds = (200, 50, 0.15, 0.15) # 0,15 <= tan(0.2 rad) 10° ~ 0.17rad\n",
    "    parameterBounds = [lowerBounds, upperBounds]\n",
    "\n",
    "\n",
    "\n",
    "#         print(len(xyD))\n",
    "#         print(len(z))\n",
    "\n",
    "    params, covM = curve_fit(twoPlanesEqn, xyD.T, Z, initialParameters, bounds = parameterBounds)\n",
    "    fit_z0, fit_Dz, fit_a, fit_b = params[0], params[1], params[2], params[3]\n",
    "#         print('fit Ok !')\n",
    "#         print('fit_z0, fit_Dz, fit_a, fit_b')\n",
    "#         print(fit_z0, fit_Dz, fit_a, fit_b)\n",
    "\n",
    "\n",
    "    if Plot3D:\n",
    "        xyz_fit_small_L = []\n",
    "        xyz_fit_large_L = []\n",
    "\n",
    "        z_fit = []\n",
    "\n",
    "        for i in range(len(xyD)):\n",
    "            x, y, D = xyD[i,0], xyD[i,1], xyD[i,2]\n",
    "            xyD_i = [x, y, D]\n",
    "            z_i = twoPlanesEqn(xyD_i, fit_z0, fit_Dz, fit_a, fit_b)\n",
    "#                 print(z)\n",
    "            z_fit.append(z_i)\n",
    "#             print(z_fit)\n",
    "\n",
    "        x_verts = [0,max(xyD[:,0]),max(xyD[:,0]),0]\n",
    "        y_verts = [0,0,max(xyD[:,1]),max(xyD[:,1])]\n",
    "        z_vertsDown = []\n",
    "        z_vertsUp = []\n",
    "\n",
    "        for i in range(len(x_verts)):\n",
    "            xyD_i = [x_verts[i], y_verts[i], 2.7]\n",
    "            z = twoPlanesEqn(xyD_i, fit_z0, fit_Dz, fit_a, fit_b)\n",
    "            z_vertsDown.append(z)\n",
    "            xyD_i = [x_verts[i], y_verts[i], 4.5]\n",
    "            z_i = twoPlanesEqn(xyD_i, fit_z0, fit_Dz, fit_a, fit_b)\n",
    "            z_vertsUp.append(z_i)\n",
    "\n",
    "        verts_down = [list(zip(x_verts,y_verts,z_vertsDown))]\n",
    "        planeDown = Poly3DCollection(verts_down)\n",
    "        planeDown.set_alpha(0.5)\n",
    "        planeDown.set_facecolor('b')\n",
    "        verts_up = [list(zip(x_verts,y_verts,z_vertsUp))]\n",
    "        planeUp = Poly3DCollection(verts_up)\n",
    "        planeUp.set_alpha(0.5)\n",
    "        planeUp.set_facecolor('r')\n",
    "\n",
    "        fig = plt.figure()\n",
    "        ax = fig.add_subplot(projection='3d')\n",
    "        ax.plot(xyD[:,0], xyD[:,1], Z, 'ko')\n",
    "        ax.add_collection3d(planeDown)\n",
    "        ax.add_collection3d(planeUp)\n",
    "        fig.show()\n",
    "\n",
    "    return(fit_z0, fit_Dz, fit_a, fit_b)"
   ]
  },
  {
   "cell_type": "markdown",
   "id": "847f33f0",
   "metadata": {},
   "source": [
    "## Scripts"
   ]
  },
  {
   "cell_type": "markdown",
   "id": "c35a7c4f",
   "metadata": {},
   "source": [
    "### Chambre 2"
   ]
  },
  {
   "cell_type": "markdown",
   "id": "fa469dc5",
   "metadata": {},
   "source": [
    "#### Global"
   ]
  },
  {
   "cell_type": "code",
   "execution_count": 7,
   "id": "94d73ab6",
   "metadata": {},
   "outputs": [
    {
     "data": {
      "text/plain": [
       "['multiDeptho10.tif',\n",
       " 'multiDeptho2.tif',\n",
       " 'multiDeptho3.tif',\n",
       " 'multiDeptho4.tif',\n",
       " 'multiDeptho5.tif',\n",
       " 'multiDeptho6.tif',\n",
       " 'multiDeptho7.tif',\n",
       " 'multiDeptho8.tif',\n",
       " 'multiDeptho9.tif']"
      ]
     },
     "execution_count": 7,
     "metadata": {},
     "output_type": "execute_result"
    }
   ],
   "source": [
    "# testDataFolder = 'D://PMMH_ComputerData//Matlab Analysis//Data_Joseph//Raw//20.06.15_Deptho//depthoAnalysis_test'\n",
    "testDataFolder = 'C://Users//JosephVermeil//Desktop//test_AnalyseDepthos'\n",
    "listDepthos = [f for f in os.listdir(testDataFolder) if (os.path.isfile(os.path.join(testDataFolder, f)) and f.endswith(\".tif\"))]\n",
    "listDepthos"
   ]
  },
  {
   "cell_type": "code",
   "execution_count": 8,
   "id": "b4a53802",
   "metadata": {
    "code_folding": [],
    "scrolled": false
   },
   "outputs": [
    {
     "data": {
      "application/vnd.jupyter.widget-view+json": {
       "model_id": "93af5b5f3b3c490eb7ed9355059f0737",
       "version_major": 2,
       "version_minor": 0
      },
      "text/plain": [
       "Canvas(toolbar=Toolbar(toolitems=[('Home', 'Reset original view', 'home', 'home'), ('Back', 'Back to previous …"
      ]
     },
     "metadata": {},
     "output_type": "display_data"
    },
    {
     "name": "stdout",
     "output_type": "stream",
     "text": [
      "164 valid slices ; Zfirst = 116 and Zlast = 280\n"
     ]
    },
    {
     "data": {
      "application/vnd.jupyter.widget-view+json": {
       "model_id": "7e2d363e495445e0bf9b66e379fefd7a",
       "version_major": 2,
       "version_minor": 0
      },
      "text/plain": [
       "Canvas(toolbar=Toolbar(toolitems=[('Home', 'Reset original view', 'home', 'home'), ('Back', 'Back to previous …"
      ]
     },
     "metadata": {},
     "output_type": "display_data"
    },
    {
     "name": "stdout",
     "output_type": "stream",
     "text": [
      "115 valid slices ; Zfirst = 100 and Zlast = 215\n"
     ]
    },
    {
     "data": {
      "application/vnd.jupyter.widget-view+json": {
       "model_id": "a66e006b21b247df8d0dbc43e6154ebc",
       "version_major": 2,
       "version_minor": 0
      },
      "text/plain": [
       "Canvas(toolbar=Toolbar(toolitems=[('Home', 'Reset original view', 'home', 'home'), ('Back', 'Back to previous …"
      ]
     },
     "metadata": {},
     "output_type": "display_data"
    },
    {
     "name": "stdout",
     "output_type": "stream",
     "text": [
      "168 valid slices ; Zfirst = 112 and Zlast = 280\n"
     ]
    },
    {
     "data": {
      "application/vnd.jupyter.widget-view+json": {
       "model_id": "fa26fced26954112be5cd0e4a9f07b7d",
       "version_major": 2,
       "version_minor": 0
      },
      "text/plain": [
       "Canvas(toolbar=Toolbar(toolitems=[('Home', 'Reset original view', 'home', 'home'), ('Back', 'Back to previous …"
      ]
     },
     "metadata": {},
     "output_type": "display_data"
    },
    {
     "name": "stdout",
     "output_type": "stream",
     "text": [
      "161 valid slices ; Zfirst = 113 and Zlast = 274\n"
     ]
    },
    {
     "data": {
      "application/vnd.jupyter.widget-view+json": {
       "model_id": "56d9c7d94b8b444695abd6a0f683f297",
       "version_major": 2,
       "version_minor": 0
      },
      "text/plain": [
       "Canvas(toolbar=Toolbar(toolitems=[('Home', 'Reset original view', 'home', 'home'), ('Back', 'Back to previous …"
      ]
     },
     "metadata": {},
     "output_type": "display_data"
    },
    {
     "name": "stdout",
     "output_type": "stream",
     "text": [
      "115 valid slices ; Zfirst = 101 and Zlast = 216\n"
     ]
    },
    {
     "data": {
      "application/vnd.jupyter.widget-view+json": {
       "model_id": "6e33ccd969c949fcbfdb018ebf59a9f7",
       "version_major": 2,
       "version_minor": 0
      },
      "text/plain": [
       "Canvas(toolbar=Toolbar(toolitems=[('Home', 'Reset original view', 'home', 'home'), ('Back', 'Back to previous …"
      ]
     },
     "metadata": {},
     "output_type": "display_data"
    },
    {
     "name": "stdout",
     "output_type": "stream",
     "text": [
      "152 valid slices ; Zfirst = 116 and Zlast = 268\n"
     ]
    },
    {
     "data": {
      "application/vnd.jupyter.widget-view+json": {
       "model_id": "55e376506ba94d8596bb5ad91489f50c",
       "version_major": 2,
       "version_minor": 0
      },
      "text/plain": [
       "Canvas(toolbar=Toolbar(toolitems=[('Home', 'Reset original view', 'home', 'home'), ('Back', 'Back to previous …"
      ]
     },
     "metadata": {},
     "output_type": "display_data"
    },
    {
     "name": "stdout",
     "output_type": "stream",
     "text": [
      "113 valid slices ; Zfirst = 99 and Zlast = 212\n"
     ]
    },
    {
     "data": {
      "application/vnd.jupyter.widget-view+json": {
       "model_id": "b0a50007cbdc4585b73779bacf3c6180",
       "version_major": 2,
       "version_minor": 0
      },
      "text/plain": [
       "Canvas(toolbar=Toolbar(toolitems=[('Home', 'Reset original view', 'home', 'home'), ('Back', 'Back to previous …"
      ]
     },
     "metadata": {},
     "output_type": "display_data"
    },
    {
     "name": "stdout",
     "output_type": "stream",
     "text": [
      "112 valid slices ; Zfirst = 98 and Zlast = 210\n"
     ]
    },
    {
     "data": {
      "application/vnd.jupyter.widget-view+json": {
       "model_id": "f7806c7e49894b798a7d58fd72c96ae2",
       "version_major": 2,
       "version_minor": 0
      },
      "text/plain": [
       "Canvas(toolbar=Toolbar(toolitems=[('Home', 'Reset original view', 'home', 'home'), ('Back', 'Back to previous …"
      ]
     },
     "metadata": {},
     "output_type": "display_data"
    },
    {
     "name": "stdout",
     "output_type": "stream",
     "text": [
      "161 valid slices ; Zfirst = 112 and Zlast = 273\n"
     ]
    },
    {
     "data": {
      "application/vnd.jupyter.widget-view+json": {
       "model_id": "640db895ee454c16b6e6f010d3061844",
       "version_major": 2,
       "version_minor": 0
      },
      "text/plain": [
       "Canvas(toolbar=Toolbar(toolitems=[('Home', 'Reset original view', 'home', 'home'), ('Back', 'Back to previous …"
      ]
     },
     "metadata": {},
     "output_type": "display_data"
    }
   ],
   "source": [
    "f = listDepthos[0]\n",
    "filePath = os.path.join(testDataFolder, f)\n",
    "I = io.imread(filePath)\n",
    "mbd = MultiBeadsDeptho(I, SCALE_100X)\n",
    "mbd.build_beadList(plot = 1)\n",
    "listBeads = mbd.get_beadList()\n",
    "for bD in listBeads:\n",
    "    if bD.validBead:\n",
    "        print('{:.0f} valid slices ; Zfirst = {:.0f} and Zlast = {:.0f}'.format(bD.validDepth, bD.zFirst, bD.zLast))\n",
    "        fig, ax = plt.subplots(1,2, figsize = (8, 5))\n",
    "        \n",
    "        dV = bD.depthosDict['deptho_v']\n",
    "        pStart, pStop = np.percentile(dV, (1, 99))\n",
    "        dV_rescaled = exposure.rescale_intensity(dV, in_range=(pStart, pStop))\n",
    "        ax[0].imshow(dV_rescaled, cmap='gray')\n",
    "        ax[0].set_ylim([bD.zLast, bD.zFirst])\n",
    "        \n",
    "        dH = bD.depthosDict['deptho_h']\n",
    "        pStart, pStop = np.percentile(dH, (1, 99))\n",
    "        dH_rescaled = exposure.rescale_intensity(dH, in_range=(pStart, pStop))\n",
    "        ax[1].imshow(dH_rescaled, cmap='gray')\n",
    "        ax[1].set_ylim([bD.zLast, bD.zFirst])"
   ]
  },
  {
   "cell_type": "code",
   "execution_count": 9,
   "id": "0cbff3eb",
   "metadata": {
    "scrolled": true
   },
   "outputs": [
    {
     "data": {
      "text/html": [
       "<div>\n",
       "<style scoped>\n",
       "    .dataframe tbody tr th:only-of-type {\n",
       "        vertical-align: middle;\n",
       "    }\n",
       "\n",
       "    .dataframe tbody tr th {\n",
       "        vertical-align: top;\n",
       "    }\n",
       "\n",
       "    .dataframe thead tr th {\n",
       "        text-align: left;\n",
       "    }\n",
       "</style>\n",
       "<table border=\"1\" class=\"dataframe\">\n",
       "  <thead>\n",
       "    <tr>\n",
       "      <th></th>\n",
       "      <th>Zm3D</th>\n",
       "      <th>Zm_v</th>\n",
       "      <th>Zm_h</th>\n",
       "      <th>Zm_tot</th>\n",
       "      <th>Zm_v_hd</th>\n",
       "      <th>Zm_h_hd</th>\n",
       "      <th>Zm_tot_hd</th>\n",
       "    </tr>\n",
       "    <tr>\n",
       "      <th></th>\n",
       "      <th>mean</th>\n",
       "      <th>mean</th>\n",
       "      <th>mean</th>\n",
       "      <th>mean</th>\n",
       "      <th>mean</th>\n",
       "      <th>mean</th>\n",
       "      <th>mean</th>\n",
       "    </tr>\n",
       "  </thead>\n",
       "  <tbody>\n",
       "    <tr>\n",
       "      <th>multiDeptho10.tif</th>\n",
       "      <td>29.728987</td>\n",
       "      <td>17.600000</td>\n",
       "      <td>16.850000</td>\n",
       "      <td>19.400000</td>\n",
       "      <td>15.770000</td>\n",
       "      <td>17.500000</td>\n",
       "      <td>19.170000</td>\n",
       "    </tr>\n",
       "    <tr>\n",
       "      <th>multiDeptho2.tif</th>\n",
       "      <td>33.861948</td>\n",
       "      <td>24.833333</td>\n",
       "      <td>22.000000</td>\n",
       "      <td>24.583333</td>\n",
       "      <td>24.083333</td>\n",
       "      <td>20.183333</td>\n",
       "      <td>25.266667</td>\n",
       "    </tr>\n",
       "    <tr>\n",
       "      <th>multiDeptho3.tif</th>\n",
       "      <td>38.169017</td>\n",
       "      <td>29.250000</td>\n",
       "      <td>26.500000</td>\n",
       "      <td>27.000000</td>\n",
       "      <td>29.950000</td>\n",
       "      <td>25.200000</td>\n",
       "      <td>28.500000</td>\n",
       "    </tr>\n",
       "    <tr>\n",
       "      <th>multiDeptho4.tif</th>\n",
       "      <td>25.715431</td>\n",
       "      <td>16.500000</td>\n",
       "      <td>12.666667</td>\n",
       "      <td>15.500000</td>\n",
       "      <td>16.000000</td>\n",
       "      <td>13.933333</td>\n",
       "      <td>16.000000</td>\n",
       "    </tr>\n",
       "    <tr>\n",
       "      <th>multiDeptho5.tif</th>\n",
       "      <td>28.210863</td>\n",
       "      <td>15.000000</td>\n",
       "      <td>18.000000</td>\n",
       "      <td>15.600000</td>\n",
       "      <td>14.400000</td>\n",
       "      <td>16.840000</td>\n",
       "      <td>17.000000</td>\n",
       "    </tr>\n",
       "    <tr>\n",
       "      <th>multiDeptho7.tif</th>\n",
       "      <td>34.449122</td>\n",
       "      <td>24.766667</td>\n",
       "      <td>21.900000</td>\n",
       "      <td>23.566667</td>\n",
       "      <td>25.186667</td>\n",
       "      <td>21.726667</td>\n",
       "      <td>24.840000</td>\n",
       "    </tr>\n",
       "    <tr>\n",
       "      <th>multiDeptho8.tif</th>\n",
       "      <td>28.148603</td>\n",
       "      <td>18.550000</td>\n",
       "      <td>18.500000</td>\n",
       "      <td>19.850000</td>\n",
       "      <td>20.630000</td>\n",
       "      <td>18.340000</td>\n",
       "      <td>17.370000</td>\n",
       "    </tr>\n",
       "    <tr>\n",
       "      <th>multiDeptho9.tif</th>\n",
       "      <td>30.341959</td>\n",
       "      <td>15.500000</td>\n",
       "      <td>16.750000</td>\n",
       "      <td>16.500000</td>\n",
       "      <td>17.000000</td>\n",
       "      <td>18.100000</td>\n",
       "      <td>19.350000</td>\n",
       "    </tr>\n",
       "  </tbody>\n",
       "</table>\n",
       "</div>"
      ],
      "text/plain": [
       "                        Zm3D       Zm_v       Zm_h     Zm_tot    Zm_v_hd  \\\n",
       "                        mean       mean       mean       mean       mean   \n",
       "multiDeptho10.tif  29.728987  17.600000  16.850000  19.400000  15.770000   \n",
       "multiDeptho2.tif   33.861948  24.833333  22.000000  24.583333  24.083333   \n",
       "multiDeptho3.tif   38.169017  29.250000  26.500000  27.000000  29.950000   \n",
       "multiDeptho4.tif   25.715431  16.500000  12.666667  15.500000  16.000000   \n",
       "multiDeptho5.tif   28.210863  15.000000  18.000000  15.600000  14.400000   \n",
       "multiDeptho7.tif   34.449122  24.766667  21.900000  23.566667  25.186667   \n",
       "multiDeptho8.tif   28.148603  18.550000  18.500000  19.850000  20.630000   \n",
       "multiDeptho9.tif   30.341959  15.500000  16.750000  16.500000  17.000000   \n",
       "\n",
       "                     Zm_h_hd  Zm_tot_hd  \n",
       "                        mean       mean  \n",
       "multiDeptho10.tif  17.500000  19.170000  \n",
       "multiDeptho2.tif   20.183333  25.266667  \n",
       "multiDeptho3.tif   25.200000  28.500000  \n",
       "multiDeptho4.tif   13.933333  16.000000  \n",
       "multiDeptho5.tif   16.840000  17.000000  \n",
       "multiDeptho7.tif   21.726667  24.840000  \n",
       "multiDeptho8.tif   18.340000  17.370000  \n",
       "multiDeptho9.tif   18.100000  19.350000  "
      ]
     },
     "execution_count": 9,
     "metadata": {},
     "output_type": "execute_result"
    }
   ],
   "source": [
    "df = pd.DataFrame({})\n",
    "\n",
    "for f in listDepthos:\n",
    "    filePath = os.path.join(testDataFolder, f)\n",
    "    I = io.imread(filePath)\n",
    "    mbd = MultiBeadsDeptho(I, SCALE_100X)\n",
    "    mbd.build_beadList(plot = 0)\n",
    "    df_stats = mbd.get_summaryStats()\n",
    "#     print(df_stats)\n",
    "    if df_stats['count'].values[0] >= 2 and df_stats['count'].values[1] >= 2:\n",
    "        S = df_stats.loc[df_stats.index == 2.7,(slice(None), ['mean'])]\n",
    "        L = df_stats.loc[df_stats.index == 4.5,(slice(None), ['mean'])]\n",
    "        new_row = L.sub(S.values, axis='rows')\n",
    "        new_row.index = [f]\n",
    "        if df.shape == (0, 0):\n",
    "            df = new_row\n",
    "        else:\n",
    "            df = pd.concat([df, new_row], axis = 0)\n",
    "\n",
    "df"
   ]
  },
  {
   "cell_type": "markdown",
   "id": "e8e822a3",
   "metadata": {},
   "source": [
    "#### multiDeptho2"
   ]
  },
  {
   "cell_type": "code",
   "execution_count": null,
   "id": "2b795ec9",
   "metadata": {
    "scrolled": true
   },
   "outputs": [],
   "source": [
    "f = listDepthos[1]\n",
    "print(f)\n",
    "filePath = os.path.join(testDataFolder, f)\n",
    "I = io.imread(filePath)\n",
    "mbd = MultiBeadsDeptho(I, SCALE_100X)\n",
    "mbd.build_beadList(plot = 2)\n",
    "mbd.get_summaryStats()"
   ]
  },
  {
   "cell_type": "code",
   "execution_count": null,
   "id": "a8f64ef5",
   "metadata": {
    "code_folding": [
     0
    ]
   },
   "outputs": [],
   "source": [
    "# xyD_L = []\n",
    "# Z_L = []\n",
    "# for b in mbd.get_beadList():\n",
    "#     z_max = b.z_max\n",
    "#     x, y, D = b.XYm[0,z_max], b.XYm[1,z_max], b.D\n",
    "#     xyD_L.append([x, y, D]) \n",
    "#     z = b.ZfocusDict['Zm_tot_hd']\n",
    "#     Z_L.append(z)\n",
    "# xyD = np.array(xyD_L)\n",
    "# Z = np.array(Z_L)\n",
    "\n",
    "\n",
    "# fitPlanes(xyD, Z, Plot3D = True)"
   ]
  },
  {
   "cell_type": "code",
   "execution_count": null,
   "id": "beece035",
   "metadata": {},
   "outputs": [],
   "source": [
    "mbd.fitPlanes(Plot3D = True)"
   ]
  },
  {
   "cell_type": "markdown",
   "id": "2377d526",
   "metadata": {},
   "source": [
    "#### multiDeptho3"
   ]
  },
  {
   "cell_type": "code",
   "execution_count": null,
   "id": "eb91dff3",
   "metadata": {
    "scrolled": true
   },
   "outputs": [],
   "source": [
    "f = listDepthos[2]\n",
    "print(f)\n",
    "filePath = os.path.join(testDataFolder, f)\n",
    "I = io.imread(filePath)\n",
    "mbd = MultiBeadsDeptho(I, SCALE_100X)\n",
    "mbd.build_beadList(plot = 2)\n",
    "mbd.get_summaryStats()"
   ]
  },
  {
   "cell_type": "code",
   "execution_count": null,
   "id": "7d0024fb",
   "metadata": {
    "code_folding": [
     0
    ]
   },
   "outputs": [],
   "source": [
    "# xyD_L = []\n",
    "# Z_L = []\n",
    "# for b in mbd.get_beadList():\n",
    "#     z_max = b.z_max\n",
    "#     x, y, D = b.XYm[0,z_max], b.XYm[1,z_max], b.D\n",
    "#     xyD_L.append([x, y, D])\n",
    "#     z = b.ZfocusDict['Zm_tot_hd']\n",
    "#     Z_L.append(z)\n",
    "# xyD = np.array(xyD_L)\n",
    "# Z = np.array(Z_L)\n",
    "# fitPlanes(xyD, Z, Plot3D = True)"
   ]
  },
  {
   "cell_type": "code",
   "execution_count": null,
   "id": "8082c081",
   "metadata": {},
   "outputs": [],
   "source": [
    "mbd.fitPlanes(Plot3D = True)"
   ]
  },
  {
   "cell_type": "markdown",
   "id": "2097633d",
   "metadata": {},
   "source": [
    "#### multiDeptho4"
   ]
  },
  {
   "cell_type": "code",
   "execution_count": null,
   "id": "70fb5c82",
   "metadata": {},
   "outputs": [],
   "source": [
    "f = listDepthos[3]\n",
    "print(f)\n",
    "filePath = os.path.join(testDataFolder, f)\n",
    "I = io.imread(filePath)\n",
    "mbd = MultiBeadsDeptho(I, SCALE_100X)\n",
    "mbd.build_beadList(plot = 2)\n",
    "mbd.get_summaryStats()"
   ]
  },
  {
   "cell_type": "code",
   "execution_count": null,
   "id": "5eda0682",
   "metadata": {},
   "outputs": [],
   "source": [
    "mbd.fitPlanes(Plot3D = True)"
   ]
  },
  {
   "cell_type": "markdown",
   "id": "bd5e8518",
   "metadata": {},
   "source": [
    "#### multiDeptho5"
   ]
  },
  {
   "cell_type": "code",
   "execution_count": null,
   "id": "b2edb0f6",
   "metadata": {},
   "outputs": [],
   "source": [
    "f = listDepthos[4]\n",
    "print(f)\n",
    "filePath = os.path.join(testDataFolder, f)\n",
    "I = io.imread(filePath)\n",
    "mbd = MultiBeadsDeptho(I, SCALE_100X)\n",
    "mbd.build_beadList(plot = 2)\n",
    "mbd.get_summaryStats()"
   ]
  },
  {
   "cell_type": "code",
   "execution_count": null,
   "id": "2f3d799f",
   "metadata": {},
   "outputs": [],
   "source": [
    "mbd.fitPlanes(Plot3D = True)"
   ]
  },
  {
   "cell_type": "markdown",
   "id": "d0de5f64",
   "metadata": {},
   "source": [
    "#### multiDeptho6"
   ]
  },
  {
   "cell_type": "code",
   "execution_count": null,
   "id": "fd1029ad",
   "metadata": {},
   "outputs": [],
   "source": [
    "f = listDepthos[5]\n",
    "print(f)\n",
    "filePath = os.path.join(testDataFolder, f)\n",
    "I = io.imread(filePath)\n",
    "mbd = MultiBeadsDeptho(I, SCALE_100X)\n",
    "mbd.build_beadList(plot = 2)\n",
    "mbd.get_summaryStats()"
   ]
  },
  {
   "cell_type": "code",
   "execution_count": null,
   "id": "d4c9d0d7",
   "metadata": {},
   "outputs": [],
   "source": [
    "mbd.fitPlanes(Plot3D = True)"
   ]
  },
  {
   "cell_type": "markdown",
   "id": "1a0d4c62",
   "metadata": {},
   "source": [
    "#### multiDeptho7"
   ]
  },
  {
   "cell_type": "code",
   "execution_count": null,
   "id": "ae838cc0",
   "metadata": {},
   "outputs": [],
   "source": [
    "f = listDepthos[6]\n",
    "print(f)\n",
    "filePath = os.path.join(testDataFolder, f)\n",
    "I = io.imread(filePath)\n",
    "mbd = MultiBeadsDeptho(I, SCALE_100X)\n",
    "mbd.build_beadList(plot = 2)\n",
    "mbd.get_summaryStats()"
   ]
  },
  {
   "cell_type": "code",
   "execution_count": null,
   "id": "267fccb9",
   "metadata": {},
   "outputs": [],
   "source": [
    "mbd.fitPlanes(Plot3D = True)"
   ]
  },
  {
   "cell_type": "markdown",
   "id": "1d43c560",
   "metadata": {},
   "source": [
    "#### multiDeptho8"
   ]
  },
  {
   "cell_type": "code",
   "execution_count": null,
   "id": "095689b9",
   "metadata": {},
   "outputs": [],
   "source": [
    "f = listDepthos[7]\n",
    "print(f)\n",
    "filePath = os.path.join(testDataFolder, f)\n",
    "I = io.imread(filePath)\n",
    "mbd = MultiBeadsDeptho(I, SCALE_100X)\n",
    "mbd.build_beadList(plot = 2)\n",
    "mbd.get_summaryStats()"
   ]
  },
  {
   "cell_type": "code",
   "execution_count": null,
   "id": "77538ed9",
   "metadata": {},
   "outputs": [],
   "source": [
    "mbd.fitPlanes(Plot3D = True)"
   ]
  },
  {
   "cell_type": "markdown",
   "id": "8b87cef2",
   "metadata": {},
   "source": [
    "#### multiDeptho9"
   ]
  },
  {
   "cell_type": "code",
   "execution_count": null,
   "id": "7401d947",
   "metadata": {
    "scrolled": true
   },
   "outputs": [],
   "source": [
    "f = listDepthos[8]\n",
    "print(f)\n",
    "filePath = os.path.join(testDataFolder, f)\n",
    "I = io.imread(filePath)\n",
    "mbd = MultiBeadsDeptho(I, SCALE_100X)\n",
    "mbd.build_beadList(plot = 2)\n",
    "mbd.get_summaryStats()"
   ]
  },
  {
   "cell_type": "code",
   "execution_count": null,
   "id": "168556e9",
   "metadata": {},
   "outputs": [],
   "source": [
    "mbd.fitPlanes(Plot3D = True)"
   ]
  },
  {
   "cell_type": "markdown",
   "id": "27e2dc45",
   "metadata": {},
   "source": [
    "#### multiDeptho10"
   ]
  },
  {
   "cell_type": "code",
   "execution_count": null,
   "id": "52edba54",
   "metadata": {
    "scrolled": true
   },
   "outputs": [],
   "source": [
    "f = listDepthos[0]\n",
    "print(f)\n",
    "filePath = os.path.join(testDataFolder, f)\n",
    "I = io.imread(filePath)\n",
    "mbd = MultiBeadsDeptho(I, SCALE_100X)\n",
    "mbd.build_beadList(plot = 2)\n",
    "mbd.get_summaryStats()"
   ]
  },
  {
   "cell_type": "code",
   "execution_count": null,
   "id": "f181b69d",
   "metadata": {},
   "outputs": [],
   "source": [
    "mbd.fitPlanes(Plot3D = True)"
   ]
  },
  {
   "cell_type": "markdown",
   "id": "28085555",
   "metadata": {},
   "source": [
    "### Autres"
   ]
  },
  {
   "cell_type": "code",
   "execution_count": null,
   "id": "65475086",
   "metadata": {},
   "outputs": [],
   "source": [
    "plt.close('all')"
   ]
  },
  {
   "cell_type": "markdown",
   "id": "755de803",
   "metadata": {},
   "source": [
    "## Old code & tests"
   ]
  },
  {
   "cell_type": "code",
   "execution_count": null,
   "id": "04001577",
   "metadata": {
    "scrolled": true
   },
   "outputs": [],
   "source": [
    "testDataFolder = 'C://Users//JosephVermeil//Desktop//test_AnalyseDepthos'\n",
    "listDepthos = [f for f in os.listdir(testDataFolder) if (os.path.isfile(os.path.join(testDataFolder, f)) and f.endswith(\".tif\"))]\n",
    "\n",
    "fileName = listDepthos[2]\n",
    "filePath = os.path.join(testDataFolder,fileName)\n",
    "I = io.imread(filePath)\n",
    "\n",
    "nz, ny, nx = I.shape[0], I.shape[1], I.shape[2]\n",
    "maxVal = np.zeros(nz)\n",
    "for z in range(nz):\n",
    "    maxVal[z] = np.max(I[z])\n",
    "\n",
    "    \n",
    "#\n",
    "Z = np.array([i for i in range(nz)])\n",
    "fig, ax = plt.subplots(1,1, figsize = (8,4))\n",
    "ax.plot(Z, maxVal)\n",
    "fig.show()\n",
    "#\n",
    "\n",
    "\n",
    "zMax = np.argmax(maxVal)\n",
    "IMax = I[zMax]\n",
    "#\n",
    "fig, ax = plt.subplots(3,1, figsize = (9,9))\n",
    "ax[0].imshow(IMax, cmap = 'gray')\n",
    "ax[0].set_title('Raw')\n",
    "#\n",
    "#\n",
    "threshold = filters.threshold_li(IMax)\n",
    "binIMax = IMax > threshold\n",
    "ax[1].imshow(binIMax, cmap = 'gray')\n",
    "ax[1].set_title('Filter: Li')\n",
    "#\n",
    "#\n",
    "threshold = filters.threshold_otsu(IMax)\n",
    "binIMax = IMax > threshold\n",
    "ax[2].imshow(binIMax, cmap = 'gray')\n",
    "ax[2].set_title('Filter: Otsu')\n",
    "#\n",
    "fig.show()"
   ]
  },
  {
   "cell_type": "code",
   "execution_count": null,
   "id": "639c9fc6",
   "metadata": {
    "code_folding": [
     0
    ]
   },
   "outputs": [],
   "source": [
    "# df1 = pd.DataFrame({})\n",
    "\n",
    "# f = listDepthos[0]\n",
    "# filePath = os.path.join(testDataFolder, f)\n",
    "# I = io.imread(filePath)\n",
    "# mbd = MultiBeadsDeptho(I, SCALE_100X)\n",
    "# mbd.build_beadList(plot = 1)\n",
    "# listBeads = mbd.get_beadList()\n",
    "# if df1.shape == (0, 0):\n",
    "#     df1 = mbd.get_summaryStats()\n",
    "# else:\n",
    "#     df1 = pd.concat([df1, mbd.get_summaryTable()], axis = 0).reset_index()\n",
    "\n",
    "# df1"
   ]
  },
  {
   "cell_type": "code",
   "execution_count": null,
   "id": "f78cf201",
   "metadata": {
    "code_folding": [
     0
    ]
   },
   "outputs": [],
   "source": [
    "# if not I.ndim == 3:\n",
    "#     print('Unexpected image format !')\n",
    "# else:\n",
    "#     I0 = I[0]\n",
    "\n",
    "# fig, ax = plt.subplots(1,1)\n",
    "# ax.imshow(I[2], cmap = 'gray')\n",
    "# fig.tight_layout()\n",
    "# fig.show()\n",
    "\n",
    "# I.shape\n",
    "# smallI = I[198:203]\n",
    "# smallROI = I[:,100:400,100:500]\n",
    "# # plt.imshow(smallROI, cmap = 'gray')\n",
    "# threshold = skimage.filters.threshold_otsu(smallROI)\n",
    "# threshold\n",
    "\n",
    "# fig, ax = plt.subplots(1,1)\n",
    "# ax.hist(smallROI.ravel(), bins=256, histtype='step', color='black')\n",
    "# fig.show()\n",
    "\n",
    "# np.zeros([nz, ny, nx])"
   ]
  },
  {
   "cell_type": "code",
   "execution_count": null,
   "id": "1f14b804",
   "metadata": {
    "code_folding": [
     0
    ]
   },
   "outputs": [],
   "source": [
    "# Tests with numpy arrays\n",
    "\n",
    "# A = np.array([[1, 2, 3],[4, 5, 6],[7, 8, 9]])\n",
    "# np.sum(A[0])\n",
    "# O = np.zeros([3, 2, 2])\n",
    "# O[1,:,:] = A[:2,:2]\n",
    "# O[2,:,:] = A[1:,1:]\n",
    "# b = np.array([1, 0], dtype = bool)\n",
    "# O[0][b]"
   ]
  },
  {
   "cell_type": "code",
   "execution_count": null,
   "id": "cf38c25b",
   "metadata": {
    "code_folding": [
     0
    ]
   },
   "outputs": [],
   "source": [
    "# Test FitPlane fctn\n",
    "\n",
    "# def twoPlanesEqn(xyD, z0, Dz, a, b):\n",
    "#     x, y, D = xyD[0], xyD[1], xyD[2]\n",
    "#     z = z0 + (D == 4.5)*Dz + a*x + b*y\n",
    "#     return(z)\n",
    "\n",
    "# X0 = np.arange(5)\n",
    "# Y0 = np.arange(5)\n",
    "# xyD_test = np.zeros((len(X0)*len(Y0), 3))\n",
    "# z_test = np.zeros(len(X0)*len(Y0))\n",
    "# true_z0 = 130\n",
    "# true_Dz = 20\n",
    "# true_a = 0.05\n",
    "# true_b = 0.05\n",
    "# count = 0\n",
    "# for x in X0:\n",
    "#     for y in Y0:\n",
    "#         noise = 0.5-np.random.rand()\n",
    "#         coin = (np.random.rand() > 0.5)\n",
    "#         xyD_test[count,:] = np.array([x, y, 2.7*(coin==0) + 4.5*(coin==1)])\n",
    "#         z_test[count] = 5*noise + twoPlanesEqn(xyD_test[count,:], true_z0, true_Dz, true_a, true_b)\n",
    "#         count += 1\n",
    "# # print(xyD_test)\n",
    "# # print(z_test)\n",
    "\n",
    "# fitPlanes(xyD_test, z_test, Plot3D = True)"
   ]
  },
  {
   "cell_type": "code",
   "execution_count": null,
   "id": "5c623735",
   "metadata": {
    "code_folding": []
   },
   "outputs": [],
   "source": [
    "# Test plot 3D\n",
    "\n",
    "# import matplotlib.pyplot as plt\n",
    "# fig = plt.figure()\n",
    "# # ax = Axes3D(fig)\n",
    "# ax = fig.add_subplot(projection='3d')\n",
    "# x = [0,1,1,0]\n",
    "# y = [0,0,1,1]\n",
    "# z = [0,1,0,1]\n",
    "# verts = [list(zip(x,y,z))]\n",
    "# shape = Poly3DCollection(verts)\n",
    "# shape.set_alpha(0.5)\n",
    "# ax.add_collection3d(shape)\n",
    "# plt.show()"
   ]
  },
  {
   "cell_type": "code",
   "execution_count": null,
   "id": "148fc04b",
   "metadata": {},
   "outputs": [],
   "source": []
  }
 ],
 "metadata": {
  "kernelspec": {
   "display_name": "Python 3",
   "language": "python",
   "name": "python3"
  },
  "language_info": {
   "codemirror_mode": {
    "name": "ipython",
    "version": 3
   },
   "file_extension": ".py",
   "mimetype": "text/x-python",
   "name": "python",
   "nbconvert_exporter": "python",
   "pygments_lexer": "ipython3",
   "version": "3.7.9"
  },
  "toc": {
   "base_numbering": 1,
   "nav_menu": {},
   "number_sections": true,
   "sideBar": true,
   "skip_h1_title": false,
   "title_cell": "Table of Contents",
   "title_sidebar": "Contents",
   "toc_cell": false,
   "toc_position": {
    "height": "calc(100% - 180px)",
    "left": "10px",
    "top": "150px",
    "width": "259px"
   },
   "toc_section_display": true,
   "toc_window_display": true
  },
  "varInspector": {
   "cols": {
    "lenName": 16,
    "lenType": 16,
    "lenVar": 40
   },
   "kernels_config": {
    "python": {
     "delete_cmd_postfix": "",
     "delete_cmd_prefix": "del ",
     "library": "var_list.py",
     "varRefreshCmd": "print(var_dic_list())"
    },
    "r": {
     "delete_cmd_postfix": ") ",
     "delete_cmd_prefix": "rm(",
     "library": "var_list.r",
     "varRefreshCmd": "cat(var_dic_list()) "
    }
   },
   "types_to_exclude": [
    "module",
    "function",
    "builtin_function_or_method",
    "instance",
    "_Feature"
   ],
   "window_display": false
  }
 },
 "nbformat": 4,
 "nbformat_minor": 5
}
