{
 "cells": [
  {
   "cell_type": "code",
   "execution_count": null,
   "metadata": {},
   "outputs": [],
   "source": [
    "import numpy as np\n",
    "import matplotlib.pyplot as plt\n",
    "import os\n",
    "from scipy.signal import savgol_filter"
   ]
  },
  {
   "cell_type": "code",
   "execution_count": null,
   "metadata": {
    "scrolled": false
   },
   "outputs": [],
   "source": [
    "dirPath = \"C://Users//JosephVermeil//Desktop//ActinCortexAnalysis//DataAnalysis//\"\n",
    "SubfilesPath = dirPath + \"FluoQuantificationSubfiles//\"\n",
    "allFileNames = [f for f in os.listdir(SubfilesPath) if (os.path.isfile(os.path.join(SubfilesPath, f)) and f.endswith(\".txt\"))]\n",
    "allCellsId = []\n",
    "dataDict = {}\n",
    "firstTry = True\n",
    "\n",
    "for s in allFileNames:\n",
    "    splitName = s.split('_')\n",
    "    cellId = '' + splitName[0] + '_' + splitName[1] + '_' + splitName[2] + '_' + splitName[3]\n",
    "    if cellId not in allCellsId:\n",
    "        allCellsId.append(cellId)\n",
    "        dataDict[cellId] = {}\n",
    "        expType = ''\n",
    "        for i in range(4, len(splitName)-2):\n",
    "            expType += (splitName[i] + '_')\n",
    "        expType = expType[:-1]\n",
    "        dataDict[cellId]['expType'] = expType\n",
    "        dataDict[cellId]['lineCount'] = 1\n",
    "    else:\n",
    "        dataDict[cellId]['lineCount'] += 1\n",
    "\n",
    "        \n",
    "cellCount = len(allCellsId)\n",
    "nColsPlot = 3\n",
    "nRowsPlot = (cellCount-1)//nColsPlot + 1\n",
    "fig, ax = plt.subplots(nRowsPlot, nColsPlot, figsize = (20, 5*nRowsPlot))\n",
    "plotCount = 0\n",
    "\n",
    "\n",
    "for cellId in dataDict.keys():\n",
    "    plotCount += 1\n",
    "    filePathRoot = cellId + '_' + dataDict[cellId]['expType']\n",
    "    nLine = dataDict[cellId]['lineCount']\n",
    "    for iLine in range(1, nLine+1):\n",
    "        currentFilePath = SubfilesPath + (filePathRoot + '_Line_' + str(iLine) + '.txt')\n",
    "        currentFile = open(currentFilePath, 'r')\n",
    "        lines = currentFile.readlines()\n",
    "        N = len(lines) - 1;\n",
    "        M = len(lines[0][:-2].split('\\t')) - 1\n",
    "        if not 'sliceCount' in dataDict[cellId].keys():\n",
    "            dataDict[cellId]['sliceCount'] = M\n",
    "        if not 'peakAmplitudeMatrix' in dataDict[cellId].keys():\n",
    "            dataDict[cellId]['filteredMaxMatrix'] = np.zeros((nLine, M))\n",
    "            dataDict[cellId]['filteredMaxPositionMatrix'] = np.zeros((nLine, M))\n",
    "            dataDict[cellId]['backgroundIntensityMatrix'] = np.zeros((nLine, M))\n",
    "            dataDict[cellId]['peakAmplitudeMatrix'] = np.zeros((nLine, M))\n",
    "        currentLineLMatrixKey = ('lineMatrix' + str(iLine))\n",
    "        dataDict[cellId][currentLineLMatrixKey] = np.zeros((N,M))\n",
    "        for k in range(1, len(lines)):\n",
    "            line = lines[k]\n",
    "            splitLine = line[:-2].split('\\t')\n",
    "            floatLine = [float(x) for x in splitLine[1:]]\n",
    "            dataDict[cellId][currentLineLMatrixKey][k-1,:] = np.array(floatLine)\n",
    "        for j in range(M):\n",
    "            profile = np.transpose(dataDict[cellId][currentLineLMatrixKey][:,j])\n",
    "            filteredProfile = savgol_filter(profile, 11, 3)\n",
    "            # Plot\n",
    "            if nRowsPlot == 1:\n",
    "                ax[(plotCount-1)%nColsPlot].plot(np.array([i for i in range(1,len(profile)+1)]), filteredProfile)\n",
    "                ax[(plotCount-1)%nColsPlot].set_title(cellId)\n",
    "            else:\n",
    "                ax[(plotCount-1)//nColsPlot, (plotCount-1)%nColsPlot].plot(np.array([i for i in range(1,len(profile)+1)]), filteredProfile)\n",
    "                ax[(plotCount-1)//nColsPlot, (plotCount-1)%nColsPlot].set_title(cellId)\n",
    "            filteredMax, filteredMaxIndex = np.max(filteredProfile[10:-10]), np.argmax(filteredProfile[10:-10]) + 10\n",
    "            dataDict[cellId]['filteredMaxMatrix'][iLine-1, j] = filteredMax\n",
    "            dataDict[cellId]['filteredMaxPositionMatrix'][iLine-1, j] = filteredMaxIndex\n",
    "            measureWindow = 20 # pixels\n",
    "            fromInToOut = (np.mean(filteredProfile[:measureWindow]) > np.mean(filteredProfile[-measureWindow:]))\n",
    "            backgroundIntensity = 0\n",
    "            if fromInToOut:\n",
    "                backgroundIntensity = np.mean(filteredProfile[-measureWindow:])\n",
    "            else:\n",
    "                backgroundIntensity = np.mean(filteredProfile[:measureWindow])\n",
    "            dataDict[cellId]['backgroundIntensityMatrix'][iLine-1, j] = backgroundIntensity\n",
    "            dataDict[cellId]['peakAmplitudeMatrix'][iLine-1, j] = filteredMax - backgroundIntensity\n",
    "        currentFile.close()\n",
    "    \n",
    "    dataDict[cellId]['medianPeakAmplitude'] = np.median(dataDict[cellId]['peakAmplitudeMatrix']) \n",
    "    dataDict[cellId]['meanPeakAmplitude'] = np.mean(dataDict[cellId]['peakAmplitudeMatrix'])"
   ]
  },
  {
   "cell_type": "code",
   "execution_count": null,
   "metadata": {},
   "outputs": [],
   "source": [
    "shortDataDict = {}\n",
    "for cellId in dataDict.keys():\n",
    "    shortDataDict[cellId] = dataDict[cellId]['meanPeakAmplitude']\n",
    "    \n",
    "shortDataDict"
   ]
  },
  {
   "cell_type": "code",
   "execution_count": null,
   "metadata": {},
   "outputs": [],
   "source": [
    "saveFileName = 'FluoQuantification.csv'\n",
    "saveFilePath = dirPath + saveFileName\n",
    "saveFile = open(saveFilePath, 'w')\n",
    "saveFile.write('cellID;meanFluoPeakAmplitude\\n')\n",
    "for cellId in shortDataDict.keys():\n",
    "    saveFile.write(cellId + ';' + str(shortDataDict[cellId]) + '\\n')\n",
    "saveFile.close()\n",
    "    "
   ]
  }
 ],
 "metadata": {
  "kernelspec": {
   "display_name": "Python 3",
   "language": "python",
   "name": "python3"
  },
  "language_info": {
   "codemirror_mode": {
    "name": "ipython",
    "version": 3
   },
   "file_extension": ".py",
   "mimetype": "text/x-python",
   "name": "python",
   "nbconvert_exporter": "python",
   "pygments_lexer": "ipython3",
   "version": "3.7.9"
  }
 },
 "nbformat": 4,
 "nbformat_minor": 4
}
