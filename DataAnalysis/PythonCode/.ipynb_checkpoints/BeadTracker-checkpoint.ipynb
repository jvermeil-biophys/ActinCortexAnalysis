{
 "cells": [
  {
   "cell_type": "code",
   "execution_count": 2,
   "id": "3d456fb9",
   "metadata": {},
   "outputs": [],
   "source": [
    "import numpy as np\n",
    "import pandas as pd\n",
    "import scipy.ndimage as ndi\n",
    "import matplotlib.pyplot as plt\n",
    "\n",
    "import os\n",
    "import time\n",
    "import matplotlib\n",
    "\n",
    "# import skimage\n",
    "from skimage import io, filters, exposure, measure, transform\n",
    "from scipy.signal import find_peaks, savgol_filter\n",
    "\n",
    "pd.set_option('mode.chained_assignment',None)\n",
    "\n",
    "%matplotlib widget \n",
    "# %matplotlib inline\n",
    "matplotlib.rcParams.update({'figure.autolayout': True})\n",
    "\n",
    "SMALLER_SIZE = 8\n",
    "SMALL_SIZE = 12\n",
    "MEDIUM_SIZE = 16\n",
    "BIGGER_SIZE = 20\n",
    "\n",
    "plt.rc('font', size=SMALL_SIZE)          # controls default text sizes\n",
    "plt.rc('axes', titlesize=MEDIUM_SIZE)     # fontsize of the axes title\n",
    "plt.rc('axes', labelsize=MEDIUM_SIZE)    # fontsize of the x and y labels\n",
    "plt.rc('xtick', labelsize=SMALL_SIZE)    # fontsize of the tick labels\n",
    "plt.rc('ytick', labelsize=SMALL_SIZE)    # fontsize of the tick labels\n",
    "plt.rc('legend', fontsize=SMALLER_SIZE)    # legend fontsize\n",
    "plt.rc('figure', titlesize=BIGGER_SIZE)  # fontsize of the figure title"
   ]
  },
  {
   "cell_type": "code",
   "execution_count": 3,
   "id": "23bd7611",
   "metadata": {},
   "outputs": [],
   "source": [
    "SCALE_100X = 15.8 # pix/µm "
   ]
  },
  {
   "cell_type": "markdown",
   "id": "97c9ebd2",
   "metadata": {},
   "source": [
    "## Class & functions"
   ]
  },
  {
   "cell_type": "code",
   "execution_count": 7,
   "id": "a406a8ca",
   "metadata": {},
   "outputs": [],
   "source": [
    "class PincherTimeLapse:\n",
    "    \n",
    "    def __init__(self, I, NB = 2):\n",
    "        nS, ny, nx = I.shape[0], I.shape[1], I.shape[2]\n",
    "        self.I = I\n",
    "        self.threshold = 0\n",
    "        self.NB = NB\n",
    "        self.nx = nx\n",
    "        self.ny = ny\n",
    "        self.nS = nS\n",
    "        self.listFrames = []\n",
    "        self.listTrajectories = []\n",
    "        self.dictUI = {}\n",
    "        \n",
    "    def computeThreshold(self, method = 'otsu'):\n",
    "        # TBC\n",
    "        th = 0\n",
    "        self.threshold = th\n",
    "        \n",
    "    def detectBeads(self):\n",
    "        # TBC\n",
    "        return(0)\n",
    "        \n",
    "    def buildTrajectories(self):\n",
    "        # TBC\n",
    "        return(0)\n",
    "        \n",
    "class Frame:\n",
    "    \n",
    "    def __init__(self, F, iS, NB, threshold):\n",
    "        ny, nx = F.shape[0], F.shape[1]\n",
    "        self.F = F\n",
    "        self.threshold = threshold\n",
    "        self.NB = NB\n",
    "        self.nx = nx\n",
    "        self.ny = ny\n",
    "        self.iS = iS\n",
    "        self.listBeads = []\n",
    "        self.trajPoint = []\n",
    "        self.Nuplet = 1\n",
    "        self.NupletPos = 1\n",
    "        self.type = ''\n",
    "        \n",
    "    def __str__(self):\n",
    "        text = 'a'\n",
    "        return(text)\n",
    "    \n",
    "    def show(self):\n",
    "        pass\n",
    "    \n",
    "    def detectBeads(self):\n",
    "        pass\n",
    "\n",
    "    \n",
    "    \n",
    "class Bead:\n",
    "     def __init__(self):\n",
    "            self.x = 0\n",
    "            self.y = 0\n",
    "            self.R = 0\n",
    "            self.area = 0\n",
    "            self.std = 0\n",
    "            self.iS = 0\n",
    "            self.status = ''\n",
    "            self.hasRightNeighbour = False\n",
    "            self.hasLeftNeighbour = False"
   ]
  },
  {
   "cell_type": "code",
   "execution_count": 8,
   "id": "16457854",
   "metadata": {},
   "outputs": [
    {
     "name": "stdout",
     "output_type": "stream",
     "text": [
      "a\n"
     ]
    }
   ],
   "source": [
    "f = Frame(np.array([[1, 2], [3, 4]]), 1, 2, 1000)\n",
    "print(f)"
   ]
  },
  {
   "cell_type": "code",
   "execution_count": 10,
   "id": "543afabf",
   "metadata": {},
   "outputs": [],
   "source": [
    "mainDataDir = 'D://MagneticPincherData'\n",
    "rawDataDir = os.path.join(mainDataDir, 'Raw')\n",
    "interDataDir = os.path.join(mainDataDir, 'Intermediate')\n",
    "figureDir = os.path.join(mainDataDir, 'Figures')\n",
    "dateTest1 = '21-04-27'\n",
    "dateTest2 = '21.04.27'\n",
    "# 21-04-27_M1_P1_C4_R40_disc20um_wFluo"
   ]
  },
  {
   "cell_type": "code",
   "execution_count": 30,
   "id": "1a748554",
   "metadata": {},
   "outputs": [],
   "source": [
    "def main():\n",
    "    date1 = '21-04-27'\n",
    "    date2 = '21.04.27'\n",
    "    manip = 'M1_P1_C4'\n",
    "    \n",
    "    \n",
    "    # 0. Load different data sources & Preprocess : fluo, black images, sort slices (ct/ramp ; down/middle/up)\n",
    "        # Load image and init PTL\n",
    "    dirPath = os.path.join(rawDataDir, date2)\n",
    "    fileName = ''\n",
    "    for f in os.listdir(dirPath):\n",
    "        if os.path.isfile(os.path.join(dirPath, f)) and f.endswith(\".tif\") and (manip in f):\n",
    "            fileName = f\n",
    "    filePath = os.path.join(dirPath, fileName)\n",
    "    I = io.imread(filePath)\n",
    "    PTL = PincherTimeLapse(I, NB = 2)\n",
    "    \n",
    "        # Load depthograph\n",
    "    \n",
    "\n",
    "        # Load field file\n",
    "    \n",
    "\n",
    "        # Detect fluo & black images\n",
    "        \n",
    "        \n",
    "        # Sort slices\n",
    "    \n",
    "    \n",
    "    # 1. Detect beads\n",
    "        # Load depthograph\n",
    "    \n",
    "\n",
    "        # Load field file\n",
    "    \n",
    "\n",
    "        # Detect fluo & black images\n",
    "        \n",
    "        \n",
    "        # Sort slices\n",
    "        \n",
    "        \n",
    "    # 2. Make trajectories for beads of interest\n",
    "    # 3. Qualify - Detect boi sizes and neighbours\n",
    "    # 4. Define pairs and compute dx, dy\n",
    "    # 5. Compute dz\n",
    "    # 6. Convert in real units\n",
    "    # 7. Compute forces"
   ]
  },
  {
   "cell_type": "code",
   "execution_count": 31,
   "id": "63384602",
   "metadata": {},
   "outputs": [
    {
     "name": "stderr",
     "output_type": "stream",
     "text": [
      "TiffPage 0: TypeError: read_bytes() missing 3 required positional arguments: 'dtype', 'count', and 'offsetsize'\n"
     ]
    },
    {
     "name": "stdout",
     "output_type": "stream",
     "text": [
      "D://MagneticPincherData\\Raw\\21.04.27\\21-04-27_M1_P1_C4_R40_disc20um_wFluo.tif\n"
     ]
    },
    {
     "data": {
      "application/vnd.jupyter.widget-view+json": {
       "model_id": "63c9b217796241cb9451abcfaf6077bf",
       "version_major": 2,
       "version_minor": 0
      },
      "text/plain": [
       "Canvas(toolbar=Toolbar(toolitems=[('Home', 'Reset original view', 'home', 'home'), ('Back', 'Back to previous …"
      ]
     },
     "metadata": {},
     "output_type": "display_data"
    }
   ],
   "source": [
    "main()"
   ]
  },
  {
   "cell_type": "code",
   "execution_count": 20,
   "id": "c97268ac",
   "metadata": {},
   "outputs": [
    {
     "name": "stderr",
     "output_type": "stream",
     "text": [
      "TiffPage 0: TypeError: read_bytes() missing 3 required positional arguments: 'dtype', 'count', and 'offsetsize'\n"
     ]
    },
    {
     "data": {
      "text/plain": [
       "array([[[3299, 3214, 3207, ..., 3452, 3336, 3238],\n",
       "        [3115, 3175, 3317, ..., 3242, 3373, 3454],\n",
       "        [3191, 3169, 3095, ..., 3202, 3337, 3347],\n",
       "        ...,\n",
       "        [3164, 3184, 3120, ..., 3335, 3167, 3432],\n",
       "        [3122, 2922, 3155, ..., 3336, 3238, 3246],\n",
       "        [3196, 3206, 3040, ..., 3302, 3283, 3366]],\n",
       "\n",
       "       [[3084, 2964, 3244, ..., 3347, 3337, 3203],\n",
       "        [3115, 3175, 3136, ..., 3386, 3409, 3382],\n",
       "        [3156, 3134, 3238, ..., 3454, 3302, 3489],\n",
       "        ...,\n",
       "        [2941, 3146, 3120, ..., 3224, 3317, 3170],\n",
       "        [3085, 3072, 3082, ..., 3261, 3274, 3432],\n",
       "        [3160, 2908, 3190, ..., 3303, 3285, 3366]],\n",
       "\n",
       "       [[3120, 3287, 3208, ..., 3345, 3409, 3310],\n",
       "        [3332, 3355, 3172, ..., 3279, 3337, 3454],\n",
       "        [3228, 3242, 3167, ..., 3165, 3229, 3347],\n",
       "        ...,\n",
       "        [3202, 2959, 2933, ..., 3262, 3280, 3395],\n",
       "        [3085, 3222, 2971, ..., 3224, 3350, 3469],\n",
       "        [3085, 3132, 3152, ..., 3227, 3396, 3366]],\n",
       "\n",
       "       ...,\n",
       "\n",
       "       [[3156, 3214, 3135, ..., 3309, 3265, 3310],\n",
       "        [3223, 3175, 3208, ..., 3458, 3410, 3238],\n",
       "        [3120, 3279, 3096, ..., 3382, 3266, 3489],\n",
       "        ...,\n",
       "        [3425, 3669, 3863, ..., 3261, 3091, 3320],\n",
       "        [3495, 4117, 4161, ..., 3335, 3199, 3320],\n",
       "        [4055, 4067, 4379, ..., 3302, 3432, 3143]],\n",
       "\n",
       "       [[3156, 3106, 3135, ..., 3274, 3302, 3418],\n",
       "        [3115, 3175, 3172, ..., 3458, 3446, 3418],\n",
       "        [3299, 3205, 3238, ..., 3347, 3410, 3310],\n",
       "        ...,\n",
       "        [2829, 3033, 3081, ..., 3409, 3167, 3357],\n",
       "        [2601, 2773, 2933, ..., 3262, 3388, 3320],\n",
       "        [2581, 2646, 2742, ..., 3228, 3285, 3255]],\n",
       "\n",
       "       [[ 276,  226,  225, ...,  228,  231,  227],\n",
       "        [ 210,  237,  220, ...,  242,  234,  205],\n",
       "        [ 235,  241,  217, ...,  193,  194,  201],\n",
       "        ...,\n",
       "        [ 663,  741,  709, ...,  206,  201,  224],\n",
       "        [ 585,  683,  663, ...,  217,  234,  189],\n",
       "        [ 757,  657,  720, ...,  232,  202,  218]]], dtype=uint16)"
      ]
     },
     "execution_count": 20,
     "metadata": {},
     "output_type": "execute_result"
    }
   ],
   "source": [
    "# fp = 'D://MagneticPincherData//Raw//21.04.27//21-04-27_M1_P1_C4_R40_disc20um_wFluo.tif'\n",
    "# fp = \"C://Users//JosephVermeil//Desktop//Fichier 3BiocheVsPhy@2x.png\"\n",
    "# fp = \"C://Users//JosephVermeil//Desktop//21-04-27_M1_P1_C4_R40_disc20um_wFluo.tif\"\n",
    "# I = io.imread(fp)\n",
    "# I"
   ]
  },
  {
   "cell_type": "code",
   "execution_count": null,
   "id": "3b78f488",
   "metadata": {},
   "outputs": [],
   "source": []
  }
 ],
 "metadata": {
  "kernelspec": {
   "display_name": "Python 3",
   "language": "python",
   "name": "python3"
  },
  "language_info": {
   "codemirror_mode": {
    "name": "ipython",
    "version": 3
   },
   "file_extension": ".py",
   "mimetype": "text/x-python",
   "name": "python",
   "nbconvert_exporter": "python",
   "pygments_lexer": "ipython3",
   "version": "3.7.9"
  },
  "toc": {
   "base_numbering": 1,
   "nav_menu": {},
   "number_sections": true,
   "sideBar": true,
   "skip_h1_title": false,
   "title_cell": "Table of Contents",
   "title_sidebar": "Contents",
   "toc_cell": false,
   "toc_position": {},
   "toc_section_display": true,
   "toc_window_display": false
  },
  "varInspector": {
   "cols": {
    "lenName": 16,
    "lenType": 16,
    "lenVar": 40
   },
   "kernels_config": {
    "python": {
     "delete_cmd_postfix": "",
     "delete_cmd_prefix": "del ",
     "library": "var_list.py",
     "varRefreshCmd": "print(var_dic_list())"
    },
    "r": {
     "delete_cmd_postfix": ") ",
     "delete_cmd_prefix": "rm(",
     "library": "var_list.r",
     "varRefreshCmd": "cat(var_dic_list()) "
    }
   },
   "types_to_exclude": [
    "module",
    "function",
    "builtin_function_or_method",
    "instance",
    "_Feature"
   ],
   "window_display": false
  }
 },
 "nbformat": 4,
 "nbformat_minor": 5
}
