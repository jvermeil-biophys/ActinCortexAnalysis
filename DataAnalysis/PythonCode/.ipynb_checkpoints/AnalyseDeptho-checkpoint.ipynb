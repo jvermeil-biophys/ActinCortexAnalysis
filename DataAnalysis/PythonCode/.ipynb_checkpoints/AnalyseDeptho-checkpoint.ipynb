{
 "cells": [
  {
   "cell_type": "code",
   "execution_count": 34,
   "id": "b6ecb21f",
   "metadata": {},
   "outputs": [],
   "source": [
    "import numpy as np\n",
    "import pandas as pd\n",
    "import scipy.ndimage as ndi\n",
    "import matplotlib.pyplot as plt\n",
    "\n",
    "import os\n",
    "import time\n",
    "import matplotlib\n",
    "\n",
    "# import skimage\n",
    "from skimage import io, filters, exposure, measure, transform\n",
    "from scipy.signal import find_peaks\n",
    "\n",
    "pd.set_option('mode.chained_assignment',None)\n",
    "\n",
    "%matplotlib widget \n",
    "# %matplotlib inline\n",
    "matplotlib.rcParams.update({'figure.autolayout': True})\n",
    "\n",
    "\n",
    "SMALLER_SIZE = 10\n",
    "SMALL_SIZE = 14\n",
    "MEDIUM_SIZE = 16\n",
    "BIGGER_SIZE = 20\n",
    "\n",
    "plt.rc('font', size=SMALL_SIZE)          # controls default text sizes\n",
    "plt.rc('axes', titlesize=MEDIUM_SIZE)     # fontsize of the axes title\n",
    "plt.rc('axes', labelsize=MEDIUM_SIZE)    # fontsize of the x and y labels\n",
    "plt.rc('xtick', labelsize=SMALL_SIZE)    # fontsize of the tick labels\n",
    "plt.rc('ytick', labelsize=SMALL_SIZE)    # fontsize of the tick labels\n",
    "plt.rc('legend', fontsize=SMALLER_SIZE)    # legend fontsize\n",
    "plt.rc('figure', titlesize=BIGGER_SIZE)  # fontsize of the figure title"
   ]
  },
  {
   "cell_type": "code",
   "execution_count": 10,
   "id": "3b23bab4",
   "metadata": {},
   "outputs": [
    {
     "data": {
      "text/plain": [
       "['multiDeptho5.tif']"
      ]
     },
     "execution_count": 10,
     "metadata": {},
     "output_type": "execute_result"
    }
   ],
   "source": [
    "# testDataFolder = 'D://PMMH_ComputerData//Matlab Analysis//Data_Joseph//Raw//20.06.15_Deptho//depthoAnalysis_test'\n",
    "testDataFolder = 'C://Users//JosephVermeil//Desktop//test_AnalyseDepthos'\n",
    "listDepthos = [f for f in os.listdir(testDataFolder) if (os.path.isfile(os.path.join(testDataFolder, f)) and f.endswith(\".tif\"))]\n",
    "listDepthos"
   ]
  },
  {
   "cell_type": "code",
   "execution_count": 11,
   "id": "5675d599",
   "metadata": {},
   "outputs": [],
   "source": [
    "fileName = listDepthos[0]\n",
    "filePath = os.path.join(testDataFolder,fileName)\n",
    "I = skimage.io.imread(filePath)"
   ]
  },
  {
   "cell_type": "code",
   "execution_count": 12,
   "id": "c26fe7bf",
   "metadata": {},
   "outputs": [],
   "source": [
    "if not I.ndim == 3:\n",
    "    print('Unexpected image format !')\n",
    "else:\n",
    "    I0 = I[0]"
   ]
  },
  {
   "cell_type": "code",
   "execution_count": 13,
   "id": "57320d43",
   "metadata": {},
   "outputs": [
    {
     "data": {
      "application/vnd.jupyter.widget-view+json": {
       "model_id": "c195765725134dcbb5165cd986d07559",
       "version_major": 2,
       "version_minor": 0
      },
      "text/plain": [
       "Canvas(toolbar=Toolbar(toolitems=[('Home', 'Reset original view', 'home', 'home'), ('Back', 'Back to previous …"
      ]
     },
     "metadata": {},
     "output_type": "display_data"
    }
   ],
   "source": [
    "fig, ax = plt.subplots(1,1)\n",
    "ax.imshow(I[2], cmap = 'gray')\n",
    "fig.tight_layout()\n",
    "fig.show()"
   ]
  },
  {
   "cell_type": "code",
   "execution_count": 14,
   "id": "17394b39",
   "metadata": {},
   "outputs": [
    {
     "data": {
      "text/plain": [
       "9135"
      ]
     },
     "execution_count": 14,
     "metadata": {},
     "output_type": "execute_result"
    }
   ],
   "source": [
    "I.shape\n",
    "smallI = I[198:203]\n",
    "smallROI = I[:,100:400,100:500]\n",
    "# plt.imshow(smallROI, cmap = 'gray')\n",
    "threshold = skimage.filters.threshold_otsu(smallROI)\n",
    "threshold"
   ]
  },
  {
   "cell_type": "code",
   "execution_count": 16,
   "id": "766add92",
   "metadata": {
    "scrolled": false
   },
   "outputs": [
    {
     "data": {
      "application/vnd.jupyter.widget-view+json": {
       "model_id": "16964896d28f438a97bde9d63358a20e",
       "version_major": 2,
       "version_minor": 0
      },
      "text/plain": [
       "Canvas(toolbar=Toolbar(toolitems=[('Home', 'Reset original view', 'home', 'home'), ('Back', 'Back to previous …"
      ]
     },
     "metadata": {},
     "output_type": "display_data"
    }
   ],
   "source": [
    "fig, ax = plt.subplots(1,1)\n",
    "ax.hist(smallROI.ravel(), bins=256, histtype='step', color='black')\n",
    "fig.show()"
   ]
  },
  {
   "cell_type": "code",
   "execution_count": null,
   "id": "c17a90b7",
   "metadata": {},
   "outputs": [],
   "source": [
    "# np.zeros([nz, ny, nx])"
   ]
  },
  {
   "cell_type": "code",
   "execution_count": 17,
   "id": "06ede34a",
   "metadata": {},
   "outputs": [
    {
     "data": {
      "application/vnd.jupyter.widget-view+json": {
       "model_id": "16d0ba168ed143c2b6a01e7956c2046f",
       "version_major": 2,
       "version_minor": 0
      },
      "text/plain": [
       "Canvas(toolbar=Toolbar(toolitems=[('Home', 'Reset original view', 'home', 'home'), ('Back', 'Back to previous …"
      ]
     },
     "metadata": {},
     "output_type": "display_data"
    },
    {
     "data": {
      "application/vnd.jupyter.widget-view+json": {
       "model_id": "583112e5d04b46e589fc1a2afe311404",
       "version_major": 2,
       "version_minor": 0
      },
      "text/plain": [
       "Canvas(toolbar=Toolbar(toolitems=[('Home', 'Reset original view', 'home', 'home'), ('Back', 'Back to previous …"
      ]
     },
     "metadata": {},
     "output_type": "display_data"
    },
    {
     "data": {
      "application/vnd.jupyter.widget-view+json": {
       "model_id": "49ae35b848ca4329bc339bb407cbf560",
       "version_major": 2,
       "version_minor": 0
      },
      "text/plain": [
       "Canvas(toolbar=Toolbar(toolitems=[('Home', 'Reset original view', 'home', 'home'), ('Back', 'Back to previous …"
      ]
     },
     "metadata": {},
     "output_type": "display_data"
    },
    {
     "data": {
      "application/vnd.jupyter.widget-view+json": {
       "model_id": "34375a42a86c405b9a28b442b2ccedb8",
       "version_major": 2,
       "version_minor": 0
      },
      "text/plain": [
       "Canvas(toolbar=Toolbar(toolitems=[('Home', 'Reset original view', 'home', 'home'), ('Back', 'Back to previous …"
      ]
     },
     "metadata": {},
     "output_type": "display_data"
    }
   ],
   "source": [
    "nz, ny, nx = I.shape[0], I.shape[1], I.shape[2]\n",
    "maxVal = np.zeros(nz)\n",
    "for z in range(nz):\n",
    "    maxVal[z] = np.max(I[z])\n",
    "\n",
    "#\n",
    "Z = np.array([i for i in range(nz)])\n",
    "fig, ax = plt.subplots(1,1)\n",
    "ax.plot(Z, maxVal)\n",
    "fig.show()\n",
    "#\n",
    "\n",
    "zMax = np.argmax(maxVal)\n",
    "IMax = I[zMax]\n",
    "\n",
    "#\n",
    "fig, ax = plt.subplots(1,1)\n",
    "ax.imshow(IMax, cmap = 'gray')\n",
    "fig.show()\n",
    "#\n",
    "\n",
    "threshold = skimage.filters.threshold_li(IMax)\n",
    "binIMax = IMax > threshold\n",
    "\n",
    "#\n",
    "fig, ax = plt.subplots(1,1)\n",
    "ax.imshow(binIMax, cmap = 'gray')\n",
    "fig.show()\n",
    "#\n",
    "\n",
    "threshold = skimage.filters.threshold_otsu(IMax)\n",
    "binIMax = IMax > threshold\n",
    "\n",
    "#\n",
    "fig, ax = plt.subplots(1,1)\n",
    "ax.imshow(binIMax, cmap = 'gray')\n",
    "fig.show()\n",
    "#"
   ]
  },
  {
   "cell_type": "code",
   "execution_count": 85,
   "id": "30ba9fed",
   "metadata": {},
   "outputs": [],
   "source": [
    "class MultiBeadsDeptho:\n",
    "   \n",
    "    def __init__(self, I, scale):\n",
    "        nz, ny, nx = I.shape[0], I.shape[1], I.shape[2]\n",
    "        \n",
    "        self.__I = I\n",
    "        self.__scale = scale\n",
    "        self.__I_labeled = np.zeros([nz, ny, nx])\n",
    "        self.__nz = nz\n",
    "        self.__ny = ny\n",
    "        self.__nx = nx\n",
    "        self.__beadList = []\n",
    "        self.__nB = 0\n",
    "        \n",
    "        \n",
    "        \n",
    "    def get_beadList(self):\n",
    "        return(self.__beadList)\n",
    "    \n",
    "    def build_beadList(self):\n",
    "        maxVal = np.zeros(self.__nz)\n",
    "        for z in range(self.__nz):\n",
    "            maxVal[z] = np.max(self.__I[z])\n",
    "        z_max = np.argmax(maxVal)\n",
    "        I_max = self.__I[z_max]\n",
    "        threshold = skimage.filters.threshold_otsu(I_max)\n",
    "        I_max_bin = (I_max > threshold)\n",
    "        I_labeled, nB = measure.label(I_max_bin, return_num = True)\n",
    "        self.__I_labeled, self.__nB = I_labeled, nB\n",
    "        \n",
    "#         for k in range(1,self.__nB+1):\n",
    "#             ym0, xm0 = ndi.center_of_mass(I_max, I_labeled, k)\n",
    "#             ym0, xm0 = int(np.floor(ym0)), int(np.floor(xm0))\n",
    "#             I_labeled[ym0-1:ym0+2, xm0-1:xm0+2] = 2*nB\n",
    "            \n",
    "#         fig, ax = plt.subplots(1,1)\n",
    "#         ax.imshow(I_labeled)\n",
    "            \n",
    "        for k in range(1,self.__nB+1):\n",
    "#             print(k)\n",
    "#             print(ndi.center_of_mass(I_max, I_labeled, k))\n",
    "            ym0, xm0 = ndi.center_of_mass(I_max, I_labeled, k)\n",
    "            self.__beadList.append(BeadDeptho(I, I_labeled, k, xm0, ym0, self.__scale))\n",
    "            self.__beadList[-1].build_ROI()\n",
    "            \n",
    "    \n",
    "    \n",
    "    @property\n",
    "    def I(self):\n",
    "        return(self.__I)\n",
    "    \n",
    "    @I.setter\n",
    "    def I(self, I):\n",
    "#         self.__I  =  I\n",
    "        print('FORBIDEN: You cannot change the image after this object instantiation.')\n",
    "    \n",
    "    @property\n",
    "    def nz(self):\n",
    "        return(self.__nz)\n",
    "    \n",
    "    @property\n",
    "    def ny(self):\n",
    "        return(self.__ny)\n",
    "    \n",
    "    @property\n",
    "    def nx(self):\n",
    "        return(self.__nx)\n",
    "    \n",
    "    @property\n",
    "    def nB(self):\n",
    "        return(self.__nB)\n",
    "\n",
    "    "
   ]
  },
  {
   "cell_type": "code",
   "execution_count": 236,
   "id": "96c859b6",
   "metadata": {},
   "outputs": [],
   "source": [
    "class BeadDeptho:\n",
    "    def __init__(self, I, I_labeled, my_label, xm0, ym0, scale):\n",
    "        \n",
    "        nz, ny, nx = I.shape[0], I.shape[1], I.shape[2]\n",
    "        \n",
    "        self.I = I\n",
    "        self.nz = nz\n",
    "        self.ny = ny\n",
    "        self.nx = nx\n",
    "        self.scale = scale\n",
    "        self.xm0 = xm0\n",
    "        self.ym0 = ym0\n",
    "        self.I_labeled = I_labeled\n",
    "        self.label = my_label\n",
    "        self.D = 0\n",
    "        self.closeToTheEdge = False\n",
    "    \n",
    "    \n",
    "    def build_ROI(self):\n",
    "        roughSize = np.floor(5*self.scale)\n",
    "        roughSize += roughSize%2\n",
    "        x1_roughROI = int(np.floor(self.xm0) - roughSize*0.5) - 1\n",
    "        x2_roughROI = int(np.floor(self.xm0) + roughSize*0.5)\n",
    "        y1_roughROI = int(np.floor(self.ym0) - roughSize*0.5) - 1\n",
    "        y2_roughROI = int(np.floor(self.ym0) + roughSize*0.5)\n",
    "\n",
    "        if min([x1_roughROI,self.nx-x2_roughROI,y1_roughROI,self.ny-y2_roughROI]) < 0:\n",
    "            self.closeToTheEdge = True\n",
    "            \n",
    "        if not self.closeToTheEdge:\n",
    "            I_roughRoi = I[:, y1_roughROI:y2_roughROI, x1_roughROI:x2_roughROI]\n",
    "            maxVal = np.zeros(self.nz)\n",
    "            for z in range(self.nz):\n",
    "                maxVal[z] = np.max(I_roughRoi[z])\n",
    "            z_max = np.argmax(maxVal)\n",
    "\n",
    "#             fig, ax = plt.subplots(1,2, figsize = (8,4))\n",
    "#             ax[0].imshow(I_roughRoi[z_max], cmap = 'gray')\n",
    "#             ax[1].hist(I_roughRoi[z_max].ravel(), bins=256, histtype='step', color='black')\n",
    "\n",
    "            counts, binEdges = np.histogram(I_roughRoi[z_max].ravel(), bins=256)\n",
    "\n",
    "            peaks, peaksProp = find_peaks(counts, height=None, threshold=None, distance=1, prominence=None, \\\n",
    "                               width=1, wlen=None, rel_height=0.5, plateau_size=None)\n",
    "    #         print(max(counts), counts[peaks[0]])\n",
    "            if counts[peaks[0]] > 1200:\n",
    "                self.D = 4.5\n",
    "                roughSize = np.floor(12*self.scale)\n",
    "                roughSize += roughSize%2\n",
    "                x1_roughROI = int(np.floor(self.xm0) - roughSize*0.5) - 1\n",
    "                x2_roughROI = int(np.floor(self.xm0) + roughSize*0.5)\n",
    "                y1_roughROI = int(np.floor(self.ym0) - roughSize*0.5) - 1\n",
    "                y2_roughROI = int(np.floor(self.ym0) + roughSize*0.5)\n",
    "                I_roughRoi = I[:, y1_roughROI:y2_roughROI, x1_roughROI:x2_roughROI]\n",
    "            else:\n",
    "                self.D = 2.7\n",
    "                roughSize = np.floor(8*self.scale)\n",
    "                roughSize += roughSize%2\n",
    "                x1_roughROI = int(np.floor(self.xm0) - roughSize*0.5) - 1\n",
    "                x2_roughROI = int(np.floor(self.xm0) + roughSize*0.5)\n",
    "                y1_roughROI = int(np.floor(self.ym0) - roughSize*0.5) - 1\n",
    "                y2_roughROI = int(np.floor(self.ym0) + roughSize*0.5)\n",
    "                I_roughRoi = I[:, y1_roughROI:y2_roughROI, x1_roughROI:x2_roughROI]\n",
    "            \n",
    "            if min([x1_roughROI,self.nx-x2_roughROI,y1_roughROI,self.ny-y2_roughROI]) < 0:\n",
    "                self.closeToTheEdge = True\n",
    "    #         h_roughROI, w_roughROI = x2_roughROI-x1_roughROI, y2_roughROI-y1_roughROI\n",
    "    #         print(h_roughROI//2, w_roughROI//2)\n",
    "            \n",
    "            if not self.closeToTheEdge:\n",
    "\n",
    "                threshold = 0.8*skimage.filters.threshold_otsu(I_roughRoi)\n",
    "                I_roughRoi_binary = (I_roughRoi > threshold)\n",
    "                I_roughRoi_binary_fh = ndi.binary_fill_holes(I_roughRoi_binary).astype(int)\n",
    "\n",
    "                area, circ = np.zeros(self.nz), np.zeros(self.nz)\n",
    "                for i in range(self.nz):\n",
    "                    props = measure.regionprops_table(I_roughRoi_binary_fh[i], properties=('perimeter', 'area'))\n",
    "                    if not np.sum(I_roughRoi_binary_fh[i]) == 0 and props['perimeter'][0] != 0:\n",
    "                        area[i] = props['area'][0]\n",
    "                        circ[i] = (4 * np.pi * props['area']) / (props['perimeter'] * props['perimeter'])[0]       \n",
    "                validSlice = (area > 50) & (circ > 0.8)\n",
    "                zFirst = np.argmax(validSlice)\n",
    "                zLast = self.nz - np.argmax(validSlice[::-1])\n",
    "\n",
    "                XYm = np.zeros((2, self.nz), dtype = int)\n",
    "                cleanHalfSize = int(round(1*self.D*self.scale))\n",
    "                I_cleanROI = np.zeros([self.nz, 2*cleanHalfSize+1, 2*cleanHalfSize+1])\n",
    "\n",
    "                print(zFirst, zLast)\n",
    "                for i in range(zFirst, zLast):\n",
    "                    try:\n",
    "                        Ym, Xm = ndi.center_of_mass(I_roughRoi[i], labels=I_roughRoi_binary_fh[i], index=1)\n",
    "                        XYm[1, i], XYm[0, i] = int(round(Ym)), int(round(Xm))\n",
    "                        roughCenter = int((roughSize+1)//2)\n",
    "                        tform = transform.EuclideanTransform(rotation=0, translation = (Xm-roughCenter, Ym-roughCenter))\n",
    "                        I_tmp = transform.warp(I_roughRoi[i], tform, order = 2, preserve_range = True)\n",
    "        #                 centerPoint = I_tmp.shape[0]//2\n",
    "                        I_cleanROI[i] = np.copy(I_tmp[roughCenter-cleanHalfSize:roughCenter+cleanHalfSize+1,roughCenter-cleanHalfSize:roughCenter+cleanHalfSize+1])\n",
    "\n",
    "                        # VISUALISE\n",
    "                        if i == zFirst:\n",
    "                            print(i)\n",
    "                            print('Job done for the bead in x0, y0 = {:.2f}, {:.2f}'.format(self.xm0, self.ym0))\n",
    "                            fig, ax = plt.subplots(1,3, figsize = (12,4))\n",
    "                            ax[0].imshow(I_roughRoi[i], cmap = 'gray')\n",
    "                            mid = I_roughRoi[i].shape[0]//2\n",
    "                            ax[0].plot([0,2*mid],[mid, mid], 'r--', lw = 0.5)\n",
    "                            ax[0].plot([mid, mid],[0,2*mid], 'r--', lw = 0.5)\n",
    "                            I_max_binary = (I_roughRoi[i] > threshold)\n",
    "                            y, x = ndi.center_of_mass(I_roughRoi[i], labels=I_max_binary, index=1)\n",
    "                            ax[0].plot([x],[y], 'b+')\n",
    "\n",
    "                            ax[1].imshow(I_tmp, cmap = 'gray')\n",
    "                            mid = I_tmp.shape[0]//2\n",
    "                            ax[1].plot([0,2*mid],[mid, mid], 'r--', lw = 0.5)\n",
    "                            ax[1].plot([mid, mid],[0,2*mid], 'r--', lw = 0.5)\n",
    "                            I_tmp_binary = (I_tmp > threshold)\n",
    "                            y, x = ndi.center_of_mass(I_tmp, labels=I_tmp_binary, index=1)\n",
    "                            ax[1].plot([x],[y], 'b+')\n",
    "\n",
    "                            ax[2].imshow(I_cleanROI[i], cmap = 'gray')\n",
    "                            mid = I_cleanROI[i].shape[0]//2\n",
    "                            ax[2].plot([0,2*mid],[mid, mid], 'r--', lw = 0.5)\n",
    "                            ax[2].plot([mid, mid],[0,2*mid], 'r--', lw = 0.5)\n",
    "                            I_cleanRoi_binary = (I_cleanROI > threshold)\n",
    "                            y, x = ndi.center_of_mass(I_cleanROI[i], labels=I_cleanRoi_binary[i], index=1)\n",
    "                            ax[2].plot([x],[y], 'b+')\n",
    "\n",
    "\n",
    "                    except:\n",
    "                        print('bug for the bead in x0, y0 = {:.2f}, {:.2f}'.format(self.xm0, self.ym0))\n",
    "\n",
    "                print(I_tmp.shape[0],I_tmp.shape[1])\n",
    "\n",
    "    #         ax.hist(I_roughRoi[z_max].ravel(), bins=256, histtype='step', color='black')\n",
    "    #         print(XYm)\n",
    "                          \n",
    "    \n",
    "    def build_zProfiles(self):\n",
    "        return(0)"
   ]
  },
  {
   "cell_type": "code",
   "execution_count": 237,
   "id": "d99e4044",
   "metadata": {},
   "outputs": [
    {
     "data": {
      "text/plain": [
       "0"
      ]
     },
     "execution_count": 237,
     "metadata": {},
     "output_type": "execute_result"
    }
   ],
   "source": [
    "mbd = MultiBeadsDeptho(smallI, 15.8)\n",
    "mbd.nB"
   ]
  },
  {
   "cell_type": "code",
   "execution_count": 238,
   "id": "e38dee6a",
   "metadata": {
    "scrolled": false
   },
   "outputs": [
    {
     "name": "stdout",
     "output_type": "stream",
     "text": [
      "119 215\n",
      "119\n",
      "Job done for the bead in x0, y0 = 1330.23, 160.01\n"
     ]
    },
    {
     "name": "stderr",
     "output_type": "stream",
     "text": [
      "C:\\Users\\JosephVermeil\\anaconda3\\lib\\site-packages\\ipykernel_launcher.py:97: UserWarning: Bi-quadratic interpolation behavior has changed due to a bug in the implementation of scikit-image. The new version now serves as a wrapper around SciPy's interpolation functions, which itself is not verified to be a correct implementation. Until skimage's implementation is fixed, we recommend to use bi-linear or bi-cubic interpolation instead.\n"
     ]
    },
    {
     "data": {
      "application/vnd.jupyter.widget-view+json": {
       "model_id": "28c103ce1e8d4528991b6571b2588109",
       "version_major": 2,
       "version_minor": 0
      },
      "text/plain": [
       "Canvas(toolbar=Toolbar(toolitems=[('Home', 'Reset original view', 'home', 'home'), ('Back', 'Back to previous …"
      ]
     },
     "metadata": {},
     "output_type": "display_data"
    },
    {
     "name": "stdout",
     "output_type": "stream",
     "text": [
      "127 127\n",
      "0 401\n",
      "0\n",
      "Job done for the bead in x0, y0 = 1544.49, 204.91\n"
     ]
    },
    {
     "data": {
      "application/vnd.jupyter.widget-view+json": {
       "model_id": "2e17223b8f1348cb94f41aab0d59c84c",
       "version_major": 2,
       "version_minor": 0
      },
      "text/plain": [
       "Canvas(toolbar=Toolbar(toolitems=[('Home', 'Reset original view', 'home', 'home'), ('Back', 'Back to previous …"
      ]
     },
     "metadata": {},
     "output_type": "display_data"
    },
    {
     "name": "stdout",
     "output_type": "stream",
     "text": [
      "bug for the bead in x0, y0 = 1544.49, 204.91\n",
      "bug for the bead in x0, y0 = 1544.49, 204.91\n",
      "bug for the bead in x0, y0 = 1544.49, 204.91\n",
      "bug for the bead in x0, y0 = 1544.49, 204.91\n",
      "bug for the bead in x0, y0 = 1544.49, 204.91\n",
      "bug for the bead in x0, y0 = 1544.49, 204.91\n",
      "bug for the bead in x0, y0 = 1544.49, 204.91\n",
      "bug for the bead in x0, y0 = 1544.49, 204.91\n",
      "bug for the bead in x0, y0 = 1544.49, 204.91\n",
      "bug for the bead in x0, y0 = 1544.49, 204.91\n",
      "bug for the bead in x0, y0 = 1544.49, 204.91\n",
      "bug for the bead in x0, y0 = 1544.49, 204.91\n",
      "bug for the bead in x0, y0 = 1544.49, 204.91\n",
      "bug for the bead in x0, y0 = 1544.49, 204.91\n",
      "bug for the bead in x0, y0 = 1544.49, 204.91\n",
      "bug for the bead in x0, y0 = 1544.49, 204.91\n",
      "bug for the bead in x0, y0 = 1544.49, 204.91\n",
      "bug for the bead in x0, y0 = 1544.49, 204.91\n",
      "bug for the bead in x0, y0 = 1544.49, 204.91\n",
      "bug for the bead in x0, y0 = 1544.49, 204.91\n",
      "bug for the bead in x0, y0 = 1544.49, 204.91\n",
      "bug for the bead in x0, y0 = 1544.49, 204.91\n",
      "bug for the bead in x0, y0 = 1544.49, 204.91\n",
      "bug for the bead in x0, y0 = 1544.49, 204.91\n",
      "bug for the bead in x0, y0 = 1544.49, 204.91\n",
      "bug for the bead in x0, y0 = 1544.49, 204.91\n",
      "bug for the bead in x0, y0 = 1544.49, 204.91\n",
      "bug for the bead in x0, y0 = 1544.49, 204.91\n",
      "bug for the bead in x0, y0 = 1544.49, 204.91\n",
      "bug for the bead in x0, y0 = 1544.49, 204.91\n",
      "bug for the bead in x0, y0 = 1544.49, 204.91\n",
      "bug for the bead in x0, y0 = 1544.49, 204.91\n",
      "bug for the bead in x0, y0 = 1544.49, 204.91\n",
      "bug for the bead in x0, y0 = 1544.49, 204.91\n",
      "bug for the bead in x0, y0 = 1544.49, 204.91\n",
      "bug for the bead in x0, y0 = 1544.49, 204.91\n",
      "bug for the bead in x0, y0 = 1544.49, 204.91\n",
      "bug for the bead in x0, y0 = 1544.49, 204.91\n",
      "bug for the bead in x0, y0 = 1544.49, 204.91\n",
      "bug for the bead in x0, y0 = 1544.49, 204.91\n",
      "bug for the bead in x0, y0 = 1544.49, 204.91\n",
      "bug for the bead in x0, y0 = 1544.49, 204.91\n",
      "bug for the bead in x0, y0 = 1544.49, 204.91\n",
      "bug for the bead in x0, y0 = 1544.49, 204.91\n",
      "bug for the bead in x0, y0 = 1544.49, 204.91\n",
      "bug for the bead in x0, y0 = 1544.49, 204.91\n",
      "bug for the bead in x0, y0 = 1544.49, 204.91\n",
      "bug for the bead in x0, y0 = 1544.49, 204.91\n",
      "bug for the bead in x0, y0 = 1544.49, 204.91\n",
      "bug for the bead in x0, y0 = 1544.49, 204.91\n",
      "bug for the bead in x0, y0 = 1544.49, 204.91\n",
      "bug for the bead in x0, y0 = 1544.49, 204.91\n",
      "bug for the bead in x0, y0 = 1544.49, 204.91\n",
      "bug for the bead in x0, y0 = 1544.49, 204.91\n",
      "bug for the bead in x0, y0 = 1544.49, 204.91\n",
      "bug for the bead in x0, y0 = 1544.49, 204.91\n",
      "bug for the bead in x0, y0 = 1544.49, 204.91\n",
      "bug for the bead in x0, y0 = 1544.49, 204.91\n",
      "bug for the bead in x0, y0 = 1544.49, 204.91\n",
      "bug for the bead in x0, y0 = 1544.49, 204.91\n",
      "bug for the bead in x0, y0 = 1544.49, 204.91\n",
      "bug for the bead in x0, y0 = 1544.49, 204.91\n",
      "bug for the bead in x0, y0 = 1544.49, 204.91\n",
      "bug for the bead in x0, y0 = 1544.49, 204.91\n",
      "bug for the bead in x0, y0 = 1544.49, 204.91\n",
      "bug for the bead in x0, y0 = 1544.49, 204.91\n",
      "bug for the bead in x0, y0 = 1544.49, 204.91\n",
      "bug for the bead in x0, y0 = 1544.49, 204.91\n",
      "bug for the bead in x0, y0 = 1544.49, 204.91\n",
      "bug for the bead in x0, y0 = 1544.49, 204.91\n",
      "bug for the bead in x0, y0 = 1544.49, 204.91\n",
      "bug for the bead in x0, y0 = 1544.49, 204.91\n",
      "bug for the bead in x0, y0 = 1544.49, 204.91\n",
      "bug for the bead in x0, y0 = 1544.49, 204.91\n",
      "bug for the bead in x0, y0 = 1544.49, 204.91\n",
      "bug for the bead in x0, y0 = 1544.49, 204.91\n",
      "bug for the bead in x0, y0 = 1544.49, 204.91\n",
      "bug for the bead in x0, y0 = 1544.49, 204.91\n",
      "bug for the bead in x0, y0 = 1544.49, 204.91\n",
      "bug for the bead in x0, y0 = 1544.49, 204.91\n",
      "bug for the bead in x0, y0 = 1544.49, 204.91\n",
      "bug for the bead in x0, y0 = 1544.49, 204.91\n",
      "bug for the bead in x0, y0 = 1544.49, 204.91\n",
      "bug for the bead in x0, y0 = 1544.49, 204.91\n",
      "bug for the bead in x0, y0 = 1544.49, 204.91\n",
      "bug for the bead in x0, y0 = 1544.49, 204.91\n",
      "bug for the bead in x0, y0 = 1544.49, 204.91\n",
      "bug for the bead in x0, y0 = 1544.49, 204.91\n",
      "bug for the bead in x0, y0 = 1544.49, 204.91\n",
      "bug for the bead in x0, y0 = 1544.49, 204.91\n",
      "bug for the bead in x0, y0 = 1544.49, 204.91\n",
      "bug for the bead in x0, y0 = 1544.49, 204.91\n",
      "bug for the bead in x0, y0 = 1544.49, 204.91\n",
      "bug for the bead in x0, y0 = 1544.49, 204.91\n",
      "bug for the bead in x0, y0 = 1544.49, 204.91\n",
      "bug for the bead in x0, y0 = 1544.49, 204.91\n",
      "bug for the bead in x0, y0 = 1544.49, 204.91\n",
      "bug for the bead in x0, y0 = 1544.49, 204.91\n",
      "bug for the bead in x0, y0 = 1544.49, 204.91\n",
      "bug for the bead in x0, y0 = 1544.49, 204.91\n",
      "bug for the bead in x0, y0 = 1544.49, 204.91\n",
      "bug for the bead in x0, y0 = 1544.49, 204.91\n",
      "bug for the bead in x0, y0 = 1544.49, 204.91\n",
      "bug for the bead in x0, y0 = 1544.49, 204.91\n",
      "bug for the bead in x0, y0 = 1544.49, 204.91\n",
      "bug for the bead in x0, y0 = 1544.49, 204.91\n",
      "bug for the bead in x0, y0 = 1544.49, 204.91\n",
      "bug for the bead in x0, y0 = 1544.49, 204.91\n",
      "bug for the bead in x0, y0 = 1544.49, 204.91\n",
      "bug for the bead in x0, y0 = 1544.49, 204.91\n",
      "bug for the bead in x0, y0 = 1544.49, 204.91\n",
      "bug for the bead in x0, y0 = 1544.49, 204.91\n",
      "bug for the bead in x0, y0 = 1544.49, 204.91\n",
      "bug for the bead in x0, y0 = 1544.49, 204.91\n",
      "bug for the bead in x0, y0 = 1544.49, 204.91\n",
      "bug for the bead in x0, y0 = 1544.49, 204.91\n",
      "bug for the bead in x0, y0 = 1544.49, 204.91\n",
      "bug for the bead in x0, y0 = 1544.49, 204.91\n",
      "bug for the bead in x0, y0 = 1544.49, 204.91\n",
      "bug for the bead in x0, y0 = 1544.49, 204.91\n",
      "bug for the bead in x0, y0 = 1544.49, 204.91\n",
      "bug for the bead in x0, y0 = 1544.49, 204.91\n",
      "bug for the bead in x0, y0 = 1544.49, 204.91\n",
      "bug for the bead in x0, y0 = 1544.49, 204.91\n",
      "bug for the bead in x0, y0 = 1544.49, 204.91\n",
      "bug for the bead in x0, y0 = 1544.49, 204.91\n",
      "bug for the bead in x0, y0 = 1544.49, 204.91\n",
      "bug for the bead in x0, y0 = 1544.49, 204.91\n",
      "bug for the bead in x0, y0 = 1544.49, 204.91\n",
      "bug for the bead in x0, y0 = 1544.49, 204.91\n",
      "bug for the bead in x0, y0 = 1544.49, 204.91\n",
      "bug for the bead in x0, y0 = 1544.49, 204.91\n",
      "bug for the bead in x0, y0 = 1544.49, 204.91\n",
      "bug for the bead in x0, y0 = 1544.49, 204.91\n",
      "bug for the bead in x0, y0 = 1544.49, 204.91\n",
      "bug for the bead in x0, y0 = 1544.49, 204.91\n",
      "bug for the bead in x0, y0 = 1544.49, 204.91\n",
      "bug for the bead in x0, y0 = 1544.49, 204.91\n",
      "bug for the bead in x0, y0 = 1544.49, 204.91\n",
      "bug for the bead in x0, y0 = 1544.49, 204.91\n",
      "bug for the bead in x0, y0 = 1544.49, 204.91\n",
      "bug for the bead in x0, y0 = 1544.49, 204.91\n",
      "bug for the bead in x0, y0 = 1544.49, 204.91\n",
      "bug for the bead in x0, y0 = 1544.49, 204.91\n",
      "bug for the bead in x0, y0 = 1544.49, 204.91\n",
      "bug for the bead in x0, y0 = 1544.49, 204.91\n",
      "bug for the bead in x0, y0 = 1544.49, 204.91\n",
      "bug for the bead in x0, y0 = 1544.49, 204.91\n",
      "bug for the bead in x0, y0 = 1544.49, 204.91\n",
      "bug for the bead in x0, y0 = 1544.49, 204.91\n",
      "bug for the bead in x0, y0 = 1544.49, 204.91\n",
      "bug for the bead in x0, y0 = 1544.49, 204.91\n",
      "bug for the bead in x0, y0 = 1544.49, 204.91\n",
      "bug for the bead in x0, y0 = 1544.49, 204.91\n",
      "bug for the bead in x0, y0 = 1544.49, 204.91\n",
      "bug for the bead in x0, y0 = 1544.49, 204.91\n",
      "bug for the bead in x0, y0 = 1544.49, 204.91\n",
      "bug for the bead in x0, y0 = 1544.49, 204.91\n",
      "bug for the bead in x0, y0 = 1544.49, 204.91\n",
      "bug for the bead in x0, y0 = 1544.49, 204.91\n",
      "bug for the bead in x0, y0 = 1544.49, 204.91\n",
      "bug for the bead in x0, y0 = 1544.49, 204.91\n",
      "bug for the bead in x0, y0 = 1544.49, 204.91\n",
      "bug for the bead in x0, y0 = 1544.49, 204.91\n",
      "bug for the bead in x0, y0 = 1544.49, 204.91\n",
      "bug for the bead in x0, y0 = 1544.49, 204.91\n",
      "bug for the bead in x0, y0 = 1544.49, 204.91\n",
      "bug for the bead in x0, y0 = 1544.49, 204.91\n",
      "bug for the bead in x0, y0 = 1544.49, 204.91\n",
      "bug for the bead in x0, y0 = 1544.49, 204.91\n",
      "bug for the bead in x0, y0 = 1544.49, 204.91\n",
      "bug for the bead in x0, y0 = 1544.49, 204.91\n",
      "bug for the bead in x0, y0 = 1544.49, 204.91\n",
      "bug for the bead in x0, y0 = 1544.49, 204.91\n",
      "bug for the bead in x0, y0 = 1544.49, 204.91\n",
      "bug for the bead in x0, y0 = 1544.49, 204.91\n",
      "191 191\n",
      "130 227\n",
      "130\n",
      "Job done for the bead in x0, y0 = 443.50, 214.72\n"
     ]
    },
    {
     "data": {
      "application/vnd.jupyter.widget-view+json": {
       "model_id": "5689c47364c0410d89c8abdf0254d431",
       "version_major": 2,
       "version_minor": 0
      },
      "text/plain": [
       "Canvas(toolbar=Toolbar(toolitems=[('Home', 'Reset original view', 'home', 'home'), ('Back', 'Back to previous …"
      ]
     },
     "metadata": {},
     "output_type": "display_data"
    },
    {
     "name": "stdout",
     "output_type": "stream",
     "text": [
      "127 127\n",
      "0 401\n",
      "bug for the bead in x0, y0 = 1447.58, 219.10\n",
      "bug for the bead in x0, y0 = 1447.58, 219.10\n",
      "bug for the bead in x0, y0 = 1447.58, 219.10\n",
      "bug for the bead in x0, y0 = 1447.58, 219.10\n",
      "bug for the bead in x0, y0 = 1447.58, 219.10\n",
      "bug for the bead in x0, y0 = 1447.58, 219.10\n",
      "bug for the bead in x0, y0 = 1447.58, 219.10\n",
      "bug for the bead in x0, y0 = 1447.58, 219.10\n",
      "bug for the bead in x0, y0 = 1447.58, 219.10\n",
      "bug for the bead in x0, y0 = 1447.58, 219.10\n",
      "bug for the bead in x0, y0 = 1447.58, 219.10\n",
      "bug for the bead in x0, y0 = 1447.58, 219.10\n",
      "bug for the bead in x0, y0 = 1447.58, 219.10\n",
      "bug for the bead in x0, y0 = 1447.58, 219.10\n",
      "bug for the bead in x0, y0 = 1447.58, 219.10\n",
      "bug for the bead in x0, y0 = 1447.58, 219.10\n",
      "bug for the bead in x0, y0 = 1447.58, 219.10\n",
      "bug for the bead in x0, y0 = 1447.58, 219.10\n",
      "bug for the bead in x0, y0 = 1447.58, 219.10\n",
      "bug for the bead in x0, y0 = 1447.58, 219.10\n",
      "bug for the bead in x0, y0 = 1447.58, 219.10\n",
      "bug for the bead in x0, y0 = 1447.58, 219.10\n",
      "bug for the bead in x0, y0 = 1447.58, 219.10\n",
      "bug for the bead in x0, y0 = 1447.58, 219.10\n",
      "bug for the bead in x0, y0 = 1447.58, 219.10\n",
      "bug for the bead in x0, y0 = 1447.58, 219.10\n",
      "bug for the bead in x0, y0 = 1447.58, 219.10\n",
      "bug for the bead in x0, y0 = 1447.58, 219.10\n",
      "bug for the bead in x0, y0 = 1447.58, 219.10\n",
      "bug for the bead in x0, y0 = 1447.58, 219.10\n",
      "bug for the bead in x0, y0 = 1447.58, 219.10\n",
      "bug for the bead in x0, y0 = 1447.58, 219.10\n",
      "bug for the bead in x0, y0 = 1447.58, 219.10\n",
      "bug for the bead in x0, y0 = 1447.58, 219.10\n",
      "bug for the bead in x0, y0 = 1447.58, 219.10\n",
      "bug for the bead in x0, y0 = 1447.58, 219.10\n",
      "bug for the bead in x0, y0 = 1447.58, 219.10\n",
      "bug for the bead in x0, y0 = 1447.58, 219.10\n",
      "bug for the bead in x0, y0 = 1447.58, 219.10\n",
      "bug for the bead in x0, y0 = 1447.58, 219.10\n",
      "bug for the bead in x0, y0 = 1447.58, 219.10\n",
      "bug for the bead in x0, y0 = 1447.58, 219.10\n",
      "bug for the bead in x0, y0 = 1447.58, 219.10\n",
      "bug for the bead in x0, y0 = 1447.58, 219.10\n",
      "bug for the bead in x0, y0 = 1447.58, 219.10\n",
      "bug for the bead in x0, y0 = 1447.58, 219.10\n",
      "bug for the bead in x0, y0 = 1447.58, 219.10\n",
      "bug for the bead in x0, y0 = 1447.58, 219.10\n",
      "bug for the bead in x0, y0 = 1447.58, 219.10\n",
      "bug for the bead in x0, y0 = 1447.58, 219.10\n",
      "bug for the bead in x0, y0 = 1447.58, 219.10\n",
      "bug for the bead in x0, y0 = 1447.58, 219.10\n",
      "bug for the bead in x0, y0 = 1447.58, 219.10\n",
      "bug for the bead in x0, y0 = 1447.58, 219.10\n",
      "bug for the bead in x0, y0 = 1447.58, 219.10\n",
      "bug for the bead in x0, y0 = 1447.58, 219.10\n",
      "bug for the bead in x0, y0 = 1447.58, 219.10\n",
      "bug for the bead in x0, y0 = 1447.58, 219.10\n",
      "bug for the bead in x0, y0 = 1447.58, 219.10\n",
      "bug for the bead in x0, y0 = 1447.58, 219.10\n",
      "bug for the bead in x0, y0 = 1447.58, 219.10\n",
      "bug for the bead in x0, y0 = 1447.58, 219.10\n",
      "bug for the bead in x0, y0 = 1447.58, 219.10\n",
      "bug for the bead in x0, y0 = 1447.58, 219.10\n",
      "bug for the bead in x0, y0 = 1447.58, 219.10\n",
      "bug for the bead in x0, y0 = 1447.58, 219.10\n",
      "bug for the bead in x0, y0 = 1447.58, 219.10\n",
      "bug for the bead in x0, y0 = 1447.58, 219.10\n",
      "bug for the bead in x0, y0 = 1447.58, 219.10\n",
      "bug for the bead in x0, y0 = 1447.58, 219.10\n",
      "bug for the bead in x0, y0 = 1447.58, 219.10\n",
      "bug for the bead in x0, y0 = 1447.58, 219.10\n",
      "bug for the bead in x0, y0 = 1447.58, 219.10\n",
      "bug for the bead in x0, y0 = 1447.58, 219.10\n",
      "bug for the bead in x0, y0 = 1447.58, 219.10\n",
      "bug for the bead in x0, y0 = 1447.58, 219.10\n",
      "bug for the bead in x0, y0 = 1447.58, 219.10\n",
      "bug for the bead in x0, y0 = 1447.58, 219.10\n",
      "bug for the bead in x0, y0 = 1447.58, 219.10\n",
      "bug for the bead in x0, y0 = 1447.58, 219.10\n",
      "bug for the bead in x0, y0 = 1447.58, 219.10\n",
      "bug for the bead in x0, y0 = 1447.58, 219.10\n",
      "bug for the bead in x0, y0 = 1447.58, 219.10\n",
      "bug for the bead in x0, y0 = 1447.58, 219.10\n",
      "bug for the bead in x0, y0 = 1447.58, 219.10\n",
      "bug for the bead in x0, y0 = 1447.58, 219.10\n",
      "bug for the bead in x0, y0 = 1447.58, 219.10\n",
      "bug for the bead in x0, y0 = 1447.58, 219.10\n",
      "bug for the bead in x0, y0 = 1447.58, 219.10\n",
      "bug for the bead in x0, y0 = 1447.58, 219.10\n",
      "bug for the bead in x0, y0 = 1447.58, 219.10\n",
      "bug for the bead in x0, y0 = 1447.58, 219.10\n",
      "bug for the bead in x0, y0 = 1447.58, 219.10\n",
      "bug for the bead in x0, y0 = 1447.58, 219.10\n",
      "bug for the bead in x0, y0 = 1447.58, 219.10\n",
      "bug for the bead in x0, y0 = 1447.58, 219.10\n",
      "bug for the bead in x0, y0 = 1447.58, 219.10\n",
      "bug for the bead in x0, y0 = 1447.58, 219.10\n",
      "bug for the bead in x0, y0 = 1447.58, 219.10\n",
      "bug for the bead in x0, y0 = 1447.58, 219.10\n",
      "bug for the bead in x0, y0 = 1447.58, 219.10\n",
      "bug for the bead in x0, y0 = 1447.58, 219.10\n",
      "bug for the bead in x0, y0 = 1447.58, 219.10\n",
      "bug for the bead in x0, y0 = 1447.58, 219.10\n",
      "bug for the bead in x0, y0 = 1447.58, 219.10\n",
      "bug for the bead in x0, y0 = 1447.58, 219.10\n",
      "bug for the bead in x0, y0 = 1447.58, 219.10\n",
      "bug for the bead in x0, y0 = 1447.58, 219.10\n",
      "bug for the bead in x0, y0 = 1447.58, 219.10\n",
      "bug for the bead in x0, y0 = 1447.58, 219.10\n",
      "bug for the bead in x0, y0 = 1447.58, 219.10\n",
      "bug for the bead in x0, y0 = 1447.58, 219.10\n",
      "bug for the bead in x0, y0 = 1447.58, 219.10\n",
      "bug for the bead in x0, y0 = 1447.58, 219.10\n",
      "bug for the bead in x0, y0 = 1447.58, 219.10\n",
      "bug for the bead in x0, y0 = 1447.58, 219.10\n",
      "bug for the bead in x0, y0 = 1447.58, 219.10\n",
      "bug for the bead in x0, y0 = 1447.58, 219.10\n",
      "bug for the bead in x0, y0 = 1447.58, 219.10\n",
      "bug for the bead in x0, y0 = 1447.58, 219.10\n",
      "bug for the bead in x0, y0 = 1447.58, 219.10\n",
      "bug for the bead in x0, y0 = 1447.58, 219.10\n",
      "bug for the bead in x0, y0 = 1447.58, 219.10\n",
      "bug for the bead in x0, y0 = 1447.58, 219.10\n",
      "bug for the bead in x0, y0 = 1447.58, 219.10\n",
      "bug for the bead in x0, y0 = 1447.58, 219.10\n",
      "bug for the bead in x0, y0 = 1447.58, 219.10\n",
      "bug for the bead in x0, y0 = 1447.58, 219.10\n",
      "bug for the bead in x0, y0 = 1447.58, 219.10\n",
      "bug for the bead in x0, y0 = 1447.58, 219.10\n",
      "bug for the bead in x0, y0 = 1447.58, 219.10\n",
      "bug for the bead in x0, y0 = 1447.58, 219.10\n",
      "bug for the bead in x0, y0 = 1447.58, 219.10\n",
      "bug for the bead in x0, y0 = 1447.58, 219.10\n",
      "bug for the bead in x0, y0 = 1447.58, 219.10\n",
      "bug for the bead in x0, y0 = 1447.58, 219.10\n",
      "bug for the bead in x0, y0 = 1447.58, 219.10\n",
      "bug for the bead in x0, y0 = 1447.58, 219.10\n",
      "bug for the bead in x0, y0 = 1447.58, 219.10\n",
      "bug for the bead in x0, y0 = 1447.58, 219.10\n",
      "bug for the bead in x0, y0 = 1447.58, 219.10\n",
      "bug for the bead in x0, y0 = 1447.58, 219.10\n",
      "bug for the bead in x0, y0 = 1447.58, 219.10\n",
      "bug for the bead in x0, y0 = 1447.58, 219.10\n",
      "bug for the bead in x0, y0 = 1447.58, 219.10\n",
      "bug for the bead in x0, y0 = 1447.58, 219.10\n",
      "bug for the bead in x0, y0 = 1447.58, 219.10\n",
      "bug for the bead in x0, y0 = 1447.58, 219.10\n",
      "bug for the bead in x0, y0 = 1447.58, 219.10\n",
      "bug for the bead in x0, y0 = 1447.58, 219.10\n",
      "bug for the bead in x0, y0 = 1447.58, 219.10\n",
      "bug for the bead in x0, y0 = 1447.58, 219.10\n",
      "bug for the bead in x0, y0 = 1447.58, 219.10\n",
      "bug for the bead in x0, y0 = 1447.58, 219.10\n",
      "bug for the bead in x0, y0 = 1447.58, 219.10\n",
      "bug for the bead in x0, y0 = 1447.58, 219.10\n",
      "bug for the bead in x0, y0 = 1447.58, 219.10\n",
      "bug for the bead in x0, y0 = 1447.58, 219.10\n",
      "bug for the bead in x0, y0 = 1447.58, 219.10\n",
      "bug for the bead in x0, y0 = 1447.58, 219.10\n",
      "bug for the bead in x0, y0 = 1447.58, 219.10\n",
      "bug for the bead in x0, y0 = 1447.58, 219.10\n",
      "bug for the bead in x0, y0 = 1447.58, 219.10\n",
      "bug for the bead in x0, y0 = 1447.58, 219.10\n",
      "bug for the bead in x0, y0 = 1447.58, 219.10\n",
      "bug for the bead in x0, y0 = 1447.58, 219.10\n",
      "bug for the bead in x0, y0 = 1447.58, 219.10\n",
      "bug for the bead in x0, y0 = 1447.58, 219.10\n",
      "bug for the bead in x0, y0 = 1447.58, 219.10\n",
      "bug for the bead in x0, y0 = 1447.58, 219.10\n",
      "bug for the bead in x0, y0 = 1447.58, 219.10\n",
      "bug for the bead in x0, y0 = 1447.58, 219.10\n",
      "bug for the bead in x0, y0 = 1447.58, 219.10\n",
      "bug for the bead in x0, y0 = 1447.58, 219.10\n",
      "bug for the bead in x0, y0 = 1447.58, 219.10\n",
      "bug for the bead in x0, y0 = 1447.58, 219.10\n",
      "bug for the bead in x0, y0 = 1447.58, 219.10\n",
      "bug for the bead in x0, y0 = 1447.58, 219.10\n",
      "bug for the bead in x0, y0 = 1447.58, 219.10\n",
      "bug for the bead in x0, y0 = 1447.58, 219.10\n",
      "bug for the bead in x0, y0 = 1447.58, 219.10\n",
      "bug for the bead in x0, y0 = 1447.58, 219.10\n",
      "bug for the bead in x0, y0 = 1447.58, 219.10\n",
      "bug for the bead in x0, y0 = 1447.58, 219.10\n",
      "bug for the bead in x0, y0 = 1447.58, 219.10\n",
      "bug for the bead in x0, y0 = 1447.58, 219.10\n",
      "bug for the bead in x0, y0 = 1447.58, 219.10\n",
      "bug for the bead in x0, y0 = 1447.58, 219.10\n",
      "191 191\n"
     ]
    },
    {
     "name": "stdout",
     "output_type": "stream",
     "text": [
      "132 289\n",
      "132\n",
      "Job done for the bead in x0, y0 = 1281.31, 269.96\n"
     ]
    },
    {
     "data": {
      "application/vnd.jupyter.widget-view+json": {
       "model_id": "fe04ba8c84de4d2dae18f04c7a3204b9",
       "version_major": 2,
       "version_minor": 0
      },
      "text/plain": [
       "Canvas(toolbar=Toolbar(toolitems=[('Home', 'Reset original view', 'home', 'home'), ('Back', 'Back to previous …"
      ]
     },
     "metadata": {},
     "output_type": "display_data"
    },
    {
     "name": "stdout",
     "output_type": "stream",
     "text": [
      "191 191\n",
      "0 401\n",
      "0\n",
      "Job done for the bead in x0, y0 = 1537.39, 276.83\n"
     ]
    },
    {
     "data": {
      "application/vnd.jupyter.widget-view+json": {
       "model_id": "fd6336c2b7a4417d87a6db7701707c10",
       "version_major": 2,
       "version_minor": 0
      },
      "text/plain": [
       "Canvas(toolbar=Toolbar(toolitems=[('Home', 'Reset original view', 'home', 'home'), ('Back', 'Back to previous …"
      ]
     },
     "metadata": {},
     "output_type": "display_data"
    },
    {
     "name": "stdout",
     "output_type": "stream",
     "text": [
      "bug for the bead in x0, y0 = 1537.39, 276.83\n",
      "bug for the bead in x0, y0 = 1537.39, 276.83\n",
      "bug for the bead in x0, y0 = 1537.39, 276.83\n",
      "bug for the bead in x0, y0 = 1537.39, 276.83\n",
      "bug for the bead in x0, y0 = 1537.39, 276.83\n",
      "bug for the bead in x0, y0 = 1537.39, 276.83\n",
      "bug for the bead in x0, y0 = 1537.39, 276.83\n",
      "bug for the bead in x0, y0 = 1537.39, 276.83\n",
      "bug for the bead in x0, y0 = 1537.39, 276.83\n",
      "bug for the bead in x0, y0 = 1537.39, 276.83\n",
      "bug for the bead in x0, y0 = 1537.39, 276.83\n",
      "bug for the bead in x0, y0 = 1537.39, 276.83\n",
      "bug for the bead in x0, y0 = 1537.39, 276.83\n",
      "bug for the bead in x0, y0 = 1537.39, 276.83\n",
      "bug for the bead in x0, y0 = 1537.39, 276.83\n",
      "bug for the bead in x0, y0 = 1537.39, 276.83\n",
      "bug for the bead in x0, y0 = 1537.39, 276.83\n",
      "bug for the bead in x0, y0 = 1537.39, 276.83\n",
      "bug for the bead in x0, y0 = 1537.39, 276.83\n",
      "bug for the bead in x0, y0 = 1537.39, 276.83\n",
      "bug for the bead in x0, y0 = 1537.39, 276.83\n",
      "bug for the bead in x0, y0 = 1537.39, 276.83\n",
      "bug for the bead in x0, y0 = 1537.39, 276.83\n",
      "bug for the bead in x0, y0 = 1537.39, 276.83\n",
      "bug for the bead in x0, y0 = 1537.39, 276.83\n",
      "bug for the bead in x0, y0 = 1537.39, 276.83\n",
      "bug for the bead in x0, y0 = 1537.39, 276.83\n",
      "bug for the bead in x0, y0 = 1537.39, 276.83\n",
      "bug for the bead in x0, y0 = 1537.39, 276.83\n",
      "bug for the bead in x0, y0 = 1537.39, 276.83\n",
      "bug for the bead in x0, y0 = 1537.39, 276.83\n",
      "bug for the bead in x0, y0 = 1537.39, 276.83\n",
      "bug for the bead in x0, y0 = 1537.39, 276.83\n",
      "bug for the bead in x0, y0 = 1537.39, 276.83\n",
      "bug for the bead in x0, y0 = 1537.39, 276.83\n",
      "bug for the bead in x0, y0 = 1537.39, 276.83\n",
      "bug for the bead in x0, y0 = 1537.39, 276.83\n",
      "bug for the bead in x0, y0 = 1537.39, 276.83\n",
      "bug for the bead in x0, y0 = 1537.39, 276.83\n",
      "bug for the bead in x0, y0 = 1537.39, 276.83\n",
      "bug for the bead in x0, y0 = 1537.39, 276.83\n",
      "bug for the bead in x0, y0 = 1537.39, 276.83\n",
      "bug for the bead in x0, y0 = 1537.39, 276.83\n",
      "bug for the bead in x0, y0 = 1537.39, 276.83\n",
      "bug for the bead in x0, y0 = 1537.39, 276.83\n",
      "bug for the bead in x0, y0 = 1537.39, 276.83\n",
      "bug for the bead in x0, y0 = 1537.39, 276.83\n",
      "bug for the bead in x0, y0 = 1537.39, 276.83\n",
      "bug for the bead in x0, y0 = 1537.39, 276.83\n",
      "bug for the bead in x0, y0 = 1537.39, 276.83\n",
      "bug for the bead in x0, y0 = 1537.39, 276.83\n",
      "bug for the bead in x0, y0 = 1537.39, 276.83\n",
      "bug for the bead in x0, y0 = 1537.39, 276.83\n",
      "bug for the bead in x0, y0 = 1537.39, 276.83\n",
      "bug for the bead in x0, y0 = 1537.39, 276.83\n",
      "bug for the bead in x0, y0 = 1537.39, 276.83\n",
      "bug for the bead in x0, y0 = 1537.39, 276.83\n",
      "bug for the bead in x0, y0 = 1537.39, 276.83\n",
      "bug for the bead in x0, y0 = 1537.39, 276.83\n",
      "bug for the bead in x0, y0 = 1537.39, 276.83\n",
      "bug for the bead in x0, y0 = 1537.39, 276.83\n",
      "bug for the bead in x0, y0 = 1537.39, 276.83\n",
      "bug for the bead in x0, y0 = 1537.39, 276.83\n",
      "bug for the bead in x0, y0 = 1537.39, 276.83\n",
      "bug for the bead in x0, y0 = 1537.39, 276.83\n",
      "bug for the bead in x0, y0 = 1537.39, 276.83\n",
      "bug for the bead in x0, y0 = 1537.39, 276.83\n",
      "bug for the bead in x0, y0 = 1537.39, 276.83\n",
      "bug for the bead in x0, y0 = 1537.39, 276.83\n",
      "bug for the bead in x0, y0 = 1537.39, 276.83\n",
      "bug for the bead in x0, y0 = 1537.39, 276.83\n",
      "bug for the bead in x0, y0 = 1537.39, 276.83\n",
      "bug for the bead in x0, y0 = 1537.39, 276.83\n",
      "bug for the bead in x0, y0 = 1537.39, 276.83\n",
      "bug for the bead in x0, y0 = 1537.39, 276.83\n",
      "bug for the bead in x0, y0 = 1537.39, 276.83\n",
      "bug for the bead in x0, y0 = 1537.39, 276.83\n",
      "bug for the bead in x0, y0 = 1537.39, 276.83\n",
      "bug for the bead in x0, y0 = 1537.39, 276.83\n",
      "bug for the bead in x0, y0 = 1537.39, 276.83\n",
      "bug for the bead in x0, y0 = 1537.39, 276.83\n",
      "bug for the bead in x0, y0 = 1537.39, 276.83\n",
      "bug for the bead in x0, y0 = 1537.39, 276.83\n",
      "bug for the bead in x0, y0 = 1537.39, 276.83\n",
      "bug for the bead in x0, y0 = 1537.39, 276.83\n",
      "bug for the bead in x0, y0 = 1537.39, 276.83\n",
      "bug for the bead in x0, y0 = 1537.39, 276.83\n",
      "bug for the bead in x0, y0 = 1537.39, 276.83\n",
      "bug for the bead in x0, y0 = 1537.39, 276.83\n",
      "bug for the bead in x0, y0 = 1537.39, 276.83\n",
      "bug for the bead in x0, y0 = 1537.39, 276.83\n",
      "bug for the bead in x0, y0 = 1537.39, 276.83\n",
      "bug for the bead in x0, y0 = 1537.39, 276.83\n",
      "bug for the bead in x0, y0 = 1537.39, 276.83\n",
      "bug for the bead in x0, y0 = 1537.39, 276.83\n",
      "bug for the bead in x0, y0 = 1537.39, 276.83\n",
      "bug for the bead in x0, y0 = 1537.39, 276.83\n",
      "bug for the bead in x0, y0 = 1537.39, 276.83\n",
      "bug for the bead in x0, y0 = 1537.39, 276.83\n",
      "bug for the bead in x0, y0 = 1537.39, 276.83\n",
      "bug for the bead in x0, y0 = 1537.39, 276.83\n",
      "bug for the bead in x0, y0 = 1537.39, 276.83\n",
      "bug for the bead in x0, y0 = 1537.39, 276.83\n",
      "bug for the bead in x0, y0 = 1537.39, 276.83\n",
      "bug for the bead in x0, y0 = 1537.39, 276.83\n",
      "bug for the bead in x0, y0 = 1537.39, 276.83\n",
      "bug for the bead in x0, y0 = 1537.39, 276.83\n",
      "bug for the bead in x0, y0 = 1537.39, 276.83\n",
      "bug for the bead in x0, y0 = 1537.39, 276.83\n",
      "bug for the bead in x0, y0 = 1537.39, 276.83\n",
      "bug for the bead in x0, y0 = 1537.39, 276.83\n",
      "bug for the bead in x0, y0 = 1537.39, 276.83\n",
      "bug for the bead in x0, y0 = 1537.39, 276.83\n",
      "bug for the bead in x0, y0 = 1537.39, 276.83\n",
      "bug for the bead in x0, y0 = 1537.39, 276.83\n",
      "bug for the bead in x0, y0 = 1537.39, 276.83\n",
      "bug for the bead in x0, y0 = 1537.39, 276.83\n",
      "bug for the bead in x0, y0 = 1537.39, 276.83\n",
      "bug for the bead in x0, y0 = 1537.39, 276.83\n",
      "bug for the bead in x0, y0 = 1537.39, 276.83\n",
      "bug for the bead in x0, y0 = 1537.39, 276.83\n",
      "bug for the bead in x0, y0 = 1537.39, 276.83\n",
      "bug for the bead in x0, y0 = 1537.39, 276.83\n",
      "bug for the bead in x0, y0 = 1537.39, 276.83\n",
      "bug for the bead in x0, y0 = 1537.39, 276.83\n",
      "bug for the bead in x0, y0 = 1537.39, 276.83\n",
      "bug for the bead in x0, y0 = 1537.39, 276.83\n",
      "bug for the bead in x0, y0 = 1537.39, 276.83\n",
      "bug for the bead in x0, y0 = 1537.39, 276.83\n",
      "bug for the bead in x0, y0 = 1537.39, 276.83\n",
      "bug for the bead in x0, y0 = 1537.39, 276.83\n",
      "bug for the bead in x0, y0 = 1537.39, 276.83\n",
      "bug for the bead in x0, y0 = 1537.39, 276.83\n",
      "bug for the bead in x0, y0 = 1537.39, 276.83\n",
      "bug for the bead in x0, y0 = 1537.39, 276.83\n",
      "bug for the bead in x0, y0 = 1537.39, 276.83\n",
      "bug for the bead in x0, y0 = 1537.39, 276.83\n",
      "bug for the bead in x0, y0 = 1537.39, 276.83\n",
      "bug for the bead in x0, y0 = 1537.39, 276.83\n",
      "bug for the bead in x0, y0 = 1537.39, 276.83\n",
      "bug for the bead in x0, y0 = 1537.39, 276.83\n",
      "bug for the bead in x0, y0 = 1537.39, 276.83\n",
      "bug for the bead in x0, y0 = 1537.39, 276.83\n",
      "bug for the bead in x0, y0 = 1537.39, 276.83\n",
      "bug for the bead in x0, y0 = 1537.39, 276.83\n",
      "bug for the bead in x0, y0 = 1537.39, 276.83\n",
      "bug for the bead in x0, y0 = 1537.39, 276.83\n",
      "bug for the bead in x0, y0 = 1537.39, 276.83\n",
      "bug for the bead in x0, y0 = 1537.39, 276.83\n",
      "bug for the bead in x0, y0 = 1537.39, 276.83\n",
      "bug for the bead in x0, y0 = 1537.39, 276.83\n",
      "bug for the bead in x0, y0 = 1537.39, 276.83\n",
      "bug for the bead in x0, y0 = 1537.39, 276.83\n",
      "bug for the bead in x0, y0 = 1537.39, 276.83\n",
      "bug for the bead in x0, y0 = 1537.39, 276.83\n",
      "bug for the bead in x0, y0 = 1537.39, 276.83\n",
      "bug for the bead in x0, y0 = 1537.39, 276.83\n",
      "bug for the bead in x0, y0 = 1537.39, 276.83\n",
      "bug for the bead in x0, y0 = 1537.39, 276.83\n",
      "bug for the bead in x0, y0 = 1537.39, 276.83\n",
      "bug for the bead in x0, y0 = 1537.39, 276.83\n",
      "bug for the bead in x0, y0 = 1537.39, 276.83\n",
      "bug for the bead in x0, y0 = 1537.39, 276.83\n",
      "bug for the bead in x0, y0 = 1537.39, 276.83\n",
      "bug for the bead in x0, y0 = 1537.39, 276.83\n",
      "bug for the bead in x0, y0 = 1537.39, 276.83\n",
      "bug for the bead in x0, y0 = 1537.39, 276.83\n",
      "bug for the bead in x0, y0 = 1537.39, 276.83\n",
      "bug for the bead in x0, y0 = 1537.39, 276.83\n",
      "bug for the bead in x0, y0 = 1537.39, 276.83\n",
      "bug for the bead in x0, y0 = 1537.39, 276.83\n",
      "bug for the bead in x0, y0 = 1537.39, 276.83\n",
      "bug for the bead in x0, y0 = 1537.39, 276.83\n",
      "bug for the bead in x0, y0 = 1537.39, 276.83\n",
      "bug for the bead in x0, y0 = 1537.39, 276.83\n",
      "bug for the bead in x0, y0 = 1537.39, 276.83\n",
      "191 191\n",
      "126 286\n",
      "126\n",
      "Job done for the bead in x0, y0 = 1799.49, 309.31\n"
     ]
    },
    {
     "data": {
      "application/vnd.jupyter.widget-view+json": {
       "model_id": "d471ff1071af466ca30f4fbdb55fd579",
       "version_major": 2,
       "version_minor": 0
      },
      "text/plain": [
       "Canvas(toolbar=Toolbar(toolitems=[('Home', 'Reset original view', 'home', 'home'), ('Back', 'Back to previous …"
      ]
     },
     "metadata": {},
     "output_type": "display_data"
    },
    {
     "name": "stdout",
     "output_type": "stream",
     "text": [
      "127 127\n",
      "122 218\n",
      "122\n",
      "Job done for the bead in x0, y0 = 1137.82, 316.64\n"
     ]
    },
    {
     "data": {
      "application/vnd.jupyter.widget-view+json": {
       "model_id": "d2257b1853be443db7311ae04a302185",
       "version_major": 2,
       "version_minor": 0
      },
      "text/plain": [
       "Canvas(toolbar=Toolbar(toolitems=[('Home', 'Reset original view', 'home', 'home'), ('Back', 'Back to previous …"
      ]
     },
     "metadata": {},
     "output_type": "display_data"
    },
    {
     "name": "stdout",
     "output_type": "stream",
     "text": [
      "127 127\n",
      "122 220\n",
      "122\n",
      "Job done for the bead in x0, y0 = 1043.71, 358.06\n"
     ]
    },
    {
     "data": {
      "application/vnd.jupyter.widget-view+json": {
       "model_id": "0fe7490c0d3d4918b86d02c9e69bf010",
       "version_major": 2,
       "version_minor": 0
      },
      "text/plain": [
       "Canvas(toolbar=Toolbar(toolitems=[('Home', 'Reset original view', 'home', 'home'), ('Back', 'Back to previous …"
      ]
     },
     "metadata": {},
     "output_type": "display_data"
    },
    {
     "name": "stdout",
     "output_type": "stream",
     "text": [
      "127 127\n",
      "293 300\n",
      "293\n",
      "Job done for the bead in x0, y0 = 554.48, 364.05\n"
     ]
    },
    {
     "data": {
      "application/vnd.jupyter.widget-view+json": {
       "model_id": "677651c55a6d49b8ac026353ef5cb33d",
       "version_major": 2,
       "version_minor": 0
      },
      "text/plain": [
       "Canvas(toolbar=Toolbar(toolitems=[('Home', 'Reset original view', 'home', 'home'), ('Back', 'Back to previous …"
      ]
     },
     "metadata": {},
     "output_type": "display_data"
    },
    {
     "name": "stdout",
     "output_type": "stream",
     "text": [
      "191 191\n",
      "293 300\n",
      "293\n",
      "Job done for the bead in x0, y0 = 622.61, 386.65\n"
     ]
    },
    {
     "data": {
      "application/vnd.jupyter.widget-view+json": {
       "model_id": "eaabdcca4a1a450a98ed6c8d46760a95",
       "version_major": 2,
       "version_minor": 0
      },
      "text/plain": [
       "Canvas(toolbar=Toolbar(toolitems=[('Home', 'Reset original view', 'home', 'home'), ('Back', 'Back to previous …"
      ]
     },
     "metadata": {},
     "output_type": "display_data"
    },
    {
     "name": "stdout",
     "output_type": "stream",
     "text": [
      "191 191\n",
      "124 219\n",
      "124\n",
      "Job done for the bead in x0, y0 = 886.09, 420.49\n"
     ]
    },
    {
     "data": {
      "application/vnd.jupyter.widget-view+json": {
       "model_id": "af52cdc0942e4d50b7d874c333a06726",
       "version_major": 2,
       "version_minor": 0
      },
      "text/plain": [
       "Canvas(toolbar=Toolbar(toolitems=[('Home', 'Reset original view', 'home', 'home'), ('Back', 'Back to previous …"
      ]
     },
     "metadata": {},
     "output_type": "display_data"
    },
    {
     "name": "stdout",
     "output_type": "stream",
     "text": [
      "127 127\n",
      "0 401\n",
      "0\n",
      "Job done for the bead in x0, y0 = 1108.33, 443.86\n"
     ]
    },
    {
     "data": {
      "application/vnd.jupyter.widget-view+json": {
       "model_id": "d120fdca7e2c480baf6f29adea089e59",
       "version_major": 2,
       "version_minor": 0
      },
      "text/plain": [
       "Canvas(toolbar=Toolbar(toolitems=[('Home', 'Reset original view', 'home', 'home'), ('Back', 'Back to previous …"
      ]
     },
     "metadata": {},
     "output_type": "display_data"
    },
    {
     "name": "stdout",
     "output_type": "stream",
     "text": [
      "bug for the bead in x0, y0 = 1108.33, 443.86\n",
      "bug for the bead in x0, y0 = 1108.33, 443.86\n",
      "bug for the bead in x0, y0 = 1108.33, 443.86\n",
      "bug for the bead in x0, y0 = 1108.33, 443.86\n",
      "bug for the bead in x0, y0 = 1108.33, 443.86\n",
      "bug for the bead in x0, y0 = 1108.33, 443.86\n",
      "bug for the bead in x0, y0 = 1108.33, 443.86\n",
      "bug for the bead in x0, y0 = 1108.33, 443.86\n",
      "bug for the bead in x0, y0 = 1108.33, 443.86\n",
      "bug for the bead in x0, y0 = 1108.33, 443.86\n",
      "bug for the bead in x0, y0 = 1108.33, 443.86\n",
      "bug for the bead in x0, y0 = 1108.33, 443.86\n",
      "bug for the bead in x0, y0 = 1108.33, 443.86\n",
      "bug for the bead in x0, y0 = 1108.33, 443.86\n",
      "bug for the bead in x0, y0 = 1108.33, 443.86\n",
      "bug for the bead in x0, y0 = 1108.33, 443.86\n",
      "bug for the bead in x0, y0 = 1108.33, 443.86\n",
      "bug for the bead in x0, y0 = 1108.33, 443.86\n",
      "bug for the bead in x0, y0 = 1108.33, 443.86\n",
      "bug for the bead in x0, y0 = 1108.33, 443.86\n",
      "bug for the bead in x0, y0 = 1108.33, 443.86\n",
      "bug for the bead in x0, y0 = 1108.33, 443.86\n",
      "bug for the bead in x0, y0 = 1108.33, 443.86\n",
      "bug for the bead in x0, y0 = 1108.33, 443.86\n",
      "bug for the bead in x0, y0 = 1108.33, 443.86\n",
      "bug for the bead in x0, y0 = 1108.33, 443.86\n",
      "bug for the bead in x0, y0 = 1108.33, 443.86\n",
      "bug for the bead in x0, y0 = 1108.33, 443.86\n",
      "bug for the bead in x0, y0 = 1108.33, 443.86\n",
      "bug for the bead in x0, y0 = 1108.33, 443.86\n",
      "bug for the bead in x0, y0 = 1108.33, 443.86\n",
      "bug for the bead in x0, y0 = 1108.33, 443.86\n",
      "bug for the bead in x0, y0 = 1108.33, 443.86\n",
      "bug for the bead in x0, y0 = 1108.33, 443.86\n",
      "bug for the bead in x0, y0 = 1108.33, 443.86\n",
      "bug for the bead in x0, y0 = 1108.33, 443.86\n",
      "bug for the bead in x0, y0 = 1108.33, 443.86\n",
      "bug for the bead in x0, y0 = 1108.33, 443.86\n",
      "bug for the bead in x0, y0 = 1108.33, 443.86\n",
      "bug for the bead in x0, y0 = 1108.33, 443.86\n",
      "bug for the bead in x0, y0 = 1108.33, 443.86\n",
      "bug for the bead in x0, y0 = 1108.33, 443.86\n",
      "bug for the bead in x0, y0 = 1108.33, 443.86\n",
      "bug for the bead in x0, y0 = 1108.33, 443.86\n",
      "bug for the bead in x0, y0 = 1108.33, 443.86\n",
      "bug for the bead in x0, y0 = 1108.33, 443.86\n",
      "bug for the bead in x0, y0 = 1108.33, 443.86\n",
      "bug for the bead in x0, y0 = 1108.33, 443.86\n",
      "bug for the bead in x0, y0 = 1108.33, 443.86\n",
      "bug for the bead in x0, y0 = 1108.33, 443.86\n",
      "bug for the bead in x0, y0 = 1108.33, 443.86\n",
      "bug for the bead in x0, y0 = 1108.33, 443.86\n",
      "bug for the bead in x0, y0 = 1108.33, 443.86\n",
      "bug for the bead in x0, y0 = 1108.33, 443.86\n",
      "bug for the bead in x0, y0 = 1108.33, 443.86\n",
      "bug for the bead in x0, y0 = 1108.33, 443.86\n",
      "bug for the bead in x0, y0 = 1108.33, 443.86\n",
      "bug for the bead in x0, y0 = 1108.33, 443.86\n",
      "bug for the bead in x0, y0 = 1108.33, 443.86\n",
      "bug for the bead in x0, y0 = 1108.33, 443.86\n",
      "bug for the bead in x0, y0 = 1108.33, 443.86\n",
      "bug for the bead in x0, y0 = 1108.33, 443.86\n",
      "bug for the bead in x0, y0 = 1108.33, 443.86\n",
      "bug for the bead in x0, y0 = 1108.33, 443.86\n",
      "bug for the bead in x0, y0 = 1108.33, 443.86\n",
      "bug for the bead in x0, y0 = 1108.33, 443.86\n",
      "bug for the bead in x0, y0 = 1108.33, 443.86\n",
      "bug for the bead in x0, y0 = 1108.33, 443.86\n",
      "bug for the bead in x0, y0 = 1108.33, 443.86\n",
      "bug for the bead in x0, y0 = 1108.33, 443.86\n",
      "bug for the bead in x0, y0 = 1108.33, 443.86\n",
      "bug for the bead in x0, y0 = 1108.33, 443.86\n",
      "bug for the bead in x0, y0 = 1108.33, 443.86\n",
      "bug for the bead in x0, y0 = 1108.33, 443.86\n",
      "bug for the bead in x0, y0 = 1108.33, 443.86\n",
      "bug for the bead in x0, y0 = 1108.33, 443.86\n",
      "bug for the bead in x0, y0 = 1108.33, 443.86\n",
      "bug for the bead in x0, y0 = 1108.33, 443.86\n",
      "bug for the bead in x0, y0 = 1108.33, 443.86\n",
      "bug for the bead in x0, y0 = 1108.33, 443.86\n",
      "bug for the bead in x0, y0 = 1108.33, 443.86\n",
      "bug for the bead in x0, y0 = 1108.33, 443.86\n",
      "bug for the bead in x0, y0 = 1108.33, 443.86\n",
      "bug for the bead in x0, y0 = 1108.33, 443.86\n",
      "bug for the bead in x0, y0 = 1108.33, 443.86\n",
      "bug for the bead in x0, y0 = 1108.33, 443.86\n",
      "bug for the bead in x0, y0 = 1108.33, 443.86\n",
      "bug for the bead in x0, y0 = 1108.33, 443.86\n",
      "bug for the bead in x0, y0 = 1108.33, 443.86\n",
      "bug for the bead in x0, y0 = 1108.33, 443.86\n",
      "bug for the bead in x0, y0 = 1108.33, 443.86\n",
      "bug for the bead in x0, y0 = 1108.33, 443.86\n",
      "bug for the bead in x0, y0 = 1108.33, 443.86\n",
      "bug for the bead in x0, y0 = 1108.33, 443.86\n",
      "bug for the bead in x0, y0 = 1108.33, 443.86\n",
      "bug for the bead in x0, y0 = 1108.33, 443.86\n",
      "bug for the bead in x0, y0 = 1108.33, 443.86\n",
      "bug for the bead in x0, y0 = 1108.33, 443.86\n",
      "bug for the bead in x0, y0 = 1108.33, 443.86\n",
      "bug for the bead in x0, y0 = 1108.33, 443.86\n",
      "bug for the bead in x0, y0 = 1108.33, 443.86\n",
      "bug for the bead in x0, y0 = 1108.33, 443.86\n",
      "bug for the bead in x0, y0 = 1108.33, 443.86\n",
      "bug for the bead in x0, y0 = 1108.33, 443.86\n",
      "bug for the bead in x0, y0 = 1108.33, 443.86\n",
      "bug for the bead in x0, y0 = 1108.33, 443.86\n",
      "bug for the bead in x0, y0 = 1108.33, 443.86\n",
      "bug for the bead in x0, y0 = 1108.33, 443.86\n",
      "bug for the bead in x0, y0 = 1108.33, 443.86\n",
      "bug for the bead in x0, y0 = 1108.33, 443.86\n",
      "bug for the bead in x0, y0 = 1108.33, 443.86\n",
      "bug for the bead in x0, y0 = 1108.33, 443.86\n",
      "bug for the bead in x0, y0 = 1108.33, 443.86\n",
      "bug for the bead in x0, y0 = 1108.33, 443.86\n",
      "bug for the bead in x0, y0 = 1108.33, 443.86\n",
      "bug for the bead in x0, y0 = 1108.33, 443.86\n",
      "bug for the bead in x0, y0 = 1108.33, 443.86\n",
      "bug for the bead in x0, y0 = 1108.33, 443.86\n",
      "bug for the bead in x0, y0 = 1108.33, 443.86\n",
      "bug for the bead in x0, y0 = 1108.33, 443.86\n",
      "bug for the bead in x0, y0 = 1108.33, 443.86\n",
      "bug for the bead in x0, y0 = 1108.33, 443.86\n",
      "bug for the bead in x0, y0 = 1108.33, 443.86\n",
      "bug for the bead in x0, y0 = 1108.33, 443.86\n",
      "bug for the bead in x0, y0 = 1108.33, 443.86\n",
      "bug for the bead in x0, y0 = 1108.33, 443.86\n",
      "bug for the bead in x0, y0 = 1108.33, 443.86\n",
      "bug for the bead in x0, y0 = 1108.33, 443.86\n",
      "bug for the bead in x0, y0 = 1108.33, 443.86\n",
      "bug for the bead in x0, y0 = 1108.33, 443.86\n",
      "bug for the bead in x0, y0 = 1108.33, 443.86\n",
      "bug for the bead in x0, y0 = 1108.33, 443.86\n",
      "bug for the bead in x0, y0 = 1108.33, 443.86\n",
      "bug for the bead in x0, y0 = 1108.33, 443.86\n",
      "bug for the bead in x0, y0 = 1108.33, 443.86\n",
      "bug for the bead in x0, y0 = 1108.33, 443.86\n",
      "bug for the bead in x0, y0 = 1108.33, 443.86\n",
      "bug for the bead in x0, y0 = 1108.33, 443.86\n",
      "bug for the bead in x0, y0 = 1108.33, 443.86\n",
      "bug for the bead in x0, y0 = 1108.33, 443.86\n",
      "bug for the bead in x0, y0 = 1108.33, 443.86\n",
      "bug for the bead in x0, y0 = 1108.33, 443.86\n",
      "bug for the bead in x0, y0 = 1108.33, 443.86\n",
      "bug for the bead in x0, y0 = 1108.33, 443.86\n",
      "bug for the bead in x0, y0 = 1108.33, 443.86\n",
      "bug for the bead in x0, y0 = 1108.33, 443.86\n",
      "bug for the bead in x0, y0 = 1108.33, 443.86\n",
      "bug for the bead in x0, y0 = 1108.33, 443.86\n",
      "bug for the bead in x0, y0 = 1108.33, 443.86\n",
      "bug for the bead in x0, y0 = 1108.33, 443.86\n",
      "bug for the bead in x0, y0 = 1108.33, 443.86\n",
      "bug for the bead in x0, y0 = 1108.33, 443.86\n",
      "bug for the bead in x0, y0 = 1108.33, 443.86\n",
      "bug for the bead in x0, y0 = 1108.33, 443.86\n",
      "bug for the bead in x0, y0 = 1108.33, 443.86\n",
      "bug for the bead in x0, y0 = 1108.33, 443.86\n",
      "bug for the bead in x0, y0 = 1108.33, 443.86\n",
      "bug for the bead in x0, y0 = 1108.33, 443.86\n",
      "bug for the bead in x0, y0 = 1108.33, 443.86\n",
      "bug for the bead in x0, y0 = 1108.33, 443.86\n",
      "bug for the bead in x0, y0 = 1108.33, 443.86\n",
      "bug for the bead in x0, y0 = 1108.33, 443.86\n",
      "bug for the bead in x0, y0 = 1108.33, 443.86\n",
      "bug for the bead in x0, y0 = 1108.33, 443.86\n",
      "bug for the bead in x0, y0 = 1108.33, 443.86\n",
      "bug for the bead in x0, y0 = 1108.33, 443.86\n",
      "bug for the bead in x0, y0 = 1108.33, 443.86\n",
      "bug for the bead in x0, y0 = 1108.33, 443.86\n",
      "bug for the bead in x0, y0 = 1108.33, 443.86\n",
      "bug for the bead in x0, y0 = 1108.33, 443.86\n",
      "bug for the bead in x0, y0 = 1108.33, 443.86\n",
      "bug for the bead in x0, y0 = 1108.33, 443.86\n",
      "bug for the bead in x0, y0 = 1108.33, 443.86\n",
      "bug for the bead in x0, y0 = 1108.33, 443.86\n",
      "bug for the bead in x0, y0 = 1108.33, 443.86\n",
      "bug for the bead in x0, y0 = 1108.33, 443.86\n",
      "bug for the bead in x0, y0 = 1108.33, 443.86\n",
      "bug for the bead in x0, y0 = 1108.33, 443.86\n",
      "bug for the bead in x0, y0 = 1108.33, 443.86\n",
      "bug for the bead in x0, y0 = 1108.33, 443.86\n",
      "bug for the bead in x0, y0 = 1108.33, 443.86\n",
      "bug for the bead in x0, y0 = 1108.33, 443.86\n",
      "bug for the bead in x0, y0 = 1108.33, 443.86\n",
      "bug for the bead in x0, y0 = 1108.33, 443.86\n",
      "bug for the bead in x0, y0 = 1108.33, 443.86\n",
      "bug for the bead in x0, y0 = 1108.33, 443.86\n",
      "191 191\n"
     ]
    },
    {
     "name": "stdout",
     "output_type": "stream",
     "text": [
      "132 298\n",
      "132\n",
      "Job done for the bead in x0, y0 = 1382.26, 471.23\n"
     ]
    },
    {
     "data": {
      "application/vnd.jupyter.widget-view+json": {
       "model_id": "3a473e2e54974627a5a94c81680ab2ca",
       "version_major": 2,
       "version_minor": 0
      },
      "text/plain": [
       "Canvas(toolbar=Toolbar(toolitems=[('Home', 'Reset original view', 'home', 'home'), ('Back', 'Back to previous …"
      ]
     },
     "metadata": {},
     "output_type": "display_data"
    },
    {
     "name": "stdout",
     "output_type": "stream",
     "text": [
      "191 191\n",
      "0 401\n",
      "0\n",
      "Job done for the bead in x0, y0 = 1057.46, 493.83\n"
     ]
    },
    {
     "data": {
      "application/vnd.jupyter.widget-view+json": {
       "model_id": "230bb4806fea4a7793410524d6ffeba2",
       "version_major": 2,
       "version_minor": 0
      },
      "text/plain": [
       "Canvas(toolbar=Toolbar(toolitems=[('Home', 'Reset original view', 'home', 'home'), ('Back', 'Back to previous …"
      ]
     },
     "metadata": {},
     "output_type": "display_data"
    },
    {
     "name": "stdout",
     "output_type": "stream",
     "text": [
      "bug for the bead in x0, y0 = 1057.46, 493.83\n",
      "bug for the bead in x0, y0 = 1057.46, 493.83\n",
      "bug for the bead in x0, y0 = 1057.46, 493.83\n",
      "bug for the bead in x0, y0 = 1057.46, 493.83\n",
      "bug for the bead in x0, y0 = 1057.46, 493.83\n",
      "bug for the bead in x0, y0 = 1057.46, 493.83\n",
      "bug for the bead in x0, y0 = 1057.46, 493.83\n",
      "bug for the bead in x0, y0 = 1057.46, 493.83\n",
      "bug for the bead in x0, y0 = 1057.46, 493.83\n",
      "bug for the bead in x0, y0 = 1057.46, 493.83\n",
      "bug for the bead in x0, y0 = 1057.46, 493.83\n",
      "bug for the bead in x0, y0 = 1057.46, 493.83\n",
      "bug for the bead in x0, y0 = 1057.46, 493.83\n",
      "bug for the bead in x0, y0 = 1057.46, 493.83\n",
      "bug for the bead in x0, y0 = 1057.46, 493.83\n",
      "bug for the bead in x0, y0 = 1057.46, 493.83\n",
      "bug for the bead in x0, y0 = 1057.46, 493.83\n",
      "bug for the bead in x0, y0 = 1057.46, 493.83\n",
      "bug for the bead in x0, y0 = 1057.46, 493.83\n",
      "bug for the bead in x0, y0 = 1057.46, 493.83\n",
      "bug for the bead in x0, y0 = 1057.46, 493.83\n",
      "bug for the bead in x0, y0 = 1057.46, 493.83\n",
      "bug for the bead in x0, y0 = 1057.46, 493.83\n",
      "bug for the bead in x0, y0 = 1057.46, 493.83\n",
      "bug for the bead in x0, y0 = 1057.46, 493.83\n",
      "bug for the bead in x0, y0 = 1057.46, 493.83\n",
      "bug for the bead in x0, y0 = 1057.46, 493.83\n",
      "bug for the bead in x0, y0 = 1057.46, 493.83\n",
      "bug for the bead in x0, y0 = 1057.46, 493.83\n",
      "bug for the bead in x0, y0 = 1057.46, 493.83\n",
      "bug for the bead in x0, y0 = 1057.46, 493.83\n",
      "bug for the bead in x0, y0 = 1057.46, 493.83\n",
      "bug for the bead in x0, y0 = 1057.46, 493.83\n",
      "bug for the bead in x0, y0 = 1057.46, 493.83\n",
      "bug for the bead in x0, y0 = 1057.46, 493.83\n",
      "bug for the bead in x0, y0 = 1057.46, 493.83\n",
      "bug for the bead in x0, y0 = 1057.46, 493.83\n",
      "bug for the bead in x0, y0 = 1057.46, 493.83\n",
      "bug for the bead in x0, y0 = 1057.46, 493.83\n",
      "bug for the bead in x0, y0 = 1057.46, 493.83\n",
      "bug for the bead in x0, y0 = 1057.46, 493.83\n",
      "bug for the bead in x0, y0 = 1057.46, 493.83\n",
      "bug for the bead in x0, y0 = 1057.46, 493.83\n",
      "bug for the bead in x0, y0 = 1057.46, 493.83\n",
      "bug for the bead in x0, y0 = 1057.46, 493.83\n",
      "bug for the bead in x0, y0 = 1057.46, 493.83\n",
      "bug for the bead in x0, y0 = 1057.46, 493.83\n",
      "bug for the bead in x0, y0 = 1057.46, 493.83\n",
      "bug for the bead in x0, y0 = 1057.46, 493.83\n",
      "bug for the bead in x0, y0 = 1057.46, 493.83\n",
      "bug for the bead in x0, y0 = 1057.46, 493.83\n",
      "bug for the bead in x0, y0 = 1057.46, 493.83\n",
      "bug for the bead in x0, y0 = 1057.46, 493.83\n",
      "bug for the bead in x0, y0 = 1057.46, 493.83\n",
      "bug for the bead in x0, y0 = 1057.46, 493.83\n",
      "bug for the bead in x0, y0 = 1057.46, 493.83\n",
      "bug for the bead in x0, y0 = 1057.46, 493.83\n",
      "bug for the bead in x0, y0 = 1057.46, 493.83\n",
      "bug for the bead in x0, y0 = 1057.46, 493.83\n",
      "bug for the bead in x0, y0 = 1057.46, 493.83\n",
      "bug for the bead in x0, y0 = 1057.46, 493.83\n",
      "bug for the bead in x0, y0 = 1057.46, 493.83\n",
      "bug for the bead in x0, y0 = 1057.46, 493.83\n",
      "bug for the bead in x0, y0 = 1057.46, 493.83\n",
      "bug for the bead in x0, y0 = 1057.46, 493.83\n",
      "bug for the bead in x0, y0 = 1057.46, 493.83\n",
      "bug for the bead in x0, y0 = 1057.46, 493.83\n",
      "bug for the bead in x0, y0 = 1057.46, 493.83\n",
      "bug for the bead in x0, y0 = 1057.46, 493.83\n",
      "bug for the bead in x0, y0 = 1057.46, 493.83\n",
      "bug for the bead in x0, y0 = 1057.46, 493.83\n",
      "bug for the bead in x0, y0 = 1057.46, 493.83\n",
      "bug for the bead in x0, y0 = 1057.46, 493.83\n",
      "bug for the bead in x0, y0 = 1057.46, 493.83\n",
      "bug for the bead in x0, y0 = 1057.46, 493.83\n",
      "bug for the bead in x0, y0 = 1057.46, 493.83\n",
      "bug for the bead in x0, y0 = 1057.46, 493.83\n",
      "bug for the bead in x0, y0 = 1057.46, 493.83\n",
      "bug for the bead in x0, y0 = 1057.46, 493.83\n",
      "bug for the bead in x0, y0 = 1057.46, 493.83\n",
      "bug for the bead in x0, y0 = 1057.46, 493.83\n",
      "bug for the bead in x0, y0 = 1057.46, 493.83\n",
      "bug for the bead in x0, y0 = 1057.46, 493.83\n",
      "bug for the bead in x0, y0 = 1057.46, 493.83\n",
      "bug for the bead in x0, y0 = 1057.46, 493.83\n",
      "bug for the bead in x0, y0 = 1057.46, 493.83\n",
      "bug for the bead in x0, y0 = 1057.46, 493.83\n",
      "bug for the bead in x0, y0 = 1057.46, 493.83\n",
      "bug for the bead in x0, y0 = 1057.46, 493.83\n",
      "bug for the bead in x0, y0 = 1057.46, 493.83\n",
      "bug for the bead in x0, y0 = 1057.46, 493.83\n",
      "bug for the bead in x0, y0 = 1057.46, 493.83\n",
      "bug for the bead in x0, y0 = 1057.46, 493.83\n",
      "bug for the bead in x0, y0 = 1057.46, 493.83\n",
      "bug for the bead in x0, y0 = 1057.46, 493.83\n",
      "bug for the bead in x0, y0 = 1057.46, 493.83\n",
      "bug for the bead in x0, y0 = 1057.46, 493.83\n",
      "bug for the bead in x0, y0 = 1057.46, 493.83\n",
      "bug for the bead in x0, y0 = 1057.46, 493.83\n",
      "bug for the bead in x0, y0 = 1057.46, 493.83\n",
      "bug for the bead in x0, y0 = 1057.46, 493.83\n",
      "bug for the bead in x0, y0 = 1057.46, 493.83\n",
      "bug for the bead in x0, y0 = 1057.46, 493.83\n",
      "bug for the bead in x0, y0 = 1057.46, 493.83\n",
      "bug for the bead in x0, y0 = 1057.46, 493.83\n",
      "bug for the bead in x0, y0 = 1057.46, 493.83\n",
      "bug for the bead in x0, y0 = 1057.46, 493.83\n",
      "bug for the bead in x0, y0 = 1057.46, 493.83\n",
      "bug for the bead in x0, y0 = 1057.46, 493.83\n",
      "bug for the bead in x0, y0 = 1057.46, 493.83\n",
      "bug for the bead in x0, y0 = 1057.46, 493.83\n",
      "bug for the bead in x0, y0 = 1057.46, 493.83\n",
      "bug for the bead in x0, y0 = 1057.46, 493.83\n",
      "bug for the bead in x0, y0 = 1057.46, 493.83\n",
      "bug for the bead in x0, y0 = 1057.46, 493.83\n",
      "bug for the bead in x0, y0 = 1057.46, 493.83\n",
      "bug for the bead in x0, y0 = 1057.46, 493.83\n",
      "bug for the bead in x0, y0 = 1057.46, 493.83\n",
      "bug for the bead in x0, y0 = 1057.46, 493.83\n",
      "bug for the bead in x0, y0 = 1057.46, 493.83\n",
      "bug for the bead in x0, y0 = 1057.46, 493.83\n",
      "bug for the bead in x0, y0 = 1057.46, 493.83\n",
      "bug for the bead in x0, y0 = 1057.46, 493.83\n",
      "bug for the bead in x0, y0 = 1057.46, 493.83\n",
      "bug for the bead in x0, y0 = 1057.46, 493.83\n",
      "bug for the bead in x0, y0 = 1057.46, 493.83\n",
      "bug for the bead in x0, y0 = 1057.46, 493.83\n",
      "bug for the bead in x0, y0 = 1057.46, 493.83\n",
      "bug for the bead in x0, y0 = 1057.46, 493.83\n",
      "bug for the bead in x0, y0 = 1057.46, 493.83\n",
      "bug for the bead in x0, y0 = 1057.46, 493.83\n",
      "bug for the bead in x0, y0 = 1057.46, 493.83\n",
      "bug for the bead in x0, y0 = 1057.46, 493.83\n",
      "bug for the bead in x0, y0 = 1057.46, 493.83\n",
      "bug for the bead in x0, y0 = 1057.46, 493.83\n",
      "bug for the bead in x0, y0 = 1057.46, 493.83\n",
      "bug for the bead in x0, y0 = 1057.46, 493.83\n",
      "bug for the bead in x0, y0 = 1057.46, 493.83\n",
      "bug for the bead in x0, y0 = 1057.46, 493.83\n",
      "bug for the bead in x0, y0 = 1057.46, 493.83\n",
      "bug for the bead in x0, y0 = 1057.46, 493.83\n",
      "bug for the bead in x0, y0 = 1057.46, 493.83\n",
      "bug for the bead in x0, y0 = 1057.46, 493.83\n",
      "bug for the bead in x0, y0 = 1057.46, 493.83\n",
      "bug for the bead in x0, y0 = 1057.46, 493.83\n",
      "bug for the bead in x0, y0 = 1057.46, 493.83\n",
      "bug for the bead in x0, y0 = 1057.46, 493.83\n",
      "bug for the bead in x0, y0 = 1057.46, 493.83\n",
      "bug for the bead in x0, y0 = 1057.46, 493.83\n",
      "bug for the bead in x0, y0 = 1057.46, 493.83\n",
      "bug for the bead in x0, y0 = 1057.46, 493.83\n",
      "bug for the bead in x0, y0 = 1057.46, 493.83\n",
      "bug for the bead in x0, y0 = 1057.46, 493.83\n",
      "bug for the bead in x0, y0 = 1057.46, 493.83\n",
      "bug for the bead in x0, y0 = 1057.46, 493.83\n",
      "bug for the bead in x0, y0 = 1057.46, 493.83\n",
      "bug for the bead in x0, y0 = 1057.46, 493.83\n",
      "bug for the bead in x0, y0 = 1057.46, 493.83\n",
      "bug for the bead in x0, y0 = 1057.46, 493.83\n",
      "bug for the bead in x0, y0 = 1057.46, 493.83\n",
      "bug for the bead in x0, y0 = 1057.46, 493.83\n",
      "bug for the bead in x0, y0 = 1057.46, 493.83\n",
      "bug for the bead in x0, y0 = 1057.46, 493.83\n",
      "bug for the bead in x0, y0 = 1057.46, 493.83\n",
      "bug for the bead in x0, y0 = 1057.46, 493.83\n",
      "bug for the bead in x0, y0 = 1057.46, 493.83\n",
      "bug for the bead in x0, y0 = 1057.46, 493.83\n",
      "bug for the bead in x0, y0 = 1057.46, 493.83\n",
      "bug for the bead in x0, y0 = 1057.46, 493.83\n",
      "bug for the bead in x0, y0 = 1057.46, 493.83\n",
      "bug for the bead in x0, y0 = 1057.46, 493.83\n",
      "bug for the bead in x0, y0 = 1057.46, 493.83\n",
      "bug for the bead in x0, y0 = 1057.46, 493.83\n",
      "bug for the bead in x0, y0 = 1057.46, 493.83\n",
      "bug for the bead in x0, y0 = 1057.46, 493.83\n",
      "bug for the bead in x0, y0 = 1057.46, 493.83\n",
      "bug for the bead in x0, y0 = 1057.46, 493.83\n",
      "bug for the bead in x0, y0 = 1057.46, 493.83\n",
      "bug for the bead in x0, y0 = 1057.46, 493.83\n",
      "bug for the bead in x0, y0 = 1057.46, 493.83\n",
      "bug for the bead in x0, y0 = 1057.46, 493.83\n",
      "bug for the bead in x0, y0 = 1057.46, 493.83\n",
      "bug for the bead in x0, y0 = 1057.46, 493.83\n",
      "bug for the bead in x0, y0 = 1057.46, 493.83\n",
      "bug for the bead in x0, y0 = 1057.46, 493.83\n",
      "bug for the bead in x0, y0 = 1057.46, 493.83\n",
      "bug for the bead in x0, y0 = 1057.46, 493.83\n",
      "bug for the bead in x0, y0 = 1057.46, 493.83\n",
      "bug for the bead in x0, y0 = 1057.46, 493.83\n",
      "bug for the bead in x0, y0 = 1057.46, 493.83\n",
      "bug for the bead in x0, y0 = 1057.46, 493.83\n",
      "bug for the bead in x0, y0 = 1057.46, 493.83\n",
      "bug for the bead in x0, y0 = 1057.46, 493.83\n",
      "bug for the bead in x0, y0 = 1057.46, 493.83\n",
      "191 191\n"
     ]
    },
    {
     "name": "stdout",
     "output_type": "stream",
     "text": [
      "142 301\n",
      "142\n",
      "Job done for the bead in x0, y0 = 443.36, 522.10\n"
     ]
    },
    {
     "data": {
      "application/vnd.jupyter.widget-view+json": {
       "model_id": "f695f9b1a44f4da8974e8c8dc4de7417",
       "version_major": 2,
       "version_minor": 0
      },
      "text/plain": [
       "Canvas(toolbar=Toolbar(toolitems=[('Home', 'Reset original view', 'home', 'home'), ('Back', 'Back to previous …"
      ]
     },
     "metadata": {},
     "output_type": "display_data"
    },
    {
     "name": "stdout",
     "output_type": "stream",
     "text": [
      "127 127\n",
      "0\n",
      "2.7\n",
      "2.7\n",
      "4.5\n",
      "2.7\n",
      "4.5\n",
      "4.5\n",
      "4.5\n",
      "2.7\n",
      "2.7\n",
      "2.7\n",
      "4.5\n",
      "4.5\n",
      "2.7\n",
      "4.5\n",
      "4.5\n",
      "4.5\n",
      "2.7\n"
     ]
    }
   ],
   "source": [
    "mbd.build_beadList()\n",
    "mbd.nB\n",
    "for bD in mbd.get_beadList():\n",
    "    print(bD.D)\n"
   ]
  },
  {
   "cell_type": "code",
   "execution_count": null,
   "id": "58bf7514",
   "metadata": {},
   "outputs": [],
   "source": [
    "mbd.I"
   ]
  },
  {
   "cell_type": "code",
   "execution_count": 154,
   "id": "db357d23",
   "metadata": {},
   "outputs": [
    {
     "data": {
      "text/plain": [
       "array([[1, 2, 3],\n",
       "       [4, 5, 6],\n",
       "       [7, 8, 9]])"
      ]
     },
     "execution_count": 154,
     "metadata": {},
     "output_type": "execute_result"
    }
   ],
   "source": [
    "A = np.array([[1, 2, 3],[4, 5, 6],[7, 8, 9]])\n",
    "A"
   ]
  },
  {
   "cell_type": "code",
   "execution_count": 155,
   "id": "462bfb4a",
   "metadata": {},
   "outputs": [
    {
     "data": {
      "text/plain": [
       "array([[[0., 0.],\n",
       "        [0., 0.]],\n",
       "\n",
       "       [[0., 0.],\n",
       "        [0., 0.]],\n",
       "\n",
       "       [[0., 0.],\n",
       "        [0., 0.]]])"
      ]
     },
     "execution_count": 155,
     "metadata": {},
     "output_type": "execute_result"
    }
   ],
   "source": [
    "O = np.zeros([3, 2, 2])\n",
    "O"
   ]
  },
  {
   "cell_type": "code",
   "execution_count": 156,
   "id": "66827439",
   "metadata": {},
   "outputs": [
    {
     "data": {
      "text/plain": [
       "array([[0., 0.],\n",
       "       [0., 0.]])"
      ]
     },
     "execution_count": 156,
     "metadata": {},
     "output_type": "execute_result"
    }
   ],
   "source": [
    "O[1]"
   ]
  },
  {
   "cell_type": "code",
   "execution_count": 157,
   "id": "717ffdfc",
   "metadata": {},
   "outputs": [
    {
     "data": {
      "text/plain": [
       "array([[[0., 0.],\n",
       "        [0., 0.]],\n",
       "\n",
       "       [[1., 2.],\n",
       "        [4., 5.]],\n",
       "\n",
       "       [[0., 0.],\n",
       "        [0., 0.]]])"
      ]
     },
     "execution_count": 157,
     "metadata": {},
     "output_type": "execute_result"
    }
   ],
   "source": [
    "O[1,:,:] = A[:2,:2]\n",
    "O"
   ]
  },
  {
   "cell_type": "code",
   "execution_count": 160,
   "id": "846811d5",
   "metadata": {},
   "outputs": [
    {
     "data": {
      "text/plain": [
       "array([[0, 2, 3],\n",
       "       [4, 5, 6],\n",
       "       [7, 8, 9]])"
      ]
     },
     "execution_count": 160,
     "metadata": {},
     "output_type": "execute_result"
    }
   ],
   "source": [
    "A[0,0] = 0\n",
    "A"
   ]
  },
  {
   "cell_type": "code",
   "execution_count": 159,
   "id": "e5195aa9",
   "metadata": {},
   "outputs": [
    {
     "data": {
      "text/plain": [
       "array([[[0., 0.],\n",
       "        [0., 0.]],\n",
       "\n",
       "       [[1., 2.],\n",
       "        [4., 5.]],\n",
       "\n",
       "       [[0., 0.],\n",
       "        [0., 0.]]])"
      ]
     },
     "execution_count": 159,
     "metadata": {},
     "output_type": "execute_result"
    }
   ],
   "source": [
    "O"
   ]
  },
  {
   "cell_type": "code",
   "execution_count": null,
   "id": "9e3b7ae1",
   "metadata": {},
   "outputs": [],
   "source": []
  }
 ],
 "metadata": {
  "kernelspec": {
   "display_name": "Python 3",
   "language": "python",
   "name": "python3"
  },
  "language_info": {
   "codemirror_mode": {
    "name": "ipython",
    "version": 3
   },
   "file_extension": ".py",
   "mimetype": "text/x-python",
   "name": "python",
   "nbconvert_exporter": "python",
   "pygments_lexer": "ipython3",
   "version": "3.7.9"
  },
  "toc": {
   "base_numbering": 1,
   "nav_menu": {},
   "number_sections": true,
   "sideBar": true,
   "skip_h1_title": false,
   "title_cell": "Table of Contents",
   "title_sidebar": "Contents",
   "toc_cell": false,
   "toc_position": {},
   "toc_section_display": true,
   "toc_window_display": false
  },
  "varInspector": {
   "cols": {
    "lenName": 16,
    "lenType": 16,
    "lenVar": 40
   },
   "kernels_config": {
    "python": {
     "delete_cmd_postfix": "",
     "delete_cmd_prefix": "del ",
     "library": "var_list.py",
     "varRefreshCmd": "print(var_dic_list())"
    },
    "r": {
     "delete_cmd_postfix": ") ",
     "delete_cmd_prefix": "rm(",
     "library": "var_list.r",
     "varRefreshCmd": "cat(var_dic_list()) "
    }
   },
   "types_to_exclude": [
    "module",
    "function",
    "builtin_function_or_method",
    "instance",
    "_Feature"
   ],
   "window_display": false
  }
 },
 "nbformat": 4,
 "nbformat_minor": 5
}
