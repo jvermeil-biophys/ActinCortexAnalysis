{
 "cells": [
  {
   "cell_type": "code",
   "execution_count": 47,
   "metadata": {},
   "outputs": [],
   "source": [
    "import numpy as np\n",
    "import matplotlib\n",
    "%matplotlib inline\n",
    "import matplotlib.pyplot as plt\n",
    "import pandas as pd\n",
    "import os\n",
    "from copy import copy\n",
    "matplotlib.rcParams.update({'figure.autolayout': True})"
   ]
  },
  {
   "cell_type": "code",
   "execution_count": 2,
   "metadata": {},
   "outputs": [
    {
     "name": "stdout",
     "output_type": "stream",
     "text": [
      "Using matplotlib backend: module://ipympl.backend_nbagg\n"
     ]
    }
   ],
   "source": [
    "%matplotlib"
   ]
  },
  {
   "cell_type": "code",
   "execution_count": 60,
   "metadata": {},
   "outputs": [],
   "source": [
    "# %matplotlib inline\n",
    "SMALL_SIZE = 14\n",
    "MEDIUM_SIZE = 16\n",
    "BIGGER_SIZE = 20\n",
    "\n",
    "plt.rc('font', size=SMALL_SIZE)          # controls default text sizes\n",
    "plt.rc('axes', titlesize=MEDIUM_SIZE)     # fontsize of the axes title\n",
    "plt.rc('axes', labelsize=MEDIUM_SIZE)    # fontsize of the x and y labels\n",
    "plt.rc('xtick', labelsize=SMALL_SIZE)    # fontsize of the tick labels\n",
    "plt.rc('ytick', labelsize=SMALL_SIZE)    # fontsize of the tick labels\n",
    "plt.rc('legend', fontsize=MEDIUM_SIZE)    # legend fontsize\n",
    "plt.rc('figure', titlesize=BIGGER_SIZE)  # fontsize of the figure title"
   ]
  },
  {
   "cell_type": "code",
   "execution_count": 4,
   "metadata": {
    "scrolled": true
   },
   "outputs": [
    {
     "data": {
      "text/plain": [
       "['20-08-04_M1_P1_C5_R40.txt',\n",
       " '20-08-04_M1_P1_C6_R40.txt',\n",
       " '20-08-04_M1_P1_C7_R40.txt',\n",
       " '20-08-04_M2_P1_C3_R40.txt',\n",
       " '20-08-04_M2_P1_C4_R40.txt',\n",
       " '20-08-04_M2_P1_C5_R40.txt',\n",
       " '20-08-05_M1_P1_C32_R40.txt',\n",
       " '20-08-05_M1_P1_C3_R40.txt',\n",
       " '20-08-05_M1_P1_C4_R40.txt',\n",
       " '20-08-05_M1_P1_C5_R40.txt',\n",
       " '20-08-05_M1_P1_C6_R40.txt',\n",
       " '20-08-05_M1_P1_C7_R40.txt',\n",
       " '20-08-05_M1_P1_C8_R40.txt',\n",
       " '20-08-05_M2_P1_C2_R40.txt',\n",
       " '20-08-05_M2_P1_C3_R40.txt',\n",
       " '20-08-05_M2_P1_C4_R40.txt',\n",
       " '20-08-05_M2_P1_C5_R40.txt',\n",
       " '20-08-05_M2_P1_C6_R40.txt',\n",
       " '20-08-05_M2_P1_C7_R40.txt',\n",
       " '20-08-07_M1_P1_C3_R40.txt',\n",
       " '20-08-07_M1_P1_C4_R40.txt',\n",
       " '20-08-07_M1_P1_C62_R40.txt',\n",
       " '20-08-07_M1_P1_C6_R40.txt',\n",
       " '20-08-07_M1_P1_C7_R40.txt',\n",
       " '20-08-07_M1_P1_C8_R40.txt',\n",
       " '20-08-07_M2_P1_C4_R40.txt',\n",
       " '20-08-07_M2_P1_C5_R40.txt',\n",
       " '20-08-07_M2_P1_C6_R40.txt',\n",
       " '20-08-07_M2_P1_C7_R40.txt',\n",
       " '21-01-18_M1_P1_C1_R40_disc20um.txt',\n",
       " '21-01-18_M1_P1_C2_R40_disc20um.txt',\n",
       " '21-01-18_M1_P1_C3_R40_disc20um.txt',\n",
       " '21-01-18_M1_P1_C4_R40_disc20um.txt',\n",
       " '21-01-18_M1_P1_C5_R40_disc20um_wFluo.txt',\n",
       " '21-01-18_M1_P1_C6_R40_disc20um_wFluo.txt',\n",
       " '21-01-18_M1_P1_C7_R40_disc20um_wFluo.txt',\n",
       " '21-01-18_M1_P1_C8_R40_disc20um_wFluo.txt',\n",
       " '21-01-18_M1_P1_C9_R40_disc20um_wFluo.txt',\n",
       " '21-01-18_M2_P1_C10_R40_disc20um_wFluo.txt',\n",
       " '21-01-18_M2_P1_C1_R40_disc20um_wFluo.txt',\n",
       " '21-01-18_M2_P1_C2_R40_disc20um_wFluo.txt',\n",
       " '21-01-18_M2_P1_C3_R40_disc20um_wFluo.txt',\n",
       " '21-01-18_M2_P1_C4_R40_disc20um_wFluo.txt',\n",
       " '21-01-18_M2_P1_C5_R40_disc20um_wFluo.txt',\n",
       " '21-01-18_M2_P1_C6_R40_disc20um_wFluo.txt',\n",
       " '21-01-18_M2_P1_C7_R40_disc20um_wFluo.txt',\n",
       " '21-01-18_M2_P1_C8_R40_disc20um_wFluo.txt',\n",
       " '21-01-18_M2_P1_C9_R40_disc20um_wFluo.txt',\n",
       " '21-01-18_M3_P1_C1_R40_disc20um_wFluo.txt',\n",
       " '21-01-18_M3_P1_C2_R40_disc20um_wFluo.txt',\n",
       " '21-01-18_M3_P1_C3_R40_disc20um_wFluo.txt',\n",
       " '21-01-18_M3_P1_C4_R40_disc20um_wFluo.txt',\n",
       " '21-01-18_M3_P1_C5_R40_disc20um_wFluo.txt',\n",
       " '21-01-18_M3_P1_C6_R40_disc20um_wFluo.txt',\n",
       " '21-01-18_M3_P1_C7_R40_disc20um_wFluo.txt',\n",
       " '21-01-21_M1_P1_C10_R40_disc20um_wFluo.txt',\n",
       " '21-01-21_M1_P1_C11_R40_disc20um_wFluo.txt',\n",
       " '21-01-21_M1_P1_C12_R40_disc20um_wFluo.txt',\n",
       " '21-01-21_M1_P1_C13_R40_disc20um_wFluo.txt',\n",
       " '21-01-21_M1_P1_C14_R40_disc20um_wFluo.txt',\n",
       " '21-01-21_M1_P1_C15_R40_disc20um_wFluo.txt',\n",
       " '21-01-21_M1_P1_C1_R40_disc20um_wFluo.txt',\n",
       " '21-01-21_M1_P1_C2_R40_disc20um_wFluo.txt',\n",
       " '21-01-21_M1_P1_C3_R40_disc20um_wFluo.txt',\n",
       " '21-01-21_M1_P1_C4_R40_disc20um_wFluo.txt',\n",
       " '21-01-21_M1_P1_C5_R40_disc20um_wFluo.txt',\n",
       " '21-01-21_M1_P1_C6_R40_disc20um_wFluo.txt',\n",
       " '21-01-21_M1_P1_C7_R40_disc20um_wFluo.txt',\n",
       " '21-01-21_M1_P1_C8_R40_disc20um_wFluo.txt',\n",
       " '21-01-21_M1_P1_C9_R40_disc20um_wFluo.txt',\n",
       " '21-01-21_M2_P1_C10_R40_disc20um_wFluo.txt',\n",
       " '21-01-21_M2_P1_C11_R40_disc20um_wFluo.txt',\n",
       " '21-01-21_M2_P1_C1_R40_disc20um_wFluo.txt',\n",
       " '21-01-21_M2_P1_C2_R40_disc20um_wFluo.txt',\n",
       " '21-01-21_M2_P1_C3-1_R40_disc20um_wFluo.txt',\n",
       " '21-01-21_M2_P1_C3-2_R40_disc20um_wFluo.txt',\n",
       " '21-01-21_M2_P1_C4_R40_disc20um_wFluo.txt',\n",
       " '21-01-21_M2_P1_C5_R40_disc20um_wFluo.txt',\n",
       " '21-01-21_M2_P1_C6_R40_disc20um_wFluo.txt',\n",
       " '21-01-21_M2_P1_C7_R40_disc20um_wFluo.txt',\n",
       " '21-01-21_M2_P1_C8_R40_disc20um_wFluo.txt',\n",
       " '21-01-21_M2_P1_C9_R40_disc20um_wFluo.txt',\n",
       " '21-01-21_M3_P1_C1_R40_disc20um_wFluo.txt',\n",
       " '21-01-21_M3_P1_C2_R40_disc20um_wFluo.txt',\n",
       " '21-01-21_M3_P1_C3_R40_disc20um_wFluo.txt',\n",
       " '21-01-21_M3_P1_C4_R40_disc20um_wFluo.txt',\n",
       " '21-01-21_M3_P1_C5_R40_disc20um_wFluo.txt',\n",
       " '21-01-21_M3_P1_C6_R40_disc20um_wFluo.txt',\n",
       " '21-01-21_M3_P1_C7_R40_disc20um_wFluo.txt',\n",
       " '21-02-10_M1_P1_C1_thickness5mT_disc20um_wFluo.txt',\n",
       " '21-02-10_M1_P1_C2_thickness5mT_disc20um_wFluo.txt',\n",
       " '21-02-10_M1_P1_C3_thickness5mT_disc20um_wFluo.txt',\n",
       " '21-02-10_M1_P1_C4_thickness5mT_disc20um_wFluo.txt',\n",
       " '21-02-10_M1_P1_C5_thickness5mT_disc20um_wFluo.txt',\n",
       " '21-02-10_M1_P1_C6_thickness5mT_disc20um_wFluo.txt',\n",
       " '21-02-10_M1_P1_C7_thickness5mT_disc20um_wFluo.txt',\n",
       " '21-02-10_M1_P1_C8_thickness5mT_disc20um_wFluo.txt',\n",
       " '21-02-10_M2_P1_C2_thickness5mT_disc20um_wFluo.txt',\n",
       " '21-02-10_M2_P1_C3_thickness5mT_disc20um_wFluo.txt',\n",
       " '21-02-10_M2_P1_C4_thickness5mT_disc20um_wFluo.txt',\n",
       " '21-02-10_M2_P1_C5_thickness5mT_disc20um_wFluo.txt',\n",
       " '21-02-10_M2_P1_C6_thickness5mT_disc20um_wFluo.txt']"
      ]
     },
     "execution_count": 4,
     "metadata": {},
     "output_type": "execute_result"
    }
   ],
   "source": [
    "mainDir = \"C://Users//JosephVermeil//Desktop//ActinCortexAnalysis\"\n",
    "experimentalDataDir = os.path.join(mainDir, \"ExperimentalData\")\n",
    "dataDir = os.path.join(mainDir, \"DataAnalysis\")\n",
    "timeSeriesDataDir = os.path.join(dataDir, \"TimeSeriesData\")\n",
    "allTimeSeriesDataFiles = [f for f in os.listdir(timeSeriesDataDir) if (os.path.isfile(os.path.join(timeSeriesDataDir, f)) and f.endswith(\".txt\"))]\n",
    "allTimeSeriesDataFiles"
   ]
  },
  {
   "cell_type": "markdown",
   "metadata": {},
   "source": [
    "### Utility subfunctions"
   ]
  },
  {
   "cell_type": "code",
   "execution_count": 5,
   "metadata": {},
   "outputs": [],
   "source": [
    "def getCellTimeSeriesData(cellID):\n",
    "    allTimeSeriesDataFiles = [f for f in os.listdir(timeSeriesDataDir) if (os.path.isfile(os.path.join(timeSeriesDataDir, f)) and f.endswith(\".txt\"))]\n",
    "    fileFound = False\n",
    "    nFile = len(allTimeSeriesDataFiles)\n",
    "    iFile = 0\n",
    "    while (not fileFound) and (iFile < nFile):\n",
    "        f = allTimeSeriesDataFiles[iFile]\n",
    "        if f.startswith(cellID):\n",
    "            timeSeriesDataFilePath = os.path.join(timeSeriesDataDir, f)\n",
    "            timeSeriesDataFrame = pd.read_csv(timeSeriesDataFilePath, ',')\n",
    "            fileFound = True\n",
    "        iFile += 1\n",
    "    if not fileFound:\n",
    "        timeSeriesDataFrame = pd.DataFrame([])\n",
    "    return(timeSeriesDataFrame)\n",
    "\n",
    "def plotCellTimeSeriesData(cellID):\n",
    "    X = 'T'\n",
    "    Y = np.array(['B', 'F', 'dx', 'dy', 'dz', 'D2', 'D3'])\n",
    "    units = np.array([' (mT)', ' (pN)', ' (µm)', ' (µm)', ' (µm)', ' (µm)', ' (µm)'])\n",
    "    timeSeriesDataFrame = getCellTimeSeriesData(cellID)\n",
    "    if not timeSeriesDataFrame.size == 0:\n",
    "#         plt.tight_layout()\n",
    "#         fig.show() # figsize=(20,20)\n",
    "        axes = timeSeriesDataFrame.plot(x=X, y=Y, kind='line', ax=None, subplots=True, sharex=True, sharey=False, layout=None, \\\n",
    "                       figsize=(8,10), use_index=True, title = cellID + '- Time dependant data', grid=None, legend=False, style=None, logx=False, logy=False, \\\n",
    "                       loglog=False, xticks=None, yticks=None, xlim=None, ylim=None, rot=None, fontsize=None, colormap=None, \\\n",
    "                       table=False, yerr=None, xerr=None, secondary_y=False, sort_columns=False)\n",
    "        plt.gcf().tight_layout()\n",
    "        for i in range(len(Y)):\n",
    "            axes[i].set_ylabel(Y[i] + units[i])\n",
    "        \n",
    "    else:\n",
    "        print('cell not found')\n",
    "        \n",
    "def addExcludedCell(cellID, motive):\n",
    "    f = open(os.path.join(experimentalDataDir, 'ExcludedCells.txt'), 'r')\n",
    "    lines = f.readlines()\n",
    "    nLines = len(lines)\n",
    "    excludedCellsList = []\n",
    "    for iLine in range(nLines):\n",
    "        line = lines[iLine]\n",
    "        splitLine = line[:-1].split(',')\n",
    "        excludedCellsList.append(splitLine[0])\n",
    "    if cellID in excludedCellsList:\n",
    "        newlines = copy(lines)\n",
    "        iLineOfInterest = excludedCellsList.index(cellID)\n",
    "        if motive not in newlines[iLineOfInterest][:-1].split(','):\n",
    "            newlines[iLineOfInterest] = newlines[iLineOfInterest][:-1] + ',' + motive + '\\n'            \n",
    "    else:\n",
    "        newlines = copy(lines)\n",
    "        newlines.append('' + cellID + ',' + motive + '\\n')\n",
    "    f.close()\n",
    "    f = open(os.path.join(experimentalDataDir, 'ExcludedCells.txt'), 'w')\n",
    "    f.writelines(newlines)\n",
    "    \n",
    "def getExcludedCells():\n",
    "    f = open(os.path.join(experimentalDataDir, 'ExcludedCells.txt'), 'r')\n",
    "    lines = f.readlines()\n",
    "    nLines = len(lines)\n",
    "    excludedCellsDict = {}\n",
    "    for iLine in range(nLines):\n",
    "        line = lines[iLine]\n",
    "        splitLine = line[:-1].split(',')\n",
    "        excludedCellsDict[splitLine[0]] = splitLine[1:]\n",
    "    return(excludedCellsDict)"
   ]
  },
  {
   "cell_type": "code",
   "execution_count": 19,
   "metadata": {},
   "outputs": [
    {
     "data": {
      "text/html": [
       "<div>\n",
       "<style scoped>\n",
       "    .dataframe tbody tr th:only-of-type {\n",
       "        vertical-align: middle;\n",
       "    }\n",
       "\n",
       "    .dataframe tbody tr th {\n",
       "        vertical-align: top;\n",
       "    }\n",
       "\n",
       "    .dataframe thead th {\n",
       "        text-align: right;\n",
       "    }\n",
       "</style>\n",
       "<table border=\"1\" class=\"dataframe\">\n",
       "  <thead>\n",
       "    <tr style=\"text-align: right;\">\n",
       "      <th></th>\n",
       "      <th>idxCompression</th>\n",
       "      <th>T</th>\n",
       "      <th>B</th>\n",
       "      <th>F</th>\n",
       "      <th>dx</th>\n",
       "      <th>dy</th>\n",
       "      <th>dz</th>\n",
       "      <th>D2</th>\n",
       "      <th>D3</th>\n",
       "    </tr>\n",
       "  </thead>\n",
       "  <tbody>\n",
       "    <tr>\n",
       "      <th>0</th>\n",
       "      <td>0</td>\n",
       "      <td>0.701</td>\n",
       "      <td>6.0060</td>\n",
       "      <td>140.642758</td>\n",
       "      <td>-4572.531646</td>\n",
       "      <td>-153.797468</td>\n",
       "      <td>-531.769959</td>\n",
       "      <td>4575.117410</td>\n",
       "      <td>102.917780</td>\n",
       "    </tr>\n",
       "    <tr>\n",
       "      <th>1</th>\n",
       "      <td>0</td>\n",
       "      <td>1.300</td>\n",
       "      <td>6.0012</td>\n",
       "      <td>142.999472</td>\n",
       "      <td>-4552.721519</td>\n",
       "      <td>-185.632911</td>\n",
       "      <td>-526.494673</td>\n",
       "      <td>4556.504450</td>\n",
       "      <td>83.821279</td>\n",
       "    </tr>\n",
       "    <tr>\n",
       "      <th>2</th>\n",
       "      <td>0</td>\n",
       "      <td>1.900</td>\n",
       "      <td>6.0012</td>\n",
       "      <td>145.358711</td>\n",
       "      <td>-4536.835443</td>\n",
       "      <td>-177.025316</td>\n",
       "      <td>-522.105168</td>\n",
       "      <td>4540.287854</td>\n",
       "      <td>67.208705</td>\n",
       "    </tr>\n",
       "    <tr>\n",
       "      <th>3</th>\n",
       "      <td>0</td>\n",
       "      <td>2.500</td>\n",
       "      <td>6.0012</td>\n",
       "      <td>145.315177</td>\n",
       "      <td>-4539.303797</td>\n",
       "      <td>-157.088608</td>\n",
       "      <td>-517.484759</td>\n",
       "      <td>4542.021114</td>\n",
       "      <td>68.405284</td>\n",
       "    </tr>\n",
       "    <tr>\n",
       "      <th>4</th>\n",
       "      <td>0</td>\n",
       "      <td>3.101</td>\n",
       "      <td>6.0036</td>\n",
       "      <td>145.862440</td>\n",
       "      <td>-4533.164557</td>\n",
       "      <td>-185.126582</td>\n",
       "      <td>-522.274694</td>\n",
       "      <td>4536.943107</td>\n",
       "      <td>63.905255</td>\n",
       "    </tr>\n",
       "    <tr>\n",
       "      <th>...</th>\n",
       "      <td>...</td>\n",
       "      <td>...</td>\n",
       "      <td>...</td>\n",
       "      <td>...</td>\n",
       "      <td>...</td>\n",
       "      <td>...</td>\n",
       "      <td>...</td>\n",
       "      <td>...</td>\n",
       "      <td>...</td>\n",
       "    </tr>\n",
       "    <tr>\n",
       "      <th>590</th>\n",
       "      <td>0</td>\n",
       "      <td>391.152</td>\n",
       "      <td>6.0036</td>\n",
       "      <td>131.180502</td>\n",
       "      <td>-4636.962025</td>\n",
       "      <td>-237.721519</td>\n",
       "      <td>-551.657096</td>\n",
       "      <td>4643.051620</td>\n",
       "      <td>172.708919</td>\n",
       "    </tr>\n",
       "    <tr>\n",
       "      <th>591</th>\n",
       "      <td>0</td>\n",
       "      <td>391.751</td>\n",
       "      <td>6.0012</td>\n",
       "      <td>130.507264</td>\n",
       "      <td>-4637.658228</td>\n",
       "      <td>-243.607595</td>\n",
       "      <td>-570.036049</td>\n",
       "      <td>4644.051948</td>\n",
       "      <td>175.905812</td>\n",
       "    </tr>\n",
       "    <tr>\n",
       "      <th>592</th>\n",
       "      <td>0</td>\n",
       "      <td>392.351</td>\n",
       "      <td>6.0036</td>\n",
       "      <td>130.799391</td>\n",
       "      <td>-4627.848101</td>\n",
       "      <td>-262.721519</td>\n",
       "      <td>-598.554005</td>\n",
       "      <td>4635.299413</td>\n",
       "      <td>170.785141</td>\n",
       "    </tr>\n",
       "    <tr>\n",
       "      <th>593</th>\n",
       "      <td>0</td>\n",
       "      <td>392.951</td>\n",
       "      <td>6.0036</td>\n",
       "      <td>130.428907</td>\n",
       "      <td>-4625.506329</td>\n",
       "      <td>-275.063291</td>\n",
       "      <td>-617.234911</td>\n",
       "      <td>4633.677655</td>\n",
       "      <td>171.606673</td>\n",
       "    </tr>\n",
       "    <tr>\n",
       "      <th>594</th>\n",
       "      <td>0</td>\n",
       "      <td>393.550</td>\n",
       "      <td>6.0036</td>\n",
       "      <td>128.181825</td>\n",
       "      <td>-4640.759494</td>\n",
       "      <td>-269.050633</td>\n",
       "      <td>-636.337341</td>\n",
       "      <td>4648.552132</td>\n",
       "      <td>188.903892</td>\n",
       "    </tr>\n",
       "  </tbody>\n",
       "</table>\n",
       "<p>595 rows × 9 columns</p>\n",
       "</div>"
      ],
      "text/plain": [
       "     idxCompression        T       B           F           dx          dy  \\\n",
       "0                 0    0.701  6.0060  140.642758 -4572.531646 -153.797468   \n",
       "1                 0    1.300  6.0012  142.999472 -4552.721519 -185.632911   \n",
       "2                 0    1.900  6.0012  145.358711 -4536.835443 -177.025316   \n",
       "3                 0    2.500  6.0012  145.315177 -4539.303797 -157.088608   \n",
       "4                 0    3.101  6.0036  145.862440 -4533.164557 -185.126582   \n",
       "..              ...      ...     ...         ...          ...         ...   \n",
       "590               0  391.152  6.0036  131.180502 -4636.962025 -237.721519   \n",
       "591               0  391.751  6.0012  130.507264 -4637.658228 -243.607595   \n",
       "592               0  392.351  6.0036  130.799391 -4627.848101 -262.721519   \n",
       "593               0  392.951  6.0036  130.428907 -4625.506329 -275.063291   \n",
       "594               0  393.550  6.0036  128.181825 -4640.759494 -269.050633   \n",
       "\n",
       "             dz           D2          D3  \n",
       "0   -531.769959  4575.117410  102.917780  \n",
       "1   -526.494673  4556.504450   83.821279  \n",
       "2   -522.105168  4540.287854   67.208705  \n",
       "3   -517.484759  4542.021114   68.405284  \n",
       "4   -522.274694  4536.943107   63.905255  \n",
       "..          ...          ...         ...  \n",
       "590 -551.657096  4643.051620  172.708919  \n",
       "591 -570.036049  4644.051948  175.905812  \n",
       "592 -598.554005  4635.299413  170.785141  \n",
       "593 -617.234911  4633.677655  171.606673  \n",
       "594 -636.337341  4648.552132  188.903892  \n",
       "\n",
       "[595 rows x 9 columns]"
      ]
     },
     "execution_count": 19,
     "metadata": {},
     "output_type": "execute_result"
    }
   ],
   "source": [
    "getCellTimeSeriesData('21-02-10_M1_P1_C1')"
   ]
  },
  {
   "cell_type": "code",
   "execution_count": 17,
   "metadata": {
    "scrolled": false
   },
   "outputs": [
    {
     "data": {
      "application/vnd.jupyter.widget-view+json": {
       "model_id": "402b66857b094db79bc25d2c6ccfe6bf",
       "version_major": 2,
       "version_minor": 0
      },
      "text/plain": [
       "Canvas(toolbar=Toolbar(toolitems=[('Home', 'Reset original view', 'home', 'home'), ('Back', 'Back to previous …"
      ]
     },
     "metadata": {},
     "output_type": "display_data"
    }
   ],
   "source": [
    "plotCellTimeSeriesData('21-02-10_M1_P1_C1')"
   ]
  },
  {
   "cell_type": "markdown",
   "metadata": {},
   "source": [
    "### Constant Field"
   ]
  },
  {
   "cell_type": "code",
   "execution_count": 48,
   "metadata": {},
   "outputs": [
    {
     "data": {
      "text/plain": [
       "{'nodrug': {'accepted': ['21-02-10_M1_P1_C1',\n",
       "   '21-02-10_M1_P1_C3',\n",
       "   '21-02-10_M1_P1_C4',\n",
       "   '21-02-10_M1_P1_C5',\n",
       "   '21-02-10_M1_P1_C6',\n",
       "   '21-02-10_M1_P1_C7',\n",
       "   '21-02-10_M1_P1_C8'],\n",
       "  'rejected': ['21-02-10_M1_P1_C2'],\n",
       "  'median': [183.232388275514,\n",
       "   204.96363606142148,\n",
       "   203.321335974017,\n",
       "   231.4801253824645,\n",
       "   216.957867747884,\n",
       "   128.845941172222,\n",
       "   131.6251967511305],\n",
       "  'fluctu': [173.5663888716901,\n",
       "   154.04403851091703,\n",
       "   116.6695845103024,\n",
       "   132.38092392554356,\n",
       "   350.94327064915865,\n",
       "   105.39756516339956,\n",
       "   130.0725748684872]},\n",
       " 'doxy': {'accepted': ['21-02-10_M2_P1_C2',\n",
       "   '21-02-10_M2_P1_C3',\n",
       "   '21-02-10_M2_P1_C4',\n",
       "   '21-02-10_M2_P1_C5',\n",
       "   '21-02-10_M2_P1_C6'],\n",
       "  'rejected': [],\n",
       "  'median': [200.150151530092,\n",
       "   330.39073339423,\n",
       "   103.522043240239,\n",
       "   127.987316645591,\n",
       "   118.4668539404615],\n",
       "  'fluctu': [104.5243676387258,\n",
       "   847.2893747378985,\n",
       "   53.728989899796545,\n",
       "   329.8329661190722,\n",
       "   136.31709757531718]}}"
      ]
     },
     "execution_count": 48,
     "metadata": {},
     "output_type": "execute_result"
    }
   ],
   "source": [
    "conditions = ['nodrug', 'doxy']\n",
    "correspondance = {conditions[0] : 'M1', conditions[1] : 'M2'}\n",
    "allTimeSeriesDataFiles = [f for f in os.listdir(timeSeriesDataDir) if (os.path.isfile(os.path.join(timeSeriesDataDir, f)) and f.endswith(\".txt\"))]\n",
    "dates = ['21-02-10']\n",
    "resDict = {conditions[0] : {}, conditions[1] : {}}\n",
    "for C in conditions:\n",
    "    resDict[C]['accepted'] = []\n",
    "    resDict[C]['rejected'] = []\n",
    "    resDict[C]['median'] = []\n",
    "    resDict[C]['fluctu'] = []\n",
    "    for D in dates:\n",
    "        for f in allTimeSeriesDataFiles:\n",
    "            if correspondance[C] in f and D in f:\n",
    "                split_f = f.split('_')\n",
    "                cellID = split_f[0] + '_' + split_f[1] + '_' + split_f[2] + '_' + split_f[3]\n",
    "                currentCellTS = getCellTimeSeriesData(cellID)\n",
    "                D3 = currentCellTS.D3.values\n",
    "                decile_1 = np.percentile(D3, 10)\n",
    "                median = np.median(D3)\n",
    "                decile_9 = np.percentile(D3, 90)\n",
    "                if decile_1 < 0:\n",
    "                    resDict[C]['rejected'].append(cellID)\n",
    "                else:\n",
    "                    resDict[C]['accepted'].append(cellID)\n",
    "                    resDict[C]['median'].append(median)\n",
    "                    resDict[C]['fluctu'].append(decile_9-decile_1)\n",
    "resDict\n",
    "    \n"
   ]
  },
  {
   "cell_type": "code",
   "execution_count": 65,
   "metadata": {
    "scrolled": false
   },
   "outputs": [
    {
     "name": "stderr",
     "output_type": "stream",
     "text": [
      "C:\\Users\\JosephVermeil\\anaconda3\\lib\\site-packages\\ipykernel_launcher.py:15: UserWarning: Matplotlib is currently using module://ipykernel.pylab.backend_inline, which is a non-GUI backend, so cannot show the figure.\n",
      "  from ipykernel import kernelapp as app\n"
     ]
    },
    {
     "data": {
      "image/png": "[encoded data removed]",
      "text/plain": [
       "<Figure size 576x360 with 2 Axes>"
      ]
     },
     "metadata": {
      "needs_background": "light"
     },
     "output_type": "display_data"
    }
   ],
   "source": [
    "fig, axes = plt.subplots(1,2, figsize = (8, 5))\n",
    "axes[0].plot(np.ones(len(resDict['nodrug']['median'])), resDict['nodrug']['median'], 'co')\n",
    "axes[0].plot(2*np.ones(len(resDict['doxy']['median'])), resDict['doxy']['median'], 'ro')\n",
    "axes[0].set_xlim(0.5, 2.5)\n",
    "axes[0].set_ylabel('Median Thickness (nm)')\n",
    "axes[0].set_xticks([1,2])\n",
    "axes[0].set_xticklabels(['Control','Doxycylin'])\n",
    "axes[1].plot(np.ones(len(resDict['nodrug']['fluctu'])), resDict['nodrug']['fluctu'], 'co')\n",
    "axes[1].plot(2*np.ones(len(resDict['doxy']['fluctu'])), resDict['doxy']['fluctu'], 'ro')\n",
    "axes[1].set_xlim(0.5, 2.5)\n",
    "axes[1].set_ylabel('Thickness Fluctuations (nm)')\n",
    "axes[1].set_xticks([1,2])\n",
    "axes[1].set_xticklabels(['Control','Doxycylin'])\n",
    "fig.savefig(\"C://Users//JosephVermeil//Desktop//ActinCortexAnalysis//DataAnalysis//constantField.png\")\n",
    "fig.show()"
   ]
  },
  {
   "cell_type": "markdown",
   "metadata": {},
   "source": [
    "### Data extraction"
   ]
  },
  {
   "cell_type": "code",
   "execution_count": 9,
   "metadata": {},
   "outputs": [
    {
     "name": "stdout",
     "output_type": "stream",
     "text": [
      "Extracted a table with 5083 lines and 20 columns.\n"
     ]
    }
   ],
   "source": [
    "mecaDataFile = 'Global_MecaData.txt'\n",
    "mecaDataFilePath = os.path.join(dataDir, mecaDataFile)\n",
    "mecaDF = pd.read_csv(mecaDataFilePath, ',')\n",
    "print('Extracted a table with ' + str(mecaDF.shape[0]) + ' lines and ' + str(mecaDF.shape[1]) + ' columns.')\n",
    "\n",
    "mecaDF = mecaDF.rename(columns={\"CellID\": \"CellName\", \"CellName\": \"CellID\"})"
   ]
  },
  {
   "cell_type": "code",
   "execution_count": 10,
   "metadata": {},
   "outputs": [],
   "source": [
    "# mecaDF"
   ]
  },
  {
   "cell_type": "code",
   "execution_count": 11,
   "metadata": {},
   "outputs": [
    {
     "name": "stdout",
     "output_type": "stream",
     "text": [
      "Extracted a table with 18 lines and 19 columns.\n"
     ]
    }
   ],
   "source": [
    "experimentalDataFile = 'ExperimentalConditions.csv'\n",
    "experimentalDataFilePath = os.path.join(experimentalDataDir, experimentalDataFile)\n",
    "expConditionsDF = pd.read_csv(experimentalDataFilePath, ',',header=1)\n",
    "print('Extracted a table with ' + str(expConditionsDF.shape[0]) + ' lines and ' + str(expConditionsDF.shape[1]) + ' columns.')\n",
    "\n",
    "# Cleaning the table\n",
    "try:\n",
    "    expConditionsDF = expConditionsDF.convert_dtypes()\n",
    "\n",
    "    listTextColumns = []\n",
    "    for col in expConditionsDF.columns:\n",
    "        if expConditionsDF[col].dtype == 'string':\n",
    "            listTextColumns.append(col)\n",
    "\n",
    "    expConditionsDF[listTextColumns] = expConditionsDF[listTextColumns].apply(lambda x: x.str.replace(',','.'))\n",
    "\n",
    "    expConditionsDF['scale pixel per um'] = expConditionsDF['scale pixel per um'].astype(float)\n",
    "    expConditionsDF['optical index correction'] = \\\n",
    "              expConditionsDF['optical index correction'].apply(lambda x: x.split('/')[0]).astype(float) \\\n",
    "            / expConditionsDF['optical index correction'].apply(lambda x: x.split('/')[1]).astype(float)\n",
    "    expConditionsDF['magnetic field correction'] = expConditionsDF['magnetic field correction'].astype(float)\n",
    "    expConditionsDF['with fluo images'] = expConditionsDF['with fluo images'].astype(bool)\n",
    "\n",
    "    expConditionsDF['ramp field'] = \\\n",
    "    expConditionsDF['ramp field'].apply(lambda x: [x.split(';')[0], x.split(';')[1]] if not pd.isnull(x) else [])\n",
    "\n",
    "except:\n",
    "    print('Unexpected bug with the cleaning step')"
   ]
  },
  {
   "cell_type": "code",
   "execution_count": 12,
   "metadata": {
    "scrolled": true
   },
   "outputs": [],
   "source": [
    "# expConditionsDF"
   ]
  },
  {
   "cell_type": "code",
   "execution_count": 13,
   "metadata": {},
   "outputs": [
    {
     "name": "stdout",
     "output_type": "stream",
     "text": [
      "Extracted a table with 58 lines and 14 columns.\n"
     ]
    }
   ],
   "source": [
    "# Unused for now\n",
    "cellDescriptionDataFile = 'CellDescription.csv'\n",
    "cellDescriptionDataFilePath = os.path.join(experimentalDataDir, cellDescriptionDataFile)\n",
    "cellDescriptionDF = pd.read_csv(cellDescriptionDataFilePath, ',')\n",
    "print('Extracted a table with ' + str(cellDescriptionDF.shape[0]) + ' lines and ' + str(cellDescriptionDF.shape[1]) + ' columns.')"
   ]
  },
  {
   "cell_type": "code",
   "execution_count": 14,
   "metadata": {},
   "outputs": [],
   "source": [
    "mecaDF['ManipID'] = mecaDF['ExpDay'] + '_' + mecaDF['CellName'].apply(lambda x: x.split('_')[0])\n",
    "expConditionsDF['ManipID'] = expConditionsDF['date'] + '_' + expConditionsDF['manip']\n",
    "\n",
    "mainMecaDF = pd.merge(\n",
    "    expConditionsDF,\n",
    "    mecaDF,\n",
    "    how=\"inner\",\n",
    "    on='ManipID',\n",
    "#     left_on=None,\n",
    "#     right_on=None,\n",
    "#     left_index=False,\n",
    "#     right_index=False,\n",
    "#     sort=True,\n",
    "#     suffixes=(\"_x\", \"_y\"),\n",
    "#     copy=True,\n",
    "#     indicator=False,\n",
    "#     validate=None,\n",
    ")"
   ]
  },
  {
   "cell_type": "code",
   "execution_count": 15,
   "metadata": {},
   "outputs": [],
   "source": [
    "# pd.set_option('display.max_columns', None)\n",
    "# mainMecaDF.head()"
   ]
  },
  {
   "cell_type": "code",
   "execution_count": 16,
   "metadata": {},
   "outputs": [],
   "source": [
    "pd.reset_option('max_columns')"
   ]
  },
  {
   "cell_type": "markdown",
   "metadata": {},
   "source": [
    "### Data filtering"
   ]
  },
  {
   "cell_type": "code",
   "execution_count": null,
   "metadata": {},
   "outputs": [],
   "source": [
    "# pd.set_option('display.max_columns', None)\n",
    "# mainMecaDF.head()"
   ]
  },
  {
   "cell_type": "code",
   "execution_count": null,
   "metadata": {},
   "outputs": [],
   "source": [
    "# pd.reset_option('max_columns')\n",
    "# mainMecaDF.columns"
   ]
  },
  {
   "cell_type": "code",
   "execution_count": null,
   "metadata": {},
   "outputs": [],
   "source": [
    "mainMecaDF_f = mainMecaDF.loc[(mainMecaDF[\"Validated\"] == 1)]\n",
    "# mainMecaDF_f"
   ]
  },
  {
   "cell_type": "code",
   "execution_count": null,
   "metadata": {
    "scrolled": true
   },
   "outputs": [],
   "source": [
    "%matplotlib inline\n",
    "listCells = mainMecaDF_f['CellID'].drop_duplicates().astype('string').values\n",
    "timeSeriesDict = {}\n",
    "for cell in listCells:\n",
    "    currentCell_TimeSeriesData = getCellTimeSeriesData(cell)\n",
    "    timeSeriesDict[cell] = currentCell_TimeSeriesData\n",
    "start, stop = 80, 100\n",
    "fig, axes = plt.subplots((stop-start),1, figsize = (7,4*(stop-start)))\n",
    "fig.tight_layout()\n",
    "for k in range(start, stop):\n",
    "    if k < len(listCells):\n",
    "        currentCell_TimeSeriesData = timeSeriesDict[listCells[k]]\n",
    "        T = currentCell_TimeSeriesData['T'].values\n",
    "        idxCompression = currentCell_TimeSeriesData['idxCompression'].values\n",
    "        D3 = currentCell_TimeSeriesData['D3'].values\n",
    "        maskConstant = (idxCompression == 0)\n",
    "        maskCompression = (idxCompression > 0)\n",
    "        axes[k - start].plot(T, D3*1000-4503, 'k-', linewidth = 0.5)\n",
    "        axes[k - start].plot(T[maskCompression], D3[maskCompression]*1000-4503, 'ro', markersize=2)\n",
    "        axes[k - start].plot(T[maskConstant], D3[maskConstant]*1000-4503, 'co', markersize=2)\n",
    "        axes[k - start].set_title(listCells[k])\n",
    "        axes[k - start].set_xlabel('T (s)')\n",
    "        axes[k - start].set_ylabel('D3 (µm)')"
   ]
  },
  {
   "cell_type": "code",
   "execution_count": null,
   "metadata": {},
   "outputs": [],
   "source": [
    "addExcludedCell('21-01-18_M1_P1_C2', 'passive')\n",
    "addExcludedCell('21-01-18_M1_P1_C3', 'passive')\n",
    "addExcludedCell('21-01-18_M1_P1_C4', 'passive')\n",
    "addExcludedCell('21-01-21_M3_P1_C4', 'passive')\n",
    "addExcludedCell('21-01-21_M3_P1_C5', 'passive')\n",
    "addExcludedCell('20-08-07_M1_P1_C6', 'too thick')\n",
    "addExcludedCell('20-08-07_M1_P1_C62', 'too thick')\n",
    "\n",
    "excludedCellsDict = getExcludedCells()\n",
    "# excludedMask = (mainMecaDF_f[\"CellID\"].values not in excludedCellsDict.keys())\n",
    "# mainMecaDF_f = mainMecaDF_f.loc[(mainMecaDF_f[\"CellID\"].values not in excludedCellsDict.keys())]\n",
    "for i in range(len(excludedCellsDict)):\n",
    "    print('a')\n",
    "mainMecaDF_f[\"CellID\"].drop_duplicates().astype('string').values"
   ]
  },
  {
   "cell_type": "code",
   "execution_count": null,
   "metadata": {},
   "outputs": [],
   "source": [
    "currentCell_TimeSeriesData"
   ]
  },
  {
   "cell_type": "code",
   "execution_count": null,
   "metadata": {},
   "outputs": [],
   "source": [
    "mainMecaDF_GroupedPerCell = mainMecaDF_f.groupby('CellID')\n",
    "mainMecaDF_DataPerCell = mainMecaDF_GroupedPerCell.agg({\"EChadwick\": np.median, \"SurroundingThickness\": np.median, \"H0Chadwick\" : np.median})\n",
    "# mainMecaDF_GroupedPerCell.agg({\"EChadwick\": np.median, \"D\": lambda x: np.std(x, ddof=1)})\n",
    "cols = ['date', 'manip', 'experimentType', 'drug', 'substrate',\n",
    "       'objective magnification', 'scale pixel per um', 'objective immersion',\n",
    "       'optical index correction', 'magnetic field correction', 'cell type',\n",
    "       'cell subtype', 'bead type', 'bead diameter', 'normal field',\n",
    "       'ramp field', 'compression duration', 'with fluo images', 'comments',\n",
    "       'ManipID', 'ExpType', 'CellName', 'CellID']\n",
    "mainMecaDF_DataPerCell.dropna(inplace = True)\n",
    "mainMecaDF_DataPerCell = pd.merge(mainMecaDF_DataPerCell,\n",
    "                                  mainMecaDF_f[cols].drop_duplicates(subset=['CellID']),\n",
    "                                  how=\"inner\",\n",
    "                                  on='CellID',\n",
    "                                  #     left_on='CellID',\n",
    "                                  #     right_on='CellID',\n",
    "                                  #     left_index=False,\n",
    "                                  #     right_index=False,\n",
    "                                  #     sort=True,\n",
    "                                  #     suffixes=(\"_x\", \"_y\"),\n",
    "                                  #     copy=True,\n",
    "                                  #     indicator=False,\n",
    "                                  #     validate=None,\n",
    "                                  )\n",
    "# mainMecaDF_DataPerCell"
   ]
  },
  {
   "cell_type": "code",
   "execution_count": null,
   "metadata": {},
   "outputs": [],
   "source": [
    "mainMecaDF_DataPerCell_Count = mainMecaDF_DataPerCell.groupby(['cell type', 'cell subtype', 'bead type', 'drug', 'substrate']).count()\n",
    "mainMecaDF_DataPerCell_Count.loc[:, ['CellID']].rename(columns={'CellID' : 'Count'})"
   ]
  },
  {
   "cell_type": "markdown",
   "metadata": {},
   "source": [
    "### Plots"
   ]
  },
  {
   "cell_type": "code",
   "execution_count": null,
   "metadata": {},
   "outputs": [],
   "source": []
  },
  {
   "cell_type": "code",
   "execution_count": null,
   "metadata": {},
   "outputs": [],
   "source": []
  }
 ],
 "metadata": {
  "kernelspec": {
   "display_name": "Python 3",
   "language": "python",
   "name": "python3"
  },
  "language_info": {
   "codemirror_mode": {
    "name": "ipython",
    "version": 3
   },
   "file_extension": ".py",
   "mimetype": "text/x-python",
   "name": "python",
   "nbconvert_exporter": "python",
   "pygments_lexer": "ipython3",
   "version": "3.7.9"
  }
 },
 "nbformat": 4,
 "nbformat_minor": 4
}
