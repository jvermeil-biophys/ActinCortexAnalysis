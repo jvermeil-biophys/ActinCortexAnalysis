{
 "cells": [
  {
   "cell_type": "code",
   "execution_count": 4,
   "id": "f408a017",
   "metadata": {},
   "outputs": [],
   "source": [
    "import numpy as np\n",
    "import pandas as pd\n",
    "import scipy.ndimage as ndi\n",
    "import matplotlib.pyplot as plt\n",
    "\n",
    "import os\n",
    "import time\n",
    "import matplotlib\n",
    "\n",
    "# import skimage\n",
    "from skimage import io, filters, exposure, measure, transform\n",
    "from scipy.signal import find_peaks, savgol_filter\n",
    "\n",
    "pd.set_option('mode.chained_assignment',None)\n",
    "\n",
    "%matplotlib widget \n",
    "# %matplotlib inline\n",
    "matplotlib.rcParams.update({'figure.autolayout': True})\n",
    "\n",
    "SMALLER_SIZE = 8\n",
    "SMALL_SIZE = 12\n",
    "MEDIUM_SIZE = 16\n",
    "BIGGER_SIZE = 20\n",
    "\n",
    "plt.rc('font', size=SMALL_SIZE)          # controls default text sizes\n",
    "plt.rc('axes', titlesize=MEDIUM_SIZE)     # fontsize of the axes title\n",
    "plt.rc('axes', labelsize=MEDIUM_SIZE)    # fontsize of the x and y labels\n",
    "plt.rc('xtick', labelsize=SMALL_SIZE)    # fontsize of the tick labels\n",
    "plt.rc('ytick', labelsize=SMALL_SIZE)    # fontsize of the tick labels\n",
    "plt.rc('legend', fontsize=SMALLER_SIZE)    # legend fontsize\n",
    "plt.rc('figure', titlesize=BIGGER_SIZE)  # fontsize of the figure title"
   ]
  },
  {
   "cell_type": "code",
   "execution_count": 5,
   "id": "ff228b3e",
   "metadata": {},
   "outputs": [],
   "source": [
    "SCALE_100X = 15.8 # pix/µm "
   ]
  },
  {
   "cell_type": "markdown",
   "id": "722508ea",
   "metadata": {},
   "source": [
    "## Class & functions"
   ]
  },
  {
   "cell_type": "code",
   "execution_count": 6,
   "id": "4077bce0",
   "metadata": {},
   "outputs": [],
   "source": [
    "class PincherTimeLapse:\n",
    "    \n",
    "    def __init__(self, I, NB = 2):\n",
    "        nS, ny, nx = I.shape[0], I.shape[1], I.shape[2]\n",
    "        self.I = I\n",
    "        self.threshold = 0\n",
    "        self.NB = NB\n",
    "        self.nx = nx\n",
    "        self.ny = ny\n",
    "        self.nS = nS\n",
    "        self.listFrames = []\n",
    "        self.listTrajectories = []\n",
    "        self.dictUI = {}\n",
    "        \n",
    "    def computeThreshold(self, method = 'otsu'):\n",
    "        # TBC\n",
    "        th = 0\n",
    "        self.threshold = th\n",
    "        \n",
    "    def detectBeads(self):\n",
    "        # TBC\n",
    "        return(0)\n",
    "        \n",
    "    def buildTrajectories(self):\n",
    "        # TBC\n",
    "        return(0)\n",
    "        \n",
    "class Frame:\n",
    "    \n",
    "    def __init__(self, F, iS, NB, threshold):\n",
    "        ny, nx = F.shape[0], F.shape[1]\n",
    "        self.F = F\n",
    "        self.threshold = threshold\n",
    "        self.NB = NB\n",
    "        self.nx = nx\n",
    "        self.ny = ny\n",
    "        self.iS = iS\n",
    "        self.listBeads = []\n",
    "        self.trajPoint = []\n",
    "        self.Nuplet = 1\n",
    "        self.NupletPos = 1\n",
    "        self.type = ''\n",
    "        \n",
    "    def __str__(self):\n",
    "        text = 'a'\n",
    "        return(text)\n",
    "    \n",
    "    def show(self):\n",
    "        pass\n",
    "    \n",
    "    def detectBeads(self):\n",
    "        text = 'a'\n",
    "        return(text)\n",
    "\n",
    "    \n",
    "    \n",
    "class Bead:\n",
    "     def __init__(self):\n",
    "            self.x = 0\n",
    "            self.y = 0\n",
    "            self.R = 0\n",
    "            self.area = 0\n",
    "            self.std = 0\n",
    "            self.iS = 0\n",
    "            self.status = ''\n",
    "            self.hasRightNeighbour = False\n",
    "            self.hasLeftNeighbour = False"
   ]
  },
  {
   "cell_type": "code",
   "execution_count": 15,
   "id": "7e6e97bb",
   "metadata": {},
   "outputs": [
    {
     "name": "stdout",
     "output_type": "stream",
     "text": [
      "a\n"
     ]
    }
   ],
   "source": [
    "f = Frame(np.array([[1, 2], [3, 4]]), 1, 2, 1000)\n",
    "print(f)"
   ]
  },
  {
   "cell_type": "code",
   "execution_count": null,
   "id": "0a8b5264",
   "metadata": {},
   "outputs": [],
   "source": [
    "def main():\n",
    "    # 0. Load different data sources & Preprocess : fluo, black images, sort slices (ct/ramp ; down/middle/up)\n",
    "    # 1. Detect beads\n",
    "    # 2. Make trajectories for beads of interest\n",
    "    # 3. Qualify - Detect boi sizes and neighbours\n",
    "    # 4. Define pairs and compute dx, dy\n",
    "    # 5. Compute dz\n",
    "    # 6. Convert in real units\n",
    "    # 7. Compute forces"
   ]
  }
 ],
 "metadata": {
  "kernelspec": {
   "display_name": "Python 3",
   "language": "python",
   "name": "python3"
  },
  "language_info": {
   "codemirror_mode": {
    "name": "ipython",
    "version": 3
   },
   "file_extension": ".py",
   "mimetype": "text/x-python",
   "name": "python",
   "nbconvert_exporter": "python",
   "pygments_lexer": "ipython3",
   "version": "3.7.9"
  },
  "toc": {
   "base_numbering": 1,
   "nav_menu": {},
   "number_sections": true,
   "sideBar": true,
   "skip_h1_title": false,
   "title_cell": "Table of Contents",
   "title_sidebar": "Contents",
   "toc_cell": false,
   "toc_position": {},
   "toc_section_display": true,
   "toc_window_display": false
  },
  "varInspector": {
   "cols": {
    "lenName": 16,
    "lenType": 16,
    "lenVar": 40
   },
   "kernels_config": {
    "python": {
     "delete_cmd_postfix": "",
     "delete_cmd_prefix": "del ",
     "library": "var_list.py",
     "varRefreshCmd": "print(var_dic_list())"
    },
    "r": {
     "delete_cmd_postfix": ") ",
     "delete_cmd_prefix": "rm(",
     "library": "var_list.r",
     "varRefreshCmd": "cat(var_dic_list()) "
    }
   },
   "types_to_exclude": [
    "module",
    "function",
    "builtin_function_or_method",
    "instance",
    "_Feature"
   ],
   "window_display": false
  }
 },
 "nbformat": 4,
 "nbformat_minor": 5
}
